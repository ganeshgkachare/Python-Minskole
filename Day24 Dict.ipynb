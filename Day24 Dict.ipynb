{
 "cells": [
  {
   "cell_type": "markdown",
   "id": "0a7219ea",
   "metadata": {},
   "source": [
    "# Dict"
   ]
  },
  {
   "cell_type": "code",
   "execution_count": null,
   "id": "52c4d8e7",
   "metadata": {},
   "outputs": [],
   "source": [
    "# METHODS IN DICT"
   ]
  },
  {
   "cell_type": "code",
   "execution_count": 45,
   "id": "ccb19c11",
   "metadata": {},
   "outputs": [],
   "source": [
    "dict_student = {\n",
    "    \"FirstName\" : \"Vivek\",\n",
    "    \"Age\":22,\n",
    "    \"Class\" :  \"FYJC\",\n",
    "    \"PIN\" : 442404,\n",
    "    \"Sub\" : ['P' ,\"C\" , \"M\" ,\"IT\"]\n",
    "}"
   ]
  },
  {
   "cell_type": "code",
   "execution_count": 46,
   "id": "9f5a16d6",
   "metadata": {},
   "outputs": [
    {
     "data": {
      "text/plain": [
       "{'FirstName': 'Vivek',\n",
       " 'Age': 22,\n",
       " 'Class': 'FYJC',\n",
       " 'PIN': 442404,\n",
       " 'Sub': ['P', 'C', 'M', 'IT']}"
      ]
     },
     "execution_count": 46,
     "metadata": {},
     "output_type": "execute_result"
    }
   ],
   "source": [
    "dict_student"
   ]
  },
  {
   "cell_type": "code",
   "execution_count": 47,
   "id": "132030cd",
   "metadata": {},
   "outputs": [
    {
     "ename": "KeyError",
     "evalue": "0",
     "output_type": "error",
     "traceback": [
      "\u001b[1;31m---------------------------------------------------------------------------\u001b[0m",
      "\u001b[1;31mKeyError\u001b[0m                                  Traceback (most recent call last)",
      "\u001b[1;32m~\\AppData\\Local\\Temp/ipykernel_11028/3616901653.py\u001b[0m in \u001b[0;36m<module>\u001b[1;34m\u001b[0m\n\u001b[1;32m----> 1\u001b[1;33m \u001b[0mdict_student\u001b[0m\u001b[1;33m[\u001b[0m\u001b[1;36m0\u001b[0m\u001b[1;33m]\u001b[0m\u001b[1;33m\u001b[0m\u001b[1;33m\u001b[0m\u001b[0m\n\u001b[0m",
      "\u001b[1;31mKeyError\u001b[0m: 0"
     ]
    }
   ],
   "source": [
    "dict_student[0]"
   ]
  },
  {
   "cell_type": "code",
   "execution_count": 48,
   "id": "3c70ec18",
   "metadata": {},
   "outputs": [
    {
     "data": {
      "text/plain": [
       "'Vivek'"
      ]
     },
     "execution_count": 48,
     "metadata": {},
     "output_type": "execute_result"
    }
   ],
   "source": [
    "# retrive 1\n",
    "dict_student['FirstName']"
   ]
  },
  {
   "cell_type": "code",
   "execution_count": 49,
   "id": "c1117654",
   "metadata": {},
   "outputs": [
    {
     "data": {
      "text/plain": [
       "{'FirstName': 'Vivek',\n",
       " 'Age': 22,\n",
       " 'Class': 'FYJC',\n",
       " 'PIN': 442404,\n",
       " 'Sub': ['P', 'C', 'M', 'IT']}"
      ]
     },
     "execution_count": 49,
     "metadata": {},
     "output_type": "execute_result"
    }
   ],
   "source": [
    "dict_student"
   ]
  },
  {
   "cell_type": "code",
   "execution_count": 50,
   "id": "43cd95cf",
   "metadata": {},
   "outputs": [
    {
     "data": {
      "text/plain": [
       "'FYJC'"
      ]
     },
     "execution_count": 50,
     "metadata": {},
     "output_type": "execute_result"
    }
   ],
   "source": [
    "dict_student['Class']"
   ]
  },
  {
   "cell_type": "code",
   "execution_count": 51,
   "id": "42e22bac",
   "metadata": {},
   "outputs": [
    {
     "ename": "KeyError",
     "evalue": "'LastName'",
     "output_type": "error",
     "traceback": [
      "\u001b[1;31m---------------------------------------------------------------------------\u001b[0m",
      "\u001b[1;31mKeyError\u001b[0m                                  Traceback (most recent call last)",
      "\u001b[1;32m~\\AppData\\Local\\Temp/ipykernel_11028/917945621.py\u001b[0m in \u001b[0;36m<module>\u001b[1;34m\u001b[0m\n\u001b[1;32m----> 1\u001b[1;33m \u001b[0mdict_student\u001b[0m\u001b[1;33m[\u001b[0m\u001b[1;34m'LastName'\u001b[0m\u001b[1;33m]\u001b[0m\u001b[1;33m\u001b[0m\u001b[1;33m\u001b[0m\u001b[0m\n\u001b[0m",
      "\u001b[1;31mKeyError\u001b[0m: 'LastName'"
     ]
    }
   ],
   "source": [
    "dict_student['LastName']"
   ]
  },
  {
   "cell_type": "code",
   "execution_count": null,
   "id": "6b8dc8a0",
   "metadata": {},
   "outputs": [],
   "source": [
    "# retrive 2"
   ]
  },
  {
   "cell_type": "code",
   "execution_count": 57,
   "id": "75848118",
   "metadata": {},
   "outputs": [],
   "source": [
    "dict_student.get('LastName')"
   ]
  },
  {
   "cell_type": "code",
   "execution_count": 59,
   "id": "d1381ef3",
   "metadata": {},
   "outputs": [
    {
     "data": {
      "text/plain": [
       "'LastName not defined'"
      ]
     },
     "execution_count": 59,
     "metadata": {},
     "output_type": "execute_result"
    }
   ],
   "source": [
    "dict_student.get('LastName',\"LastName not defined\")"
   ]
  },
  {
   "cell_type": "code",
   "execution_count": 55,
   "id": "af02db46",
   "metadata": {},
   "outputs": [
    {
     "data": {
      "text/plain": [
       "'Vivek'"
      ]
     },
     "execution_count": 55,
     "metadata": {},
     "output_type": "execute_result"
    }
   ],
   "source": [
    "\n",
    "dict_student.get('FirstName')"
   ]
  },
  {
   "cell_type": "code",
   "execution_count": 60,
   "id": "e103f8c3",
   "metadata": {},
   "outputs": [
    {
     "data": {
      "text/plain": [
       "'Vivek'"
      ]
     },
     "execution_count": 60,
     "metadata": {},
     "output_type": "execute_result"
    }
   ],
   "source": [
    "dict_student.get('FirstName',\"not defined\")"
   ]
  },
  {
   "cell_type": "code",
   "execution_count": 62,
   "id": "8e5c9cea",
   "metadata": {},
   "outputs": [
    {
     "data": {
      "text/plain": [
       "{'FirstName': 'Vivek',\n",
       " 'Age': 22,\n",
       " 'Class': 'FYJC',\n",
       " 'PIN': 442404,\n",
       " 'Sub': ['P', 'C', 'M', 'IT']}"
      ]
     },
     "execution_count": 62,
     "metadata": {},
     "output_type": "execute_result"
    }
   ],
   "source": [
    "dict_student"
   ]
  },
  {
   "cell_type": "code",
   "execution_count": 64,
   "id": "c65638c5",
   "metadata": {},
   "outputs": [],
   "source": [
    "# update\n",
    "dict_student['Age'] = 40\n"
   ]
  },
  {
   "cell_type": "code",
   "execution_count": 65,
   "id": "ed267f89",
   "metadata": {},
   "outputs": [
    {
     "data": {
      "text/plain": [
       "{'FirstName': 'Vivek',\n",
       " 'Age': 40,\n",
       " 'Class': 'FYJC',\n",
       " 'PIN': 442404,\n",
       " 'Sub': ['P', 'C', 'M', 'IT']}"
      ]
     },
     "execution_count": 65,
     "metadata": {},
     "output_type": "execute_result"
    }
   ],
   "source": [
    "dict_student"
   ]
  },
  {
   "cell_type": "code",
   "execution_count": 66,
   "id": "7bb169bf",
   "metadata": {},
   "outputs": [
    {
     "ename": "KeyError",
     "evalue": "'City'",
     "output_type": "error",
     "traceback": [
      "\u001b[1;31m---------------------------------------------------------------------------\u001b[0m",
      "\u001b[1;31mKeyError\u001b[0m                                  Traceback (most recent call last)",
      "\u001b[1;32m~\\AppData\\Local\\Temp/ipykernel_11028/1535320922.py\u001b[0m in \u001b[0;36m<module>\u001b[1;34m\u001b[0m\n\u001b[1;32m----> 1\u001b[1;33m \u001b[0mdict_student\u001b[0m\u001b[1;33m[\u001b[0m\u001b[1;34m'City'\u001b[0m\u001b[1;33m]\u001b[0m\u001b[1;33m\u001b[0m\u001b[1;33m\u001b[0m\u001b[0m\n\u001b[0m",
      "\u001b[1;31mKeyError\u001b[0m: 'City'"
     ]
    }
   ],
   "source": [
    "dict_student['City']"
   ]
  },
  {
   "cell_type": "code",
   "execution_count": 68,
   "id": "0e7a5ae1",
   "metadata": {},
   "outputs": [
    {
     "data": {
      "text/plain": [
       "'City is not defined'"
      ]
     },
     "execution_count": 68,
     "metadata": {},
     "output_type": "execute_result"
    }
   ],
   "source": [
    "dict_student.get(\"City\",\"City is not defined\")"
   ]
  },
  {
   "cell_type": "code",
   "execution_count": 69,
   "id": "dcf9487c",
   "metadata": {},
   "outputs": [
    {
     "data": {
      "text/plain": [
       "{'FirstName': 'Vivek',\n",
       " 'Age': 40,\n",
       " 'Class': 'FYJC',\n",
       " 'PIN': 442404,\n",
       " 'Sub': ['P', 'C', 'M', 'IT']}"
      ]
     },
     "execution_count": 69,
     "metadata": {},
     "output_type": "execute_result"
    }
   ],
   "source": [
    "dict_student"
   ]
  },
  {
   "cell_type": "code",
   "execution_count": 70,
   "id": "b247d480",
   "metadata": {},
   "outputs": [],
   "source": [
    "# add\n",
    "dict_student['City'] = \"Pune\"\n"
   ]
  },
  {
   "cell_type": "code",
   "execution_count": 71,
   "id": "d2ee7c3c",
   "metadata": {},
   "outputs": [
    {
     "data": {
      "text/plain": [
       "{'FirstName': 'Vivek',\n",
       " 'Age': 40,\n",
       " 'Class': 'FYJC',\n",
       " 'PIN': 442404,\n",
       " 'Sub': ['P', 'C', 'M', 'IT'],\n",
       " 'City': 'Pune'}"
      ]
     },
     "execution_count": 71,
     "metadata": {},
     "output_type": "execute_result"
    }
   ],
   "source": [
    "dict_student"
   ]
  },
  {
   "cell_type": "code",
   "execution_count": null,
   "id": "eb9be091",
   "metadata": {},
   "outputs": [],
   "source": []
  },
  {
   "cell_type": "code",
   "execution_count": null,
   "id": "af60c715",
   "metadata": {},
   "outputs": [],
   "source": []
  },
  {
   "cell_type": "code",
   "execution_count": null,
   "id": "b7f86244",
   "metadata": {},
   "outputs": [],
   "source": []
  },
  {
   "cell_type": "code",
   "execution_count": null,
   "id": "18c78a76",
   "metadata": {},
   "outputs": [],
   "source": []
  },
  {
   "cell_type": "code",
   "execution_count": null,
   "id": "ddba9a09",
   "metadata": {},
   "outputs": [],
   "source": []
  }
 ],
 "metadata": {
  "kernelspec": {
   "display_name": "Python 3 (ipykernel)",
   "language": "python",
   "name": "python3"
  },
  "language_info": {
   "codemirror_mode": {
    "name": "ipython",
    "version": 3
   },
   "file_extension": ".py",
   "mimetype": "text/x-python",
   "name": "python",
   "nbconvert_exporter": "python",
   "pygments_lexer": "ipython3",
   "version": "3.9.7"
  }
 },
 "nbformat": 4,
 "nbformat_minor": 5
}
