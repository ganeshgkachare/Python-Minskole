{
 "cells": [
  {
   "cell_type": "code",
   "execution_count": 1,
   "id": "0ac99e4d",
   "metadata": {},
   "outputs": [
    {
     "data": {
      "text/plain": [
       "6"
      ]
     },
     "execution_count": 1,
     "metadata": {},
     "output_type": "execute_result"
    }
   ],
   "source": [
    "# strip : Returns a trimmed version of the string\n",
    "\n",
    "a11 = \" amol \"\n",
    "len(a11)"
   ]
  },
  {
   "cell_type": "code",
   "execution_count": 2,
   "id": "c281e9fa",
   "metadata": {},
   "outputs": [
    {
     "name": "stdout",
     "output_type": "stream",
     "text": [
      "amol\n",
      "4\n"
     ]
    }
   ],
   "source": [
    "b11 = a11.strip()\n",
    "print(b11)\n",
    "print(len(b11))"
   ]
  },
  {
   "cell_type": "code",
   "execution_count": 3,
   "id": "5f8d53f5",
   "metadata": {},
   "outputs": [
    {
     "name": "stdout",
     "output_type": "stream",
     "text": [
      "['abcdefghijklmn', 'gmail.com']\n"
     ]
    }
   ],
   "source": [
    "# split()\n",
    "#   Splits the string at the specified separator, and returns a list\n",
    "\n",
    "print(\"abcdefghijklmn@gmail.com\".split('@'))"
   ]
  },
  {
   "cell_type": "code",
   "execution_count": 4,
   "id": "5ffa62b8",
   "metadata": {},
   "outputs": [
    {
     "data": {
      "text/plain": [
       "['abc', 'efghi', 'jkl', 'mn@gmail.com']"
      ]
     },
     "execution_count": 4,
     "metadata": {},
     "output_type": "execute_result"
    }
   ],
   "source": [
    "\"abcdefghidjkldmn@gmail.com\".split('d')"
   ]
  },
  {
   "cell_type": "code",
   "execution_count": null,
   "id": "423ea7d7",
   "metadata": {},
   "outputs": [],
   "source": [
    "print(\"abcdefghijklmn@gmail.com\".split('g'))"
   ]
  },
  {
   "cell_type": "code",
   "execution_count": null,
   "id": "d11101e4",
   "metadata": {},
   "outputs": [],
   "source": [
    "\"abcdefg\".split(\"c\")"
   ]
  },
  {
   "cell_type": "code",
   "execution_count": 5,
   "id": "2cca21f9",
   "metadata": {},
   "outputs": [
    {
     "name": "stdout",
     "output_type": "stream",
     "text": [
      "['abcdefghijklmn', 'gmail.com']\n"
     ]
    }
   ],
   "source": [
    "email=\"abcdefghijklmn@gmail.com\"\n",
    "print(email.split(\"@\"))"
   ]
  },
  {
   "cell_type": "code",
   "execution_count": 6,
   "id": "7c729d01",
   "metadata": {},
   "outputs": [
    {
     "data": {
      "text/plain": [
       "'Abc'"
      ]
     },
     "execution_count": 6,
     "metadata": {},
     "output_type": "execute_result"
    }
   ],
   "source": [
    "a = \"abc\"\n",
    "a.replace(\"a\",\"A\")"
   ]
  },
  {
   "cell_type": "code",
   "execution_count": 7,
   "id": "86ae4e0d",
   "metadata": {},
   "outputs": [
    {
     "data": {
      "text/plain": [
       "'AbcAA'"
      ]
     },
     "execution_count": 7,
     "metadata": {},
     "output_type": "execute_result"
    }
   ],
   "source": [
    "a = \"abcaa\"\n",
    "a.replace(\"a\",\"A\")"
   ]
  },
  {
   "cell_type": "code",
   "execution_count": null,
   "id": "92e2f41f",
   "metadata": {},
   "outputs": [],
   "source": [
    "a=\"Python class aaa bbb  aaaa\""
   ]
  },
  {
   "cell_type": "code",
   "execution_count": null,
   "id": "f32c906a",
   "metadata": {},
   "outputs": [],
   "source": [
    "b=a.split(\"a\")"
   ]
  },
  {
   "cell_type": "code",
   "execution_count": null,
   "id": "90d9d05b",
   "metadata": {},
   "outputs": [],
   "source": [
    "b"
   ]
  },
  {
   "cell_type": "code",
   "execution_count": null,
   "id": "bc45120d",
   "metadata": {},
   "outputs": [],
   "source": [
    "type(a)"
   ]
  },
  {
   "cell_type": "code",
   "execution_count": null,
   "id": "bf704863",
   "metadata": {},
   "outputs": [],
   "source": [
    "type(b)"
   ]
  },
  {
   "cell_type": "markdown",
   "id": "8174933a",
   "metadata": {},
   "source": [
    "## List"
   ]
  },
  {
   "cell_type": "raw",
   "id": "3c6849bd",
   "metadata": {},
   "source": [
    "List\n",
    "    The list is an ordered sequence of mixed data type.\n",
    "    List is mutable."
   ]
  },
  {
   "cell_type": "code",
   "execution_count": null,
   "id": "d88ec86d",
   "metadata": {},
   "outputs": [],
   "source": [
    "lst = [1,1,2,3]\n",
    "type(lst)"
   ]
  },
  {
   "cell_type": "code",
   "execution_count": null,
   "id": "6ea00be7",
   "metadata": {},
   "outputs": [],
   "source": []
  },
  {
   "cell_type": "code",
   "execution_count": null,
   "id": "adf80eba",
   "metadata": {},
   "outputs": [],
   "source": [
    "\"Python\""
   ]
  },
  {
   "cell_type": "code",
   "execution_count": 15,
   "id": "929f1672",
   "metadata": {},
   "outputs": [
    {
     "data": {
      "text/plain": [
       "[2, 3, 2.5, 'Python', True, False]"
      ]
     },
     "execution_count": 15,
     "metadata": {},
     "output_type": "execute_result"
    }
   ],
   "source": [
    "a=[2,  3,  2.5,  \"Python\",  True,  False]\n",
    "#  0   1    2     3          4      5\n",
    "\n",
    "# Left ------------------------------> Right\n",
    "a"
   ]
  },
  {
   "cell_type": "code",
   "execution_count": 35,
   "id": "526fe2f4",
   "metadata": {},
   "outputs": [
    {
     "data": {
      "text/plain": [
       "6"
      ]
     },
     "execution_count": 35,
     "metadata": {},
     "output_type": "execute_result"
    }
   ],
   "source": [
    "len(a)"
   ]
  },
  {
   "cell_type": "code",
   "execution_count": 34,
   "id": "9a04d0dd",
   "metadata": {},
   "outputs": [
    {
     "data": {
      "text/plain": [
       "[False, True, 'Python', 2.5, 3]"
      ]
     },
     "execution_count": 34,
     "metadata": {},
     "output_type": "execute_result"
    }
   ],
   "source": [
    "a[-1:-6:-1]"
   ]
  },
  {
   "cell_type": "code",
   "execution_count": 36,
   "id": "f762735b",
   "metadata": {},
   "outputs": [
    {
     "data": {
      "text/plain": [
       "[False, True, 'Python', 2.5, 3, 2]"
      ]
     },
     "execution_count": 36,
     "metadata": {},
     "output_type": "execute_result"
    }
   ],
   "source": [
    "a[::-1]"
   ]
  },
  {
   "cell_type": "code",
   "execution_count": 37,
   "id": "4188f24e",
   "metadata": {},
   "outputs": [
    {
     "data": {
      "text/plain": [
       "[]"
      ]
     },
     "execution_count": 37,
     "metadata": {},
     "output_type": "execute_result"
    }
   ],
   "source": [
    "a[0:6:-1]"
   ]
  },
  {
   "cell_type": "code",
   "execution_count": null,
   "id": "1f5853bb",
   "metadata": {},
   "outputs": [],
   "source": [
    "a=[2,  3,  2.5,  \"Python\",  True,  False]\n",
    "#  0   1    2     3          4      5\n",
    "\n",
    "# Left ------------------------------> Right\n",
    "a"
   ]
  },
  {
   "cell_type": "code",
   "execution_count": 38,
   "id": "5b1e678d",
   "metadata": {},
   "outputs": [
    {
     "data": {
      "text/plain": [
       "[False, True, 'Python', 2.5, 3, 2]"
      ]
     },
     "execution_count": 38,
     "metadata": {},
     "output_type": "execute_result"
    }
   ],
   "source": [
    "a[6::-1]"
   ]
  },
  {
   "cell_type": "code",
   "execution_count": 30,
   "id": "2ad11415",
   "metadata": {},
   "outputs": [
    {
     "data": {
      "text/plain": [
       "'h'"
      ]
     },
     "execution_count": 30,
     "metadata": {},
     "output_type": "execute_result"
    }
   ],
   "source": [
    "'Python'[3]"
   ]
  },
  {
   "cell_type": "code",
   "execution_count": 29,
   "id": "833d7e89",
   "metadata": {},
   "outputs": [
    {
     "data": {
      "text/plain": [
       "'Python'"
      ]
     },
     "execution_count": 29,
     "metadata": {},
     "output_type": "execute_result"
    }
   ],
   "source": [
    "a[3]"
   ]
  },
  {
   "cell_type": "code",
   "execution_count": 31,
   "id": "b4432e4e",
   "metadata": {},
   "outputs": [
    {
     "data": {
      "text/plain": [
       "'h'"
      ]
     },
     "execution_count": 31,
     "metadata": {},
     "output_type": "execute_result"
    }
   ],
   "source": [
    "a[3][3]\n",
    "#'Python'[3]"
   ]
  },
  {
   "cell_type": "code",
   "execution_count": 19,
   "id": "c1213f91",
   "metadata": {},
   "outputs": [
    {
     "data": {
      "text/plain": [
       "True"
      ]
     },
     "execution_count": 19,
     "metadata": {},
     "output_type": "execute_result"
    }
   ],
   "source": [
    "a[4]"
   ]
  },
  {
   "cell_type": "code",
   "execution_count": 20,
   "id": "9f8453b9",
   "metadata": {},
   "outputs": [
    {
     "data": {
      "text/plain": [
       "'Python'"
      ]
     },
     "execution_count": 20,
     "metadata": {},
     "output_type": "execute_result"
    }
   ],
   "source": [
    "a[-3]"
   ]
  },
  {
   "cell_type": "code",
   "execution_count": 21,
   "id": "415c02bc",
   "metadata": {},
   "outputs": [
    {
     "data": {
      "text/plain": [
       "[2.5, 'Python']"
      ]
     },
     "execution_count": 21,
     "metadata": {},
     "output_type": "execute_result"
    }
   ],
   "source": [
    "a[2:4:1]"
   ]
  },
  {
   "cell_type": "code",
   "execution_count": 22,
   "id": "989ffb6b",
   "metadata": {},
   "outputs": [
    {
     "data": {
      "text/plain": [
       "[2.5, 'Python', True]"
      ]
     },
     "execution_count": 22,
     "metadata": {},
     "output_type": "execute_result"
    }
   ],
   "source": [
    "a[2:5:1]"
   ]
  },
  {
   "cell_type": "code",
   "execution_count": 23,
   "id": "6580304e",
   "metadata": {},
   "outputs": [
    {
     "data": {
      "text/plain": [
       "[2.5, True]"
      ]
     },
     "execution_count": 23,
     "metadata": {},
     "output_type": "execute_result"
    }
   ],
   "source": [
    "a[2:5:2]   #2.5, True"
   ]
  },
  {
   "cell_type": "code",
   "execution_count": null,
   "id": "0fe5d8f9",
   "metadata": {},
   "outputs": [],
   "source": [
    "a[2:5:2] "
   ]
  },
  {
   "cell_type": "code",
   "execution_count": 24,
   "id": "ddc05aab",
   "metadata": {},
   "outputs": [
    {
     "data": {
      "text/plain": [
       "False"
      ]
     },
     "execution_count": 24,
     "metadata": {},
     "output_type": "execute_result"
    }
   ],
   "source": [
    "a[-1]"
   ]
  },
  {
   "cell_type": "code",
   "execution_count": 25,
   "id": "ec9d5615",
   "metadata": {},
   "outputs": [
    {
     "data": {
      "text/plain": [
       "bool"
      ]
     },
     "execution_count": 25,
     "metadata": {},
     "output_type": "execute_result"
    }
   ],
   "source": [
    "type(a[-1])"
   ]
  },
  {
   "cell_type": "code",
   "execution_count": 26,
   "id": "9a2784e6",
   "metadata": {},
   "outputs": [
    {
     "data": {
      "text/plain": [
       "str"
      ]
     },
     "execution_count": 26,
     "metadata": {},
     "output_type": "execute_result"
    }
   ],
   "source": [
    "type(a[3])"
   ]
  },
  {
   "cell_type": "code",
   "execution_count": 27,
   "id": "5a3d9644",
   "metadata": {},
   "outputs": [
    {
     "data": {
      "text/plain": [
       "int"
      ]
     },
     "execution_count": 27,
     "metadata": {},
     "output_type": "execute_result"
    }
   ],
   "source": [
    "type(a[1])"
   ]
  },
  {
   "cell_type": "code",
   "execution_count": 16,
   "id": "c3382cc8",
   "metadata": {},
   "outputs": [
    {
     "data": {
      "text/plain": [
       "list"
      ]
     },
     "execution_count": 16,
     "metadata": {},
     "output_type": "execute_result"
    }
   ],
   "source": [
    "type(a)"
   ]
  },
  {
   "cell_type": "code",
   "execution_count": null,
   "id": "fff2ca64",
   "metadata": {},
   "outputs": [],
   "source": []
  },
  {
   "cell_type": "code",
   "execution_count": null,
   "id": "452709ce",
   "metadata": {},
   "outputs": [],
   "source": [
    "l = [1,2,2]"
   ]
  },
  {
   "cell_type": "code",
   "execution_count": null,
   "id": "cc9d8240",
   "metadata": {},
   "outputs": [],
   "source": [
    "print(type(l))\n",
    "print(len(l))"
   ]
  },
  {
   "cell_type": "code",
   "execution_count": 39,
   "id": "c1b3cc40",
   "metadata": {},
   "outputs": [],
   "source": [
    "a = [1,2,3,4,\"5\",\"6\",\"7\",\"Hello\",\"World\",True,False,\"Houndred\"]"
   ]
  },
  {
   "cell_type": "code",
   "execution_count": 40,
   "id": "910909d2",
   "metadata": {},
   "outputs": [
    {
     "name": "stdout",
     "output_type": "stream",
     "text": [
      "[1, 2, 3, 4, '5', '6', '7', 'Hello', 'World', True, False, 'Houndred']\n"
     ]
    }
   ],
   "source": [
    " \n",
    "print(a)"
   ]
  },
  {
   "cell_type": "code",
   "execution_count": null,
   "id": "4e54568f",
   "metadata": {},
   "outputs": [],
   "source": [
    "for i in a:\n",
    "    print(i , \" Type ==>\",type(i))"
   ]
  },
  {
   "cell_type": "code",
   "execution_count": 41,
   "id": "efce673e",
   "metadata": {},
   "outputs": [
    {
     "data": {
      "text/plain": [
       "list"
      ]
     },
     "execution_count": 41,
     "metadata": {},
     "output_type": "execute_result"
    }
   ],
   "source": [
    "type(a)"
   ]
  },
  {
   "cell_type": "code",
   "execution_count": 42,
   "id": "19a9b8ea",
   "metadata": {},
   "outputs": [
    {
     "data": {
      "text/plain": [
       "12"
      ]
     },
     "execution_count": 42,
     "metadata": {},
     "output_type": "execute_result"
    }
   ],
   "source": [
    "len(a)"
   ]
  },
  {
   "cell_type": "code",
   "execution_count": 43,
   "id": "d10ba48a",
   "metadata": {},
   "outputs": [
    {
     "data": {
      "text/plain": [
       "2"
      ]
     },
     "execution_count": 43,
     "metadata": {},
     "output_type": "execute_result"
    }
   ],
   "source": [
    "a[1]"
   ]
  },
  {
   "cell_type": "code",
   "execution_count": 44,
   "id": "f47e3239",
   "metadata": {},
   "outputs": [],
   "source": [
    "a[1] = \"Two\""
   ]
  },
  {
   "cell_type": "code",
   "execution_count": 45,
   "id": "70419906",
   "metadata": {},
   "outputs": [
    {
     "data": {
      "text/plain": [
       "'Two'"
      ]
     },
     "execution_count": 45,
     "metadata": {},
     "output_type": "execute_result"
    }
   ],
   "source": [
    "a[1]"
   ]
  },
  {
   "cell_type": "code",
   "execution_count": 46,
   "id": "19b5ce1e",
   "metadata": {},
   "outputs": [
    {
     "data": {
      "text/plain": [
       "[1, 'Two', 3, 4, '5', '6', '7', 'Hello', 'World', True, False, 'Houndred']"
      ]
     },
     "execution_count": 46,
     "metadata": {},
     "output_type": "execute_result"
    }
   ],
   "source": [
    "a"
   ]
  },
  {
   "cell_type": "code",
   "execution_count": 47,
   "id": "17c202a9",
   "metadata": {},
   "outputs": [
    {
     "data": {
      "text/plain": [
       "4"
      ]
     },
     "execution_count": 47,
     "metadata": {},
     "output_type": "execute_result"
    }
   ],
   "source": [
    "a[3]"
   ]
  },
  {
   "cell_type": "code",
   "execution_count": 48,
   "id": "0560999e",
   "metadata": {},
   "outputs": [
    {
     "data": {
      "text/plain": [
       "[4, '5', '6', '7', 'Hello', 'World', True, False, 'Houndred']"
      ]
     },
     "execution_count": 48,
     "metadata": {},
     "output_type": "execute_result"
    }
   ],
   "source": [
    "a[3:]"
   ]
  },
  {
   "cell_type": "code",
   "execution_count": null,
   "id": "de216f07",
   "metadata": {},
   "outputs": [],
   "source": [
    "a"
   ]
  },
  {
   "cell_type": "code",
   "execution_count": 49,
   "id": "612ad4f0",
   "metadata": {},
   "outputs": [
    {
     "data": {
      "text/plain": [
       "1"
      ]
     },
     "execution_count": 49,
     "metadata": {},
     "output_type": "execute_result"
    }
   ],
   "source": [
    "a[0]"
   ]
  },
  {
   "cell_type": "code",
   "execution_count": 50,
   "id": "88806629",
   "metadata": {},
   "outputs": [],
   "source": [
    "a[0] = 100"
   ]
  },
  {
   "cell_type": "code",
   "execution_count": 51,
   "id": "f3eed7c1",
   "metadata": {},
   "outputs": [
    {
     "data": {
      "text/plain": [
       "[100, 'Two', 3, 4, '5', '6', '7', 'Hello', 'World', True, False, 'Houndred']"
      ]
     },
     "execution_count": 51,
     "metadata": {},
     "output_type": "execute_result"
    }
   ],
   "source": [
    "a"
   ]
  },
  {
   "cell_type": "code",
   "execution_count": null,
   "id": "eab966fa",
   "metadata": {},
   "outputs": [],
   "source": [
    "a[7][4]"
   ]
  },
  {
   "cell_type": "code",
   "execution_count": 52,
   "id": "2ffeca1b",
   "metadata": {},
   "outputs": [
    {
     "data": {
      "text/plain": [
       "[100, 'Two', 3, 4, '5', '6', '7', 'Hello', 'World', True, False, 'Houndred']"
      ]
     },
     "execution_count": 52,
     "metadata": {},
     "output_type": "execute_result"
    }
   ],
   "source": [
    "a"
   ]
  },
  {
   "cell_type": "code",
   "execution_count": 54,
   "id": "455cec8e",
   "metadata": {},
   "outputs": [
    {
     "name": "stdout",
     "output_type": "stream",
     "text": [
      "100\n",
      "Two\n",
      "3\n",
      "4\n",
      "5\n",
      "6\n",
      "7\n",
      "Hello\n",
      "World\n",
      "True\n",
      "False\n",
      "Houndred\n"
     ]
    }
   ],
   "source": [
    "for i in a:\n",
    "    print(i)"
   ]
  },
  {
   "cell_type": "code",
   "execution_count": 56,
   "id": "e64daaa7",
   "metadata": {},
   "outputs": [
    {
     "data": {
      "text/plain": [
       "[100, 'Two', 3, 4, '5', '6', '7', 'Hello', 'World', True, False, 'Houndred']"
      ]
     },
     "execution_count": 56,
     "metadata": {},
     "output_type": "execute_result"
    }
   ],
   "source": [
    "a"
   ]
  },
  {
   "cell_type": "code",
   "execution_count": 58,
   "id": "b8852b69",
   "metadata": {},
   "outputs": [],
   "source": [
    "list=[100, 'Two', 3, 4, '5', '6', '7', 'Hello', 'World', True, False, 'Houndred']"
   ]
  },
  {
   "cell_type": "code",
   "execution_count": 59,
   "id": "2b96cf51",
   "metadata": {},
   "outputs": [
    {
     "name": "stdout",
     "output_type": "stream",
     "text": [
      "100\n",
      "Two\n",
      "3\n",
      "4\n",
      "5\n",
      "6\n",
      "7\n",
      "Hello\n",
      "World\n",
      "True\n",
      "False\n",
      "Houndred\n"
     ]
    }
   ],
   "source": [
    "for element in list:\n",
    "    print(element)"
   ]
  },
  {
   "cell_type": "code",
   "execution_count": null,
   "id": "dff63189",
   "metadata": {},
   "outputs": [],
   "source": []
  },
  {
   "cell_type": "code",
   "execution_count": null,
   "id": "099b2848",
   "metadata": {},
   "outputs": [],
   "source": [
    "print(len(a))"
   ]
  },
  {
   "cell_type": "code",
   "execution_count": null,
   "id": "0159535a",
   "metadata": {},
   "outputs": [],
   "source": [
    "print(a[2])\n",
    "print(a[3])"
   ]
  },
  {
   "cell_type": "code",
   "execution_count": null,
   "id": "1eaedfd4",
   "metadata": {},
   "outputs": [],
   "source": [
    "a[3] = \"Four\"\n",
    "print(a[3])"
   ]
  },
  {
   "cell_type": "code",
   "execution_count": null,
   "id": "37b4c396",
   "metadata": {},
   "outputs": [],
   "source": [
    "a"
   ]
  },
  {
   "cell_type": "code",
   "execution_count": null,
   "id": "8a1a9cb9",
   "metadata": {},
   "outputs": [],
   "source": [
    "print(a[-1])"
   ]
  },
  {
   "cell_type": "code",
   "execution_count": null,
   "id": "4c0ea2ea",
   "metadata": {},
   "outputs": [],
   "source": []
  },
  {
   "cell_type": "code",
   "execution_count": null,
   "id": "1205d94d",
   "metadata": {},
   "outputs": [],
   "source": [
    "a"
   ]
  },
  {
   "cell_type": "code",
   "execution_count": null,
   "id": "aa2343ac",
   "metadata": {},
   "outputs": [],
   "source": [
    "a[:]"
   ]
  },
  {
   "cell_type": "code",
   "execution_count": null,
   "id": "253df2f0",
   "metadata": {},
   "outputs": [],
   "source": [
    "a[::-1]"
   ]
  },
  {
   "cell_type": "code",
   "execution_count": null,
   "id": "6920757a",
   "metadata": {},
   "outputs": [],
   "source": [
    "print(a.reverse())"
   ]
  },
  {
   "cell_type": "code",
   "execution_count": null,
   "id": "9c1ec4b7",
   "metadata": {},
   "outputs": [],
   "source": [
    "a"
   ]
  },
  {
   "cell_type": "code",
   "execution_count": null,
   "id": "e1499e0c",
   "metadata": {},
   "outputs": [],
   "source": [
    "a = [1,2,3,4,\"5\",\"6\",\"7\",\"Hello\",\"World\",True,False,\"Houndred\"]"
   ]
  },
  {
   "cell_type": "code",
   "execution_count": null,
   "id": "1eb56fc7",
   "metadata": {},
   "outputs": [],
   "source": [
    "a"
   ]
  },
  {
   "cell_type": "code",
   "execution_count": null,
   "id": "1aa7aa7e",
   "metadata": {},
   "outputs": [],
   "source": [
    "a.reverse()"
   ]
  },
  {
   "cell_type": "code",
   "execution_count": null,
   "id": "93701b6a",
   "metadata": {},
   "outputs": [],
   "source": [
    "a"
   ]
  },
  {
   "cell_type": "code",
   "execution_count": null,
   "id": "0700210c",
   "metadata": {},
   "outputs": [],
   "source": [
    "a = [1,2,3,4,\"5\",\"6\",\"7\",\"Hello\",\"World\",True,False,\"Houndred\"]"
   ]
  },
  {
   "cell_type": "code",
   "execution_count": null,
   "id": "1e63d314",
   "metadata": {},
   "outputs": [],
   "source": [
    "a"
   ]
  },
  {
   "cell_type": "code",
   "execution_count": null,
   "id": "3ec564b4",
   "metadata": {},
   "outputs": [],
   "source": [
    "print(a.reverse())"
   ]
  },
  {
   "cell_type": "code",
   "execution_count": null,
   "id": "2789d3a5",
   "metadata": {},
   "outputs": [],
   "source": [
    "aa=a.reverse()"
   ]
  },
  {
   "cell_type": "code",
   "execution_count": null,
   "id": "cb1f2e51",
   "metadata": {},
   "outputs": [],
   "source": [
    "aa"
   ]
  },
  {
   "cell_type": "markdown",
   "id": "1db533e3",
   "metadata": {},
   "source": [
    "## for loop"
   ]
  },
  {
   "cell_type": "code",
   "execution_count": null,
   "id": "877ff5d6",
   "metadata": {},
   "outputs": [],
   "source": [
    "# iterate over the list items \n",
    "a = [1,2,3,4,\"5\",\"6\",\"7\",\"Hello\",\"World\",True,False,\"Houndred\"] "
   ]
  },
  {
   "cell_type": "code",
   "execution_count": null,
   "id": "4fa4bbef",
   "metadata": {},
   "outputs": [],
   "source": [
    "# Q.1 Print all elements of list using for loop\n",
    "# Q.2 Print all elements of list using for loop in single line\n"
   ]
  },
  {
   "cell_type": "code",
   "execution_count": null,
   "id": "2ee43539",
   "metadata": {},
   "outputs": [],
   "source": []
  },
  {
   "cell_type": "code",
   "execution_count": null,
   "id": "70bed644",
   "metadata": {},
   "outputs": [],
   "source": []
  },
  {
   "cell_type": "code",
   "execution_count": null,
   "id": "b4779227",
   "metadata": {},
   "outputs": [],
   "source": []
  },
  {
   "cell_type": "code",
   "execution_count": null,
   "id": "32543964",
   "metadata": {},
   "outputs": [],
   "source": []
  },
  {
   "cell_type": "code",
   "execution_count": null,
   "id": "f4231a1a",
   "metadata": {},
   "outputs": [],
   "source": []
  },
  {
   "cell_type": "code",
   "execution_count": null,
   "id": "55880e5c",
   "metadata": {},
   "outputs": [],
   "source": []
  },
  {
   "cell_type": "code",
   "execution_count": null,
   "id": "e9b98e1f",
   "metadata": {},
   "outputs": [],
   "source": [
    "# Q.1 Print only True and false  # using for loop\n",
    "# Q.2 Print only int               \n",
    "# Q.3 Print only those string that contains \"l\"\n",
    "# Q.4 Print only those string that contains \"l\" at 3rd position #\"Hello\"\n",
    "\n",
    "# Hint:- Use if condition"
   ]
  },
  {
   "cell_type": "code",
   "execution_count": null,
   "id": "3a910de8",
   "metadata": {},
   "outputs": [],
   "source": []
  },
  {
   "cell_type": "code",
   "execution_count": null,
   "id": "d166cded",
   "metadata": {},
   "outputs": [],
   "source": []
  },
  {
   "cell_type": "code",
   "execution_count": null,
   "id": "11bd7cdb",
   "metadata": {},
   "outputs": [],
   "source": []
  },
  {
   "cell_type": "code",
   "execution_count": null,
   "id": "dcf8efce",
   "metadata": {},
   "outputs": [],
   "source": []
  },
  {
   "cell_type": "code",
   "execution_count": null,
   "id": "a55441b2",
   "metadata": {},
   "outputs": [],
   "source": []
  }
 ],
 "metadata": {
  "kernelspec": {
   "display_name": "Python 3 (ipykernel)",
   "language": "python",
   "name": "python3"
  },
  "language_info": {
   "codemirror_mode": {
    "name": "ipython",
    "version": 3
   },
   "file_extension": ".py",
   "mimetype": "text/x-python",
   "name": "python",
   "nbconvert_exporter": "python",
   "pygments_lexer": "ipython3",
   "version": "3.9.7"
  }
 },
 "nbformat": 4,
 "nbformat_minor": 5
}
