{
 "cells": [
  {
   "cell_type": "markdown",
   "id": "06557bd3",
   "metadata": {},
   "source": [
    "## Function in Python"
   ]
  },
  {
   "cell_type": "code",
   "execution_count": null,
   "id": "c405b25d",
   "metadata": {},
   "outputs": [],
   "source": [
    "#keyword\n",
    "def function_name(parameters):\n",
    "    code "
   ]
  },
  {
   "cell_type": "code",
   "execution_count": 13,
   "id": "0a372581",
   "metadata": {},
   "outputs": [],
   "source": [
    "a=[10,22,45,78,77,44,11]"
   ]
  },
  {
   "cell_type": "code",
   "execution_count": 14,
   "id": "ce77da77",
   "metadata": {},
   "outputs": [],
   "source": [
    "even=[]\n",
    "odd=[]"
   ]
  },
  {
   "cell_type": "code",
   "execution_count": 17,
   "id": "d88e3143",
   "metadata": {},
   "outputs": [],
   "source": [
    "for i in a:  #10,22,45,78,77,44,11\n",
    "    if i%2==0:\n",
    "        even.append(i)\n",
    "    else:\n",
    "        odd.append(i)\n",
    "        "
   ]
  },
  {
   "cell_type": "code",
   "execution_count": 18,
   "id": "4ed3f8c4",
   "metadata": {},
   "outputs": [
    {
     "data": {
      "text/plain": [
       "[45, 77, 11]"
      ]
     },
     "execution_count": 18,
     "metadata": {},
     "output_type": "execute_result"
    }
   ],
   "source": [
    "odd"
   ]
  },
  {
   "cell_type": "code",
   "execution_count": 19,
   "id": "8c771ede",
   "metadata": {},
   "outputs": [
    {
     "data": {
      "text/plain": [
       "[10, 22, 78, 44]"
      ]
     },
     "execution_count": 19,
     "metadata": {},
     "output_type": "execute_result"
    }
   ],
   "source": [
    "even"
   ]
  },
  {
   "cell_type": "code",
   "execution_count": 23,
   "id": "2d11dc3f",
   "metadata": {},
   "outputs": [],
   "source": [
    "del even"
   ]
  },
  {
   "cell_type": "code",
   "execution_count": 24,
   "id": "77b29178",
   "metadata": {},
   "outputs": [],
   "source": [
    "del odd"
   ]
  },
  {
   "cell_type": "code",
   "execution_count": null,
   "id": "9932a9a7",
   "metadata": {},
   "outputs": [],
   "source": []
  },
  {
   "cell_type": "code",
   "execution_count": 20,
   "id": "4ec96f61",
   "metadata": {},
   "outputs": [],
   "source": [
    "b=[10,22,45,78,77,44,11,34,56,67,87]"
   ]
  },
  {
   "cell_type": "code",
   "execution_count": 28,
   "id": "5c0e8ac8",
   "metadata": {},
   "outputs": [],
   "source": [
    "even=[]\n",
    "odd=[]\n",
    "\n",
    "for i in b:  \n",
    "    if i%2==0:\n",
    "        even.append(i)\n",
    "    else:\n",
    "        odd.append(i)\n",
    "        "
   ]
  },
  {
   "cell_type": "code",
   "execution_count": 29,
   "id": "40f0bd66",
   "metadata": {},
   "outputs": [
    {
     "data": {
      "text/plain": [
       "[10, 22, 78, 44, 34, 56]"
      ]
     },
     "execution_count": 29,
     "metadata": {},
     "output_type": "execute_result"
    }
   ],
   "source": [
    "even"
   ]
  },
  {
   "cell_type": "code",
   "execution_count": 30,
   "id": "1a339ec5",
   "metadata": {},
   "outputs": [
    {
     "data": {
      "text/plain": [
       "[45, 77, 11, 67, 87]"
      ]
     },
     "execution_count": 30,
     "metadata": {},
     "output_type": "execute_result"
    }
   ],
   "source": [
    "odd"
   ]
  },
  {
   "cell_type": "code",
   "execution_count": null,
   "id": "3aa4dc46",
   "metadata": {},
   "outputs": [],
   "source": []
  },
  {
   "cell_type": "code",
   "execution_count": 31,
   "id": "349b2032",
   "metadata": {},
   "outputs": [],
   "source": [
    "def Even_Odd(a):\n",
    "    even=[]\n",
    "    odd=[]\n",
    "    for i in a:  \n",
    "        if i%2==0:\n",
    "            even.append(i)\n",
    "        else:\n",
    "            odd.append(i)\n",
    "    print(\"Even ==>\",even,\"Odd ==>\",odd) #return\n",
    "        \n",
    "    "
   ]
  },
  {
   "cell_type": "code",
   "execution_count": 32,
   "id": "fc6543e2",
   "metadata": {},
   "outputs": [
    {
     "name": "stdout",
     "output_type": "stream",
     "text": [
      "Even ==> [10, 22, 78, 44] Odd ==> [45, 77, 11]\n"
     ]
    }
   ],
   "source": [
    "Even_Odd([10,22,45,78,77,44,11])"
   ]
  },
  {
   "cell_type": "code",
   "execution_count": 33,
   "id": "63d05b9e",
   "metadata": {},
   "outputs": [
    {
     "name": "stdout",
     "output_type": "stream",
     "text": [
      "Even ==> [10, 22, 78, 44, 34, 56] Odd ==> [45, 77, 11, 67, 87]\n"
     ]
    }
   ],
   "source": [
    "Even_Odd([10,22,45,78,77,44,11,34,56,67,87])"
   ]
  },
  {
   "cell_type": "code",
   "execution_count": 34,
   "id": "219c9479",
   "metadata": {},
   "outputs": [],
   "source": [
    "z1=[10,22,45,78,77,44,11]\n",
    "z2=[10,22,45,78,77,44,11,34,56,67,87]"
   ]
  },
  {
   "cell_type": "code",
   "execution_count": 35,
   "id": "ed1acdd7",
   "metadata": {},
   "outputs": [
    {
     "name": "stdout",
     "output_type": "stream",
     "text": [
      "Even ==> [10, 22, 78, 44] Odd ==> [45, 77, 11]\n"
     ]
    }
   ],
   "source": [
    "Even_Odd(z1)"
   ]
  },
  {
   "cell_type": "code",
   "execution_count": 36,
   "id": "9be0dcc8",
   "metadata": {},
   "outputs": [
    {
     "name": "stdout",
     "output_type": "stream",
     "text": [
      "Even ==> [10, 22, 78, 44, 34, 56] Odd ==> [45, 77, 11, 67, 87]\n"
     ]
    }
   ],
   "source": [
    "Even_Odd(z2)"
   ]
  },
  {
   "cell_type": "code",
   "execution_count": 37,
   "id": "26b49ff0",
   "metadata": {},
   "outputs": [
    {
     "name": "stdout",
     "output_type": "stream",
     "text": [
      "Even ==> [10, 22, 78, 44, 34, 56] Odd ==> [45, 77, 11, 67, 87]\n"
     ]
    }
   ],
   "source": [
    "Result=Even_Odd(z2)"
   ]
  },
  {
   "cell_type": "code",
   "execution_count": 38,
   "id": "84b6c7a5",
   "metadata": {},
   "outputs": [],
   "source": [
    "Result"
   ]
  },
  {
   "cell_type": "code",
   "execution_count": 40,
   "id": "08fda959",
   "metadata": {},
   "outputs": [],
   "source": [
    "def Even_Odd2(a):\n",
    "    even=[]\n",
    "    odd=[]\n",
    "    for i in a:  \n",
    "        if i%2==0:\n",
    "            even.append(i)\n",
    "        else:\n",
    "            odd.append(i)\n",
    "    return even,odd"
   ]
  },
  {
   "cell_type": "code",
   "execution_count": 41,
   "id": "5c872735",
   "metadata": {},
   "outputs": [
    {
     "data": {
      "text/plain": [
       "([10, 22, 78, 44, 34, 56], [45, 77, 11, 67, 87])"
      ]
     },
     "execution_count": 41,
     "metadata": {},
     "output_type": "execute_result"
    }
   ],
   "source": [
    "Even_Odd2(z2)"
   ]
  },
  {
   "cell_type": "code",
   "execution_count": 42,
   "id": "1631a792",
   "metadata": {},
   "outputs": [],
   "source": [
    "Result=Even_Odd2(z2)"
   ]
  },
  {
   "cell_type": "code",
   "execution_count": 43,
   "id": "dd6c06f6",
   "metadata": {},
   "outputs": [
    {
     "data": {
      "text/plain": [
       "([10, 22, 78, 44, 34, 56], [45, 77, 11, 67, 87])"
      ]
     },
     "execution_count": 43,
     "metadata": {},
     "output_type": "execute_result"
    }
   ],
   "source": [
    "Result"
   ]
  },
  {
   "cell_type": "code",
   "execution_count": null,
   "id": "9512abcb",
   "metadata": {},
   "outputs": [],
   "source": []
  },
  {
   "cell_type": "code",
   "execution_count": null,
   "id": "0a64b6e6",
   "metadata": {},
   "outputs": [],
   "source": [
    "def even(x):\n",
    "    b = []\n",
    "    for i in x:\n",
    "        if i%2 == 0:\n",
    "            b.append(i)\n",
    "    return b"
   ]
  },
  {
   "cell_type": "code",
   "execution_count": null,
   "id": "fcc473c5",
   "metadata": {},
   "outputs": [],
   "source": [
    "even([10,22,45,78,77,44,11])"
   ]
  },
  {
   "cell_type": "code",
   "execution_count": null,
   "id": "fd3564a1",
   "metadata": {},
   "outputs": [],
   "source": [
    "list_num = [100,200,300,400]\n",
    "\n",
    "def double(z):\n",
    "    d = []\n",
    "    for i in z:\n",
    "        d.append(2*i)\n",
    "    return d"
   ]
  },
  {
   "cell_type": "code",
   "execution_count": null,
   "id": "9f0c319e",
   "metadata": {},
   "outputs": [],
   "source": [
    "print(double(list_num))"
   ]
  },
  {
   "cell_type": "code",
   "execution_count": null,
   "id": "b276b486",
   "metadata": {},
   "outputs": [],
   "source": [
    "a=[10,20,30,40,50,60]\n",
    "\n",
    "def sq(p):\n",
    "    s=[]\n",
    "    for i in p:\n",
    "        s.append(i**2)\n",
    "    return s    \n",
    "        \n"
   ]
  },
  {
   "cell_type": "code",
   "execution_count": null,
   "id": "31cf9dd2",
   "metadata": {},
   "outputs": [],
   "source": [
    "sq(a)\n"
   ]
  },
  {
   "cell_type": "code",
   "execution_count": null,
   "id": "b7c99aaf",
   "metadata": {},
   "outputs": [],
   "source": [
    "b=[10,22,45,78,77,44,11]\n",
    "sq(b)"
   ]
  },
  {
   "cell_type": "code",
   "execution_count": null,
   "id": "dd2a5136",
   "metadata": {},
   "outputs": [],
   "source": []
  },
  {
   "cell_type": "code",
   "execution_count": null,
   "id": "d28f8ffc",
   "metadata": {},
   "outputs": [],
   "source": [
    "def calculator(a,b):\n",
    "    add=a+b\n",
    "    sub=a-b\n",
    "    mul=a*b\n",
    "    rem=a%b\n",
    "    print(f\"For given number addition is {add} sub is {sub} mul is {mul} rem is {rem}\")"
   ]
  },
  {
   "cell_type": "code",
   "execution_count": null,
   "id": "7d1fdcf1",
   "metadata": {},
   "outputs": [],
   "source": [
    "calculator(2,6)"
   ]
  },
  {
   "cell_type": "code",
   "execution_count": null,
   "id": "31899df6",
   "metadata": {},
   "outputs": [],
   "source": [
    "print(calculator(2,6))"
   ]
  },
  {
   "cell_type": "code",
   "execution_count": null,
   "id": "5929a080",
   "metadata": {},
   "outputs": [],
   "source": [
    "a=calculator(2,6)"
   ]
  },
  {
   "cell_type": "code",
   "execution_count": null,
   "id": "fc245109",
   "metadata": {},
   "outputs": [],
   "source": [
    "print(print(5))"
   ]
  },
  {
   "cell_type": "code",
   "execution_count": null,
   "id": "f660928c",
   "metadata": {},
   "outputs": [],
   "source": [
    "calculator(10,6)"
   ]
  },
  {
   "cell_type": "code",
   "execution_count": null,
   "id": "23e3dba9",
   "metadata": {},
   "outputs": [],
   "source": [
    "calculator(10,6,6)"
   ]
  },
  {
   "cell_type": "code",
   "execution_count": null,
   "id": "a270b688",
   "metadata": {},
   "outputs": [],
   "source": [
    "calculator(b=6,a=10)"
   ]
  },
  {
   "cell_type": "code",
   "execution_count": null,
   "id": "b833e16d",
   "metadata": {},
   "outputs": [],
   "source": [
    "calculator(6,10)"
   ]
  },
  {
   "cell_type": "code",
   "execution_count": null,
   "id": "faf75984",
   "metadata": {},
   "outputs": [],
   "source": []
  },
  {
   "cell_type": "code",
   "execution_count": null,
   "id": "50468cb1",
   "metadata": {},
   "outputs": [],
   "source": [
    "#factorial\n",
    "# 8! = 8*7*6*5*4*3*2*1"
   ]
  },
  {
   "cell_type": "code",
   "execution_count": null,
   "id": "c612907c",
   "metadata": {},
   "outputs": [],
   "source": [
    "5! = 1*2*3*4*5"
   ]
  },
  {
   "cell_type": "code",
   "execution_count": null,
   "id": "5dc5d0dd",
   "metadata": {},
   "outputs": [],
   "source": [
    "6! = 1*2*3*4*5*6"
   ]
  },
  {
   "cell_type": "code",
   "execution_count": 46,
   "id": "17319be4",
   "metadata": {},
   "outputs": [
    {
     "data": {
      "text/plain": [
       "[1, 2, 3, 4, 5, 6]"
      ]
     },
     "execution_count": 46,
     "metadata": {},
     "output_type": "execute_result"
    }
   ],
   "source": [
    "list(range(1,7))"
   ]
  },
  {
   "cell_type": "code",
   "execution_count": 48,
   "id": "f3c22ffa",
   "metadata": {},
   "outputs": [],
   "source": [
    "a=6 #6! = 1*2*3*4*5*6"
   ]
  },
  {
   "cell_type": "code",
   "execution_count": 49,
   "id": "ff892ea7",
   "metadata": {},
   "outputs": [
    {
     "data": {
      "text/plain": [
       "[1, 2, 3, 4, 5, 6]"
      ]
     },
     "execution_count": 49,
     "metadata": {},
     "output_type": "execute_result"
    }
   ],
   "source": [
    "list(range(1,a+1))"
   ]
  },
  {
   "cell_type": "code",
   "execution_count": null,
   "id": "5561e540",
   "metadata": {},
   "outputs": [],
   "source": []
  },
  {
   "cell_type": "code",
   "execution_count": 52,
   "id": "4a346cbb",
   "metadata": {},
   "outputs": [
    {
     "name": "stdout",
     "output_type": "stream",
     "text": [
      "1\n",
      "2\n",
      "6\n",
      "24\n",
      "120\n",
      "720\n"
     ]
    }
   ],
   "source": [
    "Factorial=1\n",
    "for i in list(range(1,a+1)):\n",
    "    Factorial=Factorial*i\n",
    "    print(Factorial)\n",
    "    "
   ]
  },
  {
   "cell_type": "code",
   "execution_count": null,
   "id": "e5b29e22",
   "metadata": {},
   "outputs": [],
   "source": []
  }
 ],
 "metadata": {
  "kernelspec": {
   "display_name": "Python 3 (ipykernel)",
   "language": "python",
   "name": "python3"
  },
  "language_info": {
   "codemirror_mode": {
    "name": "ipython",
    "version": 3
   },
   "file_extension": ".py",
   "mimetype": "text/x-python",
   "name": "python",
   "nbconvert_exporter": "python",
   "pygments_lexer": "ipython3",
   "version": "3.9.7"
  }
 },
 "nbformat": 4,
 "nbformat_minor": 5
}
