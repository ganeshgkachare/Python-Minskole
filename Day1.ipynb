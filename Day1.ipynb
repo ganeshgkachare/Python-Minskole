{
 "cells": [
  {
   "cell_type": "markdown",
   "id": "dc91e8a9",
   "metadata": {},
   "source": [
    "### Basic"
   ]
  },
  {
   "cell_type": "code",
   "execution_count": 2,
   "id": "afef1cb4",
   "metadata": {},
   "outputs": [
    {
     "name": "stdout",
     "output_type": "stream",
     "text": [
      "Hello\n"
     ]
    }
   ],
   "source": [
    "print(\"Hello\")"
   ]
  },
  {
   "cell_type": "code",
   "execution_count": null,
   "id": "0c15d20e",
   "metadata": {},
   "outputs": [],
   "source": [
    "## Adding Comment :\n",
    "# - Comments can be used to explain Python code.\n",
    "#- To add single line comment we can use  ' # ' "
   ]
  },
  {
   "cell_type": "code",
   "execution_count": null,
   "id": "a912a3ae",
   "metadata": {},
   "outputs": [],
   "source": [
    "#This is single line commeent."
   ]
  },
  {
   "cell_type": "code",
   "execution_count": null,
   "id": "7689033d",
   "metadata": {},
   "outputs": [],
   "source": [
    "# thgfghjgjh\n",
    "# adgsfgj\n",
    "# dshfsdjv\n",
    "# svhsv\n",
    "# ASDAD\n",
    "# ADSF"
   ]
  },
  {
   "cell_type": "markdown",
   "id": "7e63a937",
   "metadata": {},
   "source": [
    "Variable assignment : \n",
    "Variable is used to store value and we use '=' i.e. assignment operator to assign value to it. "
   ]
  },
  {
   "cell_type": "code",
   "execution_count": 3,
   "id": "23456ccb",
   "metadata": {},
   "outputs": [],
   "source": [
    "A=5"
   ]
  },
  {
   "cell_type": "code",
   "execution_count": 4,
   "id": "19266050",
   "metadata": {},
   "outputs": [
    {
     "data": {
      "text/plain": [
       "5"
      ]
     },
     "execution_count": 4,
     "metadata": {},
     "output_type": "execute_result"
    }
   ],
   "source": [
    "A"
   ]
  },
  {
   "cell_type": "code",
   "execution_count": 5,
   "id": "73902264",
   "metadata": {},
   "outputs": [
    {
     "data": {
      "text/plain": [
       "int"
      ]
     },
     "execution_count": 5,
     "metadata": {},
     "output_type": "execute_result"
    }
   ],
   "source": [
    "type(A)"
   ]
  },
  {
   "cell_type": "code",
   "execution_count": null,
   "id": "5ac78fee",
   "metadata": {},
   "outputs": [],
   "source": []
  },
  {
   "cell_type": "code",
   "execution_count": 6,
   "id": "bb4461bd",
   "metadata": {},
   "outputs": [
    {
     "ename": "SyntaxError",
     "evalue": "invalid syntax (Temp/ipykernel_24644/2494299152.py, line 1)",
     "output_type": "error",
     "traceback": [
      "\u001b[1;36m  File \u001b[1;32m\"C:\\Users\\Prajakta\\AppData\\Local\\Temp/ipykernel_24644/2494299152.py\"\u001b[1;36m, line \u001b[1;32m1\u001b[0m\n\u001b[1;33m    0Variable=5\u001b[0m\n\u001b[1;37m     ^\u001b[0m\n\u001b[1;31mSyntaxError\u001b[0m\u001b[1;31m:\u001b[0m invalid syntax\n"
     ]
    }
   ],
   "source": [
    "0Variable=5"
   ]
  },
  {
   "cell_type": "code",
   "execution_count": 8,
   "id": "b00ed551",
   "metadata": {},
   "outputs": [
    {
     "data": {
      "text/plain": [
       "'Ganesh'"
      ]
     },
     "execution_count": 8,
     "metadata": {},
     "output_type": "execute_result"
    }
   ],
   "source": [
    "my_name=\"Ganesh\"\n",
    "my_name"
   ]
  },
  {
   "cell_type": "code",
   "execution_count": 10,
   "id": "dbd71749",
   "metadata": {},
   "outputs": [
    {
     "ename": "SyntaxError",
     "evalue": "invalid syntax (Temp/ipykernel_24644/197170540.py, line 1)",
     "output_type": "error",
     "traceback": [
      "\u001b[1;36m  File \u001b[1;32m\"C:\\Users\\Prajakta\\AppData\\Local\\Temp/ipykernel_24644/197170540.py\"\u001b[1;36m, line \u001b[1;32m1\u001b[0m\n\u001b[1;33m    my name=\"Ganesh\"\u001b[0m\n\u001b[1;37m       ^\u001b[0m\n\u001b[1;31mSyntaxError\u001b[0m\u001b[1;31m:\u001b[0m invalid syntax\n"
     ]
    }
   ],
   "source": [
    "my name=\"Ganesh\"\n",
    "my name"
   ]
  },
  {
   "cell_type": "code",
   "execution_count": null,
   "id": "616befa4",
   "metadata": {},
   "outputs": [],
   "source": []
  },
  {
   "cell_type": "markdown",
   "id": "34724377",
   "metadata": {},
   "source": [
    "### Variable Name"
   ]
  },
  {
   "cell_type": "markdown",
   "id": "0bb71b20",
   "metadata": {},
   "source": [
    "\n",
    " We have to take care of following things while writing identifiers\n",
    "    1. It can be of any length. \n",
    "    2. It can be combination of lower cases (a-z) , upper cases (A-Z) and digits (0-9).\n",
    "    3. It can't be start with digit.\n",
    "    4. It can't be include special symbols like { !, @, #, $ , % }, etc.\n",
    "    5. We can use '_' i.e underscore in identifire for attaching two strings or one string and one number.\n",
    "    6. We can't give space between letters, words or between letter and digit.\n",
    "    7. We can't use python keywords as a python identifier\n",
    "\n",
    "Python keywords :\n",
    "\n",
    "    Keywords are the reserved words in Python.\n",
    "    We cannot use a keyword as a variable name, function name or any other identifier. They are used to define the\n",
    "    syntax and structure of the Python language.\n",
    "    In Python, keywords are case sensitive.\n",
    "    All the keywords except True, False and None are in lowercase and they must be written as they are.\n",
    "\n",
    "    eg. in , and , or , if , else , elif , def , while , break , True , False , etc .**\n",
    "\n",
    "Python identifiers\n",
    "        An identifier is a name given to entities like class, functions, variables, etc. It helps to differentiate one entity\n",
    "        from another.\n",
    "Examples \n",
    "    We can write identifier of any length like \n",
    "    - myname\n",
    "    - mynameis"
   ]
  },
  {
   "cell_type": "code",
   "execution_count": null,
   "id": "5e6f3b15",
   "metadata": {},
   "outputs": [],
   "source": [
    "# Identifiers using underscore  \n",
    "# - my_name \n",
    "# - my_city"
   ]
  },
  {
   "cell_type": "code",
   "execution_count": null,
   "id": "a5c541c8",
   "metadata": {},
   "outputs": [],
   "source": []
  },
  {
   "cell_type": "code",
   "execution_count": null,
   "id": "f8b55b3d",
   "metadata": {},
   "outputs": [],
   "source": []
  },
  {
   "cell_type": "code",
   "execution_count": 11,
   "id": "a6c2457f",
   "metadata": {},
   "outputs": [
    {
     "name": "stdout",
     "output_type": "stream",
     "text": [
      "01 Jan\n"
     ]
    }
   ],
   "source": [
    "# We can combine letters and words while writing identifiers\n",
    "# - Mybirth22\n",
    "Mybirth22 ='01 Jan'\n",
    "print(Mybirth22)"
   ]
  },
  {
   "cell_type": "code",
   "execution_count": null,
   "id": "e00e4769",
   "metadata": {},
   "outputs": [],
   "source": [
    "# We can't start our identifier by digit\n",
    "# - 1stvariable \n",
    "# - 19thnumber"
   ]
  },
  {
   "cell_type": "code",
   "execution_count": 12,
   "id": "cefb5586",
   "metadata": {},
   "outputs": [
    {
     "ename": "SyntaxError",
     "evalue": "invalid syntax (Temp/ipykernel_24644/3876909292.py, line 1)",
     "output_type": "error",
     "traceback": [
      "\u001b[1;36m  File \u001b[1;32m\"C:\\Users\\Prajakta\\AppData\\Local\\Temp/ipykernel_24644/3876909292.py\"\u001b[1;36m, line \u001b[1;32m1\u001b[0m\n\u001b[1;33m    19thnumber = 12\u001b[0m\n\u001b[1;37m      ^\u001b[0m\n\u001b[1;31mSyntaxError\u001b[0m\u001b[1;31m:\u001b[0m invalid syntax\n"
     ]
    }
   ],
   "source": [
    "19thnumber = 12"
   ]
  },
  {
   "cell_type": "code",
   "execution_count": null,
   "id": "f0e81ece",
   "metadata": {},
   "outputs": [],
   "source": [
    "1stvariable =5"
   ]
  },
  {
   "cell_type": "code",
   "execution_count": null,
   "id": "cc1f9643",
   "metadata": {},
   "outputs": [],
   "source": [
    "# We can't include any special symbol at any position while writing identifier \n",
    "# - name@\n",
    "# - hello!\n",
    "# - time@2pm\n",
    "# - $rupees\n",
    "# - #brand "
   ]
  },
  {
   "cell_type": "code",
   "execution_count": 13,
   "id": "e763e540",
   "metadata": {},
   "outputs": [
    {
     "ename": "SyntaxError",
     "evalue": "invalid syntax (<unknown>, line 1)",
     "output_type": "error",
     "traceback": [
      "Traceback \u001b[1;36m(most recent call last)\u001b[0m:\n",
      "  File \u001b[0;32m\"C:\\Users\\Prajakta\\anaconda3\\lib\\site-packages\\IPython\\core\\interactiveshell.py\"\u001b[0m, line \u001b[0;32m3444\u001b[0m, in \u001b[0;35mrun_code\u001b[0m\n    exec(code_obj, self.user_global_ns, self.user_ns)\n",
      "  File \u001b[0;32m\"C:\\Users\\Prajakta\\AppData\\Local\\Temp/ipykernel_24644/3991346256.py\"\u001b[0m, line \u001b[0;32m1\u001b[0m, in \u001b[0;35m<module>\u001b[0m\n    get_ipython().run_line_magic('time', '@2pm=42')\n",
      "  File \u001b[0;32m\"C:\\Users\\Prajakta\\anaconda3\\lib\\site-packages\\IPython\\core\\interactiveshell.py\"\u001b[0m, line \u001b[0;32m2351\u001b[0m, in \u001b[0;35mrun_line_magic\u001b[0m\n    result = fn(*args, **kwargs)\n",
      "  File \u001b[0;32m\"C:\\Users\\Prajakta\\anaconda3\\lib\\site-packages\\decorator.py\"\u001b[0m, line \u001b[0;32m232\u001b[0m, in \u001b[0;35mfun\u001b[0m\n    return caller(func, *(extras + args), **kw)\n",
      "  File \u001b[0;32m\"C:\\Users\\Prajakta\\anaconda3\\lib\\site-packages\\IPython\\core\\magic.py\"\u001b[0m, line \u001b[0;32m187\u001b[0m, in \u001b[0;35m<lambda>\u001b[0m\n    call = lambda f, *a, **k: f(*a, **k)\n",
      "  File \u001b[0;32m\"C:\\Users\\Prajakta\\anaconda3\\lib\\site-packages\\IPython\\core\\magics\\execution.py\"\u001b[0m, line \u001b[0;32m1280\u001b[0m, in \u001b[0;35mtime\u001b[0m\n    expr_ast = self.shell.compile.ast_parse(expr)\n",
      "\u001b[1;36m  File \u001b[1;32m\"C:\\Users\\Prajakta\\anaconda3\\lib\\site-packages\\IPython\\core\\compilerop.py\"\u001b[1;36m, line \u001b[1;32m101\u001b[1;36m, in \u001b[1;35mast_parse\u001b[1;36m\u001b[0m\n\u001b[1;33m    return compile(source, filename, symbol, self.flags | PyCF_ONLY_AST, 1)\u001b[0m\n",
      "\u001b[1;36m  File \u001b[1;32m\"<unknown>\"\u001b[1;36m, line \u001b[1;32m1\u001b[0m\n\u001b[1;33m    @2pm=42\u001b[0m\n\u001b[1;37m      ^\u001b[0m\n\u001b[1;31mSyntaxError\u001b[0m\u001b[1;31m:\u001b[0m invalid syntax\n"
     ]
    }
   ],
   "source": [
    "time@2pm=42"
   ]
  },
  {
   "cell_type": "code",
   "execution_count": null,
   "id": "5d2d7022",
   "metadata": {},
   "outputs": [],
   "source": [
    "name@=4"
   ]
  },
  {
   "cell_type": "code",
   "execution_count": null,
   "id": "19f36076",
   "metadata": {},
   "outputs": [],
   "source": [
    "# We can't write identifier using space between characcters \n",
    "# - my name \n",
    "# - my number \n",
    "# - my village "
   ]
  },
  {
   "cell_type": "code",
   "execution_count": null,
   "id": "3250b07a",
   "metadata": {},
   "outputs": [],
   "source": []
  },
  {
   "cell_type": "code",
   "execution_count": null,
   "id": "eeac1692",
   "metadata": {},
   "outputs": [],
   "source": []
  },
  {
   "cell_type": "code",
   "execution_count": null,
   "id": "f342eec4",
   "metadata": {},
   "outputs": [],
   "source": [
    "#correct way:-\n",
    "#    1. It can be of any length. \n",
    "#     2. It can be combination of lower cases (a-z) , upper cases (A-Z) and digits (0-9).\n",
    "#     3. It can't be start with digit.\n",
    "#     4. It can't be include special symbols like { !, @, #, $ , % }, etc.\n",
    "#     5. We can use '_' i.e underscore in identifire for attaching two strings or one string and one number.\n",
    "#     6. We can't give space between letters, words or between letter and digit.\n",
    "#     7. We can't use python keywords as a python identifier"
   ]
  },
  {
   "cell_type": "code",
   "execution_count": null,
   "id": "74dd94a1",
   "metadata": {},
   "outputs": [],
   "source": []
  },
  {
   "cell_type": "code",
   "execution_count": null,
   "id": "aca9fee4",
   "metadata": {},
   "outputs": [],
   "source": []
  },
  {
   "cell_type": "code",
   "execution_count": null,
   "id": "fcf88ec3",
   "metadata": {},
   "outputs": [],
   "source": []
  },
  {
   "cell_type": "code",
   "execution_count": 16,
   "id": "57e1818f",
   "metadata": {},
   "outputs": [],
   "source": [
    "# Assigning multiple values to multiple variables :-\n",
    "a, b, c = 20, 3.14, \"ABC\""
   ]
  },
  {
   "cell_type": "code",
   "execution_count": 17,
   "id": "f122ec71",
   "metadata": {},
   "outputs": [
    {
     "data": {
      "text/plain": [
       "20"
      ]
     },
     "execution_count": 17,
     "metadata": {},
     "output_type": "execute_result"
    }
   ],
   "source": [
    "a"
   ]
  },
  {
   "cell_type": "code",
   "execution_count": 18,
   "id": "b6a170e0",
   "metadata": {},
   "outputs": [
    {
     "data": {
      "text/plain": [
       "3.14"
      ]
     },
     "execution_count": 18,
     "metadata": {},
     "output_type": "execute_result"
    }
   ],
   "source": [
    "b"
   ]
  },
  {
   "cell_type": "code",
   "execution_count": 19,
   "id": "2154b2f6",
   "metadata": {},
   "outputs": [
    {
     "data": {
      "text/plain": [
       "'ABC'"
      ]
     },
     "execution_count": 19,
     "metadata": {},
     "output_type": "execute_result"
    }
   ],
   "source": [
    "c"
   ]
  },
  {
   "cell_type": "code",
   "execution_count": 20,
   "id": "4ac029d4",
   "metadata": {},
   "outputs": [
    {
     "ename": "ValueError",
     "evalue": "not enough values to unpack (expected 3, got 2)",
     "output_type": "error",
     "traceback": [
      "\u001b[1;31m---------------------------------------------------------------------------\u001b[0m",
      "\u001b[1;31mValueError\u001b[0m                                Traceback (most recent call last)",
      "\u001b[1;32m~\\AppData\\Local\\Temp/ipykernel_24644/2201927197.py\u001b[0m in \u001b[0;36m<module>\u001b[1;34m\u001b[0m\n\u001b[1;32m----> 1\u001b[1;33m \u001b[0ma\u001b[0m\u001b[1;33m,\u001b[0m \u001b[0mb\u001b[0m\u001b[1;33m,\u001b[0m \u001b[0mc\u001b[0m \u001b[1;33m=\u001b[0m \u001b[1;36m20\u001b[0m\u001b[1;33m,\u001b[0m \u001b[1;36m3.14\u001b[0m\u001b[1;33m\u001b[0m\u001b[1;33m\u001b[0m\u001b[0m\n\u001b[0m",
      "\u001b[1;31mValueError\u001b[0m: not enough values to unpack (expected 3, got 2)"
     ]
    }
   ],
   "source": [
    "a, b, c = 20, 3.14"
   ]
  },
  {
   "cell_type": "code",
   "execution_count": 21,
   "id": "9825cbe6",
   "metadata": {},
   "outputs": [],
   "source": [
    "#Assign the same value to multiple variables at once :-\n",
    "x = y = z = 100"
   ]
  },
  {
   "cell_type": "code",
   "execution_count": 22,
   "id": "13298c6d",
   "metadata": {},
   "outputs": [
    {
     "data": {
      "text/plain": [
       "100"
      ]
     },
     "execution_count": 22,
     "metadata": {},
     "output_type": "execute_result"
    }
   ],
   "source": [
    "x"
   ]
  },
  {
   "cell_type": "code",
   "execution_count": 23,
   "id": "cd3c70ef",
   "metadata": {},
   "outputs": [
    {
     "data": {
      "text/plain": [
       "100"
      ]
     },
     "execution_count": 23,
     "metadata": {},
     "output_type": "execute_result"
    }
   ],
   "source": [
    "y"
   ]
  },
  {
   "cell_type": "code",
   "execution_count": 24,
   "id": "7394ae58",
   "metadata": {},
   "outputs": [
    {
     "data": {
      "text/plain": [
       "100"
      ]
     },
     "execution_count": 24,
     "metadata": {},
     "output_type": "execute_result"
    }
   ],
   "source": [
    "z"
   ]
  },
  {
   "cell_type": "code",
   "execution_count": 25,
   "id": "d81b6b7e",
   "metadata": {},
   "outputs": [
    {
     "name": "stdout",
     "output_type": "stream",
     "text": [
      "100\n"
     ]
    }
   ],
   "source": [
    "print(x)"
   ]
  },
  {
   "cell_type": "code",
   "execution_count": 26,
   "id": "fff4e5b9",
   "metadata": {},
   "outputs": [],
   "source": [
    "a, b, c = 20, 3.14, \"ABC\""
   ]
  },
  {
   "cell_type": "code",
   "execution_count": 27,
   "id": "2c8c22e2",
   "metadata": {},
   "outputs": [
    {
     "data": {
      "text/plain": [
       "20"
      ]
     },
     "execution_count": 27,
     "metadata": {},
     "output_type": "execute_result"
    }
   ],
   "source": [
    "a"
   ]
  },
  {
   "cell_type": "code",
   "execution_count": 28,
   "id": "af7c8fec",
   "metadata": {},
   "outputs": [
    {
     "data": {
      "text/plain": [
       "3.14"
      ]
     },
     "execution_count": 28,
     "metadata": {},
     "output_type": "execute_result"
    }
   ],
   "source": [
    "b"
   ]
  },
  {
   "cell_type": "code",
   "execution_count": 29,
   "id": "8aec25e4",
   "metadata": {},
   "outputs": [
    {
     "data": {
      "text/plain": [
       "'ABC'"
      ]
     },
     "execution_count": 29,
     "metadata": {},
     "output_type": "execute_result"
    }
   ],
   "source": [
    "c"
   ]
  },
  {
   "cell_type": "code",
   "execution_count": 30,
   "id": "c16a6fb7",
   "metadata": {},
   "outputs": [
    {
     "name": "stdout",
     "output_type": "stream",
     "text": [
      "20\n"
     ]
    }
   ],
   "source": [
    "print(a)"
   ]
  },
  {
   "cell_type": "code",
   "execution_count": null,
   "id": "20cca0c1",
   "metadata": {},
   "outputs": [],
   "source": []
  }
 ],
 "metadata": {
  "kernelspec": {
   "display_name": "Python 3 (ipykernel)",
   "language": "python",
   "name": "python3"
  },
  "language_info": {
   "codemirror_mode": {
    "name": "ipython",
    "version": 3
   },
   "file_extension": ".py",
   "mimetype": "text/x-python",
   "name": "python",
   "nbconvert_exporter": "python",
   "pygments_lexer": "ipython3",
   "version": "3.9.7"
  }
 },
 "nbformat": 4,
 "nbformat_minor": 5
}
