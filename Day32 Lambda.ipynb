{
 "cells": [
  {
   "cell_type": "code",
   "execution_count": null,
   "id": "50468cb1",
   "metadata": {},
   "outputs": [],
   "source": [
    "#factorial\n",
    "# 8! = 8*7*6*5*4*3*2*1"
   ]
  },
  {
   "cell_type": "code",
   "execution_count": null,
   "id": "a739e2e5",
   "metadata": {},
   "outputs": [],
   "source": [
    "5! = 1*2*3*4*5"
   ]
  },
  {
   "cell_type": "code",
   "execution_count": null,
   "id": "160e4693",
   "metadata": {},
   "outputs": [],
   "source": [
    "6! = 1*2*3*4*5*6"
   ]
  },
  {
   "cell_type": "code",
   "execution_count": null,
   "id": "6fdb515b",
   "metadata": {},
   "outputs": [],
   "source": [
    "list(range(1,7))"
   ]
  },
  {
   "cell_type": "code",
   "execution_count": null,
   "id": "021aa3c4",
   "metadata": {},
   "outputs": [],
   "source": [
    " #6! = 1*2*3*4*5*6"
   ]
  },
  {
   "cell_type": "code",
   "execution_count": null,
   "id": "51f8060c",
   "metadata": {},
   "outputs": [],
   "source": [
    "list(range(1,a+1))"
   ]
  },
  {
   "cell_type": "code",
   "execution_count": 38,
   "id": "5c1a1e11",
   "metadata": {},
   "outputs": [],
   "source": [
    "a=10"
   ]
  },
  {
   "cell_type": "code",
   "execution_count": 40,
   "id": "8985726b",
   "metadata": {},
   "outputs": [
    {
     "data": {
      "text/plain": [
       "[1, 2, 3, 4, 5, 6, 7, 8, 9, 10]"
      ]
     },
     "execution_count": 40,
     "metadata": {},
     "output_type": "execute_result"
    }
   ],
   "source": [
    "list(range(1,a+1))"
   ]
  },
  {
   "cell_type": "code",
   "execution_count": 44,
   "id": "fdeea91c",
   "metadata": {},
   "outputs": [
    {
     "name": "stdout",
     "output_type": "stream",
     "text": [
      "3628800\n"
     ]
    }
   ],
   "source": [
    "Factorial=1\n",
    "for i in list(range(1,a+1)):\n",
    "    Factorial=Factorial*i #[1, 2, 3, 4, 5, 6, 7, 8, 9, 10]\n",
    "#     print(Factorial)\n",
    "print(Factorial)"
   ]
  },
  {
   "cell_type": "code",
   "execution_count": 43,
   "id": "f24fcba0",
   "metadata": {},
   "outputs": [
    {
     "name": "stdout",
     "output_type": "stream",
     "text": [
      "3628800\n"
     ]
    }
   ],
   "source": [
    "print(Factorial)"
   ]
  },
  {
   "cell_type": "code",
   "execution_count": 49,
   "id": "8680390a",
   "metadata": {},
   "outputs": [],
   "source": [
    "def Factorial(a):\n",
    "    Factorial=1\n",
    "    for i in list(range(1,a+1)):\n",
    "        Factorial=Factorial*i\n",
    "#     print(Factorial)\n",
    "    return Factorial"
   ]
  },
  {
   "cell_type": "code",
   "execution_count": 50,
   "id": "fbc9a8d6",
   "metadata": {},
   "outputs": [],
   "source": [
    "R1=Factorial(5)"
   ]
  },
  {
   "cell_type": "code",
   "execution_count": 51,
   "id": "0e5c7b5c",
   "metadata": {},
   "outputs": [
    {
     "data": {
      "text/plain": [
       "120"
      ]
     },
     "execution_count": 51,
     "metadata": {},
     "output_type": "execute_result"
    }
   ],
   "source": [
    "R1"
   ]
  },
  {
   "cell_type": "code",
   "execution_count": null,
   "id": "948cc524",
   "metadata": {},
   "outputs": [],
   "source": [
    "Factorial=1\n",
    "for i in list(range(1,a+1)):\n",
    "    Factorial=Factorial*i\n",
    "    print(Factorial)\n",
    "    "
   ]
  },
  {
   "cell_type": "code",
   "execution_count": null,
   "id": "5b4a4e02",
   "metadata": {},
   "outputs": [],
   "source": []
  },
  {
   "cell_type": "code",
   "execution_count": null,
   "id": "d9d22d5f",
   "metadata": {},
   "outputs": [],
   "source": [
    "\n",
    "def factorial1(n):\n",
    "    fact = 1              # 1\n",
    "    for i in range(1,n+1):\n",
    "        fact = fact* i      #1  2   6  \n",
    "    return fact\n",
    "        "
   ]
  },
  {
   "cell_type": "code",
   "execution_count": null,
   "id": "8ef906e0",
   "metadata": {},
   "outputs": [],
   "source": [
    "print(factorial1(10))"
   ]
  },
  {
   "cell_type": "code",
   "execution_count": 52,
   "id": "c59bdfda",
   "metadata": {},
   "outputs": [],
   "source": [
    "a=[2,3,4]"
   ]
  },
  {
   "cell_type": "code",
   "execution_count": null,
   "id": "e1655a7d",
   "metadata": {},
   "outputs": [],
   "source": [
    "a.append"
   ]
  },
  {
   "cell_type": "raw",
   "id": "59d13f13",
   "metadata": {},
   "source": [
    "Docstrings in Python\n",
    "    The full meaning of docstring is documentation string.\n",
    "    It's specified in source code that is used, like a comment, to document a specific segment of code.\n",
    "    \n",
    "# Declaring Docstrings: The docstrings are declared using '''triple single quotes''' or \"\"\"triple double quotes\"\"\" just below the class/function.\n"
   ]
  },
  {
   "cell_type": "code",
   "execution_count": null,
   "id": "ddb2fc2b",
   "metadata": {},
   "outputs": [],
   "source": []
  },
  {
   "cell_type": "code",
   "execution_count": 55,
   "id": "26222894",
   "metadata": {},
   "outputs": [],
   "source": [
    "def Udit(a,b):\n",
    "    \"\"\"Function to add two numbers\"\"\"\n",
    "#     '''Function to add two numbers'''\n",
    "    add = a+b\n",
    "    return add"
   ]
  },
  {
   "cell_type": "code",
   "execution_count": 57,
   "id": "22dd295c",
   "metadata": {},
   "outputs": [],
   "source": [
    "def Udit2(a,b):\n",
    "    \"\"\"Function to add two numbers2\"\"\"\n",
    "#     '''Function to add two numbers'''\n",
    "    add = a+b\n",
    "    return add"
   ]
  },
  {
   "cell_type": "code",
   "execution_count": 54,
   "id": "3638ed09",
   "metadata": {},
   "outputs": [
    {
     "data": {
      "text/plain": [
       "8"
      ]
     },
     "execution_count": 54,
     "metadata": {},
     "output_type": "execute_result"
    }
   ],
   "source": [
    "Udit(5,3)"
   ]
  },
  {
   "cell_type": "code",
   "execution_count": 60,
   "id": "b9a16317",
   "metadata": {},
   "outputs": [
    {
     "name": "stdout",
     "output_type": "stream",
     "text": [
      "Function to add two numbers\n",
      "Function to add two numbers2\n"
     ]
    }
   ],
   "source": [
    "a=[Udit,Udit2]\n",
    "for i in a:\n",
    "    print(i.__doc__)"
   ]
  },
  {
   "cell_type": "code",
   "execution_count": 58,
   "id": "23c471c0",
   "metadata": {},
   "outputs": [
    {
     "data": {
      "text/plain": [
       "'Function to add two numbers'"
      ]
     },
     "execution_count": 58,
     "metadata": {},
     "output_type": "execute_result"
    }
   ],
   "source": [
    "Udit.__doc__"
   ]
  },
  {
   "cell_type": "code",
   "execution_count": 59,
   "id": "ac4cb7fa",
   "metadata": {},
   "outputs": [
    {
     "data": {
      "text/plain": [
       "'Function to add two numbers2'"
      ]
     },
     "execution_count": 59,
     "metadata": {},
     "output_type": "execute_result"
    }
   ],
   "source": [
    "Udit2.__doc__"
   ]
  },
  {
   "cell_type": "code",
   "execution_count": null,
   "id": "9d4e65ed",
   "metadata": {},
   "outputs": [],
   "source": [
    "# Accessing Docstrings: The docstrings can be accessed using the __doc__ method of the object or using the help functio\n",
    "\n",
    "#we can access the doctsrting as follows\n",
    "\n",
    "Udit.__doc__"
   ]
  },
  {
   "cell_type": "code",
   "execution_count": 61,
   "id": "3554f027",
   "metadata": {},
   "outputs": [],
   "source": [
    "def even(x):\n",
    "    \"\"\"This function gives even number\"\"\"\n",
    "    b = []\n",
    "    for i in x:\n",
    "        if i%2 == 0:\n",
    "            b.append(i)\n",
    "    return b"
   ]
  },
  {
   "cell_type": "code",
   "execution_count": 62,
   "id": "300aedde",
   "metadata": {},
   "outputs": [
    {
     "data": {
      "text/plain": [
       "'This function gives even number'"
      ]
     },
     "execution_count": 62,
     "metadata": {},
     "output_type": "execute_result"
    }
   ],
   "source": [
    "even.__doc__"
   ]
  },
  {
   "cell_type": "code",
   "execution_count": 63,
   "id": "7d7ecf5b",
   "metadata": {},
   "outputs": [
    {
     "data": {
      "text/plain": [
       "[10, 22, 78, 44]"
      ]
     },
     "execution_count": 63,
     "metadata": {},
     "output_type": "execute_result"
    }
   ],
   "source": [
    " even([10,22,45,78,77,44,11])"
   ]
  },
  {
   "cell_type": "code",
   "execution_count": null,
   "id": "ccf25b9e",
   "metadata": {},
   "outputs": [],
   "source": []
  },
  {
   "cell_type": "code",
   "execution_count": 64,
   "id": "7f5a2c66",
   "metadata": {},
   "outputs": [],
   "source": [
    "def odd(x):\n",
    "    \"\"\"This function gives odd number\"\"\"\n",
    "    b = []\n",
    "    for i in x:\n",
    "        if i%2 != 0:\n",
    "            b.append(i)\n",
    "    return b"
   ]
  },
  {
   "cell_type": "code",
   "execution_count": 65,
   "id": "43fbe275",
   "metadata": {},
   "outputs": [
    {
     "data": {
      "text/plain": [
       "'This function gives odd number'"
      ]
     },
     "execution_count": 65,
     "metadata": {},
     "output_type": "execute_result"
    }
   ],
   "source": [
    "odd.__doc__"
   ]
  },
  {
   "cell_type": "code",
   "execution_count": 66,
   "id": "ff587a03",
   "metadata": {},
   "outputs": [],
   "source": [
    "a=[10,22,45,78,77,44,11]"
   ]
  },
  {
   "cell_type": "code",
   "execution_count": 67,
   "id": "4b785c53",
   "metadata": {},
   "outputs": [
    {
     "data": {
      "text/plain": [
       "[45, 77, 11]"
      ]
     },
     "execution_count": 67,
     "metadata": {},
     "output_type": "execute_result"
    }
   ],
   "source": [
    " odd(a)"
   ]
  },
  {
   "cell_type": "code",
   "execution_count": null,
   "id": "250a9787",
   "metadata": {},
   "outputs": [],
   "source": [
    " odd([2,3])"
   ]
  },
  {
   "cell_type": "code",
   "execution_count": 69,
   "id": "b7b39d55",
   "metadata": {},
   "outputs": [],
   "source": [
    "def average(a,b,c):\n",
    "    avg= (a+b+c)/3\n",
    "    return avg"
   ]
  },
  {
   "cell_type": "code",
   "execution_count": 70,
   "id": "b626afc2",
   "metadata": {},
   "outputs": [
    {
     "name": "stdout",
     "output_type": "stream",
     "text": [
      "10.0\n"
     ]
    }
   ],
   "source": [
    "print(average(5,10,15))"
   ]
  },
  {
   "cell_type": "code",
   "execution_count": 71,
   "id": "850d8dd2",
   "metadata": {},
   "outputs": [
    {
     "ename": "TypeError",
     "evalue": "average() takes 3 positional arguments but 4 were given",
     "output_type": "error",
     "traceback": [
      "\u001b[1;31m---------------------------------------------------------------------------\u001b[0m",
      "\u001b[1;31mTypeError\u001b[0m                                 Traceback (most recent call last)",
      "\u001b[1;32m~\\AppData\\Local\\Temp/ipykernel_26800/564364593.py\u001b[0m in \u001b[0;36m<module>\u001b[1;34m\u001b[0m\n\u001b[1;32m----> 1\u001b[1;33m \u001b[0mprint\u001b[0m\u001b[1;33m(\u001b[0m\u001b[0maverage\u001b[0m\u001b[1;33m(\u001b[0m\u001b[1;36m5\u001b[0m\u001b[1;33m,\u001b[0m\u001b[1;36m10\u001b[0m\u001b[1;33m,\u001b[0m\u001b[1;36m15\u001b[0m\u001b[1;33m,\u001b[0m\u001b[1;36m3\u001b[0m\u001b[1;33m)\u001b[0m\u001b[1;33m)\u001b[0m\u001b[1;33m\u001b[0m\u001b[1;33m\u001b[0m\u001b[0m\n\u001b[0m",
      "\u001b[1;31mTypeError\u001b[0m: average() takes 3 positional arguments but 4 were given"
     ]
    }
   ],
   "source": [
    "\n",
    "print(average(5,10,15,3))"
   ]
  },
  {
   "cell_type": "code",
   "execution_count": null,
   "id": "6769b8e3",
   "metadata": {},
   "outputs": [],
   "source": []
  },
  {
   "cell_type": "markdown",
   "id": "29093281",
   "metadata": {},
   "source": [
    "#### Lambda function"
   ]
  },
  {
   "cell_type": "raw",
   "id": "5423c462",
   "metadata": {},
   "source": [
    "A lambda function is an anonymous function in Python that can be created quickly and easily without having to define a named function using the def keyword."
   ]
  },
  {
   "cell_type": "code",
   "execution_count": 72,
   "id": "2f795663",
   "metadata": {},
   "outputs": [],
   "source": [
    "def square(x):\n",
    "    sq=x*x\n",
    "    return sq"
   ]
  },
  {
   "cell_type": "code",
   "execution_count": 73,
   "id": "acdefe0d",
   "metadata": {},
   "outputs": [
    {
     "name": "stdout",
     "output_type": "stream",
     "text": [
      "144\n"
     ]
    }
   ],
   "source": [
    "print(square(12))"
   ]
  },
  {
   "cell_type": "code",
   "execution_count": null,
   "id": "159e62f8",
   "metadata": {},
   "outputs": [],
   "source": [
    "print(square(3))"
   ]
  },
  {
   "cell_type": "code",
   "execution_count": null,
   "id": "b47cedc7",
   "metadata": {},
   "outputs": [],
   "source": [
    "\n",
    "# lambda function\n",
    "lambda      x                                 : x*x\n",
    "#     parameters before colon (comma separated) : parameter operation"
   ]
  },
  {
   "cell_type": "code",
   "execution_count": 74,
   "id": "54275cf4",
   "metadata": {},
   "outputs": [],
   "source": [
    "q1 = lambda x:x*x"
   ]
  },
  {
   "cell_type": "code",
   "execution_count": 75,
   "id": "3aad6fa1",
   "metadata": {},
   "outputs": [
    {
     "name": "stdout",
     "output_type": "stream",
     "text": [
      "144\n"
     ]
    }
   ],
   "source": [
    "print(q1(12))"
   ]
  },
  {
   "cell_type": "code",
   "execution_count": 76,
   "id": "ec9bd8b7",
   "metadata": {},
   "outputs": [
    {
     "ename": "TypeError",
     "evalue": "<lambda>() takes 1 positional argument but 2 were given",
     "output_type": "error",
     "traceback": [
      "\u001b[1;31m---------------------------------------------------------------------------\u001b[0m",
      "\u001b[1;31mTypeError\u001b[0m                                 Traceback (most recent call last)",
      "\u001b[1;32m~\\AppData\\Local\\Temp/ipykernel_26800/3370862766.py\u001b[0m in \u001b[0;36m<module>\u001b[1;34m\u001b[0m\n\u001b[1;32m----> 1\u001b[1;33m \u001b[0mprint\u001b[0m\u001b[1;33m(\u001b[0m\u001b[0mq1\u001b[0m\u001b[1;33m(\u001b[0m\u001b[1;36m6\u001b[0m\u001b[1;33m,\u001b[0m\u001b[1;36m2\u001b[0m\u001b[1;33m)\u001b[0m\u001b[1;33m)\u001b[0m\u001b[1;33m\u001b[0m\u001b[1;33m\u001b[0m\u001b[0m\n\u001b[0m",
      "\u001b[1;31mTypeError\u001b[0m: <lambda>() takes 1 positional argument but 2 were given"
     ]
    }
   ],
   "source": [
    "print(q1(6,2))"
   ]
  },
  {
   "cell_type": "code",
   "execution_count": 78,
   "id": "5b1036cf",
   "metadata": {},
   "outputs": [],
   "source": [
    "add=lambda a,b:a+b"
   ]
  },
  {
   "cell_type": "code",
   "execution_count": 79,
   "id": "de6bb4bf",
   "metadata": {},
   "outputs": [
    {
     "data": {
      "text/plain": [
       "5"
      ]
     },
     "execution_count": 79,
     "metadata": {},
     "output_type": "execute_result"
    }
   ],
   "source": [
    "add(2,3)"
   ]
  },
  {
   "cell_type": "code",
   "execution_count": null,
   "id": "f8eb2147",
   "metadata": {},
   "outputs": [],
   "source": []
  },
  {
   "cell_type": "code",
   "execution_count": null,
   "id": "ca03a4e6",
   "metadata": {},
   "outputs": [],
   "source": []
  },
  {
   "cell_type": "code",
   "execution_count": null,
   "id": "ce141926",
   "metadata": {},
   "outputs": [],
   "source": [
    "addition=lambda a,b,c : a+b+c"
   ]
  },
  {
   "cell_type": "code",
   "execution_count": null,
   "id": "2d7e0961",
   "metadata": {},
   "outputs": [],
   "source": []
  },
  {
   "cell_type": "code",
   "execution_count": null,
   "id": "eab5cd37",
   "metadata": {},
   "outputs": [],
   "source": [
    "addition(2,3,5)"
   ]
  },
  {
   "cell_type": "code",
   "execution_count": null,
   "id": "b281e9e7",
   "metadata": {},
   "outputs": [],
   "source": [
    "addition(2,3)"
   ]
  },
  {
   "cell_type": "code",
   "execution_count": null,
   "id": "409e8492",
   "metadata": {},
   "outputs": [],
   "source": []
  },
  {
   "cell_type": "code",
   "execution_count": null,
   "id": "52dc2c79",
   "metadata": {},
   "outputs": [],
   "source": [
    "a1 = lambda x,y:x+y\n",
    "print(a1(12,3))"
   ]
  },
  {
   "cell_type": "code",
   "execution_count": null,
   "id": "781da1e1",
   "metadata": {},
   "outputs": [],
   "source": [
    "a = lambda x,y,z,zz : x+y-z+zz"
   ]
  },
  {
   "cell_type": "code",
   "execution_count": null,
   "id": "f169419c",
   "metadata": {},
   "outputs": [],
   "source": [
    "a(2,3,4,5)"
   ]
  },
  {
   "cell_type": "code",
   "execution_count": null,
   "id": "848e6879",
   "metadata": {},
   "outputs": [],
   "source": [
    "5"
   ]
  },
  {
   "cell_type": "code",
   "execution_count": null,
   "id": "eec3a62e",
   "metadata": {},
   "outputs": [],
   "source": [
    "ee=lambda x : \"even\" if x % 2==0 else \"odd\""
   ]
  },
  {
   "cell_type": "code",
   "execution_count": null,
   "id": "92e61d5b",
   "metadata": {},
   "outputs": [],
   "source": [
    "ee(5)"
   ]
  },
  {
   "cell_type": "code",
   "execution_count": null,
   "id": "dab9f1a4",
   "metadata": {},
   "outputs": [],
   "source": [
    "ee(4)"
   ]
  }
 ],
 "metadata": {
  "kernelspec": {
   "display_name": "Python 3 (ipykernel)",
   "language": "python",
   "name": "python3"
  },
  "language_info": {
   "codemirror_mode": {
    "name": "ipython",
    "version": 3
   },
   "file_extension": ".py",
   "mimetype": "text/x-python",
   "name": "python",
   "nbconvert_exporter": "python",
   "pygments_lexer": "ipython3",
   "version": "3.9.7"
  }
 },
 "nbformat": 4,
 "nbformat_minor": 5
}
