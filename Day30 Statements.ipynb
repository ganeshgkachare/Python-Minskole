{
 "cells": [
  {
   "cell_type": "markdown",
   "id": "6fa61fe6",
   "metadata": {},
   "source": [
    "### Statement"
   ]
  },
  {
   "cell_type": "raw",
   "id": "8aa69ed6",
   "metadata": {},
   "source": [
    "1) break statement  -  Loop break\n",
    "It terminates the loop immediately and transfers execution to the new statement after the loop.\n",
    "\n",
    "2) continue statement  - Iteration skip\n",
    "The continue statement causes the loop to skip its current execution at some point and move on to the next iteration. Instead of terminating the loop like a break statement, it moves on to the subsequent execution.\n",
    "\n",
    "3) pass statement  -  placeholder for future code\n",
    "Pass statement is used as a placeholder for future code"
   ]
  },
  {
   "cell_type": "code",
   "execution_count": 9,
   "id": "c3372b91",
   "metadata": {},
   "outputs": [
    {
     "data": {
      "text/plain": [
       "range(0, 5)"
      ]
     },
     "execution_count": 9,
     "metadata": {},
     "output_type": "execute_result"
    }
   ],
   "source": [
    "range(0, 5)"
   ]
  },
  {
   "cell_type": "code",
   "execution_count": 10,
   "id": "092c1b53",
   "metadata": {},
   "outputs": [
    {
     "data": {
      "text/plain": [
       "[0, 1, 2, 3, 4]"
      ]
     },
     "execution_count": 10,
     "metadata": {},
     "output_type": "execute_result"
    }
   ],
   "source": [
    "list(range(0, 5))"
   ]
  },
  {
   "cell_type": "code",
   "execution_count": 8,
   "id": "47f88508",
   "metadata": {},
   "outputs": [
    {
     "name": "stdout",
     "output_type": "stream",
     "text": [
      "0\n",
      "1\n",
      "2\n",
      "3\n",
      "4\n"
     ]
    }
   ],
   "source": [
    "for i in range(0, 5):\n",
    "    print(i)"
   ]
  },
  {
   "cell_type": "code",
   "execution_count": 11,
   "id": "debf65b1",
   "metadata": {},
   "outputs": [
    {
     "name": "stdout",
     "output_type": "stream",
     "text": [
      "0\n",
      "1\n",
      "2\n",
      "3\n",
      "Value is 3\n",
      "4\n"
     ]
    }
   ],
   "source": [
    "for i in range(0, 5):  #0, 1, 2, 3, 4\n",
    "    print(i)\n",
    "    if i == 3:\n",
    "        print(\"Value is 3\")\n",
    "    "
   ]
  },
  {
   "cell_type": "code",
   "execution_count": 1,
   "id": "fe581599",
   "metadata": {},
   "outputs": [
    {
     "data": {
      "text/plain": [
       "[0, 1, 2, 3, 4, 5, 6, 7, 8, 9]"
      ]
     },
     "execution_count": 1,
     "metadata": {},
     "output_type": "execute_result"
    }
   ],
   "source": [
    "list(range(10))"
   ]
  },
  {
   "cell_type": "code",
   "execution_count": 3,
   "id": "0d325641",
   "metadata": {
    "collapsed": true
   },
   "outputs": [
    {
     "name": "stdout",
     "output_type": "stream",
     "text": [
      "0\n",
      "1\n",
      "2\n",
      "3\n",
      "Value is 3\n",
      "4\n",
      "5\n",
      "6\n",
      "7\n",
      "8\n",
      "9\n",
      "Hi\n"
     ]
    }
   ],
   "source": [
    "for i in range(10):  #0, 1, 2, 3, 4, 5, 6, 7, 8, 9\n",
    "    print(i)    #0  1  2  3 \"Value is 3\" 4 5 6 7 8 9\n",
    "    if i == 3:\n",
    "        print(\"Value is 3\")\n",
    "        \n",
    "print(\"Hi\")"
   ]
  },
  {
   "cell_type": "code",
   "execution_count": null,
   "id": "cf920cc7",
   "metadata": {},
   "outputs": [],
   "source": [
    "a=[10,5,8,9,24,45,6,67,89,45,67,78,89,333,555]"
   ]
  },
  {
   "cell_type": "code",
   "execution_count": 4,
   "id": "99b031b9",
   "metadata": {},
   "outputs": [
    {
     "name": "stdout",
     "output_type": "stream",
     "text": [
      "0\n",
      "1\n",
      "2\n",
      "3\n",
      "Hi\n"
     ]
    }
   ],
   "source": [
    "for i in range(0, 10):\n",
    "    print(i)\n",
    "    if i == 3:\n",
    "        break\n",
    "    \n",
    "print(\"Hi\")    \n"
   ]
  },
  {
   "cell_type": "code",
   "execution_count": null,
   "id": "9c08eeb1",
   "metadata": {},
   "outputs": [],
   "source": [
    "for i in range(0, 10):\n",
    "    if i == 3:\n",
    "        continue\n",
    "    print(i)"
   ]
  },
  {
   "cell_type": "code",
   "execution_count": null,
   "id": "9be25e05",
   "metadata": {},
   "outputs": [],
   "source": [
    "for i in range(0, 10):\n",
    "    if i == 3:\n",
    "        pass\n",
    "    print(i)"
   ]
  },
  {
   "cell_type": "code",
   "execution_count": 5,
   "id": "dd679b43",
   "metadata": {},
   "outputs": [],
   "source": [
    "a=[10,5,8,9,24,45,6,67,89,45,67,78,89,333,555]\n",
    "               #          #"
   ]
  },
  {
   "cell_type": "code",
   "execution_count": 6,
   "id": "7ff1158b",
   "metadata": {},
   "outputs": [
    {
     "name": "stdout",
     "output_type": "stream",
     "text": [
      "45\n",
      "45\n"
     ]
    }
   ],
   "source": [
    "for i in a:\n",
    "    if i == 45:\n",
    "        print(i)"
   ]
  },
  {
   "cell_type": "code",
   "execution_count": 7,
   "id": "953ca02f",
   "metadata": {},
   "outputs": [
    {
     "name": "stdout",
     "output_type": "stream",
     "text": [
      "45\n"
     ]
    }
   ],
   "source": [
    "for i in a:\n",
    "    if i == 45:\n",
    "        print(i)\n",
    "        break "
   ]
  },
  {
   "cell_type": "code",
   "execution_count": null,
   "id": "3144de42",
   "metadata": {},
   "outputs": [],
   "source": [
    "#  0  1 2 3 4  5  6 . . .\n",
    "a=[10,5,8,9,24,45,6,67,89,45,67,78,89,333,555]\n",
    "             #  #          #        #"
   ]
  },
  {
   "cell_type": "code",
   "execution_count": 10,
   "id": "09317833",
   "metadata": {
    "collapsed": true
   },
   "outputs": [
    {
     "name": "stdout",
     "output_type": "stream",
     "text": [
      "10\n",
      "5\n",
      "8\n",
      "9\n",
      "6\n",
      "67\n",
      "67\n",
      "78\n",
      "333\n",
      "555\n"
     ]
    }
   ],
   "source": [
    "for i in a:\n",
    "    if ((i == 45) | (i == 24) | (i == 89)):\n",
    "        continue\n",
    "    print(i)"
   ]
  },
  {
   "cell_type": "code",
   "execution_count": null,
   "id": "27a1fd5d",
   "metadata": {},
   "outputs": [],
   "source": [
    "#  0  1 2 3 4  5  6 . . .\n",
    "a=[10,5,8,9,24,45,6,67,89,45,67,78,89,333,555]\n",
    "             #  #          #        #"
   ]
  },
  {
   "cell_type": "code",
   "execution_count": 14,
   "id": "cc203f4c",
   "metadata": {},
   "outputs": [
    {
     "name": "stdout",
     "output_type": "stream",
     "text": [
      "10\n",
      "5\n",
      "8\n",
      "9\n",
      "48\n",
      "24\n",
      "90\n",
      "45\n",
      "6\n",
      "67\n",
      "178\n",
      "89\n",
      "90\n",
      "45\n",
      "67\n",
      "78\n",
      "178\n",
      "89\n",
      "333\n",
      "555\n"
     ]
    }
   ],
   "source": [
    "for i in a:\n",
    "    if ((i == 45) | (i == 24) | (i == 89)):\n",
    "        print(i*2)\n",
    "    print(i)"
   ]
  },
  {
   "cell_type": "code",
   "execution_count": 15,
   "id": "b4ed07ea",
   "metadata": {},
   "outputs": [
    {
     "name": "stdout",
     "output_type": "stream",
     "text": [
      "10\n",
      "5\n",
      "8\n",
      "9\n",
      "24\n",
      "45\n",
      "6\n",
      "67\n",
      "89\n",
      "45\n",
      "67\n",
      "78\n",
      "89\n",
      "333\n",
      "555\n"
     ]
    }
   ],
   "source": [
    "for i in a:\n",
    "    if ((i == 45) | (i == 24) | (i == 89)):\n",
    "        pass\n",
    "    print(i)"
   ]
  },
  {
   "cell_type": "code",
   "execution_count": 13,
   "id": "ccd37256",
   "metadata": {},
   "outputs": [
    {
     "name": "stdout",
     "output_type": "stream",
     "text": [
      "10\n",
      "5\n",
      "8\n",
      "9\n",
      "24\n",
      "45\n",
      "6\n",
      "67\n",
      "89\n",
      "45\n",
      "67\n",
      "78\n",
      "89\n",
      "333\n",
      "555\n"
     ]
    }
   ],
   "source": [
    "for i in a:\n",
    "    if ((i == 24) & (i == 45) & (i == 89)):\n",
    "        continue\n",
    "    print(i)"
   ]
  },
  {
   "cell_type": "code",
   "execution_count": 8,
   "id": "28b7bbaf",
   "metadata": {},
   "outputs": [
    {
     "name": "stdout",
     "output_type": "stream",
     "text": [
      "10\n",
      "5\n",
      "8\n",
      "9\n",
      "24\n",
      "6\n",
      "67\n",
      "89\n",
      "67\n",
      "78\n",
      "89\n",
      "333\n",
      "555\n"
     ]
    }
   ],
   "source": [
    "for i in a:\n",
    "    if i == 45:\n",
    "        continue\n",
    "    print(i)"
   ]
  },
  {
   "cell_type": "code",
   "execution_count": 16,
   "id": "79b73bb2",
   "metadata": {},
   "outputs": [
    {
     "name": "stdout",
     "output_type": "stream",
     "text": [
      "0\n",
      "1\n",
      "2\n",
      "3\n",
      "4\n",
      "5\n",
      "6\n",
      "7\n",
      "8\n",
      "9\n"
     ]
    }
   ],
   "source": [
    "for i in range(0, 10):\n",
    "    if i == 3:\n",
    "        pass\n",
    "    print(i)"
   ]
  },
  {
   "cell_type": "raw",
   "id": "3bbcd03f",
   "metadata": {},
   "source": []
  },
  {
   "cell_type": "code",
   "execution_count": null,
   "id": "04aece83",
   "metadata": {},
   "outputs": [],
   "source": []
  },
  {
   "cell_type": "code",
   "execution_count": 17,
   "id": "32d2de15",
   "metadata": {},
   "outputs": [
    {
     "name": "stdout",
     "output_type": "stream",
     "text": [
      "1\n",
      "3\n",
      "5\n",
      "7\n",
      "9\n",
      "11\n",
      "13\n",
      "15\n",
      "17\n",
      "19\n"
     ]
    }
   ],
   "source": [
    "for x in range(20):\n",
    "    if x % 2 == 0:\n",
    "        continue\n",
    "    print (x)"
   ]
  },
  {
   "cell_type": "code",
   "execution_count": 18,
   "id": "9fec1bf3",
   "metadata": {},
   "outputs": [
    {
     "name": "stdout",
     "output_type": "stream",
     "text": [
      "0\n",
      "2\n",
      "4\n",
      "6\n",
      "8\n",
      "10\n",
      "12\n",
      "14\n",
      "16\n",
      "18\n"
     ]
    }
   ],
   "source": [
    "for x in range(20):\n",
    "    if x % 2 == 0:\n",
    "        print (x)"
   ]
  },
  {
   "cell_type": "code",
   "execution_count": null,
   "id": "861e1e76",
   "metadata": {},
   "outputs": [],
   "source": []
  },
  {
   "cell_type": "code",
   "execution_count": 19,
   "id": "33302f14",
   "metadata": {},
   "outputs": [
    {
     "name": "stdout",
     "output_type": "stream",
     "text": [
      "0\n",
      "1\n",
      "3\n",
      "4\n"
     ]
    }
   ],
   "source": [
    "for x in range(5): \n",
    "    if(x == 2):\n",
    "        continue\n",
    "    print(x)  "
   ]
  },
  {
   "cell_type": "code",
   "execution_count": null,
   "id": "18c90c11",
   "metadata": {},
   "outputs": [],
   "source": []
  }
 ],
 "metadata": {
  "kernelspec": {
   "display_name": "Python 3 (ipykernel)",
   "language": "python",
   "name": "python3"
  },
  "language_info": {
   "codemirror_mode": {
    "name": "ipython",
    "version": 3
   },
   "file_extension": ".py",
   "mimetype": "text/x-python",
   "name": "python",
   "nbconvert_exporter": "python",
   "pygments_lexer": "ipython3",
   "version": "3.9.7"
  }
 },
 "nbformat": 4,
 "nbformat_minor": 5
}
