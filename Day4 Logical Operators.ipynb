{
 "cells": [
  {
   "cell_type": "markdown",
   "id": "c2fbb2e1",
   "metadata": {},
   "source": [
    "# Operators"
   ]
  },
  {
   "cell_type": "markdown",
   "id": "93651b4d",
   "metadata": {},
   "source": [
    " Operators are special symbols in Python that carry out arithmetic or logical computation. \n",
    " The value that the operator operates on is called the operand.\n",
    " \n",
    "    1. Arithmetic\n",
    "    2. Comparison\n",
    "    3. Logical\n",
    "    4. Special operators :- 1) Identity operators\n",
    "                            2) Membership operators\n",
    "    5. Assignment operators:-"
   ]
  },
  {
   "cell_type": "code",
   "execution_count": null,
   "id": "ff440f4c",
   "metadata": {},
   "outputs": [],
   "source": []
  },
  {
   "cell_type": "code",
   "execution_count": null,
   "id": "c10c59f7",
   "metadata": {},
   "outputs": [],
   "source": []
  },
  {
   "cell_type": "markdown",
   "id": "3a241b00",
   "metadata": {},
   "source": [
    "## 3) Logical Operators :-\n",
    "\n",
    "    Operator\t                            Description\t\n",
    "    and      Logical AND\t    If both the operands are true then condition becomes true.\t(a and b) is true.\n",
    "    or        Logical OR\t    If any of the two operands are non-zero then condition becomes true. (a or b) is true.\n",
    "    not       Logical NOT\t    Used to reverse the logical state of its operand."
   ]
  },
  {
   "cell_type": "code",
   "execution_count": null,
   "id": "ead5e927",
   "metadata": {},
   "outputs": [],
   "source": [
    "# and\n",
    "True and True ===> True\n",
    "True and False ===> False\n",
    "False and True===> False\n",
    "False and False ===> False\n",
    "\n",
    "# or\n",
    "True or True ===> True\n",
    "True or False ===> True\n",
    "False or True===> True\n",
    "False or False ===> False\n",
    "\n",
    "#not\n",
    "not (condition) ==> Reverse\n",
    "\n",
    "not (True) ==> False\n",
    "not (False) ==> True\n"
   ]
  },
  {
   "cell_type": "code",
   "execution_count": 1,
   "id": "0c7f6e49",
   "metadata": {},
   "outputs": [
    {
     "data": {
      "text/plain": [
       "True"
      ]
     },
     "execution_count": 1,
     "metadata": {},
     "output_type": "execute_result"
    }
   ],
   "source": [
    "12 < 13 and 7 == 7"
   ]
  },
  {
   "cell_type": "code",
   "execution_count": 3,
   "id": "e05c6e35",
   "metadata": {},
   "outputs": [
    {
     "name": "stdout",
     "output_type": "stream",
     "text": [
      "True\n"
     ]
    }
   ],
   "source": [
    "print(12 < 13 and 7 == 7)    "
   ]
  },
  {
   "cell_type": "code",
   "execution_count": 2,
   "id": "4cb88950",
   "metadata": {},
   "outputs": [
    {
     "name": "stdout",
     "output_type": "stream",
     "text": [
      "False\n"
     ]
    }
   ],
   "source": [
    "print(12 >= 13 and 7 != 6)   "
   ]
  },
  {
   "cell_type": "code",
   "execution_count": 4,
   "id": "c9842e98",
   "metadata": {},
   "outputs": [
    {
     "name": "stdout",
     "output_type": "stream",
     "text": [
      "False\n"
     ]
    }
   ],
   "source": [
    "print(12 == 11 and 7 == 8)  "
   ]
  },
  {
   "cell_type": "code",
   "execution_count": 5,
   "id": "e24f5580",
   "metadata": {},
   "outputs": [
    {
     "name": "stdout",
     "output_type": "stream",
     "text": [
      "False\n"
     ]
    }
   ],
   "source": [
    " \n",
    "print(12 > 11 and 7 == 8)  "
   ]
  },
  {
   "cell_type": "code",
   "execution_count": 6,
   "id": "534db927",
   "metadata": {},
   "outputs": [
    {
     "data": {
      "text/plain": [
       "True"
      ]
     },
     "execution_count": 6,
     "metadata": {},
     "output_type": "execute_result"
    }
   ],
   "source": [
    "12 > 11"
   ]
  },
  {
   "cell_type": "code",
   "execution_count": 7,
   "id": "a739afb5",
   "metadata": {},
   "outputs": [
    {
     "data": {
      "text/plain": [
       "False"
      ]
     },
     "execution_count": 7,
     "metadata": {},
     "output_type": "execute_result"
    }
   ],
   "source": [
    "7 == 8"
   ]
  },
  {
   "cell_type": "code",
   "execution_count": 8,
   "id": "67f229cb",
   "metadata": {},
   "outputs": [
    {
     "name": "stdout",
     "output_type": "stream",
     "text": [
      "True\n"
     ]
    }
   ],
   "source": [
    "print(12 > 11 and 7 != 8)  "
   ]
  },
  {
   "cell_type": "code",
   "execution_count": 9,
   "id": "5e57df4e",
   "metadata": {},
   "outputs": [
    {
     "data": {
      "text/plain": [
       "False"
      ]
     },
     "execution_count": 9,
     "metadata": {},
     "output_type": "execute_result"
    }
   ],
   "source": [
    "5 < 4 "
   ]
  },
  {
   "cell_type": "code",
   "execution_count": 10,
   "id": "b35485a4",
   "metadata": {},
   "outputs": [
    {
     "data": {
      "text/plain": [
       "False"
      ]
     },
     "execution_count": 10,
     "metadata": {},
     "output_type": "execute_result"
    }
   ],
   "source": [
    "a = 5 < 4 \n",
    "a"
   ]
  },
  {
   "cell_type": "code",
   "execution_count": 11,
   "id": "38afe7ed",
   "metadata": {},
   "outputs": [
    {
     "data": {
      "text/plain": [
       "bool"
      ]
     },
     "execution_count": 11,
     "metadata": {},
     "output_type": "execute_result"
    }
   ],
   "source": [
    "type(a)"
   ]
  },
  {
   "cell_type": "code",
   "execution_count": null,
   "id": "60675318",
   "metadata": {},
   "outputs": [],
   "source": []
  },
  {
   "cell_type": "code",
   "execution_count": 12,
   "id": "c282324d",
   "metadata": {},
   "outputs": [
    {
     "data": {
      "text/plain": [
       "True"
      ]
     },
     "execution_count": 12,
     "metadata": {},
     "output_type": "execute_result"
    }
   ],
   "source": [
    "b = 5 <= 6\n",
    "b"
   ]
  },
  {
   "cell_type": "code",
   "execution_count": null,
   "id": "c5890acd",
   "metadata": {},
   "outputs": [],
   "source": [
    "print(a)\n",
    "print(b)"
   ]
  },
  {
   "cell_type": "code",
   "execution_count": null,
   "id": "9e3aaf6f",
   "metadata": {},
   "outputs": [],
   "source": [
    "a and b"
   ]
  },
  {
   "cell_type": "code",
   "execution_count": null,
   "id": "9682b01a",
   "metadata": {},
   "outputs": [],
   "source": [
    "2>3 and 5<6"
   ]
  },
  {
   "cell_type": "code",
   "execution_count": null,
   "id": "db0db12c",
   "metadata": {},
   "outputs": [],
   "source": []
  },
  {
   "cell_type": "code",
   "execution_count": null,
   "id": "7a7ed430",
   "metadata": {},
   "outputs": [],
   "source": []
  },
  {
   "cell_type": "code",
   "execution_count": null,
   "id": "5ec6feff",
   "metadata": {},
   "outputs": [],
   "source": []
  },
  {
   "cell_type": "code",
   "execution_count": null,
   "id": "99dc737c",
   "metadata": {},
   "outputs": [],
   "source": []
  },
  {
   "cell_type": "code",
   "execution_count": null,
   "id": "242e16ee",
   "metadata": {},
   "outputs": [],
   "source": []
  },
  {
   "cell_type": "code",
   "execution_count": null,
   "id": "b0562305",
   "metadata": {},
   "outputs": [],
   "source": []
  },
  {
   "cell_type": "code",
   "execution_count": null,
   "id": "26a58154",
   "metadata": {},
   "outputs": [],
   "source": [
    "# OR\n",
    "True or True ===> True\n",
    "True or False ===> True\n",
    "False or True===> True\n",
    "False or False ===> False"
   ]
  },
  {
   "cell_type": "code",
   "execution_count": 13,
   "id": "037be7e1",
   "metadata": {},
   "outputs": [
    {
     "data": {
      "text/plain": [
       "True"
      ]
     },
     "execution_count": 13,
     "metadata": {},
     "output_type": "execute_result"
    }
   ],
   "source": [
    "2<3 or 5<4"
   ]
  },
  {
   "cell_type": "code",
   "execution_count": 14,
   "id": "0c13d1f1",
   "metadata": {},
   "outputs": [
    {
     "data": {
      "text/plain": [
       "True"
      ]
     },
     "execution_count": 14,
     "metadata": {},
     "output_type": "execute_result"
    }
   ],
   "source": [
    "2<3 or 5>4"
   ]
  },
  {
   "cell_type": "code",
   "execution_count": 15,
   "id": "128681fb",
   "metadata": {},
   "outputs": [
    {
     "data": {
      "text/plain": [
       "False"
      ]
     },
     "execution_count": 15,
     "metadata": {},
     "output_type": "execute_result"
    }
   ],
   "source": [
    "2>3 or 5<4"
   ]
  },
  {
   "cell_type": "code",
   "execution_count": 16,
   "id": "3e762f0e",
   "metadata": {},
   "outputs": [],
   "source": [
    "a = 2<3 or 5<4"
   ]
  },
  {
   "cell_type": "code",
   "execution_count": 17,
   "id": "1d1d25c5",
   "metadata": {},
   "outputs": [
    {
     "data": {
      "text/plain": [
       "True"
      ]
     },
     "execution_count": 17,
     "metadata": {},
     "output_type": "execute_result"
    }
   ],
   "source": [
    "a"
   ]
  },
  {
   "cell_type": "code",
   "execution_count": 18,
   "id": "2f85e7ce",
   "metadata": {},
   "outputs": [
    {
     "data": {
      "text/plain": [
       "False"
      ]
     },
     "execution_count": 18,
     "metadata": {},
     "output_type": "execute_result"
    }
   ],
   "source": [
    "not a"
   ]
  },
  {
   "cell_type": "code",
   "execution_count": null,
   "id": "bfb4353f",
   "metadata": {},
   "outputs": [],
   "source": []
  },
  {
   "cell_type": "code",
   "execution_count": null,
   "id": "3392af85",
   "metadata": {},
   "outputs": [],
   "source": []
  },
  {
   "cell_type": "code",
   "execution_count": 19,
   "id": "20112955",
   "metadata": {},
   "outputs": [],
   "source": [
    "bb = 2>3 or 5<4"
   ]
  },
  {
   "cell_type": "code",
   "execution_count": 20,
   "id": "36fc8ece",
   "metadata": {},
   "outputs": [
    {
     "data": {
      "text/plain": [
       "False"
      ]
     },
     "execution_count": 20,
     "metadata": {},
     "output_type": "execute_result"
    }
   ],
   "source": [
    "bb"
   ]
  },
  {
   "cell_type": "code",
   "execution_count": 21,
   "id": "2e143dd9",
   "metadata": {},
   "outputs": [
    {
     "data": {
      "text/plain": [
       "True"
      ]
     },
     "execution_count": 21,
     "metadata": {},
     "output_type": "execute_result"
    }
   ],
   "source": [
    "not bb"
   ]
  },
  {
   "cell_type": "code",
   "execution_count": null,
   "id": "5b62e4ea",
   "metadata": {},
   "outputs": [],
   "source": [
    "# not"
   ]
  },
  {
   "cell_type": "code",
   "execution_count": 22,
   "id": "b768cf7b",
   "metadata": {},
   "outputs": [
    {
     "data": {
      "text/plain": [
       "False"
      ]
     },
     "execution_count": 22,
     "metadata": {},
     "output_type": "execute_result"
    }
   ],
   "source": [
    "(2>3 or 5<4)"
   ]
  },
  {
   "cell_type": "code",
   "execution_count": 23,
   "id": "72f02b61",
   "metadata": {},
   "outputs": [
    {
     "data": {
      "text/plain": [
       "True"
      ]
     },
     "execution_count": 23,
     "metadata": {},
     "output_type": "execute_result"
    }
   ],
   "source": [
    "not (2>3 or 5<4)"
   ]
  },
  {
   "cell_type": "code",
   "execution_count": null,
   "id": "f81b09ba",
   "metadata": {},
   "outputs": [],
   "source": [
    "cc = not bb"
   ]
  },
  {
   "cell_type": "code",
   "execution_count": null,
   "id": "2e3be266",
   "metadata": {},
   "outputs": [],
   "source": [
    "cc"
   ]
  },
  {
   "cell_type": "code",
   "execution_count": null,
   "id": "2a9eba7f",
   "metadata": {},
   "outputs": [],
   "source": [
    "not cc"
   ]
  },
  {
   "cell_type": "code",
   "execution_count": null,
   "id": "8c5d43a2",
   "metadata": {},
   "outputs": [],
   "source": [
    "# and\n",
    "True and True ===> True\n",
    "True and False ===> False\n",
    "False and True===> False\n",
    "False and False ===> False\n",
    "\n",
    "# or\n",
    "True or True ===> True\n",
    "True or False ===> True\n",
    "False or True===> True\n",
    "False or False ===> False\n",
    "\n",
    "#not\n",
    "not (condition) ==> Reverse\n",
    "\n",
    "not (True) ==> False\n",
    "not (False) ==> True\n"
   ]
  },
  {
   "cell_type": "code",
   "execution_count": 24,
   "id": "f6d47de8",
   "metadata": {},
   "outputs": [
    {
     "data": {
      "text/plain": [
       "True"
      ]
     },
     "execution_count": 24,
     "metadata": {},
     "output_type": "execute_result"
    }
   ],
   "source": [
    "2>3 or 5<4 or 2>3 or 5<6"
   ]
  },
  {
   "cell_type": "code",
   "execution_count": 25,
   "id": "37a407e3",
   "metadata": {},
   "outputs": [
    {
     "data": {
      "text/plain": [
       "False"
      ]
     },
     "execution_count": 25,
     "metadata": {},
     "output_type": "execute_result"
    }
   ],
   "source": [
    "2>3 and 5<4 and 2>3 and 5<6"
   ]
  },
  {
   "cell_type": "code",
   "execution_count": 26,
   "id": "d735d45f",
   "metadata": {},
   "outputs": [
    {
     "data": {
      "text/plain": [
       "False"
      ]
     },
     "execution_count": 26,
     "metadata": {},
     "output_type": "execute_result"
    }
   ],
   "source": [
    "2>3 and (5<4 or 2>3 or 5<6)"
   ]
  },
  {
   "cell_type": "code",
   "execution_count": 27,
   "id": "6684ac66",
   "metadata": {},
   "outputs": [
    {
     "data": {
      "text/plain": [
       "True"
      ]
     },
     "execution_count": 27,
     "metadata": {},
     "output_type": "execute_result"
    }
   ],
   "source": [
    "2<3 and (5<4 or 2>3 or 5<6)"
   ]
  },
  {
   "cell_type": "code",
   "execution_count": null,
   "id": "cc06d077",
   "metadata": {},
   "outputs": [],
   "source": [
    "c1 o1 c2 o2 c3 o3  c4"
   ]
  },
  {
   "cell_type": "markdown",
   "id": "9aae7765",
   "metadata": {},
   "source": [
    "There are two built-in functions for multiple condition\n",
    "\n",
    "all() :- True if all True otherwise False\n",
    "any() :- True if at least one is True. False if all conditions are False\n",
    "\n",
    "The all() function returns True if all elements in the iterable are truthy (i.e., non-zero, non-empty, or True), or False if at least one element is falsy (i.e., zero, empty, or False)"
   ]
  },
  {
   "cell_type": "code",
   "execution_count": null,
   "id": "1ce68c4e",
   "metadata": {},
   "outputs": [],
   "source": [
    "# If c1,c2 and c3 conditions are True\n",
    "\n",
    "# c1  and c2  and  c3  and   c4  ==>  True   # c4=True / c4 value must be defined and not null / c4 != 0 \n",
    "\n",
    "# c1  and c2  and  c3  and   c4  ==>  False  # c4=False / c4=null / c4=0 "
   ]
  },
  {
   "cell_type": "code",
   "execution_count": null,
   "id": "7ccc2959",
   "metadata": {},
   "outputs": [],
   "source": []
  },
  {
   "cell_type": "code",
   "execution_count": 28,
   "id": "c520dfc0",
   "metadata": {},
   "outputs": [
    {
     "data": {
      "text/plain": [
       "0"
      ]
     },
     "execution_count": 28,
     "metadata": {},
     "output_type": "execute_result"
    }
   ],
   "source": [
    "int(False)"
   ]
  },
  {
   "cell_type": "code",
   "execution_count": 29,
   "id": "ed3cf063",
   "metadata": {},
   "outputs": [
    {
     "data": {
      "text/plain": [
       "1"
      ]
     },
     "execution_count": 29,
     "metadata": {},
     "output_type": "execute_result"
    }
   ],
   "source": [
    "int(True)"
   ]
  },
  {
   "cell_type": "code",
   "execution_count": 30,
   "id": "ac11aaca",
   "metadata": {},
   "outputs": [
    {
     "data": {
      "text/plain": [
       "False"
      ]
     },
     "execution_count": 30,
     "metadata": {},
     "output_type": "execute_result"
    }
   ],
   "source": [
    "bool(0)"
   ]
  },
  {
   "cell_type": "code",
   "execution_count": 31,
   "id": "ff39e1c0",
   "metadata": {},
   "outputs": [
    {
     "data": {
      "text/plain": [
       "True"
      ]
     },
     "execution_count": 31,
     "metadata": {},
     "output_type": "execute_result"
    }
   ],
   "source": [
    "bool(1)"
   ]
  },
  {
   "cell_type": "code",
   "execution_count": 32,
   "id": "b46eae3d",
   "metadata": {},
   "outputs": [
    {
     "data": {
      "text/plain": [
       "True"
      ]
     },
     "execution_count": 32,
     "metadata": {},
     "output_type": "execute_result"
    }
   ],
   "source": [
    "bool(5)"
   ]
  },
  {
   "cell_type": "code",
   "execution_count": 33,
   "id": "ee499a7f",
   "metadata": {},
   "outputs": [
    {
     "data": {
      "text/plain": [
       "True"
      ]
     },
     "execution_count": 33,
     "metadata": {},
     "output_type": "execute_result"
    }
   ],
   "source": [
    "bool(-5)"
   ]
  }
 ],
 "metadata": {
  "kernelspec": {
   "display_name": "Python 3 (ipykernel)",
   "language": "python",
   "name": "python3"
  },
  "language_info": {
   "codemirror_mode": {
    "name": "ipython",
    "version": 3
   },
   "file_extension": ".py",
   "mimetype": "text/x-python",
   "name": "python",
   "nbconvert_exporter": "python",
   "pygments_lexer": "ipython3",
   "version": "3.9.7"
  }
 },
 "nbformat": 4,
 "nbformat_minor": 5
}
