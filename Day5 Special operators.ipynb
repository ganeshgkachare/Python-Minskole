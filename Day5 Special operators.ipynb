{
 "cells": [
  {
   "cell_type": "markdown",
   "id": "c2fbb2e1",
   "metadata": {},
   "source": [
    "# Operators"
   ]
  },
  {
   "cell_type": "markdown",
   "id": "93651b4d",
   "metadata": {},
   "source": [
    " Operators are special symbols in Python that carry out arithmetic or logical computation. \n",
    " The value that the operator operates on is called the operand.\n",
    " \n",
    "    1. Arithmetic\n",
    "    2. Comparison\n",
    "    3. Logical\n",
    "    4. Special operators :- 1) Identity operators\n",
    "                            2) Membership operators\n",
    "    5. Assignment operators:-"
   ]
  },
  {
   "cell_type": "code",
   "execution_count": null,
   "id": "ff440f4c",
   "metadata": {},
   "outputs": [],
   "source": []
  },
  {
   "cell_type": "code",
   "execution_count": null,
   "id": "c10c59f7",
   "metadata": {},
   "outputs": [],
   "source": []
  },
  {
   "cell_type": "markdown",
   "id": "3a241b00",
   "metadata": {},
   "source": [
    "## 3) Logical Operators :-\n",
    "\n",
    "    Operator\t                            Description\t\n",
    "    and      Logical AND\t    If both the operands are true then condition becomes true.\t(a and b) is true.\n",
    "    or        Logical OR\t    If any of the two operands are non-zero then condition becomes true. (a or b) is true.\n",
    "    not       Logical NOT\t    Used to reverse the logical state of its operand."
   ]
  },
  {
   "cell_type": "code",
   "execution_count": null,
   "id": "ead5e927",
   "metadata": {},
   "outputs": [],
   "source": [
    "# and\n",
    "True and True ===> True\n",
    "True and False ===> False\n",
    "False and True===> False\n",
    "False and False ===> False\n",
    "\n",
    "# or\n",
    "True or True ===> True\n",
    "True or False ===> True\n",
    "False or True===> True\n",
    "False or False ===> False\n",
    "\n",
    "#not\n",
    "not (condition) ==> Reverse\n",
    "\n",
    "not (True) ==> False\n",
    "not (False) ==> True\n"
   ]
  },
  {
   "cell_type": "markdown",
   "id": "9aae7765",
   "metadata": {},
   "source": [
    "There are two built-in functions for multiple condition\n",
    "\n",
    "all() :- True if all True otherwise False\n",
    "any() :- True if at least one is True. False if all conditions are False\n",
    "\n",
    "The all() function returns True if all elements in the iterable are truthy (i.e., non-zero, non-empty, or True), or False if at least one element is falsy (i.e., zero, empty, or False)"
   ]
  },
  {
   "cell_type": "code",
   "execution_count": null,
   "id": "1ce68c4e",
   "metadata": {},
   "outputs": [],
   "source": [
    "# If c1,c2 and c3 conditions are True\n",
    "\n",
    "# c1  and c2  and  c3  and   c4  ==>  True   # c4=True / c4 value must be defined and not null / c4 != 0 \n",
    "\n",
    "# c1  and c2  and  c3  and   c4  ==>  False  # c4=False / c4=null / c4=0 "
   ]
  },
  {
   "cell_type": "code",
   "execution_count": 28,
   "id": "2b684297",
   "metadata": {},
   "outputs": [
    {
     "data": {
      "text/plain": [
       "True"
      ]
     },
     "execution_count": 28,
     "metadata": {},
     "output_type": "execute_result"
    }
   ],
   "source": [
    "all((12 < 13 , 7 == 7,12 <= 13 , 7 != 6))\n",
    "#     T         T        T        T"
   ]
  },
  {
   "cell_type": "code",
   "execution_count": 29,
   "id": "41dd9f21",
   "metadata": {},
   "outputs": [
    {
     "data": {
      "text/plain": [
       "False"
      ]
     },
     "execution_count": 29,
     "metadata": {},
     "output_type": "execute_result"
    }
   ],
   "source": [
    "all((12 < 13 , 7 == 7,12 <= 13 , 7 != 6 , 0))   #why?  # False\n",
    "\n",
    "#      "
   ]
  },
  {
   "cell_type": "code",
   "execution_count": 30,
   "id": "d1d55cc6",
   "metadata": {},
   "outputs": [
    {
     "data": {
      "text/plain": [
       "False"
      ]
     },
     "execution_count": 30,
     "metadata": {},
     "output_type": "execute_result"
    }
   ],
   "source": [
    "all((12 < 13 , 7 == 7,12 <= 13 , 7 != 6 ,False))   #"
   ]
  },
  {
   "cell_type": "code",
   "execution_count": 31,
   "id": "f464c801",
   "metadata": {},
   "outputs": [
    {
     "data": {
      "text/plain": [
       "True"
      ]
     },
     "execution_count": 31,
     "metadata": {},
     "output_type": "execute_result"
    }
   ],
   "source": [
    "any((12 < 13 , 7 == 7,12 <= 13 , 7 != 6 , 0))      #"
   ]
  },
  {
   "cell_type": "code",
   "execution_count": null,
   "id": "72e81259",
   "metadata": {},
   "outputs": [],
   "source": []
  },
  {
   "cell_type": "code",
   "execution_count": null,
   "id": "e3071f2a",
   "metadata": {},
   "outputs": [],
   "source": []
  },
  {
   "cell_type": "code",
   "execution_count": null,
   "id": "cad68650",
   "metadata": {},
   "outputs": [],
   "source": []
  },
  {
   "cell_type": "code",
   "execution_count": null,
   "id": "c42ea6d4",
   "metadata": {},
   "outputs": [],
   "source": []
  },
  {
   "cell_type": "markdown",
   "id": "4067f33a",
   "metadata": {},
   "source": [
    "## 4) Special operators"
   ]
  },
  {
   "cell_type": "markdown",
   "id": "5e418a8c",
   "metadata": {},
   "source": [
    " 1) Identity operators\n",
    " \n",
    " 2) Membership operators"
   ]
  },
  {
   "cell_type": "markdown",
   "id": "e02bb9f0",
   "metadata": {},
   "source": [
    "### 1) Identity operators\n",
    "\n",
    "    Operator\tDescription\t\n",
    "      is \t    Returns true if both variables are the same object\t\n",
    "     is not  \tReturns true if both variables are not the same object"
   ]
  },
  {
   "cell_type": "code",
   "execution_count": null,
   "id": "a5a4d59b",
   "metadata": {},
   "outputs": [],
   "source": [
    "# variable1      operator           variable2\n",
    "#             (is / is not)"
   ]
  },
  {
   "cell_type": "code",
   "execution_count": null,
   "id": "dedab864",
   "metadata": {},
   "outputs": [],
   "source": []
  },
  {
   "cell_type": "code",
   "execution_count": 32,
   "id": "7c6f0b7f",
   "metadata": {},
   "outputs": [],
   "source": [
    "# eg\n",
    "x = 10\n",
    "y = 11 \n",
    "z = '10'"
   ]
  },
  {
   "cell_type": "code",
   "execution_count": 36,
   "id": "312a0aa7",
   "metadata": {},
   "outputs": [
    {
     "name": "stdout",
     "output_type": "stream",
     "text": [
      "10 <class 'int'>\n",
      "11 <class 'int'>\n",
      "10 <class 'str'>\n"
     ]
    }
   ],
   "source": [
    "print( x, type(x))\n",
    "print( y, type(y))\n",
    "print( z, type(z))"
   ]
  },
  {
   "cell_type": "code",
   "execution_count": 33,
   "id": "7d8d371e",
   "metadata": {},
   "outputs": [
    {
     "data": {
      "text/plain": [
       "10"
      ]
     },
     "execution_count": 33,
     "metadata": {},
     "output_type": "execute_result"
    }
   ],
   "source": [
    "x"
   ]
  },
  {
   "cell_type": "code",
   "execution_count": 34,
   "id": "f2a22e5b",
   "metadata": {},
   "outputs": [
    {
     "data": {
      "text/plain": [
       "11"
      ]
     },
     "execution_count": 34,
     "metadata": {},
     "output_type": "execute_result"
    }
   ],
   "source": [
    "y"
   ]
  },
  {
   "cell_type": "code",
   "execution_count": 35,
   "id": "d8e7108b",
   "metadata": {},
   "outputs": [
    {
     "data": {
      "text/plain": [
       "'10'"
      ]
     },
     "execution_count": 35,
     "metadata": {},
     "output_type": "execute_result"
    }
   ],
   "source": [
    "z"
   ]
  },
  {
   "cell_type": "code",
   "execution_count": 39,
   "id": "0c625d21",
   "metadata": {},
   "outputs": [],
   "source": [
    "# eg\n",
    "x = 10\n",
    "y = 11 \n",
    "z = '10'\n",
    "z2=10"
   ]
  },
  {
   "cell_type": "code",
   "execution_count": 37,
   "id": "79854cf0",
   "metadata": {},
   "outputs": [
    {
     "name": "stdout",
     "output_type": "stream",
     "text": [
      "False\n"
     ]
    }
   ],
   "source": [
    "print(x is y) "
   ]
  },
  {
   "cell_type": "code",
   "execution_count": 38,
   "id": "e621a75f",
   "metadata": {},
   "outputs": [
    {
     "name": "stdout",
     "output_type": "stream",
     "text": [
      "False\n"
     ]
    }
   ],
   "source": [
    "print(x is z) "
   ]
  },
  {
   "cell_type": "code",
   "execution_count": 40,
   "id": "281f8f45",
   "metadata": {},
   "outputs": [
    {
     "ename": "NameError",
     "evalue": "name 'Z2' is not defined",
     "output_type": "error",
     "traceback": [
      "\u001b[1;31m---------------------------------------------------------------------------\u001b[0m",
      "\u001b[1;31mNameError\u001b[0m                                 Traceback (most recent call last)",
      "\u001b[1;32m~\\AppData\\Local\\Temp/ipykernel_15356/2409688172.py\u001b[0m in \u001b[0;36m<module>\u001b[1;34m\u001b[0m\n\u001b[1;32m----> 1\u001b[1;33m \u001b[0mprint\u001b[0m\u001b[1;33m(\u001b[0m\u001b[0mx\u001b[0m \u001b[1;32mis\u001b[0m \u001b[0mZ2\u001b[0m\u001b[1;33m)\u001b[0m\u001b[1;33m\u001b[0m\u001b[1;33m\u001b[0m\u001b[0m\n\u001b[0m",
      "\u001b[1;31mNameError\u001b[0m: name 'Z2' is not defined"
     ]
    }
   ],
   "source": [
    "print(x is Z2) "
   ]
  },
  {
   "cell_type": "code",
   "execution_count": 41,
   "id": "858f5b0e",
   "metadata": {},
   "outputs": [
    {
     "name": "stdout",
     "output_type": "stream",
     "text": [
      "True\n"
     ]
    }
   ],
   "source": [
    "print(x is z2) "
   ]
  },
  {
   "cell_type": "code",
   "execution_count": null,
   "id": "648df943",
   "metadata": {},
   "outputs": [],
   "source": [
    "# eg\n",
    "x = 10\n",
    "y = 11 \n",
    "z = '10'\n",
    "z2=10"
   ]
  },
  {
   "cell_type": "code",
   "execution_count": 42,
   "id": "1854ff9c",
   "metadata": {},
   "outputs": [
    {
     "name": "stdout",
     "output_type": "stream",
     "text": [
      "True\n",
      "True\n"
     ]
    }
   ],
   "source": [
    "print(x is not y) \n",
    "print(x is not z) "
   ]
  },
  {
   "cell_type": "code",
   "execution_count": 3,
   "id": "c032527d",
   "metadata": {},
   "outputs": [
    {
     "name": "stdout",
     "output_type": "stream",
     "text": [
      "2149626243664\n",
      "2149626243696\n",
      "2147489515824\n"
     ]
    }
   ],
   "source": [
    "print(id(x))\n",
    "print(id(y))\n",
    "print(id(z))"
   ]
  },
  {
   "cell_type": "code",
   "execution_count": 45,
   "id": "8547e2d0",
   "metadata": {},
   "outputs": [
    {
     "data": {
      "text/plain": [
       "2149626243664"
      ]
     },
     "execution_count": 45,
     "metadata": {},
     "output_type": "execute_result"
    }
   ],
   "source": [
    "id(x)"
   ]
  },
  {
   "cell_type": "code",
   "execution_count": 46,
   "id": "4966cce3",
   "metadata": {},
   "outputs": [
    {
     "data": {
      "text/plain": [
       "2149626243696"
      ]
     },
     "execution_count": 46,
     "metadata": {},
     "output_type": "execute_result"
    }
   ],
   "source": [
    "id(y)"
   ]
  },
  {
   "cell_type": "code",
   "execution_count": 47,
   "id": "419fd7f5",
   "metadata": {},
   "outputs": [],
   "source": [
    "a2=2\n",
    "z2=2"
   ]
  },
  {
   "cell_type": "code",
   "execution_count": 48,
   "id": "b153acd9",
   "metadata": {},
   "outputs": [
    {
     "data": {
      "text/plain": [
       "2149626243408"
      ]
     },
     "execution_count": 48,
     "metadata": {},
     "output_type": "execute_result"
    }
   ],
   "source": [
    "id(a2)"
   ]
  },
  {
   "cell_type": "code",
   "execution_count": 49,
   "id": "4831d909",
   "metadata": {},
   "outputs": [
    {
     "data": {
      "text/plain": [
       "2149626243408"
      ]
     },
     "execution_count": 49,
     "metadata": {},
     "output_type": "execute_result"
    }
   ],
   "source": [
    "id(z2)"
   ]
  },
  {
   "cell_type": "code",
   "execution_count": 50,
   "id": "e04f4c4b",
   "metadata": {},
   "outputs": [
    {
     "data": {
      "text/plain": [
       "True"
      ]
     },
     "execution_count": 50,
     "metadata": {},
     "output_type": "execute_result"
    }
   ],
   "source": [
    "id(a2) == id(z2)"
   ]
  },
  {
   "cell_type": "code",
   "execution_count": 58,
   "id": "e3697c3b",
   "metadata": {},
   "outputs": [],
   "source": [
    "a2=2\n",
    "z2=\"2\""
   ]
  },
  {
   "cell_type": "code",
   "execution_count": 59,
   "id": "bf2db879",
   "metadata": {},
   "outputs": [
    {
     "data": {
      "text/plain": [
       "2149626243408"
      ]
     },
     "execution_count": 59,
     "metadata": {},
     "output_type": "execute_result"
    }
   ],
   "source": [
    "id(a2)"
   ]
  },
  {
   "cell_type": "code",
   "execution_count": 60,
   "id": "5a32b3ac",
   "metadata": {},
   "outputs": [
    {
     "data": {
      "text/plain": [
       "2149627167472"
      ]
     },
     "execution_count": 60,
     "metadata": {},
     "output_type": "execute_result"
    }
   ],
   "source": [
    "id(z2)"
   ]
  },
  {
   "cell_type": "code",
   "execution_count": 61,
   "id": "a3ce66e3",
   "metadata": {},
   "outputs": [
    {
     "data": {
      "text/plain": [
       "False"
      ]
     },
     "execution_count": 61,
     "metadata": {},
     "output_type": "execute_result"
    }
   ],
   "source": [
    "id(a2) == id(z2)"
   ]
  },
  {
   "cell_type": "code",
   "execution_count": null,
   "id": "08810da5",
   "metadata": {},
   "outputs": [],
   "source": []
  },
  {
   "cell_type": "code",
   "execution_count": null,
   "id": "fe2afa61",
   "metadata": {},
   "outputs": [],
   "source": []
  },
  {
   "cell_type": "code",
   "execution_count": null,
   "id": "631fdb81",
   "metadata": {},
   "outputs": [],
   "source": []
  },
  {
   "cell_type": "markdown",
   "id": "1c014923",
   "metadata": {},
   "source": [
    "### 2) Membership Operator\n",
    "\n",
    "    Operator\t   Description\t\n",
    "      in\t        Evaluates to true if it finds a variable in the specified sequence and false otherwise.\n",
    "      not in\t    Evaluates to true if it does not finds a variable in the specified sequence and false otherwise."
   ]
  },
  {
   "cell_type": "code",
   "execution_count": null,
   "id": "2017faa9",
   "metadata": {},
   "outputs": [],
   "source": [
    "# variable1      operator           variable2\n",
    "#             (in / not in)"
   ]
  },
  {
   "cell_type": "code",
   "execution_count": 67,
   "id": "8e11cd6e",
   "metadata": {},
   "outputs": [
    {
     "data": {
      "text/plain": [
       "True"
      ]
     },
     "execution_count": 67,
     "metadata": {},
     "output_type": "execute_result"
    }
   ],
   "source": [
    " \"P\" in \"Python\""
   ]
  },
  {
   "cell_type": "code",
   "execution_count": 69,
   "id": "4608392f",
   "metadata": {},
   "outputs": [
    {
     "data": {
      "text/plain": [
       "False"
      ]
     },
     "execution_count": 69,
     "metadata": {},
     "output_type": "execute_result"
    }
   ],
   "source": [
    " \"z\" in \"Python\""
   ]
  },
  {
   "cell_type": "code",
   "execution_count": 70,
   "id": "26cf275b",
   "metadata": {},
   "outputs": [
    {
     "data": {
      "text/plain": [
       "True"
      ]
     },
     "execution_count": 70,
     "metadata": {},
     "output_type": "execute_result"
    }
   ],
   "source": [
    " \"z\" not in \"Python\""
   ]
  },
  {
   "cell_type": "code",
   "execution_count": 68,
   "id": "d4101502",
   "metadata": {},
   "outputs": [
    {
     "data": {
      "text/plain": [
       "False"
      ]
     },
     "execution_count": 68,
     "metadata": {},
     "output_type": "execute_result"
    }
   ],
   "source": [
    " \"P\" in \"python\""
   ]
  },
  {
   "cell_type": "code",
   "execution_count": null,
   "id": "8081a582",
   "metadata": {},
   "outputs": [],
   "source": []
  },
  {
   "cell_type": "code",
   "execution_count": 71,
   "id": "1655c1db",
   "metadata": {},
   "outputs": [],
   "source": [
    "a = 'h'\n",
    "b = 'hello'\n",
    "c = 'world'"
   ]
  },
  {
   "cell_type": "code",
   "execution_count": 72,
   "id": "3d5236fa",
   "metadata": {},
   "outputs": [
    {
     "name": "stdout",
     "output_type": "stream",
     "text": [
      "True\n"
     ]
    }
   ],
   "source": [
    "print(a in b)"
   ]
  },
  {
   "cell_type": "code",
   "execution_count": 73,
   "id": "c12e41c7",
   "metadata": {},
   "outputs": [
    {
     "name": "stdout",
     "output_type": "stream",
     "text": [
      "False\n"
     ]
    }
   ],
   "source": [
    "print(a in c)"
   ]
  },
  {
   "cell_type": "code",
   "execution_count": 74,
   "id": "125c68a3",
   "metadata": {},
   "outputs": [
    {
     "name": "stdout",
     "output_type": "stream",
     "text": [
      "True\n"
     ]
    }
   ],
   "source": [
    "print(a not in c)"
   ]
  },
  {
   "cell_type": "code",
   "execution_count": null,
   "id": "8d1ec652",
   "metadata": {},
   "outputs": [],
   "source": []
  },
  {
   "cell_type": "code",
   "execution_count": null,
   "id": "15107024",
   "metadata": {},
   "outputs": [],
   "source": []
  }
 ],
 "metadata": {
  "kernelspec": {
   "display_name": "Python 3 (ipykernel)",
   "language": "python",
   "name": "python3"
  },
  "language_info": {
   "codemirror_mode": {
    "name": "ipython",
    "version": 3
   },
   "file_extension": ".py",
   "mimetype": "text/x-python",
   "name": "python",
   "nbconvert_exporter": "python",
   "pygments_lexer": "ipython3",
   "version": "3.9.7"
  }
 },
 "nbformat": 4,
 "nbformat_minor": 5
}
