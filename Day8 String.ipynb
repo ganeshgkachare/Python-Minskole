{
 "cells": [
  {
   "cell_type": "markdown",
   "id": "db0bdd2d",
   "metadata": {},
   "source": [
    "# Data-Types"
   ]
  },
  {
   "cell_type": "raw",
   "id": "d32d7168",
   "metadata": {},
   "source": [
    "# Data-Types:- 1) Numbers (integers, float, complex)\n",
    "             2) String \n",
    "             3) List\n",
    "             4) Tuple\n",
    "             5) set\n",
    "             6) Dictionary\n",
    "\n",
    "Datatypes are classified into two type\n",
    "    1) Immutable (Hashable) and\n",
    "    2) Mutable (Unhashable)\n",
    "    \n",
    "Immutable data Type: A data value which cannot be modified.\n",
    "mutable data Type : A data value which can be modified.\n",
    "\n",
    "Immutable (Hashable) data Type:\n",
    "             1) Numbers (integers, float, complex) \n",
    "             2) String  \n",
    "             3) Tuple\n",
    "             \n",
    "Mutable (Unhashable) data Type:\n",
    "             1) List\n",
    "             2) set \n",
    "             3) Dictionary \n",
    "\n",
    "\n",
    "\n",
    "To verify the type of any object in Python, use the type() function:"
   ]
  },
  {
   "cell_type": "markdown",
   "id": "9c49c43c",
   "metadata": {},
   "source": [
    "## String"
   ]
  },
  {
   "cell_type": "raw",
   "id": "691cd652",
   "metadata": {},
   "source": [
    "Strings are one of the fundamental Python data types.\n",
    "It is text or words or sentence in quotation mark (single or double). \n",
    "Strings are used to represent text.\n",
    "\n",
    "properties:\n",
    "1. Strings contain individual letters or symbols called characters.\n",
    "2. Characters in a string appear in a sequence, which means that each character has a numbered position in the string."
   ]
  },
  {
   "cell_type": "code",
   "execution_count": 10,
   "id": "6b23da00",
   "metadata": {},
   "outputs": [
    {
     "name": "stdout",
     "output_type": "stream",
     "text": [
      "Raj\n"
     ]
    }
   ],
   "source": [
    "# Here we assign Raj value to my_name variable\n",
    "\n",
    "my_name = \"Raj\"\n",
    "#          012\n",
    "print(my_name)"
   ]
  },
  {
   "cell_type": "code",
   "execution_count": 11,
   "id": "466a9262",
   "metadata": {},
   "outputs": [
    {
     "data": {
      "text/plain": [
       "str"
      ]
     },
     "execution_count": 11,
     "metadata": {},
     "output_type": "execute_result"
    }
   ],
   "source": [
    "type(my_name)"
   ]
  },
  {
   "cell_type": "code",
   "execution_count": 12,
   "id": "a4061e07",
   "metadata": {},
   "outputs": [
    {
     "data": {
      "text/plain": [
       "3"
      ]
     },
     "execution_count": 12,
     "metadata": {},
     "output_type": "execute_result"
    }
   ],
   "source": [
    "len(my_name)"
   ]
  },
  {
   "cell_type": "code",
   "execution_count": 3,
   "id": "56396694",
   "metadata": {},
   "outputs": [
    {
     "data": {
      "text/plain": [
       "'Python'"
      ]
     },
     "execution_count": 3,
     "metadata": {},
     "output_type": "execute_result"
    }
   ],
   "source": [
    "\"Python\""
   ]
  },
  {
   "cell_type": "code",
   "execution_count": 7,
   "id": "a373c2bc",
   "metadata": {},
   "outputs": [
    {
     "data": {
      "text/plain": [
       "3"
      ]
     },
     "execution_count": 7,
     "metadata": {},
     "output_type": "execute_result"
    }
   ],
   "source": [
    "Python"
   ]
  },
  {
   "cell_type": "code",
   "execution_count": 5,
   "id": "c25fbfaf",
   "metadata": {},
   "outputs": [],
   "source": [
    "Python = 3"
   ]
  },
  {
   "cell_type": "code",
   "execution_count": 6,
   "id": "bf6cfadd",
   "metadata": {},
   "outputs": [
    {
     "data": {
      "text/plain": [
       "3"
      ]
     },
     "execution_count": 6,
     "metadata": {},
     "output_type": "execute_result"
    }
   ],
   "source": [
    "Python"
   ]
  },
  {
   "cell_type": "code",
   "execution_count": null,
   "id": "1d29b924",
   "metadata": {},
   "outputs": [],
   "source": []
  },
  {
   "cell_type": "code",
   "execution_count": null,
   "id": "3b3432bc",
   "metadata": {},
   "outputs": [],
   "source": [
    "my_name[2]"
   ]
  },
  {
   "cell_type": "code",
   "execution_count": 13,
   "id": "98139514",
   "metadata": {},
   "outputs": [
    {
     "data": {
      "text/plain": [
       "str"
      ]
     },
     "execution_count": 13,
     "metadata": {},
     "output_type": "execute_result"
    }
   ],
   "source": [
    "type(my_name)"
   ]
  },
  {
   "cell_type": "code",
   "execution_count": 14,
   "id": "2f6d393b",
   "metadata": {},
   "outputs": [
    {
     "data": {
      "text/plain": [
       "3"
      ]
     },
     "execution_count": 14,
     "metadata": {},
     "output_type": "execute_result"
    }
   ],
   "source": [
    "len(my_name)"
   ]
  },
  {
   "cell_type": "code",
   "execution_count": null,
   "id": "1bd7ca93",
   "metadata": {},
   "outputs": [],
   "source": [
    "# Multiline Strings :- You can assign a multiline string to a variable by using three quotes(sinle or double)"
   ]
  },
  {
   "cell_type": "code",
   "execution_count": 8,
   "id": "98407c98",
   "metadata": {},
   "outputs": [],
   "source": [
    "a = '''\n",
    "My\n",
    "Name\n",
    "Is\n",
    "Udit\n",
    "'''"
   ]
  },
  {
   "cell_type": "code",
   "execution_count": 9,
   "id": "46093487",
   "metadata": {},
   "outputs": [
    {
     "name": "stdout",
     "output_type": "stream",
     "text": [
      "\n",
      "My\n",
      "Name\n",
      "Is\n",
      "Udit\n",
      "\n"
     ]
    }
   ],
   "source": [
    "print(a)"
   ]
  },
  {
   "cell_type": "code",
   "execution_count": 14,
   "id": "28c33fdc",
   "metadata": {},
   "outputs": [
    {
     "name": "stdout",
     "output_type": "stream",
     "text": [
      "<class 'str'>\n"
     ]
    }
   ],
   "source": [
    "print(type(a))"
   ]
  },
  {
   "cell_type": "code",
   "execution_count": null,
   "id": "b9150220",
   "metadata": {},
   "outputs": [],
   "source": [
    "del a"
   ]
  },
  {
   "cell_type": "code",
   "execution_count": null,
   "id": "93c253a6",
   "metadata": {},
   "outputs": [],
   "source": [
    "a"
   ]
  },
  {
   "cell_type": "code",
   "execution_count": null,
   "id": "36f1f7cc",
   "metadata": {},
   "outputs": [],
   "source": []
  },
  {
   "cell_type": "code",
   "execution_count": 5,
   "id": "b78c4ac7",
   "metadata": {},
   "outputs": [],
   "source": [
    "a = \"\"\"\n",
    "My\n",
    "Name Is\n",
    "Akul\n",
    "\"\"\""
   ]
  },
  {
   "cell_type": "code",
   "execution_count": 7,
   "id": "be27d9a2",
   "metadata": {},
   "outputs": [
    {
     "name": "stdout",
     "output_type": "stream",
     "text": [
      "\n",
      "My\n",
      "Name Is\n",
      "Akul\n",
      "\n",
      "<class 'str'>\n"
     ]
    }
   ],
   "source": [
    "print(a)\n",
    "print(type(a))\n"
   ]
  },
  {
   "cell_type": "code",
   "execution_count": null,
   "id": "79da8858",
   "metadata": {},
   "outputs": [],
   "source": []
  },
  {
   "cell_type": "code",
   "execution_count": null,
   "id": "14bd6c34",
   "metadata": {},
   "outputs": [],
   "source": []
  },
  {
   "cell_type": "markdown",
   "id": "67b85dfb",
   "metadata": {},
   "source": [
    "## Indexing"
   ]
  },
  {
   "cell_type": "raw",
   "id": "730402d0",
   "metadata": {},
   "source": [
    "Indexing :-\n",
    "\n",
    "    Indexing means referring to an element of an iterable by its position within the iterable. Each of a string’s characters corresponds to an index number and each character can be accessed using its index number. We can access characters in a String in Two ways :\n",
    "\n",
    "    1) Accessing Characters by Positive Index Number\n",
    "    2) Accessing Characters by Negative Index Number"
   ]
  },
  {
   "cell_type": "code",
   "execution_count": 15,
   "id": "b2a5dfd5",
   "metadata": {},
   "outputs": [
    {
     "name": "stdout",
     "output_type": "stream",
     "text": [
      "Priyanka\n",
      "8\n"
     ]
    }
   ],
   "source": [
    "name = \"Priyanka\"\n",
    "print(name)\n",
    "print(len(name))"
   ]
  },
  {
   "cell_type": "code",
   "execution_count": 16,
   "id": "b71ba1ef",
   "metadata": {},
   "outputs": [
    {
     "data": {
      "text/plain": [
       "'r'"
      ]
     },
     "execution_count": 16,
     "metadata": {},
     "output_type": "execute_result"
    }
   ],
   "source": [
    "name[1]"
   ]
  },
  {
   "cell_type": "code",
   "execution_count": 17,
   "id": "3f945b87",
   "metadata": {},
   "outputs": [
    {
     "data": {
      "text/plain": [
       "'k'"
      ]
     },
     "execution_count": 17,
     "metadata": {},
     "output_type": "execute_result"
    }
   ],
   "source": [
    "name[6]"
   ]
  },
  {
   "cell_type": "raw",
   "id": "692cd288",
   "metadata": {},
   "source": [
    "\n",
    "1) Accessing Characters by Positive Index Number:\n",
    "   We pass a Positive index(which we want to access) in square brackets.\n",
    " The index number starts from index number 0 (which denotes the first character of a string).\n",
    "\n",
    "\n",
    "2) Accessing Characters by Negative Index Number: \n",
    "    We pass the Negative index(which we want to access) in square brackets. \n",
    "    Here the index number starts from index number -1 (which denotes the last character of a string)."
   ]
  },
  {
   "cell_type": "raw",
   "id": "a4e1d79f",
   "metadata": {},
   "source": [
    "    0   1   2   3    4   5    6   7   ====>  Positive Index Number\n",
    "    P   r   i   y    a   n    k   a   ====>  String\n",
    "   -8  -7  -6  -5   -4   -3  -2   -1  ====>  Negative Index Number"
   ]
  },
  {
   "cell_type": "code",
   "execution_count": 18,
   "id": "0b8f6b73",
   "metadata": {},
   "outputs": [],
   "source": [
    "#Positive Index Number"
   ]
  },
  {
   "cell_type": "code",
   "execution_count": null,
   "id": "d1deecc9",
   "metadata": {},
   "outputs": [],
   "source": [
    "name = \"Priyanka\""
   ]
  },
  {
   "cell_type": "code",
   "execution_count": null,
   "id": "2fd9d939",
   "metadata": {},
   "outputs": [],
   "source": [
    "name[1]"
   ]
  },
  {
   "cell_type": "code",
   "execution_count": null,
   "id": "9365156c",
   "metadata": {},
   "outputs": [],
   "source": [
    "print(name[3])"
   ]
  },
  {
   "cell_type": "code",
   "execution_count": 19,
   "id": "d560ae80",
   "metadata": {},
   "outputs": [
    {
     "name": "stdout",
     "output_type": "stream",
     "text": [
      "y\n"
     ]
    }
   ],
   "source": [
    "print(name[-5])"
   ]
  },
  {
   "cell_type": "code",
   "execution_count": null,
   "id": "096b2f3d",
   "metadata": {},
   "outputs": [],
   "source": [
    "print(name[7])"
   ]
  },
  {
   "cell_type": "code",
   "execution_count": null,
   "id": "54c03359",
   "metadata": {},
   "outputs": [],
   "source": [
    "print(name[-1])"
   ]
  },
  {
   "cell_type": "code",
   "execution_count": null,
   "id": "8d8234fc",
   "metadata": {},
   "outputs": [],
   "source": [
    "print(name[8])"
   ]
  },
  {
   "cell_type": "code",
   "execution_count": null,
   "id": "0e27732b",
   "metadata": {},
   "outputs": [],
   "source": [
    "len(name)"
   ]
  },
  {
   "cell_type": "code",
   "execution_count": 25,
   "id": "ff1d4802",
   "metadata": {},
   "outputs": [],
   "source": [
    "a=\"This is sample\""
   ]
  },
  {
   "cell_type": "code",
   "execution_count": 26,
   "id": "629e404e",
   "metadata": {},
   "outputs": [
    {
     "data": {
      "text/plain": [
       "14"
      ]
     },
     "execution_count": 26,
     "metadata": {},
     "output_type": "execute_result"
    }
   ],
   "source": [
    "len(a)"
   ]
  },
  {
   "cell_type": "code",
   "execution_count": 27,
   "id": "20dbae95",
   "metadata": {},
   "outputs": [
    {
     "data": {
      "text/plain": [
       "'T'"
      ]
     },
     "execution_count": 27,
     "metadata": {},
     "output_type": "execute_result"
    }
   ],
   "source": [
    "a[-14]"
   ]
  },
  {
   "cell_type": "code",
   "execution_count": 28,
   "id": "3ca89371",
   "metadata": {},
   "outputs": [
    {
     "data": {
      "text/plain": [
       "'T'"
      ]
     },
     "execution_count": 28,
     "metadata": {},
     "output_type": "execute_result"
    }
   ],
   "source": [
    "a[-len(a)]"
   ]
  },
  {
   "cell_type": "code",
   "execution_count": null,
   "id": "43a848a2",
   "metadata": {},
   "outputs": [],
   "source": []
  },
  {
   "cell_type": "code",
   "execution_count": null,
   "id": "882db19d",
   "metadata": {},
   "outputs": [],
   "source": [
    "    0   1   2   3    4   5    6   7   ====>  Positive Index Number\n",
    "    P   r   i   y    a   n    k   a   ====>  String\n",
    "   -8  -7  -6  -5   -4   -3  -2   -1  ====>  Negative Index Number"
   ]
  },
  {
   "cell_type": "code",
   "execution_count": 20,
   "id": "d3fb63e1",
   "metadata": {},
   "outputs": [
    {
     "name": "stdout",
     "output_type": "stream",
     "text": [
      "P\n"
     ]
    }
   ],
   "source": [
    "print(name[0])     #First element"
   ]
  },
  {
   "cell_type": "code",
   "execution_count": 21,
   "id": "c7782c84",
   "metadata": {},
   "outputs": [
    {
     "name": "stdout",
     "output_type": "stream",
     "text": [
      "y\n"
     ]
    }
   ],
   "source": [
    "print(name[3])     "
   ]
  },
  {
   "cell_type": "code",
   "execution_count": 22,
   "id": "7761409e",
   "metadata": {},
   "outputs": [
    {
     "name": "stdout",
     "output_type": "stream",
     "text": [
      "a\n"
     ]
    }
   ],
   "source": [
    "print(name[7])     "
   ]
  },
  {
   "cell_type": "code",
   "execution_count": 24,
   "id": "2ee4d772",
   "metadata": {},
   "outputs": [
    {
     "ename": "IndexError",
     "evalue": "string index out of range",
     "output_type": "error",
     "traceback": [
      "\u001b[1;31m---------------------------------------------------------------------------\u001b[0m",
      "\u001b[1;31mIndexError\u001b[0m                                Traceback (most recent call last)",
      "\u001b[1;32m~\\AppData\\Local\\Temp/ipykernel_22464/896555847.py\u001b[0m in \u001b[0;36m<module>\u001b[1;34m\u001b[0m\n\u001b[1;32m----> 1\u001b[1;33m \u001b[0mprint\u001b[0m\u001b[1;33m(\u001b[0m\u001b[0mname\u001b[0m\u001b[1;33m[\u001b[0m\u001b[1;36m9\u001b[0m\u001b[1;33m]\u001b[0m\u001b[1;33m)\u001b[0m   \u001b[1;31m#IndexError :- string index out of range\u001b[0m\u001b[1;33m\u001b[0m\u001b[1;33m\u001b[0m\u001b[0m\n\u001b[0m",
      "\u001b[1;31mIndexError\u001b[0m: string index out of range"
     ]
    }
   ],
   "source": [
    "print(name[9])   #IndexError :- string index out of range"
   ]
  },
  {
   "cell_type": "code",
   "execution_count": null,
   "id": "8e197378",
   "metadata": {},
   "outputs": [],
   "source": [
    "# Negative Index Number\n",
    "\n",
    "print(name[-8])     \n",
    "print(name[-5])     \n",
    "print(name[-1])    #Last element"
   ]
  },
  {
   "cell_type": "code",
   "execution_count": null,
   "id": "01609052",
   "metadata": {},
   "outputs": [],
   "source": []
  },
  {
   "cell_type": "code",
   "execution_count": null,
   "id": "a4842430",
   "metadata": {},
   "outputs": [],
   "source": [
    "b = \"sghfk\""
   ]
  },
  {
   "cell_type": "code",
   "execution_count": null,
   "id": "aafa1fb3",
   "metadata": {},
   "outputs": [],
   "source": [
    "print(b[-4])"
   ]
  },
  {
   "cell_type": "code",
   "execution_count": null,
   "id": "a0746193",
   "metadata": {},
   "outputs": [],
   "source": [
    "print(b[3])"
   ]
  },
  {
   "cell_type": "code",
   "execution_count": null,
   "id": "d3f1c59e",
   "metadata": {},
   "outputs": [],
   "source": []
  },
  {
   "cell_type": "code",
   "execution_count": null,
   "id": "de0886b6",
   "metadata": {},
   "outputs": [],
   "source": [
    "# Index\n",
    "\n",
    "# Variable[position]\n",
    "\n",
    "#Slicing\n",
    "\n",
    "# Variable[start : End : Step]"
   ]
  },
  {
   "cell_type": "markdown",
   "id": "2292dec4",
   "metadata": {},
   "source": [
    "## Slicing"
   ]
  },
  {
   "cell_type": "raw",
   "id": "422268eb",
   "metadata": {},
   "source": [
    "\n",
    "Slicing :-\n",
    "\n",
    "    Slicing in Python is a feature that enables accessing parts of the sequence. \n",
    "    We use slicing when we require a part of the string and not the complete string.\n",
    "    \n",
    "Syntax :\n",
    "        string[start : end : step]\n",
    "\n",
    "    start : We provide the starting index.\n",
    "    end : We provide the end index(this is not included in substring).\n",
    "    step : It is an optional argument that determines the increment between each index for slicing.\n",
    "    \n",
    "    left ------------------>right"
   ]
  },
  {
   "cell_type": "code",
   "execution_count": null,
   "id": "da9592fb",
   "metadata": {},
   "outputs": [],
   "source": [
    "    0   1   2   3    4   5    6   7   ====>  Positive Index Number\n",
    "    P   r   i   y    a   n    k   a   ====>  String\n",
    "   -8  -7  -6  -5   -4   -3  -2   -1  ====>  Negative Index Number"
   ]
  },
  {
   "cell_type": "code",
   "execution_count": 29,
   "id": "bf5904d3",
   "metadata": {},
   "outputs": [
    {
     "data": {
      "text/plain": [
       "38"
      ]
     },
     "execution_count": 29,
     "metadata": {},
     "output_type": "execute_result"
    }
   ],
   "source": [
    "#         0123456789   13\n",
    "string = \"This is python class for Data Analyst.\"\n",
    "#                 8\n",
    "len(string)"
   ]
  },
  {
   "cell_type": "code",
   "execution_count": null,
   "id": "955d1ec1",
   "metadata": {},
   "outputs": [],
   "source": []
  },
  {
   "cell_type": "code",
   "execution_count": null,
   "id": "5c9cf60d",
   "metadata": {},
   "outputs": [],
   "source": []
  },
  {
   "cell_type": "code",
   "execution_count": 30,
   "id": "7d02d28d",
   "metadata": {},
   "outputs": [
    {
     "name": "stdout",
     "output_type": "stream",
     "text": [
      "This is python class for Data Analyst.\n",
      "<class 'str'>\n",
      "38\n"
     ]
    }
   ],
   "source": [
    "print(string)\n",
    "print(type(string))\n",
    "print(len(string))"
   ]
  },
  {
   "cell_type": "code",
   "execution_count": 31,
   "id": "c8c6905d",
   "metadata": {},
   "outputs": [
    {
     "data": {
      "text/plain": [
       "'python'"
      ]
     },
     "execution_count": 31,
     "metadata": {},
     "output_type": "execute_result"
    }
   ],
   "source": [
    "string[8:14]"
   ]
  },
  {
   "cell_type": "code",
   "execution_count": 33,
   "id": "47f083f0",
   "metadata": {},
   "outputs": [
    {
     "data": {
      "text/plain": [
       "'This'"
      ]
     },
     "execution_count": 33,
     "metadata": {},
     "output_type": "execute_result"
    }
   ],
   "source": [
    "string[0:4]"
   ]
  },
  {
   "cell_type": "code",
   "execution_count": null,
   "id": "9ecf59bf",
   "metadata": {},
   "outputs": [],
   "source": [
    "#Slicing\n",
    "string[0:7]"
   ]
  },
  {
   "cell_type": "code",
   "execution_count": null,
   "id": "60bea43e",
   "metadata": {},
   "outputs": [],
   "source": [
    "string[1:2]"
   ]
  },
  {
   "cell_type": "code",
   "execution_count": null,
   "id": "92d7d982",
   "metadata": {},
   "outputs": [],
   "source": [
    "string[0:7:2]"
   ]
  },
  {
   "cell_type": "code",
   "execution_count": null,
   "id": "b3812ade",
   "metadata": {},
   "outputs": [],
   "source": [
    "string[7:0]"
   ]
  },
  {
   "cell_type": "code",
   "execution_count": null,
   "id": "77cd756e",
   "metadata": {},
   "outputs": [],
   "source": [
    "#         0123456789   13\n",
    "string = \"This is python class for Data Analyst.\"\n",
    "#                 8"
   ]
  },
  {
   "cell_type": "code",
   "execution_count": null,
   "id": "6eb5493f",
   "metadata": {},
   "outputs": [],
   "source": [
    "# Extract only python word\n",
    "\n",
    "string[8:14]"
   ]
  },
  {
   "cell_type": "code",
   "execution_count": null,
   "id": "3a910de8",
   "metadata": {},
   "outputs": [],
   "source": []
  }
 ],
 "metadata": {
  "kernelspec": {
   "display_name": "Python 3 (ipykernel)",
   "language": "python",
   "name": "python3"
  },
  "language_info": {
   "codemirror_mode": {
    "name": "ipython",
    "version": 3
   },
   "file_extension": ".py",
   "mimetype": "text/x-python",
   "name": "python",
   "nbconvert_exporter": "python",
   "pygments_lexer": "ipython3",
   "version": "3.9.7"
  }
 },
 "nbformat": 4,
 "nbformat_minor": 5
}
