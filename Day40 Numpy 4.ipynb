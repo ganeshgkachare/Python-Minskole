{
 "cells": [
  {
   "cell_type": "code",
   "execution_count": 2,
   "id": "3709c71c",
   "metadata": {},
   "outputs": [],
   "source": [
    "import numpy as np  #import numpy"
   ]
  },
  {
   "cell_type": "code",
   "execution_count": null,
   "id": "f1c6479f",
   "metadata": {},
   "outputs": [],
   "source": [
    "# we cannot apply mathematical operators directly on lists\n",
    "# we can apply mathematical operators directly on Array\n",
    "\n",
    "# List store elements of different data type\n",
    "# Array store elements of same data type (homogeneous)\n",
    "\n",
    "# NumPy operations are faster than standard Python lists.\n",
    "\n",
    "# np.array(L,dtype=int) # Create 1D array\n",
    "# Array is mutable and iterable\n",
    "\n",
    "\n",
    "# Array.shape #array shape :tuple representing the dimensions of the array\n",
    "# Array.ndim  # dimension\n",
    "# Array.size  # no. arry elements\n",
    "# Array.dtype #data type of array element (int,float,complex,bool,string,object)\n",
    "# Array.astype(datatype)  #Change datatype"
   ]
  },
  {
   "cell_type": "code",
   "execution_count": null,
   "id": "2bbf52a6",
   "metadata": {},
   "outputs": [],
   "source": [
    "# arange\n",
    "# np.arange(start,stop,stepsize,dtype)\n",
    "#              0           +1            Default  # fractional step count is allowed "
   ]
  },
  {
   "cell_type": "code",
   "execution_count": null,
   "id": "e5a03f20",
   "metadata": {},
   "outputs": [],
   "source": [
    "#linspace() :- returns evenly spaced numbers over a specified interval.\n",
    "#linspace(start,  end,  num,    endpoint=True,    retstep=False)\n",
    "#                      (part)   include/exclud    Gives stepsize"
   ]
  },
  {
   "cell_type": "code",
   "execution_count": 2,
   "id": "18eebbba",
   "metadata": {},
   "outputs": [
    {
     "data": {
      "text/plain": [
       "array([0, 1, 2, 3, 4])"
      ]
     },
     "execution_count": 2,
     "metadata": {},
     "output_type": "execute_result"
    }
   ],
   "source": [
    "np.arange(5)"
   ]
  },
  {
   "cell_type": "code",
   "execution_count": 3,
   "id": "4f6a5506",
   "metadata": {},
   "outputs": [
    {
     "data": {
      "text/plain": [
       "array([ 5,  6,  7,  8,  9, 10, 11])"
      ]
     },
     "execution_count": 3,
     "metadata": {},
     "output_type": "execute_result"
    }
   ],
   "source": [
    "np.arange(5,12)"
   ]
  },
  {
   "cell_type": "code",
   "execution_count": 4,
   "id": "f737daff",
   "metadata": {},
   "outputs": [
    {
     "data": {
      "text/plain": [
       "array([5])"
      ]
     },
     "execution_count": 4,
     "metadata": {},
     "output_type": "execute_result"
    }
   ],
   "source": [
    "np.arange(5,12,10)"
   ]
  },
  {
   "cell_type": "code",
   "execution_count": 12,
   "id": "e74b5c7d",
   "metadata": {},
   "outputs": [
    {
     "data": {
      "text/plain": [
       "array([1, 2, 3, 4, 5])"
      ]
     },
     "execution_count": 12,
     "metadata": {},
     "output_type": "execute_result"
    }
   ],
   "source": [
    "# Creating 1D array: Excel (perticular column only)\n",
    "\n",
    "arr = np.array([1, 2, 3, 4, 5])\n",
    "arr"
   ]
  },
  {
   "cell_type": "code",
   "execution_count": 3,
   "id": "633bf646",
   "metadata": {},
   "outputs": [
    {
     "data": {
      "text/plain": [
       "array([[1, 2, 3],\n",
       "       [4, 5, 6]])"
      ]
     },
     "execution_count": 3,
     "metadata": {},
     "output_type": "execute_result"
    }
   ],
   "source": [
    "# Creating  2D array: Excel (Row and columns)\n",
    "\n",
    "arr2d = np.array([[1, 2, 3], [4, 5, 6]])\n",
    "arr2d"
   ]
  },
  {
   "cell_type": "code",
   "execution_count": 4,
   "id": "8ce2d1ad",
   "metadata": {},
   "outputs": [
    {
     "data": {
      "text/plain": [
       "array([[[1, 2, 3],\n",
       "        [4, 5, 6]]])"
      ]
     },
     "execution_count": 4,
     "metadata": {},
     "output_type": "execute_result"
    }
   ],
   "source": [
    "# Creating  3D array: Image\n",
    "\n",
    "arr3d = np.array([[[1, 2, 3], [4, 5, 6]]])\n",
    "arr3d"
   ]
  },
  {
   "cell_type": "code",
   "execution_count": null,
   "id": "031995fb",
   "metadata": {},
   "outputs": [],
   "source": [
    "[1,2,3,[1,2,3[1,2,3]],1,2,3]\n",
    "        3     3"
   ]
  },
  {
   "cell_type": "code",
   "execution_count": null,
   "id": "6a79f1f6",
   "metadata": {},
   "outputs": [],
   "source": [
    "[3][3]"
   ]
  },
  {
   "cell_type": "code",
   "execution_count": 18,
   "id": "1b5600d6",
   "metadata": {},
   "outputs": [
    {
     "data": {
      "text/plain": [
       "(2, 3, 3)"
      ]
     },
     "execution_count": 18,
     "metadata": {},
     "output_type": "execute_result"
    }
   ],
   "source": [
    "np.array([[[1, 2, 3], [4, 5, 6],[4, 5, 6]],\n",
    "          [[1, 2, 3], [4, 5, 6],[4, 5, 6]]]).shape"
   ]
  },
  {
   "cell_type": "code",
   "execution_count": 13,
   "id": "c09902d7",
   "metadata": {},
   "outputs": [
    {
     "data": {
      "text/plain": [
       "(5,)"
      ]
     },
     "execution_count": 13,
     "metadata": {},
     "output_type": "execute_result"
    }
   ],
   "source": [
    "arr.shape"
   ]
  },
  {
   "cell_type": "code",
   "execution_count": 14,
   "id": "42a7d6cf",
   "metadata": {},
   "outputs": [
    {
     "data": {
      "text/plain": [
       "(2, 3)"
      ]
     },
     "execution_count": 14,
     "metadata": {},
     "output_type": "execute_result"
    }
   ],
   "source": [
    "arr2d.shape #array shape :tuple representing the dimensions of the array"
   ]
  },
  {
   "cell_type": "code",
   "execution_count": 15,
   "id": "fbb7b2f7",
   "metadata": {},
   "outputs": [
    {
     "data": {
      "text/plain": [
       "(1, 2, 3)"
      ]
     },
     "execution_count": 15,
     "metadata": {},
     "output_type": "execute_result"
    }
   ],
   "source": [
    "arr3d.shape"
   ]
  },
  {
   "cell_type": "code",
   "execution_count": 1,
   "id": "ba8b97b7",
   "metadata": {},
   "outputs": [
    {
     "ename": "NameError",
     "evalue": "name 'arr2d' is not defined",
     "output_type": "error",
     "traceback": [
      "\u001b[1;31m---------------------------------------------------------------------------\u001b[0m",
      "\u001b[1;31mNameError\u001b[0m                                 Traceback (most recent call last)",
      "\u001b[1;32m~\\AppData\\Local\\Temp/ipykernel_6272/1077624391.py\u001b[0m in \u001b[0;36m<module>\u001b[1;34m\u001b[0m\n\u001b[1;32m----> 1\u001b[1;33m \u001b[0marr2d\u001b[0m\u001b[1;33m.\u001b[0m\u001b[0mndim\u001b[0m  \u001b[1;31m# dimension\u001b[0m\u001b[1;33m\u001b[0m\u001b[1;33m\u001b[0m\u001b[0m\n\u001b[0m",
      "\u001b[1;31mNameError\u001b[0m: name 'arr2d' is not defined"
     ]
    }
   ],
   "source": [
    "arr2d.ndim  # dimension"
   ]
  },
  {
   "cell_type": "code",
   "execution_count": 5,
   "id": "5d2d96e2",
   "metadata": {},
   "outputs": [
    {
     "data": {
      "text/plain": [
       "6"
      ]
     },
     "execution_count": 5,
     "metadata": {},
     "output_type": "execute_result"
    }
   ],
   "source": [
    "arr2d.size  # no. arry elements"
   ]
  },
  {
   "cell_type": "code",
   "execution_count": 6,
   "id": "229ed048",
   "metadata": {},
   "outputs": [
    {
     "data": {
      "text/plain": [
       "dtype('int32')"
      ]
     },
     "execution_count": 6,
     "metadata": {},
     "output_type": "execute_result"
    }
   ],
   "source": [
    "arr2d.dtype #data type of array element (int,float,complex,bool,string,object)"
   ]
  },
  {
   "cell_type": "code",
   "execution_count": null,
   "id": "3ae9f8b8",
   "metadata": {},
   "outputs": [],
   "source": []
  }
 ],
 "metadata": {
  "kernelspec": {
   "display_name": "Python 3 (ipykernel)",
   "language": "python",
   "name": "python3"
  },
  "language_info": {
   "codemirror_mode": {
    "name": "ipython",
    "version": 3
   },
   "file_extension": ".py",
   "mimetype": "text/x-python",
   "name": "python",
   "nbconvert_exporter": "python",
   "pygments_lexer": "ipython3",
   "version": "3.9.7"
  }
 },
 "nbformat": 4,
 "nbformat_minor": 5
}
