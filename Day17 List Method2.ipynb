{
 "cells": [
  {
   "cell_type": "code",
   "execution_count": 7,
   "id": "9b229b48",
   "metadata": {},
   "outputs": [
    {
     "name": "stdout",
     "output_type": "stream",
     "text": [
      "[8, 9, 12, 23, 24, 25]\n"
     ]
    }
   ],
   "source": [
    "# The remove() method removes the specified item.\n",
    "b = [8, 9, 12, 23,18, 24, 25]\n",
    "c=b.remove(18) # provide value not index\n",
    "print(b)"
   ]
  },
  {
   "cell_type": "code",
   "execution_count": null,
   "id": "116e3d4b",
   "metadata": {},
   "outputs": [],
   "source": [
    "c"
   ]
  },
  {
   "cell_type": "code",
   "execution_count": 8,
   "id": "e59ee5e8",
   "metadata": {},
   "outputs": [],
   "source": [
    "# The pop() method removes the specified index.\n",
    "b = [8, 9, 12, 23,18, 24, 25]"
   ]
  },
  {
   "cell_type": "code",
   "execution_count": 9,
   "id": "7d454405",
   "metadata": {},
   "outputs": [
    {
     "name": "stdout",
     "output_type": "stream",
     "text": [
      "25\n"
     ]
    }
   ],
   "source": [
    "print(b.pop()) # provide index not value"
   ]
  },
  {
   "cell_type": "code",
   "execution_count": 10,
   "id": "a76e1277",
   "metadata": {},
   "outputs": [
    {
     "name": "stdout",
     "output_type": "stream",
     "text": [
      "[8, 9, 12, 23, 18, 24]\n"
     ]
    }
   ],
   "source": [
    "print(b)"
   ]
  },
  {
   "cell_type": "code",
   "execution_count": 11,
   "id": "15e8f053",
   "metadata": {},
   "outputs": [],
   "source": [
    "b = [8, 9, 12, 23,18, 24, 25]"
   ]
  },
  {
   "cell_type": "code",
   "execution_count": 12,
   "id": "c18cb479",
   "metadata": {},
   "outputs": [
    {
     "name": "stdout",
     "output_type": "stream",
     "text": [
      "23\n"
     ]
    }
   ],
   "source": [
    "print(b.pop(3)) # provide index not value"
   ]
  },
  {
   "cell_type": "code",
   "execution_count": 13,
   "id": "e8780d6f",
   "metadata": {},
   "outputs": [
    {
     "data": {
      "text/plain": [
       "[8, 9, 12, 18, 24, 25]"
      ]
     },
     "execution_count": 13,
     "metadata": {},
     "output_type": "execute_result"
    }
   ],
   "source": [
    "b"
   ]
  },
  {
   "cell_type": "code",
   "execution_count": null,
   "id": "ada73ed4",
   "metadata": {},
   "outputs": [],
   "source": []
  },
  {
   "cell_type": "code",
   "execution_count": 14,
   "id": "33beda76",
   "metadata": {},
   "outputs": [],
   "source": [
    "# If you do not specify the index, the pop() method removes the last item.\n",
    "b = [8, 9, 12, 23,18, 24, 25]"
   ]
  },
  {
   "cell_type": "code",
   "execution_count": 15,
   "id": "5239873b",
   "metadata": {},
   "outputs": [
    {
     "name": "stdout",
     "output_type": "stream",
     "text": [
      "25\n"
     ]
    }
   ],
   "source": [
    "print(b.pop())"
   ]
  },
  {
   "cell_type": "code",
   "execution_count": 16,
   "id": "2cb83607",
   "metadata": {},
   "outputs": [
    {
     "name": "stdout",
     "output_type": "stream",
     "text": [
      "[8, 9, 12, 23, 18, 24]\n"
     ]
    }
   ],
   "source": [
    "print(b)"
   ]
  },
  {
   "cell_type": "code",
   "execution_count": 17,
   "id": "7bc1317f",
   "metadata": {},
   "outputs": [],
   "source": [
    "a=\"Python\""
   ]
  },
  {
   "cell_type": "code",
   "execution_count": 20,
   "id": "04fedfd4",
   "metadata": {},
   "outputs": [
    {
     "ename": "NameError",
     "evalue": "name 'a' is not defined",
     "output_type": "error",
     "traceback": [
      "\u001b[1;31m---------------------------------------------------------------------------\u001b[0m",
      "\u001b[1;31mNameError\u001b[0m                                 Traceback (most recent call last)",
      "\u001b[1;32m~\\AppData\\Local\\Temp/ipykernel_10604/2167009006.py\u001b[0m in \u001b[0;36m<module>\u001b[1;34m\u001b[0m\n\u001b[1;32m----> 1\u001b[1;33m \u001b[0ma\u001b[0m\u001b[1;33m\u001b[0m\u001b[1;33m\u001b[0m\u001b[0m\n\u001b[0m",
      "\u001b[1;31mNameError\u001b[0m: name 'a' is not defined"
     ]
    }
   ],
   "source": [
    "a"
   ]
  },
  {
   "cell_type": "code",
   "execution_count": 19,
   "id": "a18ec6cb",
   "metadata": {},
   "outputs": [],
   "source": [
    "del a[]"
   ]
  },
  {
   "cell_type": "code",
   "execution_count": 21,
   "id": "1b8661b7",
   "metadata": {},
   "outputs": [
    {
     "name": "stdout",
     "output_type": "stream",
     "text": [
      "[8, 9, 12, 18, 24, 25]\n"
     ]
    }
   ],
   "source": [
    "# The del keyword also removes the specified index:\n",
    "b = [8, 9, 12, 23,18, 24, 25]\n",
    "del b[3]\n",
    "print(b)"
   ]
  },
  {
   "cell_type": "code",
   "execution_count": 22,
   "id": "ee3d8d8b",
   "metadata": {},
   "outputs": [],
   "source": [
    "del b"
   ]
  },
  {
   "cell_type": "code",
   "execution_count": 23,
   "id": "d50b0e5d",
   "metadata": {},
   "outputs": [
    {
     "ename": "NameError",
     "evalue": "name 'b' is not defined",
     "output_type": "error",
     "traceback": [
      "\u001b[1;31m---------------------------------------------------------------------------\u001b[0m",
      "\u001b[1;31mNameError\u001b[0m                                 Traceback (most recent call last)",
      "\u001b[1;32m~\\AppData\\Local\\Temp/ipykernel_10604/1685013873.py\u001b[0m in \u001b[0;36m<module>\u001b[1;34m\u001b[0m\n\u001b[1;32m----> 1\u001b[1;33m \u001b[0mb\u001b[0m\u001b[1;33m\u001b[0m\u001b[1;33m\u001b[0m\u001b[0m\n\u001b[0m",
      "\u001b[1;31mNameError\u001b[0m: name 'b' is not defined"
     ]
    }
   ],
   "source": [
    "b"
   ]
  },
  {
   "cell_type": "code",
   "execution_count": null,
   "id": "5d979fcd",
   "metadata": {},
   "outputs": [],
   "source": [
    "# The del keyword can also delete the list completely.\n",
    "b = [8, 9, 12, 23,18, 24, 25]\n",
    "del b\n",
    "print(b)"
   ]
  },
  {
   "cell_type": "code",
   "execution_count": 24,
   "id": "695d635a",
   "metadata": {},
   "outputs": [
    {
     "name": "stdout",
     "output_type": "stream",
     "text": [
      "[]\n"
     ]
    }
   ],
   "source": [
    "# The clear() method empties the list.\n",
    "b = [8, 9, 12, 23,18, 24, 25]\n",
    "b.clear()\n",
    "print(b)"
   ]
  },
  {
   "cell_type": "code",
   "execution_count": null,
   "id": "71e2a540",
   "metadata": {},
   "outputs": [],
   "source": [
    "# sorted ==>function\n",
    "# sort==> method"
   ]
  },
  {
   "cell_type": "code",
   "execution_count": 25,
   "id": "855a6272",
   "metadata": {},
   "outputs": [],
   "source": [
    "# Sort the list alphabetically:\n",
    "\n",
    "thislist = [\"orange\", \"mango\", \"kiwi\", \"pineapple\", \"banana\"]"
   ]
  },
  {
   "cell_type": "code",
   "execution_count": 26,
   "id": "768b5180",
   "metadata": {},
   "outputs": [
    {
     "data": {
      "text/plain": [
       "['orange', 'mango', 'kiwi', 'pineapple', 'banana']"
      ]
     },
     "execution_count": 26,
     "metadata": {},
     "output_type": "execute_result"
    }
   ],
   "source": [
    "thislist"
   ]
  },
  {
   "cell_type": "code",
   "execution_count": 28,
   "id": "253e6278",
   "metadata": {},
   "outputs": [
    {
     "name": "stdout",
     "output_type": "stream",
     "text": [
      "None\n"
     ]
    }
   ],
   "source": [
    "print(thislist.sort())"
   ]
  },
  {
   "cell_type": "code",
   "execution_count": 29,
   "id": "006c87f2",
   "metadata": {},
   "outputs": [
    {
     "name": "stdout",
     "output_type": "stream",
     "text": [
      "['banana', 'kiwi', 'mango', 'orange', 'pineapple']\n"
     ]
    }
   ],
   "source": [
    "print(thislist)"
   ]
  },
  {
   "cell_type": "code",
   "execution_count": 30,
   "id": "49024c62",
   "metadata": {},
   "outputs": [
    {
     "name": "stdout",
     "output_type": "stream",
     "text": [
      "['pineapple', 'orange', 'mango', 'kiwi', 'banana']\n"
     ]
    }
   ],
   "source": [
    "thislist.sort(reverse=True)\n",
    "print(thislist)"
   ]
  },
  {
   "cell_type": "code",
   "execution_count": 31,
   "id": "f9271120",
   "metadata": {},
   "outputs": [
    {
     "name": "stdout",
     "output_type": "stream",
     "text": [
      "['banana', 'kiwi', 'mango', 'orange', 'pineapple']\n"
     ]
    }
   ],
   "source": [
    "thislist.sort(reverse=False)\n",
    "print(thislist)"
   ]
  },
  {
   "cell_type": "code",
   "execution_count": 32,
   "id": "95c689f3",
   "metadata": {},
   "outputs": [
    {
     "name": "stdout",
     "output_type": "stream",
     "text": [
      "[100, 82, 65, 50, 23]\n"
     ]
    }
   ],
   "source": [
    "# Sort the list numerically:\n",
    "\n",
    "thislist = [100, 50, 65, 82, 23]\n",
    "thislist.sort(reverse=True)\n",
    "print(thislist)"
   ]
  },
  {
   "cell_type": "code",
   "execution_count": 33,
   "id": "19f2d784",
   "metadata": {},
   "outputs": [
    {
     "ename": "TypeError",
     "evalue": "'<' not supported between instances of 'int' and 'str'",
     "output_type": "error",
     "traceback": [
      "\u001b[1;31m---------------------------------------------------------------------------\u001b[0m",
      "\u001b[1;31mTypeError\u001b[0m                                 Traceback (most recent call last)",
      "\u001b[1;32m~\\AppData\\Local\\Temp/ipykernel_10604/3400867559.py\u001b[0m in \u001b[0;36m<module>\u001b[1;34m\u001b[0m\n\u001b[0;32m      1\u001b[0m \u001b[1;31m# Does not work if different datatypes present\u001b[0m\u001b[1;33m\u001b[0m\u001b[1;33m\u001b[0m\u001b[0m\n\u001b[0;32m      2\u001b[0m \u001b[0mthislist\u001b[0m \u001b[1;33m=\u001b[0m \u001b[1;33m[\u001b[0m\u001b[1;34m\"orange\"\u001b[0m\u001b[1;33m,\u001b[0m \u001b[1;34m\"mango\"\u001b[0m\u001b[1;33m,\u001b[0m \u001b[1;36m434\u001b[0m\u001b[1;33m,\u001b[0m\u001b[1;36m890\u001b[0m\u001b[1;33m,\u001b[0m\u001b[1;36m1\u001b[0m\u001b[1;33m,\u001b[0m\u001b[1;36m4\u001b[0m\u001b[1;33m,\u001b[0m\u001b[1;36m9\u001b[0m\u001b[1;33m,\u001b[0m\u001b[1;34m\"kiwi\"\u001b[0m\u001b[1;33m,\u001b[0m \u001b[1;34m\"pineapple\"\u001b[0m\u001b[1;33m,\u001b[0m \u001b[1;34m\"banana\"\u001b[0m\u001b[1;33m]\u001b[0m\u001b[1;33m\u001b[0m\u001b[1;33m\u001b[0m\u001b[0m\n\u001b[1;32m----> 3\u001b[1;33m \u001b[0mthislist\u001b[0m\u001b[1;33m.\u001b[0m\u001b[0msort\u001b[0m\u001b[1;33m(\u001b[0m\u001b[1;33m)\u001b[0m\u001b[1;33m\u001b[0m\u001b[1;33m\u001b[0m\u001b[0m\n\u001b[0m\u001b[0;32m      4\u001b[0m \u001b[0mprint\u001b[0m\u001b[1;33m(\u001b[0m\u001b[0mthislist\u001b[0m\u001b[1;33m)\u001b[0m\u001b[1;33m\u001b[0m\u001b[1;33m\u001b[0m\u001b[0m\n",
      "\u001b[1;31mTypeError\u001b[0m: '<' not supported between instances of 'int' and 'str'"
     ]
    }
   ],
   "source": [
    "# Does not work if different datatypes present \n",
    "thislist = [\"orange\", \"mango\", 434,890,1,4,9,\"kiwi\", \"pineapple\", \"banana\"]\n",
    "thislist.sort()\n",
    "print(thislist)"
   ]
  },
  {
   "cell_type": "code",
   "execution_count": null,
   "id": "3b200997",
   "metadata": {},
   "outputs": [],
   "source": [
    "5<6"
   ]
  },
  {
   "cell_type": "code",
   "execution_count": 34,
   "id": "f9e0865a",
   "metadata": {},
   "outputs": [
    {
     "ename": "TypeError",
     "evalue": "'<' not supported between instances of 'int' and 'str'",
     "output_type": "error",
     "traceback": [
      "\u001b[1;31m---------------------------------------------------------------------------\u001b[0m",
      "\u001b[1;31mTypeError\u001b[0m                                 Traceback (most recent call last)",
      "\u001b[1;32m~\\AppData\\Local\\Temp/ipykernel_10604/3335631242.py\u001b[0m in \u001b[0;36m<module>\u001b[1;34m\u001b[0m\n\u001b[1;32m----> 1\u001b[1;33m \u001b[1;36m5\u001b[0m\u001b[1;33m<\u001b[0m\u001b[1;34m\"6\"\u001b[0m\u001b[1;33m\u001b[0m\u001b[1;33m\u001b[0m\u001b[0m\n\u001b[0m",
      "\u001b[1;31mTypeError\u001b[0m: '<' not supported between instances of 'int' and 'str'"
     ]
    }
   ],
   "source": [
    "5<\"6\""
   ]
  },
  {
   "cell_type": "code",
   "execution_count": 35,
   "id": "197f5458",
   "metadata": {},
   "outputs": [
    {
     "name": "stdout",
     "output_type": "stream",
     "text": [
      "['pineapple', 'orange', 'mango', 'kiwi', 'banana']\n"
     ]
    }
   ],
   "source": [
    "# Sort Descending\n",
    "# To sort descending, use the keyword argument reverse = True:\n",
    "\n",
    "# Example\n",
    "# Sort the list descending:\n",
    "\n",
    "thislist = [\"orange\", \"mango\", \"kiwi\", \"pineapple\", \"banana\"]\n",
    "thislist.sort(reverse = True)\n",
    "print(thislist)"
   ]
  },
  {
   "cell_type": "code",
   "execution_count": 36,
   "id": "5407ccb1",
   "metadata": {},
   "outputs": [],
   "source": [
    "thislist = [100, 50, 65, 82, 23]"
   ]
  },
  {
   "cell_type": "code",
   "execution_count": 37,
   "id": "caf1c4ff",
   "metadata": {},
   "outputs": [],
   "source": [
    "thislist.sort(reverse = True)"
   ]
  },
  {
   "cell_type": "code",
   "execution_count": null,
   "id": "ded16722",
   "metadata": {},
   "outputs": [],
   "source": [
    "print(thislist)"
   ]
  },
  {
   "cell_type": "code",
   "execution_count": null,
   "id": "196c5d91",
   "metadata": {},
   "outputs": [],
   "source": [
    "# Sorted\n",
    "thislist = [100, 50, 65, 82, 23]"
   ]
  },
  {
   "cell_type": "code",
   "execution_count": null,
   "id": "21a7848b",
   "metadata": {},
   "outputs": [],
   "source": [
    "print(sorted(thislist))"
   ]
  },
  {
   "cell_type": "code",
   "execution_count": null,
   "id": "96f751e4",
   "metadata": {},
   "outputs": [],
   "source": [
    "print(thislist)"
   ]
  },
  {
   "cell_type": "code",
   "execution_count": null,
   "id": "79278617",
   "metadata": {},
   "outputs": [],
   "source": [
    "sorted(thislist,reverse=True)"
   ]
  },
  {
   "cell_type": "code",
   "execution_count": null,
   "id": "be9867b3",
   "metadata": {},
   "outputs": [],
   "source": [
    "sorted(thislist,reverse=False)"
   ]
  },
  {
   "cell_type": "code",
   "execution_count": null,
   "id": "c0b814ee",
   "metadata": {},
   "outputs": [],
   "source": []
  },
  {
   "cell_type": "code",
   "execution_count": 38,
   "id": "fae32bd5",
   "metadata": {},
   "outputs": [],
   "source": [
    "#Difference between sort and sorted?"
   ]
  },
  {
   "cell_type": "code",
   "execution_count": 39,
   "id": "10b145ca",
   "metadata": {},
   "outputs": [],
   "source": [
    "a=[100, 50, 65, 82, 23]"
   ]
  },
  {
   "cell_type": "code",
   "execution_count": 40,
   "id": "5aa5580f",
   "metadata": {},
   "outputs": [],
   "source": [
    "c=a.sort()"
   ]
  },
  {
   "cell_type": "code",
   "execution_count": 41,
   "id": "d67fe86a",
   "metadata": {},
   "outputs": [
    {
     "data": {
      "text/plain": [
       "[23, 50, 65, 82, 100]"
      ]
     },
     "execution_count": 41,
     "metadata": {},
     "output_type": "execute_result"
    }
   ],
   "source": [
    "a"
   ]
  },
  {
   "cell_type": "code",
   "execution_count": 42,
   "id": "4ee4463e",
   "metadata": {},
   "outputs": [
    {
     "name": "stdout",
     "output_type": "stream",
     "text": [
      "None\n"
     ]
    }
   ],
   "source": [
    "print(c)"
   ]
  },
  {
   "cell_type": "code",
   "execution_count": 43,
   "id": "01fce028",
   "metadata": {},
   "outputs": [],
   "source": [
    "a=[100, 50, 65, 82, 23]"
   ]
  },
  {
   "cell_type": "code",
   "execution_count": 44,
   "id": "6123b681",
   "metadata": {},
   "outputs": [],
   "source": [
    "c=sorted(a)"
   ]
  },
  {
   "cell_type": "code",
   "execution_count": 45,
   "id": "83394ec4",
   "metadata": {},
   "outputs": [
    {
     "data": {
      "text/plain": [
       "[100, 50, 65, 82, 23]"
      ]
     },
     "execution_count": 45,
     "metadata": {},
     "output_type": "execute_result"
    }
   ],
   "source": [
    "a"
   ]
  },
  {
   "cell_type": "code",
   "execution_count": 46,
   "id": "cc9aec8c",
   "metadata": {},
   "outputs": [
    {
     "name": "stdout",
     "output_type": "stream",
     "text": [
      "[23, 50, 65, 82, 100]\n"
     ]
    }
   ],
   "source": [
    "print(c)"
   ]
  },
  {
   "cell_type": "code",
   "execution_count": null,
   "id": "358e2d0f",
   "metadata": {},
   "outputs": [],
   "source": []
  },
  {
   "cell_type": "code",
   "execution_count": null,
   "id": "d4c83ac9",
   "metadata": {},
   "outputs": [],
   "source": [
    "# Copy a List\n",
    "# You cannot copy a list simply by typing list2 = list1, \n",
    "# because: list2 will only be a reference to list1,\n",
    "# and changes made in list1 will automatically also be made in list2.\n",
    "\n",
    "# There are ways to make a copy, one way is to use the built-in List method copy()."
   ]
  },
  {
   "cell_type": "code",
   "execution_count": 48,
   "id": "3f70c67a",
   "metadata": {},
   "outputs": [],
   "source": [
    "a=5"
   ]
  },
  {
   "cell_type": "code",
   "execution_count": 49,
   "id": "16b35cdb",
   "metadata": {},
   "outputs": [],
   "source": [
    "b = a"
   ]
  },
  {
   "cell_type": "code",
   "execution_count": 57,
   "id": "0124cb5e",
   "metadata": {},
   "outputs": [],
   "source": [
    "# Example\n",
    "# Make a copy of a list with the copy() method:\n",
    "a = [2,3,4,5,6]\n",
    "b = a    \n"
   ]
  },
  {
   "cell_type": "code",
   "execution_count": 58,
   "id": "baef5274",
   "metadata": {},
   "outputs": [
    {
     "data": {
      "text/plain": [
       "[2, 3, 4, 5, 6]"
      ]
     },
     "execution_count": 58,
     "metadata": {},
     "output_type": "execute_result"
    }
   ],
   "source": [
    "a"
   ]
  },
  {
   "cell_type": "code",
   "execution_count": 59,
   "id": "c2ad4f9d",
   "metadata": {},
   "outputs": [
    {
     "data": {
      "text/plain": [
       "[2, 3, 4, 5, 6]"
      ]
     },
     "execution_count": 59,
     "metadata": {},
     "output_type": "execute_result"
    }
   ],
   "source": [
    "b"
   ]
  },
  {
   "cell_type": "code",
   "execution_count": 62,
   "id": "d2577195",
   "metadata": {},
   "outputs": [
    {
     "data": {
      "text/plain": [
       "'Three'"
      ]
     },
     "execution_count": 62,
     "metadata": {},
     "output_type": "execute_result"
    }
   ],
   "source": [
    "b[1]"
   ]
  },
  {
   "cell_type": "code",
   "execution_count": 61,
   "id": "f6276bad",
   "metadata": {},
   "outputs": [],
   "source": [
    "b[1] = \"Three\""
   ]
  },
  {
   "cell_type": "code",
   "execution_count": 63,
   "id": "4218fe17",
   "metadata": {},
   "outputs": [
    {
     "data": {
      "text/plain": [
       "[2, 'Three', 4, 5, 6]"
      ]
     },
     "execution_count": 63,
     "metadata": {},
     "output_type": "execute_result"
    }
   ],
   "source": [
    "b"
   ]
  },
  {
   "cell_type": "code",
   "execution_count": 64,
   "id": "c125b757",
   "metadata": {},
   "outputs": [
    {
     "data": {
      "text/plain": [
       "[2, 'Three', 4, 5, 6]"
      ]
     },
     "execution_count": 64,
     "metadata": {},
     "output_type": "execute_result"
    }
   ],
   "source": [
    "a"
   ]
  },
  {
   "cell_type": "code",
   "execution_count": null,
   "id": "af54227c",
   "metadata": {},
   "outputs": [],
   "source": []
  },
  {
   "cell_type": "code",
   "execution_count": 65,
   "id": "419879fa",
   "metadata": {},
   "outputs": [],
   "source": [
    "a = [2,3,4,5,6]\n",
    "c=a.copy()  "
   ]
  },
  {
   "cell_type": "code",
   "execution_count": 66,
   "id": "70b1a9e3",
   "metadata": {},
   "outputs": [
    {
     "data": {
      "text/plain": [
       "[2, 3, 4, 5, 6]"
      ]
     },
     "execution_count": 66,
     "metadata": {},
     "output_type": "execute_result"
    }
   ],
   "source": [
    "a"
   ]
  },
  {
   "cell_type": "code",
   "execution_count": 67,
   "id": "d7819ab7",
   "metadata": {},
   "outputs": [
    {
     "data": {
      "text/plain": [
       "[2, 3, 4, 5, 6]"
      ]
     },
     "execution_count": 67,
     "metadata": {},
     "output_type": "execute_result"
    }
   ],
   "source": [
    "c"
   ]
  },
  {
   "cell_type": "code",
   "execution_count": 68,
   "id": "ccc7030d",
   "metadata": {},
   "outputs": [],
   "source": [
    "c[1] = \"Three\""
   ]
  },
  {
   "cell_type": "code",
   "execution_count": 69,
   "id": "3fd46946",
   "metadata": {},
   "outputs": [
    {
     "data": {
      "text/plain": [
       "[2, 'Three', 4, 5, 6]"
      ]
     },
     "execution_count": 69,
     "metadata": {},
     "output_type": "execute_result"
    }
   ],
   "source": [
    "c"
   ]
  },
  {
   "cell_type": "code",
   "execution_count": 70,
   "id": "0e0b4c48",
   "metadata": {},
   "outputs": [
    {
     "data": {
      "text/plain": [
       "[2, 3, 4, 5, 6]"
      ]
     },
     "execution_count": 70,
     "metadata": {},
     "output_type": "execute_result"
    }
   ],
   "source": [
    "a"
   ]
  },
  {
   "cell_type": "code",
   "execution_count": null,
   "id": "de4bf571",
   "metadata": {},
   "outputs": [],
   "source": []
  },
  {
   "cell_type": "code",
   "execution_count": null,
   "id": "a9fc6151",
   "metadata": {},
   "outputs": [],
   "source": []
  },
  {
   "cell_type": "markdown",
   "id": "f1785828",
   "metadata": {},
   "source": [
    "## input() function"
   ]
  },
  {
   "cell_type": "code",
   "execution_count": null,
   "id": "aecd2911",
   "metadata": {},
   "outputs": [],
   "source": []
  },
  {
   "cell_type": "raw",
   "id": "49a08351",
   "metadata": {},
   "source": [
    "In Python, Using the input() function, we take input from a user, and using the\n",
    "print() function we display output on the screen. \n",
    "\n",
    "\n",
    "The Python input() function is used to accept user inputs. \n",
    "\n",
    "input (): This function first takes the input from the user and converts it into a string. "
   ]
  },
  {
   "cell_type": "code",
   "execution_count": 71,
   "id": "a10d635a",
   "metadata": {},
   "outputs": [],
   "source": [
    "a=5"
   ]
  },
  {
   "cell_type": "code",
   "execution_count": 73,
   "id": "927a01db",
   "metadata": {},
   "outputs": [
    {
     "name": "stdout",
     "output_type": "stream",
     "text": [
      "5\n"
     ]
    },
    {
     "data": {
      "text/plain": [
       "'5'"
      ]
     },
     "execution_count": 73,
     "metadata": {},
     "output_type": "execute_result"
    }
   ],
   "source": [
    "input()"
   ]
  },
  {
   "cell_type": "code",
   "execution_count": 75,
   "id": "37eabbec",
   "metadata": {},
   "outputs": [
    {
     "name": "stdout",
     "output_type": "stream",
     "text": [
      "Enter any number 5\n"
     ]
    }
   ],
   "source": [
    "b = input(\"Enter any number \")"
   ]
  },
  {
   "cell_type": "code",
   "execution_count": 76,
   "id": "573c11d2",
   "metadata": {},
   "outputs": [
    {
     "data": {
      "text/plain": [
       "'5'"
      ]
     },
     "execution_count": 76,
     "metadata": {},
     "output_type": "execute_result"
    }
   ],
   "source": [
    "b"
   ]
  },
  {
   "cell_type": "code",
   "execution_count": 77,
   "id": "b370215e",
   "metadata": {},
   "outputs": [
    {
     "data": {
      "text/plain": [
       "str"
      ]
     },
     "execution_count": 77,
     "metadata": {},
     "output_type": "execute_result"
    }
   ],
   "source": [
    "type(b)"
   ]
  },
  {
   "cell_type": "code",
   "execution_count": null,
   "id": "d8e843eb",
   "metadata": {},
   "outputs": [],
   "source": []
  },
  {
   "cell_type": "code",
   "execution_count": 78,
   "id": "6ed7de85",
   "metadata": {},
   "outputs": [
    {
     "name": "stdout",
     "output_type": "stream",
     "text": [
      "Enter any number\n"
     ]
    },
    {
     "ename": "ValueError",
     "evalue": "invalid literal for int() with base 10: ''",
     "output_type": "error",
     "traceback": [
      "\u001b[1;31m---------------------------------------------------------------------------\u001b[0m",
      "\u001b[1;31mValueError\u001b[0m                                Traceback (most recent call last)",
      "\u001b[1;32m~\\AppData\\Local\\Temp/ipykernel_10604/4000595950.py\u001b[0m in \u001b[0;36m<module>\u001b[1;34m\u001b[0m\n\u001b[1;32m----> 1\u001b[1;33m \u001b[0ma\u001b[0m \u001b[1;33m=\u001b[0m \u001b[0mint\u001b[0m\u001b[1;33m(\u001b[0m\u001b[0minput\u001b[0m\u001b[1;33m(\u001b[0m\u001b[1;34m\"Enter any number\"\u001b[0m\u001b[1;33m)\u001b[0m\u001b[1;33m)\u001b[0m\u001b[1;33m\u001b[0m\u001b[1;33m\u001b[0m\u001b[0m\n\u001b[0m",
      "\u001b[1;31mValueError\u001b[0m: invalid literal for int() with base 10: ''"
     ]
    }
   ],
   "source": [
    "a = int(input(\"Enter any number\"))"
   ]
  },
  {
   "cell_type": "code",
   "execution_count": 79,
   "id": "1204876d",
   "metadata": {},
   "outputs": [
    {
     "data": {
      "text/plain": [
       "5"
      ]
     },
     "execution_count": 79,
     "metadata": {},
     "output_type": "execute_result"
    }
   ],
   "source": [
    "a"
   ]
  },
  {
   "cell_type": "code",
   "execution_count": null,
   "id": "c1db86fb",
   "metadata": {},
   "outputs": [],
   "source": []
  },
  {
   "cell_type": "code",
   "execution_count": 80,
   "id": "863188f5",
   "metadata": {},
   "outputs": [
    {
     "data": {
      "text/plain": [
       "int"
      ]
     },
     "execution_count": 80,
     "metadata": {},
     "output_type": "execute_result"
    }
   ],
   "source": [
    "type(a)"
   ]
  },
  {
   "cell_type": "code",
   "execution_count": 81,
   "id": "c62f0776",
   "metadata": {},
   "outputs": [
    {
     "name": "stdout",
     "output_type": "stream",
     "text": [
      "Enter a number 5\n",
      "User entered: 5\n"
     ]
    }
   ],
   "source": [
    "# Example:\n",
    "\n",
    "number = input('Enter a number ')\n",
    "print('User entered:',number)"
   ]
  },
  {
   "cell_type": "code",
   "execution_count": null,
   "id": "df52b451",
   "metadata": {},
   "outputs": [],
   "source": [
    "print(type(number))"
   ]
  },
  {
   "cell_type": "code",
   "execution_count": null,
   "id": "312cfe1f",
   "metadata": {},
   "outputs": [],
   "source": [
    "#You can change input datatype by casting\n",
    "#eg.1\n",
    "number = int(input('Enter a number '))\n",
    "print('User entered:',number)"
   ]
  },
  {
   "cell_type": "code",
   "execution_count": null,
   "id": "3f96afd3",
   "metadata": {},
   "outputs": [],
   "source": [
    "print(type(number))"
   ]
  },
  {
   "cell_type": "code",
   "execution_count": 83,
   "id": "d4717b8c",
   "metadata": {},
   "outputs": [
    {
     "name": "stdout",
     "output_type": "stream",
     "text": [
      "Enter a Quantity: 5\n",
      "Enter size: 5\n",
      "Your item cost is:  25\n"
     ]
    }
   ],
   "source": [
    "#eg.2\n",
    "product_quantity = int(input('Enter a Quantity: '))\n",
    "product_price = int(input('Enter size: '))\n",
    "product_cost = product_quantity * product_price\n",
    "\n",
    "print('Your item cost is: ',product_cost)"
   ]
  },
  {
   "cell_type": "code",
   "execution_count": null,
   "id": "d24917f6",
   "metadata": {},
   "outputs": [],
   "source": []
  }
 ],
 "metadata": {
  "kernelspec": {
   "display_name": "Python 3 (ipykernel)",
   "language": "python",
   "name": "python3"
  },
  "language_info": {
   "codemirror_mode": {
    "name": "ipython",
    "version": 3
   },
   "file_extension": ".py",
   "mimetype": "text/x-python",
   "name": "python",
   "nbconvert_exporter": "python",
   "pygments_lexer": "ipython3",
   "version": "3.9.7"
  }
 },
 "nbformat": 4,
 "nbformat_minor": 5
}
