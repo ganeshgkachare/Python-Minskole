{
 "cells": [
  {
   "cell_type": "markdown",
   "id": "0e17848f",
   "metadata": {},
   "source": [
    "\n",
    "## HOW TO CREATE A DICTIONARY"
   ]
  },
  {
   "cell_type": "code",
   "execution_count": 61,
   "id": "ae6a6ae9",
   "metadata": {},
   "outputs": [
    {
     "data": {
      "text/plain": [
       "{'name': 'Nikhita', 'age': 26, 'job': 'SOftwareTeste'}"
      ]
     },
     "execution_count": 61,
     "metadata": {},
     "output_type": "execute_result"
    }
   ],
   "source": [
    "b_basic = {'name': 'Nikhita' ,'age': 26 , 'job' : 'SOftwareTeste'}\n",
    "b_basic"
   ]
  },
  {
   "cell_type": "code",
   "execution_count": 64,
   "id": "de959404",
   "metadata": {},
   "outputs": [
    {
     "data": {
      "text/plain": [
       "{'name': 'rahul', 'age': 32, 'job': 'teacher'}"
      ]
     },
     "execution_count": 64,
     "metadata": {},
     "output_type": "execute_result"
    }
   ],
   "source": [
    "# By using variable\n",
    "a_var = dict(name = \"rahul\", age = 32 ,job = 'teacher')\n",
    "a_var"
   ]
  },
  {
   "cell_type": "code",
   "execution_count": 65,
   "id": "561936c0",
   "metadata": {},
   "outputs": [
    {
     "data": {
      "text/plain": [
       "dict_items([('name', 'rahul'), ('age', 32), ('job', 'teacher')])"
      ]
     },
     "execution_count": 65,
     "metadata": {},
     "output_type": "execute_result"
    }
   ],
   "source": [
    "a_var.items()"
   ]
  },
  {
   "cell_type": "code",
   "execution_count": null,
   "id": "4a377d56",
   "metadata": {},
   "outputs": [],
   "source": []
  },
  {
   "cell_type": "code",
   "execution_count": 66,
   "id": "e14944ba",
   "metadata": {},
   "outputs": [
    {
     "data": {
      "text/plain": [
       "{'name': 'Akash', 'age': 35, 'job': 'Instructor'}"
      ]
     },
     "execution_count": 66,
     "metadata": {},
     "output_type": "execute_result"
    }
   ],
   "source": [
    "# By using tuple\n",
    "d_tup = dict([('name',\"Akash\"),('age',35),('job',\"Instructor\")])\n",
    "#                0      1         0   1      0    1\n",
    "d_tup"
   ]
  },
  {
   "cell_type": "code",
   "execution_count": null,
   "id": "b4daf0f3",
   "metadata": {},
   "outputs": [],
   "source": [
    "d_tup = dict([('name',\"Akash\"),('age',35),('job',\"Instructor\")])"
   ]
  },
  {
   "cell_type": "code",
   "execution_count": null,
   "id": "5eda6572",
   "metadata": {},
   "outputs": [],
   "source": [
    "d_tup"
   ]
  },
  {
   "cell_type": "code",
   "execution_count": null,
   "id": "b6ba9330",
   "metadata": {},
   "outputs": [],
   "source": []
  },
  {
   "cell_type": "code",
   "execution_count": 76,
   "id": "878e2b8a",
   "metadata": {},
   "outputs": [],
   "source": [
    "# By using two list\n",
    "list_keys = [1,2,3,4,5,6]\n",
    "#            1 2 3 4 5 6\n",
    "list_values= [\"one\",\"two\",\"three\",\"four\",\"five\",\"six\"]\n",
    "#               1     2     3       4      5      6"
   ]
  },
  {
   "cell_type": "code",
   "execution_count": 73,
   "id": "da3157e4",
   "metadata": {},
   "outputs": [
    {
     "data": {
      "text/plain": [
       "<zip at 0x1a1bea03d80>"
      ]
     },
     "execution_count": 73,
     "metadata": {},
     "output_type": "execute_result"
    }
   ],
   "source": [
    "zip(list_keys,list_values)"
   ]
  },
  {
   "cell_type": "code",
   "execution_count": 74,
   "id": "766b6df2",
   "metadata": {},
   "outputs": [
    {
     "data": {
      "text/plain": [
       "zip"
      ]
     },
     "execution_count": 74,
     "metadata": {},
     "output_type": "execute_result"
    }
   ],
   "source": [
    "type(zip(list_keys,list_values))"
   ]
  },
  {
   "cell_type": "code",
   "execution_count": 82,
   "id": "030ff244",
   "metadata": {},
   "outputs": [
    {
     "data": {
      "text/plain": [
       "{1: 'one', 2: 'two', 3: 'three', 4: 'four', 5: 'five', 6: 'six'}"
      ]
     },
     "execution_count": 82,
     "metadata": {},
     "output_type": "execute_result"
    }
   ],
   "source": [
    "dict(zip(list_keys,list_values))"
   ]
  },
  {
   "cell_type": "code",
   "execution_count": 83,
   "id": "d190797a",
   "metadata": {},
   "outputs": [
    {
     "data": {
      "text/plain": [
       "{'one': 1, 'two': 2, 'three': 3, 'four': 4, 'five': 5, 'six': 6}"
      ]
     },
     "execution_count": 83,
     "metadata": {},
     "output_type": "execute_result"
    }
   ],
   "source": [
    "dict(zip(list_values,list_keys))"
   ]
  },
  {
   "cell_type": "code",
   "execution_count": 77,
   "id": "17dad27f",
   "metadata": {},
   "outputs": [
    {
     "data": {
      "text/plain": [
       "((1, 'one'), (2, 'two'), (3, 'three'), (4, 'four'), (5, 'five'), (6, 'six'))"
      ]
     },
     "execution_count": 77,
     "metadata": {},
     "output_type": "execute_result"
    }
   ],
   "source": [
    "tuple(zip(list_keys,list_values))"
   ]
  },
  {
   "cell_type": "code",
   "execution_count": 78,
   "id": "ca894440",
   "metadata": {},
   "outputs": [
    {
     "data": {
      "text/plain": [
       "[(1, 'one'), (2, 'two'), (3, 'three'), (4, 'four'), (5, 'five'), (6, 'six')]"
      ]
     },
     "execution_count": 78,
     "metadata": {},
     "output_type": "execute_result"
    }
   ],
   "source": [
    "list(zip(list_keys,list_values))"
   ]
  },
  {
   "cell_type": "code",
   "execution_count": null,
   "id": "1b3cf07e",
   "metadata": {},
   "outputs": [],
   "source": [
    "c_zip = dict(zip(list_keys ,list_values))\n",
    "c_zip"
   ]
  },
  {
   "cell_type": "code",
   "execution_count": null,
   "id": "53ed466f",
   "metadata": {},
   "outputs": [],
   "source": [
    "list_keys = [1,2,3]\n",
    "list_values= [\"one\",\"two\",\"three\",\"four\",\"five\",\"six\"]"
   ]
  },
  {
   "cell_type": "code",
   "execution_count": null,
   "id": "baf47d96",
   "metadata": {},
   "outputs": [],
   "source": [
    "c_zip = dict(zip(list_keys ,list_values))\n",
    "c_zip"
   ]
  },
  {
   "cell_type": "code",
   "execution_count": 79,
   "id": "5a7be998",
   "metadata": {},
   "outputs": [],
   "source": [
    "a=zip(list_keys ,list_values)"
   ]
  },
  {
   "cell_type": "code",
   "execution_count": 80,
   "id": "86fc05fd",
   "metadata": {},
   "outputs": [
    {
     "data": {
      "text/plain": [
       "<zip at 0x1a1bea033c0>"
      ]
     },
     "execution_count": 80,
     "metadata": {},
     "output_type": "execute_result"
    }
   ],
   "source": [
    "a"
   ]
  },
  {
   "cell_type": "code",
   "execution_count": null,
   "id": "502971ba",
   "metadata": {},
   "outputs": [],
   "source": [
    "type(a)"
   ]
  },
  {
   "cell_type": "code",
   "execution_count": 81,
   "id": "af1c4a47",
   "metadata": {},
   "outputs": [
    {
     "name": "stdout",
     "output_type": "stream",
     "text": [
      "(1, 'one')\n",
      "(2, 'two')\n",
      "(3, 'three')\n",
      "(4, 'four')\n",
      "(5, 'five')\n",
      "(6, 'six')\n"
     ]
    }
   ],
   "source": [
    "for i in a:\n",
    "    print(i)"
   ]
  },
  {
   "cell_type": "code",
   "execution_count": null,
   "id": "e911fc0c",
   "metadata": {},
   "outputs": [],
   "source": []
  },
  {
   "cell_type": "code",
   "execution_count": null,
   "id": "10e7b2c2",
   "metadata": {},
   "outputs": [],
   "source": [
    "dict(zip(list_keys ,list_values))"
   ]
  },
  {
   "cell_type": "code",
   "execution_count": null,
   "id": "e1473b1b",
   "metadata": {},
   "outputs": [],
   "source": [
    "list(zip(list_keys ,list_values))"
   ]
  },
  {
   "cell_type": "code",
   "execution_count": null,
   "id": "aeccf804",
   "metadata": {},
   "outputs": [],
   "source": [
    "tuple(zip(list_keys ,list_values))"
   ]
  },
  {
   "cell_type": "code",
   "execution_count": null,
   "id": "229a2084",
   "metadata": {},
   "outputs": [],
   "source": [
    "set(zip(list_keys ,list_values))"
   ]
  },
  {
   "cell_type": "code",
   "execution_count": null,
   "id": "1fbac040",
   "metadata": {},
   "outputs": [],
   "source": []
  },
  {
   "cell_type": "code",
   "execution_count": null,
   "id": "bc25a818",
   "metadata": {},
   "outputs": [],
   "source": []
  },
  {
   "cell_type": "code",
   "execution_count": null,
   "id": "dd82855a",
   "metadata": {},
   "outputs": [],
   "source": []
  },
  {
   "cell_type": "markdown",
   "id": "f3ae025b",
   "metadata": {},
   "source": [
    "## Homework"
   ]
  },
  {
   "cell_type": "code",
   "execution_count": null,
   "id": "142cacd5",
   "metadata": {},
   "outputs": [],
   "source": [
    "# score_vk = {\n",
    "#         one_day : 700,\n",
    "#         test : 740,\n",
    "#         t_20 : 470,\n",
    "#         international : 250\n",
    "# }"
   ]
  },
  {
   "cell_type": "code",
   "execution_count": null,
   "id": "949dc214",
   "metadata": {},
   "outputs": [],
   "source": [
    "# 1. CREATE ABOVE DICTIONARY USING BASIC METHOD \n",
    "# {} AND NAME IT AS score_vk_basic\n"
   ]
  },
  {
   "cell_type": "code",
   "execution_count": null,
   "id": "035ba4b9",
   "metadata": {},
   "outputs": [],
   "source": []
  },
  {
   "cell_type": "code",
   "execution_count": null,
   "id": "48063eb5",
   "metadata": {},
   "outputs": [],
   "source": [
    "# 2. CREATE ABOVE DICTIONARY USING \n",
    "# variable assignments way AND NAME IT AS score_vk_var\n"
   ]
  },
  {
   "cell_type": "code",
   "execution_count": null,
   "id": "1f06ab1f",
   "metadata": {},
   "outputs": [],
   "source": [
    "score_vk"
   ]
  },
  {
   "cell_type": "code",
   "execution_count": null,
   "id": "11988d0a",
   "metadata": {},
   "outputs": [],
   "source": []
  },
  {
   "cell_type": "code",
   "execution_count": null,
   "id": "d7b9a17f",
   "metadata": {},
   "outputs": [],
   "source": [
    "# 3. CREATE ABOVE DICTIONARY USING \n",
    "# tuple pair way  AND NAME IT AS score_vk_basic_tup\n"
   ]
  },
  {
   "cell_type": "code",
   "execution_count": null,
   "id": "69f1b8b2",
   "metadata": {},
   "outputs": [],
   "source": []
  },
  {
   "cell_type": "code",
   "execution_count": null,
   "id": "ea81eed0",
   "metadata": {},
   "outputs": [],
   "source": [
    "# 4. CREATE ABOVE DICTIONARY USING \n",
    "# zip method CONSIDERING \n",
    "# KEYS LIST AS list_keys AND \n",
    "# VALUES LIST AS list_values  AND \n",
    "# NAME IT AS score_vk_basic_tup\n"
   ]
  },
  {
   "cell_type": "code",
   "execution_count": null,
   "id": "f6d7790b",
   "metadata": {},
   "outputs": [],
   "source": []
  },
  {
   "cell_type": "code",
   "execution_count": null,
   "id": "0efd329c",
   "metadata": {},
   "outputs": [],
   "source": []
  },
  {
   "cell_type": "markdown",
   "id": "bc5fe6e0",
   "metadata": {},
   "source": [
    "### Method"
   ]
  },
  {
   "cell_type": "code",
   "execution_count": 84,
   "id": "ed67b432",
   "metadata": {},
   "outputs": [],
   "source": [
    "student = {\n",
    "    'firstName':\"Priyanka\",\n",
    "    'lastName':\"deshpande\",\n",
    "    \"age\":23,\n",
    "    \"skills\":[\"pyhton\",\"javascript\"],\n",
    "}"
   ]
  },
  {
   "cell_type": "code",
   "execution_count": 85,
   "id": "a4b48bd8",
   "metadata": {},
   "outputs": [
    {
     "data": {
      "text/plain": [
       "{'firstName': 'Priyanka',\n",
       " 'lastName': 'deshpande',\n",
       " 'age': 23,\n",
       " 'skills': ['pyhton', 'javascript']}"
      ]
     },
     "execution_count": 85,
     "metadata": {},
     "output_type": "execute_result"
    }
   ],
   "source": [
    "student"
   ]
  },
  {
   "cell_type": "code",
   "execution_count": 86,
   "id": "0920eadd",
   "metadata": {},
   "outputs": [
    {
     "data": {
      "text/plain": [
       "23"
      ]
     },
     "execution_count": 86,
     "metadata": {},
     "output_type": "execute_result"
    }
   ],
   "source": [
    "student.get(\"age\")"
   ]
  },
  {
   "cell_type": "code",
   "execution_count": 87,
   "id": "65987c3e",
   "metadata": {},
   "outputs": [],
   "source": [
    "student.get(\"city\")"
   ]
  },
  {
   "cell_type": "code",
   "execution_count": 88,
   "id": "ad50cf1c",
   "metadata": {},
   "outputs": [
    {
     "data": {
      "text/plain": [
       "'City not given'"
      ]
     },
     "execution_count": 88,
     "metadata": {},
     "output_type": "execute_result"
    }
   ],
   "source": [
    "student.get(\"city\",\"City not given\")"
   ]
  },
  {
   "cell_type": "code",
   "execution_count": null,
   "id": "c4ed181a",
   "metadata": {},
   "outputs": [],
   "source": [
    "student1=student.copy()"
   ]
  },
  {
   "cell_type": "code",
   "execution_count": 89,
   "id": "808ecbed",
   "metadata": {},
   "outputs": [],
   "source": [
    "# student2=student # Don't Use"
   ]
  },
  {
   "cell_type": "code",
   "execution_count": 90,
   "id": "8fabb722",
   "metadata": {},
   "outputs": [
    {
     "data": {
      "text/plain": [
       "{'firstName': 'Priyanka',\n",
       " 'lastName': 'deshpande',\n",
       " 'age': 23,\n",
       " 'skills': ['pyhton', 'javascript']}"
      ]
     },
     "execution_count": 90,
     "metadata": {},
     "output_type": "execute_result"
    }
   ],
   "source": [
    "student2"
   ]
  },
  {
   "cell_type": "code",
   "execution_count": null,
   "id": "596043aa",
   "metadata": {},
   "outputs": [],
   "source": [
    "student1"
   ]
  },
  {
   "cell_type": "code",
   "execution_count": null,
   "id": "b2ab893f",
   "metadata": {},
   "outputs": [],
   "source": []
  },
  {
   "cell_type": "code",
   "execution_count": 91,
   "id": "bc466b68",
   "metadata": {},
   "outputs": [],
   "source": [
    "student1 = {\n",
    "    'firstName':\"Priyanka\",\n",
    "    'lastName':\"deshpande\",\n",
    "    \"age\":23,\n",
    "    \"skills\":[\"pyhton\",\"javascript\"],\n",
    "}"
   ]
  },
  {
   "cell_type": "code",
   "execution_count": 93,
   "id": "fc0ffb2e",
   "metadata": {},
   "outputs": [
    {
     "data": {
      "text/plain": [
       "{'firstName': 'Priyanka',\n",
       " 'lastName': 'deshpande',\n",
       " 'age': 23,\n",
       " 'skills': ['pyhton', 'javascript']}"
      ]
     },
     "execution_count": 93,
     "metadata": {},
     "output_type": "execute_result"
    }
   ],
   "source": [
    "student1"
   ]
  },
  {
   "cell_type": "code",
   "execution_count": 94,
   "id": "738b50a6",
   "metadata": {},
   "outputs": [],
   "source": [
    "#update()\n",
    "\n",
    "student1.update({\"firstName\":\"Raj\",\"age\":40})"
   ]
  },
  {
   "cell_type": "code",
   "execution_count": 95,
   "id": "4ee5ef14",
   "metadata": {},
   "outputs": [
    {
     "name": "stdout",
     "output_type": "stream",
     "text": [
      "{'firstName': 'Raj', 'lastName': 'deshpande', 'age': 40, 'skills': ['pyhton', 'javascript']}\n"
     ]
    }
   ],
   "source": [
    "print(student1)"
   ]
  },
  {
   "cell_type": "code",
   "execution_count": 96,
   "id": "2917ce13",
   "metadata": {},
   "outputs": [
    {
     "name": "stdout",
     "output_type": "stream",
     "text": [
      "{'firstName': 'Vinay', 'lastName': 'deshpande', 'age': 50, 'skills': ['pyhton', 'javascript'], 'city': 'pune'}\n"
     ]
    }
   ],
   "source": [
    "student1.update({\"firstName\":\"Vinay\",\"age\":50,\"city\":\"pune\"})\n",
    "print(student1)"
   ]
  },
  {
   "cell_type": "code",
   "execution_count": null,
   "id": "2cc96c70",
   "metadata": {},
   "outputs": [],
   "source": []
  },
  {
   "cell_type": "code",
   "execution_count": 97,
   "id": "f2ab0354",
   "metadata": {},
   "outputs": [],
   "source": [
    "student = {\n",
    "    'firstName':\"Priyanka\",\n",
    "    'lastName':\"deshpande\",\n",
    "    \"age\":23,\n",
    "    \"skills\":[\"pyhton\",\"javascript\"],\n",
    "}"
   ]
  },
  {
   "cell_type": "code",
   "execution_count": 98,
   "id": "c76e5008",
   "metadata": {},
   "outputs": [
    {
     "data": {
      "text/plain": [
       "{'firstName': 'Priyanka',\n",
       " 'lastName': 'deshpande',\n",
       " 'age': 23,\n",
       " 'skills': ['pyhton', 'javascript']}"
      ]
     },
     "execution_count": 98,
     "metadata": {},
     "output_type": "execute_result"
    }
   ],
   "source": [
    "student"
   ]
  },
  {
   "cell_type": "code",
   "execution_count": null,
   "id": "7f24f7f5",
   "metadata": {},
   "outputs": [],
   "source": []
  },
  {
   "cell_type": "code",
   "execution_count": 99,
   "id": "92f489a4",
   "metadata": {},
   "outputs": [],
   "source": [
    "# Deleting a key-value pair\n",
    "del student[\"skills\"]  "
   ]
  },
  {
   "cell_type": "code",
   "execution_count": 100,
   "id": "040bc6b7",
   "metadata": {},
   "outputs": [
    {
     "data": {
      "text/plain": [
       "{'firstName': 'Priyanka', 'lastName': 'deshpande', 'age': 23}"
      ]
     },
     "execution_count": 100,
     "metadata": {},
     "output_type": "execute_result"
    }
   ],
   "source": [
    "student"
   ]
  },
  {
   "cell_type": "code",
   "execution_count": 101,
   "id": "1f36bc53",
   "metadata": {},
   "outputs": [
    {
     "data": {
      "text/plain": [
       "'Priyanka'"
      ]
     },
     "execution_count": 101,
     "metadata": {},
     "output_type": "execute_result"
    }
   ],
   "source": [
    "student.pop(\"firstName\")  "
   ]
  },
  {
   "cell_type": "code",
   "execution_count": 102,
   "id": "07ee39c7",
   "metadata": {},
   "outputs": [
    {
     "data": {
      "text/plain": [
       "{'lastName': 'deshpande', 'age': 23}"
      ]
     },
     "execution_count": 102,
     "metadata": {},
     "output_type": "execute_result"
    }
   ],
   "source": [
    "student"
   ]
  },
  {
   "cell_type": "code",
   "execution_count": 103,
   "id": "08592565",
   "metadata": {},
   "outputs": [],
   "source": [
    "# Clearing all items from the dictionary\n",
    "student.clear()      "
   ]
  },
  {
   "cell_type": "code",
   "execution_count": 105,
   "id": "69dbfd1a",
   "metadata": {},
   "outputs": [
    {
     "data": {
      "text/plain": [
       "{}"
      ]
     },
     "execution_count": 105,
     "metadata": {},
     "output_type": "execute_result"
    }
   ],
   "source": [
    "student"
   ]
  },
  {
   "cell_type": "code",
   "execution_count": null,
   "id": "62b928eb",
   "metadata": {},
   "outputs": [],
   "source": []
  },
  {
   "cell_type": "code",
   "execution_count": null,
   "id": "9e06d0a6",
   "metadata": {},
   "outputs": [],
   "source": [
    "\n",
    "# # setdefault() = get + update\n",
    "# If the key does not exist, insert the key, with the specified value\n",
    "# # Syntax\n",
    "# dictionary.setdefault(keyname, value)"
   ]
  },
  {
   "cell_type": "code",
   "execution_count": 109,
   "id": "e216e46c",
   "metadata": {},
   "outputs": [],
   "source": [
    "student = {\n",
    "    'firstName':\"Priyanka\",\n",
    "    'lastName':\"deshpande\",\n",
    "    \"age\":23,\n",
    "    \"skills\":[\"pyhton\",\"javascript\"],\n",
    "}"
   ]
  },
  {
   "cell_type": "code",
   "execution_count": 110,
   "id": "1a8fe5fc",
   "metadata": {},
   "outputs": [
    {
     "data": {
      "text/plain": [
       "{'firstName': 'Priyanka',\n",
       " 'lastName': 'deshpande',\n",
       " 'age': 23,\n",
       " 'skills': ['pyhton', 'javascript']}"
      ]
     },
     "execution_count": 110,
     "metadata": {},
     "output_type": "execute_result"
    }
   ],
   "source": [
    "student"
   ]
  },
  {
   "cell_type": "code",
   "execution_count": 111,
   "id": "9c0d274a",
   "metadata": {},
   "outputs": [
    {
     "ename": "KeyError",
     "evalue": "'city'",
     "output_type": "error",
     "traceback": [
      "\u001b[1;31m---------------------------------------------------------------------------\u001b[0m",
      "\u001b[1;31mKeyError\u001b[0m                                  Traceback (most recent call last)",
      "\u001b[1;32m~\\AppData\\Local\\Temp/ipykernel_5444/4029896397.py\u001b[0m in \u001b[0;36m<module>\u001b[1;34m\u001b[0m\n\u001b[1;32m----> 1\u001b[1;33m \u001b[0mstudent\u001b[0m\u001b[1;33m[\u001b[0m\u001b[1;34m'city'\u001b[0m\u001b[1;33m]\u001b[0m\u001b[1;33m\u001b[0m\u001b[1;33m\u001b[0m\u001b[0m\n\u001b[0m",
      "\u001b[1;31mKeyError\u001b[0m: 'city'"
     ]
    }
   ],
   "source": [
    "student['city']"
   ]
  },
  {
   "cell_type": "code",
   "execution_count": 113,
   "id": "0267a022",
   "metadata": {},
   "outputs": [
    {
     "data": {
      "text/plain": [
       "{'firstName': 'Priyanka',\n",
       " 'lastName': 'deshpande',\n",
       " 'age': 23,\n",
       " 'skills': ['pyhton', 'javascript']}"
      ]
     },
     "execution_count": 113,
     "metadata": {},
     "output_type": "execute_result"
    }
   ],
   "source": [
    "student"
   ]
  },
  {
   "cell_type": "code",
   "execution_count": 112,
   "id": "5af5eafa",
   "metadata": {},
   "outputs": [
    {
     "data": {
      "text/plain": [
       "'Pune'"
      ]
     },
     "execution_count": 112,
     "metadata": {},
     "output_type": "execute_result"
    }
   ],
   "source": [
    "student.get('city','Pune')"
   ]
  },
  {
   "cell_type": "code",
   "execution_count": 116,
   "id": "7d38c279",
   "metadata": {},
   "outputs": [
    {
     "data": {
      "text/plain": [
       "{'firstName': 'Priyanka',\n",
       " 'lastName': 'deshpande',\n",
       " 'age': 23,\n",
       " 'skills': ['pyhton', 'javascript']}"
      ]
     },
     "execution_count": 116,
     "metadata": {},
     "output_type": "execute_result"
    }
   ],
   "source": [
    "student"
   ]
  },
  {
   "cell_type": "code",
   "execution_count": 119,
   "id": "ce3d5af9",
   "metadata": {},
   "outputs": [],
   "source": [
    "student.update({'age':30})"
   ]
  },
  {
   "cell_type": "code",
   "execution_count": 121,
   "id": "104e54d6",
   "metadata": {},
   "outputs": [
    {
     "data": {
      "text/plain": [
       "{'firstName': 'Priyanka',\n",
       " 'lastName': 'deshpande',\n",
       " 'age': 30,\n",
       " 'skills': ['pyhton', 'javascript'],\n",
       " 'Age': 30}"
      ]
     },
     "execution_count": 121,
     "metadata": {},
     "output_type": "execute_result"
    }
   ],
   "source": [
    "student"
   ]
  },
  {
   "cell_type": "code",
   "execution_count": 122,
   "id": "589205db",
   "metadata": {},
   "outputs": [
    {
     "data": {
      "text/plain": [
       "'Priyanka'"
      ]
     },
     "execution_count": 122,
     "metadata": {},
     "output_type": "execute_result"
    }
   ],
   "source": [
    "student.setdefault('firstName','Pune')  # get+update"
   ]
  },
  {
   "cell_type": "code",
   "execution_count": 123,
   "id": "59eea569",
   "metadata": {},
   "outputs": [
    {
     "name": "stdout",
     "output_type": "stream",
     "text": [
      "{'firstName': 'Priyanka', 'lastName': 'deshpande', 'age': 30, 'skills': ['pyhton', 'javascript'], 'Age': 30}\n"
     ]
    }
   ],
   "source": [
    "print(student)"
   ]
  },
  {
   "cell_type": "code",
   "execution_count": 124,
   "id": "90d08c07",
   "metadata": {},
   "outputs": [
    {
     "data": {
      "text/plain": [
       "'Pune'"
      ]
     },
     "execution_count": 124,
     "metadata": {},
     "output_type": "execute_result"
    }
   ],
   "source": [
    "student.setdefault('city','Pune')  # get+update"
   ]
  },
  {
   "cell_type": "code",
   "execution_count": 125,
   "id": "9bb872d0",
   "metadata": {},
   "outputs": [
    {
     "name": "stdout",
     "output_type": "stream",
     "text": [
      "{'firstName': 'Priyanka', 'lastName': 'deshpande', 'age': 30, 'skills': ['pyhton', 'javascript'], 'Age': 30, 'city': 'Pune'}\n"
     ]
    }
   ],
   "source": [
    "print(student)"
   ]
  },
  {
   "cell_type": "code",
   "execution_count": null,
   "id": "1d81b992",
   "metadata": {},
   "outputs": [],
   "source": []
  },
  {
   "cell_type": "code",
   "execution_count": null,
   "id": "52758aae",
   "metadata": {},
   "outputs": [],
   "source": []
  }
 ],
 "metadata": {
  "kernelspec": {
   "display_name": "Python 3 (ipykernel)",
   "language": "python",
   "name": "python3"
  },
  "language_info": {
   "codemirror_mode": {
    "name": "ipython",
    "version": 3
   },
   "file_extension": ".py",
   "mimetype": "text/x-python",
   "name": "python",
   "nbconvert_exporter": "python",
   "pygments_lexer": "ipython3",
   "version": "3.9.7"
  }
 },
 "nbformat": 4,
 "nbformat_minor": 5
}
