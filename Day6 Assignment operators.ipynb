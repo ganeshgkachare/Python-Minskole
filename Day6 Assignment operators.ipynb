{
 "cells": [
  {
   "cell_type": "markdown",
   "id": "c2fbb2e1",
   "metadata": {},
   "source": [
    "# Operators"
   ]
  },
  {
   "cell_type": "markdown",
   "id": "93651b4d",
   "metadata": {},
   "source": [
    " Operators are special symbols in Python that carry out arithmetic or logical computation. \n",
    " The value that the operator operates on is called the operand.\n",
    " \n",
    "    1. Arithmetic\n",
    "    2. Comparison\n",
    "    3. Logical\n",
    "    4. Special operators :- 1) Identity operators\n",
    "                            2) Membership operators\n",
    "    5. Assignment operators:-"
   ]
  },
  {
   "cell_type": "code",
   "execution_count": null,
   "id": "c268c166",
   "metadata": {},
   "outputs": [],
   "source": [
    "//"
   ]
  },
  {
   "cell_type": "code",
   "execution_count": null,
   "id": "f2c0bf61",
   "metadata": {},
   "outputs": [],
   "source": [
    "%"
   ]
  },
  {
   "cell_type": "code",
   "execution_count": null,
   "id": "2689b147",
   "metadata": {},
   "outputs": [],
   "source": [
    "**"
   ]
  },
  {
   "cell_type": "code",
   "execution_count": null,
   "id": "eaca9713",
   "metadata": {},
   "outputs": [],
   "source": [
    "Left variable = Right variable"
   ]
  },
  {
   "cell_type": "code",
   "execution_count": 1,
   "id": "c438e77f",
   "metadata": {},
   "outputs": [],
   "source": [
    "a = 5"
   ]
  },
  {
   "cell_type": "code",
   "execution_count": 2,
   "id": "0200ba2b",
   "metadata": {},
   "outputs": [
    {
     "data": {
      "text/plain": [
       "5"
      ]
     },
     "execution_count": 2,
     "metadata": {},
     "output_type": "execute_result"
    }
   ],
   "source": [
    "a"
   ]
  },
  {
   "cell_type": "code",
   "execution_count": 8,
   "id": "0bf580a9",
   "metadata": {},
   "outputs": [],
   "source": [
    "a = a + 2"
   ]
  },
  {
   "cell_type": "code",
   "execution_count": 9,
   "id": "a91539d4",
   "metadata": {},
   "outputs": [
    {
     "data": {
      "text/plain": [
       "7"
      ]
     },
     "execution_count": 9,
     "metadata": {},
     "output_type": "execute_result"
    }
   ],
   "source": [
    "a"
   ]
  },
  {
   "cell_type": "code",
   "execution_count": 10,
   "id": "1eb6e73a",
   "metadata": {},
   "outputs": [],
   "source": [
    "b=5"
   ]
  },
  {
   "cell_type": "code",
   "execution_count": 12,
   "id": "52f33756",
   "metadata": {},
   "outputs": [],
   "source": [
    "b += 2  # b = b + 2"
   ]
  },
  {
   "cell_type": "code",
   "execution_count": 13,
   "id": "75d1d07a",
   "metadata": {},
   "outputs": [
    {
     "data": {
      "text/plain": [
       "7"
      ]
     },
     "execution_count": 13,
     "metadata": {},
     "output_type": "execute_result"
    }
   ],
   "source": [
    "b"
   ]
  },
  {
   "cell_type": "code",
   "execution_count": null,
   "id": "dc9c9d05",
   "metadata": {},
   "outputs": [],
   "source": [
    "       5              +          2\n",
    "# Left variable    operator    Right variable"
   ]
  },
  {
   "cell_type": "code",
   "execution_count": 15,
   "id": "0e4cc22c",
   "metadata": {},
   "outputs": [],
   "source": [
    "d=11"
   ]
  },
  {
   "cell_type": "code",
   "execution_count": 16,
   "id": "3537df3d",
   "metadata": {},
   "outputs": [],
   "source": [
    "d //=2   # d = d // 2\n",
    "         # d = 11 // 2"
   ]
  },
  {
   "cell_type": "code",
   "execution_count": 17,
   "id": "61c32d11",
   "metadata": {},
   "outputs": [
    {
     "data": {
      "text/plain": [
       "5"
      ]
     },
     "execution_count": 17,
     "metadata": {},
     "output_type": "execute_result"
    }
   ],
   "source": [
    "d"
   ]
  },
  {
   "cell_type": "code",
   "execution_count": 18,
   "id": "fd243da3",
   "metadata": {},
   "outputs": [],
   "source": [
    "d //=2  # d = d // 2\n",
    "        # d = 5 // 2"
   ]
  },
  {
   "cell_type": "code",
   "execution_count": 19,
   "id": "2fc9a551",
   "metadata": {},
   "outputs": [
    {
     "data": {
      "text/plain": [
       "2"
      ]
     },
     "execution_count": 19,
     "metadata": {},
     "output_type": "execute_result"
    }
   ],
   "source": [
    "d"
   ]
  },
  {
   "cell_type": "code",
   "execution_count": null,
   "id": "5473623d",
   "metadata": {},
   "outputs": [],
   "source": []
  },
  {
   "cell_type": "markdown",
   "id": "e68fd247",
   "metadata": {},
   "source": [
    "## 5) Assignment operators:\n",
    "\n",
    "        Operator\t    Description\t                                                            \n",
    "    =\t                Assigns values from right side operands to left side operand\t\n",
    "    +=  Add AND\t        It adds right operand to the left operand and assign the result to left operand\t\n",
    "    -=  Subtract AND\tIt subtracts right operand from the left operand and assign the result to left operand\t\n",
    "    *=  Multiply AND\tIt multiplies right operand with the left operand and assign the result to left operand\t\n",
    "    /=  Divide AND\t    It divides left operand with the right operand and assign the result to left operand\t\n",
    "    %=  Modulus AND\t    It takes modulus using two operands and assign the result to left operand\tc %= a is equivalent to \n",
    "    **=  Exponent AND\tPerforms exponential (power) calculation on operators and assign value to the left operand\t\n",
    "    //=  Floor Division\tIt performs floor division on operators and assign value to the left operand"
   ]
  },
  {
   "cell_type": "code",
   "execution_count": null,
   "id": "760122bc",
   "metadata": {},
   "outputs": [],
   "source": [
    "# Structure\n",
    "b += 2  # b = b + 2"
   ]
  },
  {
   "cell_type": "code",
   "execution_count": 20,
   "id": "891999a2",
   "metadata": {},
   "outputs": [],
   "source": [
    "# eg.\n",
    "z=5"
   ]
  },
  {
   "cell_type": "code",
   "execution_count": 21,
   "id": "88b55eb6",
   "metadata": {},
   "outputs": [],
   "source": [
    "z+=2"
   ]
  },
  {
   "cell_type": "code",
   "execution_count": 22,
   "id": "b08e8322",
   "metadata": {},
   "outputs": [
    {
     "name": "stdout",
     "output_type": "stream",
     "text": [
      "7\n"
     ]
    }
   ],
   "source": [
    "print(z)"
   ]
  },
  {
   "cell_type": "code",
   "execution_count": 23,
   "id": "217521b3",
   "metadata": {},
   "outputs": [],
   "source": [
    "z-=3"
   ]
  },
  {
   "cell_type": "code",
   "execution_count": 24,
   "id": "d45ec3a9",
   "metadata": {},
   "outputs": [
    {
     "name": "stdout",
     "output_type": "stream",
     "text": [
      "4\n"
     ]
    }
   ],
   "source": [
    "print(z)"
   ]
  },
  {
   "cell_type": "code",
   "execution_count": 25,
   "id": "d5635109",
   "metadata": {},
   "outputs": [
    {
     "name": "stdout",
     "output_type": "stream",
     "text": [
      "8\n"
     ]
    }
   ],
   "source": [
    "z*=2      # z =z*2  # z = 4*2\n",
    "print(z)"
   ]
  },
  {
   "cell_type": "code",
   "execution_count": 26,
   "id": "6b9a0c2f",
   "metadata": {},
   "outputs": [
    {
     "name": "stdout",
     "output_type": "stream",
     "text": [
      "64\n"
     ]
    }
   ],
   "source": [
    "z**=2     # z =z**2  # z = 8**2\n",
    "print(z)"
   ]
  },
  {
   "cell_type": "code",
   "execution_count": 28,
   "id": "a5873a64",
   "metadata": {},
   "outputs": [
    {
     "data": {
      "text/plain": [
       "64"
      ]
     },
     "execution_count": 28,
     "metadata": {},
     "output_type": "execute_result"
    }
   ],
   "source": [
    "8**2  # 8*8"
   ]
  },
  {
   "cell_type": "code",
   "execution_count": 29,
   "id": "1030cb86",
   "metadata": {},
   "outputs": [
    {
     "data": {
      "text/plain": [
       "512"
      ]
     },
     "execution_count": 29,
     "metadata": {},
     "output_type": "execute_result"
    }
   ],
   "source": [
    "8**3 # 8*8*8"
   ]
  },
  {
   "cell_type": "code",
   "execution_count": 32,
   "id": "079825df",
   "metadata": {},
   "outputs": [
    {
     "name": "stdout",
     "output_type": "stream",
     "text": [
      "8.0\n"
     ]
    }
   ],
   "source": [
    "z/=2\n",
    "print(z)"
   ]
  },
  {
   "cell_type": "code",
   "execution_count": 38,
   "id": "dbd410a5",
   "metadata": {},
   "outputs": [
    {
     "name": "stdout",
     "output_type": "stream",
     "text": [
      "4.0\n"
     ]
    }
   ],
   "source": [
    "print(z)"
   ]
  },
  {
   "cell_type": "code",
   "execution_count": 34,
   "id": "20ec34c4",
   "metadata": {},
   "outputs": [
    {
     "name": "stdout",
     "output_type": "stream",
     "text": [
      "4.0\n"
     ]
    }
   ],
   "source": [
    "z//=2\n",
    "print(z)"
   ]
  },
  {
   "cell_type": "code",
   "execution_count": 39,
   "id": "6a1e37f1",
   "metadata": {},
   "outputs": [
    {
     "data": {
      "text/plain": [
       "2.0"
      ]
     },
     "execution_count": 39,
     "metadata": {},
     "output_type": "execute_result"
    }
   ],
   "source": [
    "4/2"
   ]
  },
  {
   "cell_type": "code",
   "execution_count": 40,
   "id": "4bd0bd10",
   "metadata": {},
   "outputs": [
    {
     "data": {
      "text/plain": [
       "2"
      ]
     },
     "execution_count": 40,
     "metadata": {},
     "output_type": "execute_result"
    }
   ],
   "source": [
    "4//2"
   ]
  },
  {
   "cell_type": "code",
   "execution_count": 41,
   "id": "6e8d259c",
   "metadata": {},
   "outputs": [
    {
     "name": "stdout",
     "output_type": "stream",
     "text": [
      "4.0\n"
     ]
    }
   ],
   "source": [
    "print(z)"
   ]
  },
  {
   "cell_type": "code",
   "execution_count": 42,
   "id": "865e97d2",
   "metadata": {},
   "outputs": [
    {
     "name": "stdout",
     "output_type": "stream",
     "text": [
      "0.0\n"
     ]
    }
   ],
   "source": [
    "z%=2\n",
    "print(z)"
   ]
  },
  {
   "cell_type": "code",
   "execution_count": null,
   "id": "a184c0b0",
   "metadata": {},
   "outputs": [],
   "source": []
  },
  {
   "cell_type": "code",
   "execution_count": null,
   "id": "ccaddffc",
   "metadata": {},
   "outputs": [],
   "source": [
    "# eg.\n",
    "a = 2\n",
    "b = 2\n",
    "c = 10"
   ]
  },
  {
   "cell_type": "code",
   "execution_count": null,
   "id": "55ecf97c",
   "metadata": {},
   "outputs": [],
   "source": [
    "print(a)"
   ]
  },
  {
   "cell_type": "code",
   "execution_count": 45,
   "id": "b79f786d",
   "metadata": {},
   "outputs": [
    {
     "name": "stdout",
     "output_type": "stream",
     "text": [
      "3\n"
     ]
    }
   ],
   "source": [
    "a = 3\n",
    "print(a)"
   ]
  },
  {
   "cell_type": "code",
   "execution_count": 46,
   "id": "c160e047",
   "metadata": {},
   "outputs": [
    {
     "name": "stdout",
     "output_type": "stream",
     "text": [
      "4\n"
     ]
    }
   ],
   "source": [
    "a +=1\n",
    "print(a)"
   ]
  },
  {
   "cell_type": "code",
   "execution_count": 47,
   "id": "165e4005",
   "metadata": {},
   "outputs": [
    {
     "name": "stdout",
     "output_type": "stream",
     "text": [
      "1\n"
     ]
    }
   ],
   "source": [
    "b -= 1\n",
    "print(b)"
   ]
  },
  {
   "cell_type": "code",
   "execution_count": 48,
   "id": "55f78354",
   "metadata": {},
   "outputs": [
    {
     "name": "stdout",
     "output_type": "stream",
     "text": [
      "2\n"
     ]
    }
   ],
   "source": [
    "b *= 2\n",
    "print(b)"
   ]
  },
  {
   "cell_type": "code",
   "execution_count": 49,
   "id": "fd85c8f3",
   "metadata": {},
   "outputs": [
    {
     "name": "stdout",
     "output_type": "stream",
     "text": [
      "1.0\n"
     ]
    }
   ],
   "source": [
    "b /= 2\n",
    "print(b)"
   ]
  },
  {
   "cell_type": "code",
   "execution_count": 50,
   "id": "f34e482d",
   "metadata": {},
   "outputs": [
    {
     "name": "stdout",
     "output_type": "stream",
     "text": [
      "0\n"
     ]
    }
   ],
   "source": [
    "c %= 2  # c = c % 2\n",
    "print(c)"
   ]
  },
  {
   "cell_type": "code",
   "execution_count": 51,
   "id": "9b4b9022",
   "metadata": {},
   "outputs": [
    {
     "name": "stdout",
     "output_type": "stream",
     "text": [
      "4\n"
     ]
    }
   ],
   "source": [
    "c +=2\n",
    "c **=2\n",
    "print(c)"
   ]
  },
  {
   "cell_type": "code",
   "execution_count": 52,
   "id": "aafd0bfd",
   "metadata": {},
   "outputs": [
    {
     "name": "stdout",
     "output_type": "stream",
     "text": [
      "2\n"
     ]
    }
   ],
   "source": [
    "c //=2\n",
    "print(c)"
   ]
  },
  {
   "cell_type": "code",
   "execution_count": 1,
   "id": "c0bca7f6",
   "metadata": {},
   "outputs": [
    {
     "data": {
      "text/plain": [
       "2"
      ]
     },
     "execution_count": 1,
     "metadata": {},
     "output_type": "execute_result"
    }
   ],
   "source": [
    "2%9"
   ]
  },
  {
   "cell_type": "code",
   "execution_count": null,
   "id": "46ffe5d9",
   "metadata": {},
   "outputs": [],
   "source": []
  },
  {
   "cell_type": "code",
   "execution_count": 54,
   "id": "89b26ae5",
   "metadata": {},
   "outputs": [
    {
     "data": {
      "text/plain": [
       "10"
      ]
     },
     "execution_count": 54,
     "metadata": {},
     "output_type": "execute_result"
    }
   ],
   "source": [
    "21  //   2"
   ]
  },
  {
   "cell_type": "code",
   "execution_count": 53,
   "id": "7ac12802",
   "metadata": {},
   "outputs": [
    {
     "data": {
      "text/plain": [
       "10.5"
      ]
     },
     "execution_count": 53,
     "metadata": {},
     "output_type": "execute_result"
    }
   ],
   "source": [
    "21  /   2"
   ]
  },
  {
   "cell_type": "code",
   "execution_count": 2,
   "id": "d35ef3ca",
   "metadata": {},
   "outputs": [
    {
     "data": {
      "text/plain": [
       "1"
      ]
     },
     "execution_count": 2,
     "metadata": {},
     "output_type": "execute_result"
    }
   ],
   "source": [
    "9%2"
   ]
  },
  {
   "cell_type": "code",
   "execution_count": 55,
   "id": "8d1ec652",
   "metadata": {},
   "outputs": [],
   "source": [
    "a=5"
   ]
  },
  {
   "cell_type": "code",
   "execution_count": 56,
   "id": "86dc8aaf",
   "metadata": {},
   "outputs": [
    {
     "data": {
      "text/plain": [
       "5"
      ]
     },
     "execution_count": 56,
     "metadata": {},
     "output_type": "execute_result"
    }
   ],
   "source": [
    "a"
   ]
  },
  {
   "cell_type": "code",
   "execution_count": 57,
   "id": "8de305e7",
   "metadata": {},
   "outputs": [
    {
     "data": {
      "text/plain": [
       "int"
      ]
     },
     "execution_count": 57,
     "metadata": {},
     "output_type": "execute_result"
    }
   ],
   "source": [
    "type(a)"
   ]
  },
  {
   "cell_type": "code",
   "execution_count": 58,
   "id": "afef529a",
   "metadata": {},
   "outputs": [],
   "source": [
    "a=5"
   ]
  },
  {
   "cell_type": "code",
   "execution_count": 59,
   "id": "33305d13",
   "metadata": {},
   "outputs": [],
   "source": [
    "a=7"
   ]
  },
  {
   "cell_type": "code",
   "execution_count": 60,
   "id": "e2e56e80",
   "metadata": {},
   "outputs": [
    {
     "data": {
      "text/plain": [
       "7"
      ]
     },
     "execution_count": 60,
     "metadata": {},
     "output_type": "execute_result"
    }
   ],
   "source": [
    "a"
   ]
  },
  {
   "cell_type": "code",
   "execution_count": null,
   "id": "7ef2738f",
   "metadata": {},
   "outputs": [],
   "source": []
  },
  {
   "cell_type": "markdown",
   "id": "db0bdd2d",
   "metadata": {},
   "source": [
    "# Data-Types"
   ]
  },
  {
   "cell_type": "raw",
   "id": "d32d7168",
   "metadata": {},
   "source": [
    "# Data-Types:- 1) Numbers (integers, float, complex)\n",
    "             2) String \n",
    "             3) List\n",
    "             4) Tuple\n",
    "             5) set\n",
    "             6) Dictionary\n",
    "\n",
    "Datatypes are classified into two type\n",
    "    1) Immutable (Hashable) and\n",
    "    2) Mutable (Unhashable)\n",
    "    \n",
    "Immutable data Type: A data value which cannot be modified.\n",
    "mutable data Type : A data value which can be modified.\n",
    "\n",
    "Immutable (Hashable) data Type:\n",
    "             1) Numbers (integers, float, complex) \n",
    "             2) String  \n",
    "             3) Tuple\n",
    "             \n",
    "Mutable (Unhashable) data Type:\n",
    "             1) List\n",
    "             2) set \n",
    "             3) Dictionary \n",
    "\n",
    "\n",
    "\n",
    "To verify the type of any object in Python, use the type() function:"
   ]
  }
 ],
 "metadata": {
  "kernelspec": {
   "display_name": "Python 3 (ipykernel)",
   "language": "python",
   "name": "python3"
  },
  "language_info": {
   "codemirror_mode": {
    "name": "ipython",
    "version": 3
   },
   "file_extension": ".py",
   "mimetype": "text/x-python",
   "name": "python",
   "nbconvert_exporter": "python",
   "pygments_lexer": "ipython3",
   "version": "3.9.7"
  }
 },
 "nbformat": 4,
 "nbformat_minor": 5
}
