{
 "cells": [
  {
   "cell_type": "code",
   "execution_count": 115,
   "id": "ba9577f4",
   "metadata": {},
   "outputs": [],
   "source": [
    "# iterate over the list items \n",
    "a = [1,2,3,4,\"5\",\"6\",\"7\",\"Hello\",\"World\",True,False,\"Houndred\"] "
   ]
  },
  {
   "cell_type": "code",
   "execution_count": null,
   "id": "159b7993",
   "metadata": {},
   "outputs": [],
   "source": [
    "# Q.1 Print only True and false\n",
    "# Q.2 Print only int\n",
    "# Q.3 Print only those string that contains \"l\"\n",
    "# Q.4 Print only those string that contains \"l\" at 3rd position #\"Hello\"\n",
    "\n",
    "# Hint:- Use if condition"
   ]
  },
  {
   "cell_type": "code",
   "execution_count": null,
   "id": "98b54bbd",
   "metadata": {},
   "outputs": [],
   "source": []
  },
  {
   "cell_type": "code",
   "execution_count": 116,
   "id": "d22893ac",
   "metadata": {},
   "outputs": [
    {
     "name": "stdout",
     "output_type": "stream",
     "text": [
      "True\n",
      "False\n"
     ]
    }
   ],
   "source": [
    "# Q.1 Print only True and false\n",
    "for i in a:\n",
    "    if type(i)==bool:\n",
    "        print(i)"
   ]
  },
  {
   "cell_type": "code",
   "execution_count": 117,
   "id": "a821b2e1",
   "metadata": {},
   "outputs": [
    {
     "name": "stdout",
     "output_type": "stream",
     "text": [
      "[True, False]\n"
     ]
    }
   ],
   "source": [
    "bool_values = []\n",
    "for i in a:\n",
    "    if type(i)==bool:\n",
    "        bool_values.append(i)\n",
    "\n",
    "print(bool_values)"
   ]
  },
  {
   "cell_type": "code",
   "execution_count": 118,
   "id": "c989371b",
   "metadata": {},
   "outputs": [
    {
     "name": "stdout",
     "output_type": "stream",
     "text": [
      "1\n",
      "2\n",
      "3\n",
      "4\n"
     ]
    }
   ],
   "source": [
    "# Q.2 Print only int\n",
    "for i in a:\n",
    "    if type(i)==int:\n",
    "        print(i)"
   ]
  },
  {
   "cell_type": "code",
   "execution_count": 119,
   "id": "ee64c8e1",
   "metadata": {},
   "outputs": [],
   "source": [
    "a = [1,2,3,4,\"5\",\"6\",\"7\",\"Hello\",\"World\",True,False,\"Houndred\"] "
   ]
  },
  {
   "cell_type": "code",
   "execution_count": 120,
   "id": "79283638",
   "metadata": {},
   "outputs": [
    {
     "name": "stdout",
     "output_type": "stream",
     "text": [
      "Hello\n",
      "World\n"
     ]
    }
   ],
   "source": [
    "# Q.3 Print only those string that contains \"l\"\n",
    "for i in a:\n",
    "    if type(i)==str:\n",
    "        if \"l\" in i:\n",
    "            print(i)"
   ]
  },
  {
   "cell_type": "code",
   "execution_count": 123,
   "id": "621e2a09",
   "metadata": {},
   "outputs": [],
   "source": [
    "# Q.4 Print only those string that contains \"l\" at 3rd position #\"Hello\"\n",
    "#  1  2  3  4  5\n",
    "# \"H  e  l  l  o\"\n",
    "#  0  1  2  3  4\n"
   ]
  },
  {
   "cell_type": "code",
   "execution_count": 122,
   "id": "49c6359a",
   "metadata": {},
   "outputs": [
    {
     "name": "stdout",
     "output_type": "stream",
     "text": [
      "Hello\n"
     ]
    }
   ],
   "source": [
    "for i in a:\n",
    "    if type(i)==str:\n",
    "        if len(i)>3:\n",
    "            if i[2] == \"l\":\n",
    "                print(i)"
   ]
  },
  {
   "cell_type": "code",
   "execution_count": null,
   "id": "90673637",
   "metadata": {},
   "outputs": [],
   "source": []
  },
  {
   "cell_type": "code",
   "execution_count": null,
   "id": "cf3b3a4d",
   "metadata": {},
   "outputs": [],
   "source": []
  },
  {
   "cell_type": "markdown",
   "id": "b7ee268f",
   "metadata": {},
   "source": [
    "## Tuple"
   ]
  },
  {
   "cell_type": "raw",
   "id": "4f905d8d",
   "metadata": {},
   "source": [
    "A tuple is a collection which is ordered and unchangeable (Immutable) and allow duplicates.\n",
    "\n",
    "Tuples are written with round brackets."
   ]
  },
  {
   "cell_type": "code",
   "execution_count": 8,
   "id": "58f79828",
   "metadata": {},
   "outputs": [],
   "source": [
    "a=(12,12.0,\"Python\")\n",
    "#  0   1    2"
   ]
  },
  {
   "cell_type": "code",
   "execution_count": 9,
   "id": "df2f44c4",
   "metadata": {},
   "outputs": [
    {
     "data": {
      "text/plain": [
       "tuple"
      ]
     },
     "execution_count": 9,
     "metadata": {},
     "output_type": "execute_result"
    }
   ],
   "source": [
    "type(a)"
   ]
  },
  {
   "cell_type": "code",
   "execution_count": 10,
   "id": "958f154f",
   "metadata": {},
   "outputs": [
    {
     "data": {
      "text/plain": [
       "3"
      ]
     },
     "execution_count": 10,
     "metadata": {},
     "output_type": "execute_result"
    }
   ],
   "source": [
    "len(a)"
   ]
  },
  {
   "cell_type": "code",
   "execution_count": 11,
   "id": "b552535b",
   "metadata": {},
   "outputs": [
    {
     "data": {
      "text/plain": [
       "'Python'"
      ]
     },
     "execution_count": 11,
     "metadata": {},
     "output_type": "execute_result"
    }
   ],
   "source": [
    "# Indexing\n",
    "a[2]  #\"Python\""
   ]
  },
  {
   "cell_type": "code",
   "execution_count": 12,
   "id": "8d9b71e4",
   "metadata": {},
   "outputs": [
    {
     "data": {
      "text/plain": [
       "(12.0, 'Python')"
      ]
     },
     "execution_count": 12,
     "metadata": {},
     "output_type": "execute_result"
    }
   ],
   "source": [
    "#Slicing\n",
    "a[1:]  #12.0,\"Python\""
   ]
  },
  {
   "cell_type": "code",
   "execution_count": 14,
   "id": "c0abb475",
   "metadata": {},
   "outputs": [
    {
     "ename": "TypeError",
     "evalue": "'tuple' object does not support item assignment",
     "output_type": "error",
     "traceback": [
      "\u001b[1;31m---------------------------------------------------------------------------\u001b[0m",
      "\u001b[1;31mTypeError\u001b[0m                                 Traceback (most recent call last)",
      "\u001b[1;32m~\\AppData\\Local\\Temp/ipykernel_5132/1617180994.py\u001b[0m in \u001b[0;36m<module>\u001b[1;34m\u001b[0m\n\u001b[1;32m----> 1\u001b[1;33m \u001b[0ma\u001b[0m\u001b[1;33m[\u001b[0m\u001b[1;36m2\u001b[0m\u001b[1;33m]\u001b[0m \u001b[1;33m=\u001b[0m \u001b[1;34m\"SQL\"\u001b[0m\u001b[1;33m\u001b[0m\u001b[1;33m\u001b[0m\u001b[0m\n\u001b[0m",
      "\u001b[1;31mTypeError\u001b[0m: 'tuple' object does not support item assignment"
     ]
    }
   ],
   "source": [
    "# Immutable\n",
    "a[2] = \"SQL\""
   ]
  },
  {
   "cell_type": "code",
   "execution_count": null,
   "id": "439d2b3c",
   "metadata": {},
   "outputs": [],
   "source": [
    "# How change tuple value"
   ]
  },
  {
   "cell_type": "code",
   "execution_count": 15,
   "id": "244d5631",
   "metadata": {},
   "outputs": [
    {
     "data": {
      "text/plain": [
       "(12, 12.0, 'Python')"
      ]
     },
     "execution_count": 15,
     "metadata": {},
     "output_type": "execute_result"
    }
   ],
   "source": [
    "a"
   ]
  },
  {
   "cell_type": "code",
   "execution_count": 17,
   "id": "85a01ebd",
   "metadata": {},
   "outputs": [],
   "source": [
    "b=list(a)"
   ]
  },
  {
   "cell_type": "code",
   "execution_count": 19,
   "id": "d3f2fdc6",
   "metadata": {},
   "outputs": [],
   "source": [
    "b[2]=\"SQL\""
   ]
  },
  {
   "cell_type": "code",
   "execution_count": 21,
   "id": "724f91f4",
   "metadata": {},
   "outputs": [
    {
     "data": {
      "text/plain": [
       "[12, 12.0, 'SQL']"
      ]
     },
     "execution_count": 21,
     "metadata": {},
     "output_type": "execute_result"
    }
   ],
   "source": [
    "b"
   ]
  },
  {
   "cell_type": "code",
   "execution_count": 24,
   "id": "af1f8d4b",
   "metadata": {},
   "outputs": [],
   "source": [
    "a=tuple(b)"
   ]
  },
  {
   "cell_type": "code",
   "execution_count": 25,
   "id": "6c150003",
   "metadata": {},
   "outputs": [
    {
     "data": {
      "text/plain": [
       "(12, 12.0, 'SQL')"
      ]
     },
     "execution_count": 25,
     "metadata": {},
     "output_type": "execute_result"
    }
   ],
   "source": [
    "a"
   ]
  },
  {
   "cell_type": "code",
   "execution_count": null,
   "id": "d16d7a86",
   "metadata": {},
   "outputs": [],
   "source": []
  },
  {
   "cell_type": "code",
   "execution_count": 27,
   "id": "8427600c",
   "metadata": {},
   "outputs": [],
   "source": [
    "# editing the values inside a tuple\n",
    "#      0 1 2 3 4 5 6 \n",
    "tup = (1,3,5,7,9,9,9)"
   ]
  },
  {
   "cell_type": "code",
   "execution_count": 28,
   "id": "168345ff",
   "metadata": {},
   "outputs": [],
   "source": [
    "tup1=(1,2,2,2.0,\"gg\")"
   ]
  },
  {
   "cell_type": "code",
   "execution_count": 29,
   "id": "7b3f890e",
   "metadata": {},
   "outputs": [
    {
     "data": {
      "text/plain": [
       "(1, 2, 2, 2.0, 'gg')"
      ]
     },
     "execution_count": 29,
     "metadata": {},
     "output_type": "execute_result"
    }
   ],
   "source": [
    "tup1"
   ]
  },
  {
   "cell_type": "code",
   "execution_count": 30,
   "id": "78e789b0",
   "metadata": {},
   "outputs": [
    {
     "data": {
      "text/plain": [
       "tuple"
      ]
     },
     "execution_count": 30,
     "metadata": {},
     "output_type": "execute_result"
    }
   ],
   "source": [
    "type(tup1)"
   ]
  },
  {
   "cell_type": "code",
   "execution_count": 31,
   "id": "9d2cca27",
   "metadata": {},
   "outputs": [
    {
     "data": {
      "text/plain": [
       "5"
      ]
     },
     "execution_count": 31,
     "metadata": {},
     "output_type": "execute_result"
    }
   ],
   "source": [
    "len(tup1)"
   ]
  },
  {
   "cell_type": "code",
   "execution_count": null,
   "id": "32a48041",
   "metadata": {},
   "outputs": [],
   "source": []
  },
  {
   "cell_type": "code",
   "execution_count": 32,
   "id": "652f5189",
   "metadata": {},
   "outputs": [],
   "source": [
    "tup = (1,3,5,7,9,9,9)"
   ]
  },
  {
   "cell_type": "code",
   "execution_count": 33,
   "id": "5d992b2b",
   "metadata": {},
   "outputs": [
    {
     "data": {
      "text/plain": [
       "5"
      ]
     },
     "execution_count": 33,
     "metadata": {},
     "output_type": "execute_result"
    }
   ],
   "source": [
    "tup[2]"
   ]
  },
  {
   "cell_type": "code",
   "execution_count": 34,
   "id": "6b3f2033",
   "metadata": {},
   "outputs": [
    {
     "data": {
      "text/plain": [
       "(5, 7, 9, 9, 9)"
      ]
     },
     "execution_count": 34,
     "metadata": {},
     "output_type": "execute_result"
    }
   ],
   "source": [
    "tup[2:]"
   ]
  },
  {
   "cell_type": "code",
   "execution_count": 35,
   "id": "fe2caa67",
   "metadata": {},
   "outputs": [
    {
     "data": {
      "text/plain": [
       "(1, 3, 5, 7, 9, 9, 9)"
      ]
     },
     "execution_count": 35,
     "metadata": {},
     "output_type": "execute_result"
    }
   ],
   "source": [
    "tup[:]"
   ]
  },
  {
   "cell_type": "code",
   "execution_count": 36,
   "id": "fcd312e5",
   "metadata": {},
   "outputs": [
    {
     "data": {
      "text/plain": [
       "(9, 9, 9, 7, 5, 3, 1)"
      ]
     },
     "execution_count": 36,
     "metadata": {},
     "output_type": "execute_result"
    }
   ],
   "source": [
    "tup[::-1]"
   ]
  },
  {
   "cell_type": "code",
   "execution_count": 37,
   "id": "8b76c904",
   "metadata": {},
   "outputs": [
    {
     "ename": "TypeError",
     "evalue": "'tuple' object does not support item assignment",
     "output_type": "error",
     "traceback": [
      "\u001b[1;31m---------------------------------------------------------------------------\u001b[0m",
      "\u001b[1;31mTypeError\u001b[0m                                 Traceback (most recent call last)",
      "\u001b[1;32m~\\AppData\\Local\\Temp/ipykernel_5132/1546095000.py\u001b[0m in \u001b[0;36m<module>\u001b[1;34m\u001b[0m\n\u001b[1;32m----> 1\u001b[1;33m \u001b[0mtup\u001b[0m\u001b[1;33m[\u001b[0m\u001b[1;36m2\u001b[0m\u001b[1;33m]\u001b[0m \u001b[1;33m=\u001b[0m \u001b[1;36m4\u001b[0m    \u001b[1;31m# Immutable\u001b[0m\u001b[1;33m\u001b[0m\u001b[1;33m\u001b[0m\u001b[0m\n\u001b[0m",
      "\u001b[1;31mTypeError\u001b[0m: 'tuple' object does not support item assignment"
     ]
    }
   ],
   "source": [
    "tup[2] = 4    # Immutable"
   ]
  },
  {
   "cell_type": "code",
   "execution_count": 39,
   "id": "c3489432",
   "metadata": {},
   "outputs": [
    {
     "data": {
      "text/plain": [
       "(2,)"
      ]
     },
     "execution_count": 39,
     "metadata": {},
     "output_type": "execute_result"
    }
   ],
   "source": [
    "2,"
   ]
  },
  {
   "cell_type": "code",
   "execution_count": null,
   "id": "b9c0c88d",
   "metadata": {},
   "outputs": [],
   "source": [
    "tup2 = 2,3\n",
    "tup2"
   ]
  },
  {
   "cell_type": "code",
   "execution_count": 40,
   "id": "a0591220",
   "metadata": {},
   "outputs": [
    {
     "data": {
      "text/plain": [
       "(2,)"
      ]
     },
     "execution_count": 40,
     "metadata": {},
     "output_type": "execute_result"
    }
   ],
   "source": [
    "tup3 = 2,\n",
    "tup3"
   ]
  },
  {
   "cell_type": "code",
   "execution_count": null,
   "id": "dbee49fb",
   "metadata": {},
   "outputs": [],
   "source": [
    "type(tup2)"
   ]
  },
  {
   "cell_type": "code",
   "execution_count": 41,
   "id": "e4940c1c",
   "metadata": {},
   "outputs": [
    {
     "data": {
      "text/plain": [
       "tuple"
      ]
     },
     "execution_count": 41,
     "metadata": {},
     "output_type": "execute_result"
    }
   ],
   "source": [
    "type(tup3)"
   ]
  },
  {
   "cell_type": "code",
   "execution_count": null,
   "id": "d5397a30",
   "metadata": {},
   "outputs": [],
   "source": [
    "type(4)"
   ]
  },
  {
   "cell_type": "code",
   "execution_count": null,
   "id": "2a53ccb7",
   "metadata": {},
   "outputs": [],
   "source": [
    "type((4,))"
   ]
  },
  {
   "cell_type": "code",
   "execution_count": null,
   "id": "1dfca680",
   "metadata": {},
   "outputs": [],
   "source": [
    "tup3= 4,"
   ]
  },
  {
   "cell_type": "code",
   "execution_count": null,
   "id": "1ac3a2b7",
   "metadata": {},
   "outputs": [],
   "source": [
    "tup3"
   ]
  },
  {
   "cell_type": "code",
   "execution_count": null,
   "id": "626f152f",
   "metadata": {},
   "outputs": [],
   "source": [
    "type(tup3)"
   ]
  },
  {
   "cell_type": "markdown",
   "id": "cb140b3b",
   "metadata": {},
   "source": [
    "### methods in a tuple"
   ]
  },
  {
   "cell_type": "code",
   "execution_count": 42,
   "id": "edeb99b1",
   "metadata": {},
   "outputs": [],
   "source": [
    "tup = (1,3,5,7,9,9,9)\n",
    "      #0 1 2 3 4 5 6"
   ]
  },
  {
   "cell_type": "code",
   "execution_count": 43,
   "id": "3b9f6792",
   "metadata": {},
   "outputs": [
    {
     "data": {
      "text/plain": [
       "3"
      ]
     },
     "execution_count": 43,
     "metadata": {},
     "output_type": "execute_result"
    }
   ],
   "source": [
    "tup.count(9)"
   ]
  },
  {
   "cell_type": "code",
   "execution_count": 44,
   "id": "589f3aa2",
   "metadata": {},
   "outputs": [
    {
     "data": {
      "text/plain": [
       "1"
      ]
     },
     "execution_count": 44,
     "metadata": {},
     "output_type": "execute_result"
    }
   ],
   "source": [
    "tup.count(5)"
   ]
  },
  {
   "cell_type": "code",
   "execution_count": 46,
   "id": "4219892e",
   "metadata": {},
   "outputs": [
    {
     "data": {
      "text/plain": [
       "4"
      ]
     },
     "execution_count": 46,
     "metadata": {},
     "output_type": "execute_result"
    }
   ],
   "source": [
    "tup.index(9)"
   ]
  },
  {
   "cell_type": "code",
   "execution_count": 47,
   "id": "60808ef7",
   "metadata": {},
   "outputs": [
    {
     "name": "stdout",
     "output_type": "stream",
     "text": [
      "3\n",
      "0\n"
     ]
    }
   ],
   "source": [
    "print(tup.count(9))\n",
    "print(tup.count(45))"
   ]
  },
  {
   "cell_type": "code",
   "execution_count": 48,
   "id": "4ae00018",
   "metadata": {},
   "outputs": [
    {
     "name": "stdout",
     "output_type": "stream",
     "text": [
      "3\n",
      "4\n"
     ]
    }
   ],
   "source": [
    "print(tup.index(7)) \n",
    "print(tup.index(9)) #1st occurance of the element"
   ]
  },
  {
   "cell_type": "code",
   "execution_count": 49,
   "id": "5b47a4f3",
   "metadata": {},
   "outputs": [
    {
     "data": {
      "text/plain": [
       "(1, 3, 5, 7, 9, 9, 9)"
      ]
     },
     "execution_count": 49,
     "metadata": {},
     "output_type": "execute_result"
    }
   ],
   "source": [
    "tup"
   ]
  },
  {
   "cell_type": "code",
   "execution_count": 50,
   "id": "dba079c2",
   "metadata": {},
   "outputs": [
    {
     "data": {
      "text/plain": [
       "1"
      ]
     },
     "execution_count": 50,
     "metadata": {},
     "output_type": "execute_result"
    }
   ],
   "source": [
    "## function\n",
    "\n",
    "min(tup)"
   ]
  },
  {
   "cell_type": "code",
   "execution_count": 51,
   "id": "9ffa0edd",
   "metadata": {},
   "outputs": [
    {
     "data": {
      "text/plain": [
       "9"
      ]
     },
     "execution_count": 51,
     "metadata": {},
     "output_type": "execute_result"
    }
   ],
   "source": [
    "max(tup)"
   ]
  },
  {
   "cell_type": "code",
   "execution_count": 55,
   "id": "72cf2b42",
   "metadata": {},
   "outputs": [
    {
     "data": {
      "text/plain": [
       "[9, 9, 9, 7, 5, 3, 1]"
      ]
     },
     "execution_count": 55,
     "metadata": {},
     "output_type": "execute_result"
    }
   ],
   "source": [
    "sorted(tup,reverse=True)"
   ]
  },
  {
   "cell_type": "code",
   "execution_count": null,
   "id": "42077f7d",
   "metadata": {},
   "outputs": [],
   "source": [
    "sorted(tup) #reverse=False"
   ]
  },
  {
   "cell_type": "code",
   "execution_count": 54,
   "id": "5e0bbf4d",
   "metadata": {},
   "outputs": [
    {
     "data": {
      "text/plain": [
       "list"
      ]
     },
     "execution_count": 54,
     "metadata": {},
     "output_type": "execute_result"
    }
   ],
   "source": [
    "type(sorted(tup,reverse=True))"
   ]
  },
  {
   "cell_type": "code",
   "execution_count": null,
   "id": "dd6b94b8",
   "metadata": {},
   "outputs": [],
   "source": [
    "print(sorted(tup)) #return you a list"
   ]
  },
  {
   "cell_type": "code",
   "execution_count": null,
   "id": "43d220a6",
   "metadata": {},
   "outputs": [],
   "source": [
    "print(sorted(tup,reverse=True)) "
   ]
  },
  {
   "cell_type": "code",
   "execution_count": null,
   "id": "503f8221",
   "metadata": {},
   "outputs": [],
   "source": [
    "sorted(\"Hello\")"
   ]
  },
  {
   "cell_type": "markdown",
   "id": "13d295ee",
   "metadata": {},
   "source": [
    "### Editing a tuple"
   ]
  },
  {
   "cell_type": "code",
   "execution_count": 56,
   "id": "ef465239",
   "metadata": {},
   "outputs": [
    {
     "name": "stdout",
     "output_type": "stream",
     "text": [
      "(1, 2, 3, 4, 5)\n"
     ]
    }
   ],
   "source": [
    "# converting to list (type casting)\n",
    "\n",
    "s1 = (1,2,3,4,5)\n",
    "print(s1)\n"
   ]
  },
  {
   "cell_type": "code",
   "execution_count": 57,
   "id": "476dc0b5",
   "metadata": {},
   "outputs": [],
   "source": [
    "s2 = list(s1) # Tuple converted into list"
   ]
  },
  {
   "cell_type": "code",
   "execution_count": null,
   "id": "750b6042",
   "metadata": {},
   "outputs": [],
   "source": []
  },
  {
   "cell_type": "code",
   "execution_count": 59,
   "id": "ffb24b5a",
   "metadata": {},
   "outputs": [],
   "source": [
    "s2.append(6)"
   ]
  },
  {
   "cell_type": "code",
   "execution_count": 62,
   "id": "ad4f5509",
   "metadata": {},
   "outputs": [
    {
     "data": {
      "text/plain": [
       "[1, 2, 3, 4, 5]"
      ]
     },
     "execution_count": 62,
     "metadata": {},
     "output_type": "execute_result"
    }
   ],
   "source": [
    "s2"
   ]
  },
  {
   "cell_type": "code",
   "execution_count": null,
   "id": "11fadacf",
   "metadata": {},
   "outputs": [],
   "source": [
    "[1, 2, 3, 4, 5]\n",
    "#0  1  2  3  4\n",
    "       4"
   ]
  },
  {
   "cell_type": "code",
   "execution_count": null,
   "id": "1895adc1",
   "metadata": {},
   "outputs": [],
   "source": [
    "[1, 2,4  3, 4, 5]"
   ]
  },
  {
   "cell_type": "code",
   "execution_count": 63,
   "id": "0f7071d6",
   "metadata": {},
   "outputs": [],
   "source": [
    "s2.insert(2,4)"
   ]
  },
  {
   "cell_type": "code",
   "execution_count": 65,
   "id": "1ef7f615",
   "metadata": {},
   "outputs": [
    {
     "data": {
      "text/plain": [
       "[1, 2, 4, 3, 4, 5]"
      ]
     },
     "execution_count": 65,
     "metadata": {},
     "output_type": "execute_result"
    }
   ],
   "source": [
    "s2"
   ]
  },
  {
   "cell_type": "code",
   "execution_count": 67,
   "id": "18b12638",
   "metadata": {},
   "outputs": [
    {
     "data": {
      "text/plain": [
       "5"
      ]
     },
     "execution_count": 67,
     "metadata": {},
     "output_type": "execute_result"
    }
   ],
   "source": [
    "len(s2)"
   ]
  },
  {
   "cell_type": "code",
   "execution_count": 77,
   "id": "bfdcadd1",
   "metadata": {},
   "outputs": [
    {
     "data": {
      "text/plain": [
       "[]"
      ]
     },
     "execution_count": 77,
     "metadata": {},
     "output_type": "execute_result"
    }
   ],
   "source": [
    "s2"
   ]
  },
  {
   "cell_type": "code",
   "execution_count": 78,
   "id": "31ba5f71",
   "metadata": {},
   "outputs": [
    {
     "ename": "IndexError",
     "evalue": "pop from empty list",
     "output_type": "error",
     "traceback": [
      "\u001b[1;31m---------------------------------------------------------------------------\u001b[0m",
      "\u001b[1;31mIndexError\u001b[0m                                Traceback (most recent call last)",
      "\u001b[1;32m~\\AppData\\Local\\Temp/ipykernel_5132/3411732553.py\u001b[0m in \u001b[0;36m<module>\u001b[1;34m\u001b[0m\n\u001b[1;32m----> 1\u001b[1;33m \u001b[0ms2\u001b[0m\u001b[1;33m.\u001b[0m\u001b[0mpop\u001b[0m\u001b[1;33m(\u001b[0m\u001b[1;33m)\u001b[0m\u001b[1;33m\u001b[0m\u001b[1;33m\u001b[0m\u001b[0m\n\u001b[0m",
      "\u001b[1;31mIndexError\u001b[0m: pop from empty list"
     ]
    }
   ],
   "source": [
    "s2.pop()"
   ]
  },
  {
   "cell_type": "code",
   "execution_count": 37,
   "id": "d2bb531d",
   "metadata": {},
   "outputs": [
    {
     "name": "stdout",
     "output_type": "stream",
     "text": [
      "[1, 2, 3, 4, 5, 6, 6]\n"
     ]
    }
   ],
   "source": [
    "s2.append(6)\n",
    "print(s2)"
   ]
  },
  {
   "cell_type": "code",
   "execution_count": 38,
   "id": "89109661",
   "metadata": {},
   "outputs": [
    {
     "name": "stdout",
     "output_type": "stream",
     "text": [
      "(1, 2, 3, 4, 5, 6, 6)\n"
     ]
    }
   ],
   "source": [
    "s3 = tuple(s2)\n",
    "print(s3)"
   ]
  },
  {
   "cell_type": "code",
   "execution_count": 80,
   "id": "d9896058",
   "metadata": {},
   "outputs": [],
   "source": [
    "s1=(1,2,3)\n",
    "s2=[1,2,3]\n",
    "s3=(3,2,1)"
   ]
  },
  {
   "cell_type": "code",
   "execution_count": 81,
   "id": "e9d30e02",
   "metadata": {},
   "outputs": [
    {
     "name": "stdout",
     "output_type": "stream",
     "text": [
      "2394119320640\n",
      "2394119170432\n",
      "2394118356672\n"
     ]
    }
   ],
   "source": [
    "print(id(s1))\n",
    "print(id(s2))\n",
    "print(id(s3))"
   ]
  },
  {
   "cell_type": "code",
   "execution_count": 82,
   "id": "32f42615",
   "metadata": {},
   "outputs": [
    {
     "data": {
      "text/plain": [
       "False"
      ]
     },
     "execution_count": 82,
     "metadata": {},
     "output_type": "execute_result"
    }
   ],
   "source": [
    "s1==s3"
   ]
  },
  {
   "cell_type": "code",
   "execution_count": 84,
   "id": "6bbbe8f2",
   "metadata": {},
   "outputs": [
    {
     "name": "stdout",
     "output_type": "stream",
     "text": [
      "0\n",
      "2\n"
     ]
    }
   ],
   "source": [
    "print(s1.count(5))\n",
    "print(s3.index(1))"
   ]
  },
  {
   "cell_type": "markdown",
   "id": "fe8f2832",
   "metadata": {},
   "source": [
    "#### unpacking"
   ]
  },
  {
   "cell_type": "code",
   "execution_count": 85,
   "id": "def3b8c1",
   "metadata": {},
   "outputs": [
    {
     "data": {
      "text/plain": [
       "4"
      ]
     },
     "execution_count": 85,
     "metadata": {},
     "output_type": "execute_result"
    }
   ],
   "source": [
    "# unpacking\n",
    "\n",
    "t1  = (5,55,555,5555)\n",
    "len(t1)"
   ]
  },
  {
   "cell_type": "code",
   "execution_count": null,
   "id": "512a015d",
   "metadata": {},
   "outputs": [],
   "source": []
  },
  {
   "cell_type": "code",
   "execution_count": null,
   "id": "44122ab2",
   "metadata": {},
   "outputs": [],
   "source": []
  },
  {
   "cell_type": "code",
   "execution_count": 86,
   "id": "1b3009b2",
   "metadata": {},
   "outputs": [],
   "source": [
    "a,b,c=1,2,3"
   ]
  },
  {
   "cell_type": "code",
   "execution_count": 87,
   "id": "6258680a",
   "metadata": {},
   "outputs": [
    {
     "data": {
      "text/plain": [
       "1"
      ]
     },
     "execution_count": 87,
     "metadata": {},
     "output_type": "execute_result"
    }
   ],
   "source": [
    "a"
   ]
  },
  {
   "cell_type": "code",
   "execution_count": 88,
   "id": "7de4cf6f",
   "metadata": {},
   "outputs": [
    {
     "data": {
      "text/plain": [
       "2"
      ]
     },
     "execution_count": 88,
     "metadata": {},
     "output_type": "execute_result"
    }
   ],
   "source": [
    "b"
   ]
  },
  {
   "cell_type": "code",
   "execution_count": 89,
   "id": "eb754785",
   "metadata": {},
   "outputs": [
    {
     "data": {
      "text/plain": [
       "3"
      ]
     },
     "execution_count": 89,
     "metadata": {},
     "output_type": "execute_result"
    }
   ],
   "source": [
    "c"
   ]
  },
  {
   "cell_type": "code",
   "execution_count": 90,
   "id": "8bed0558",
   "metadata": {},
   "outputs": [
    {
     "data": {
      "text/plain": [
       "(5, 55, 555, 5555)"
      ]
     },
     "execution_count": 90,
     "metadata": {},
     "output_type": "execute_result"
    }
   ],
   "source": [
    "t1"
   ]
  },
  {
   "cell_type": "code",
   "execution_count": 91,
   "id": "3fa523c0",
   "metadata": {},
   "outputs": [],
   "source": [
    "a ,b, c ,d = t1"
   ]
  },
  {
   "cell_type": "code",
   "execution_count": 93,
   "id": "0547ac36",
   "metadata": {},
   "outputs": [
    {
     "name": "stdout",
     "output_type": "stream",
     "text": [
      "5\n",
      "55\n",
      "555\n",
      "5555\n"
     ]
    }
   ],
   "source": [
    "print(a)\n",
    "print(b)\n",
    "print(c)\n",
    "print(d)"
   ]
  },
  {
   "cell_type": "code",
   "execution_count": 95,
   "id": "9d056596",
   "metadata": {},
   "outputs": [
    {
     "ename": "ValueError",
     "evalue": "too many values to unpack (expected 3)",
     "output_type": "error",
     "traceback": [
      "\u001b[1;31m---------------------------------------------------------------------------\u001b[0m",
      "\u001b[1;31mValueError\u001b[0m                                Traceback (most recent call last)",
      "\u001b[1;32m~\\AppData\\Local\\Temp/ipykernel_5132/1993654972.py\u001b[0m in \u001b[0;36m<module>\u001b[1;34m\u001b[0m\n\u001b[1;32m----> 1\u001b[1;33m \u001b[0ma\u001b[0m \u001b[1;33m,\u001b[0m\u001b[0mb\u001b[0m\u001b[1;33m,\u001b[0m \u001b[0mc\u001b[0m \u001b[1;33m=\u001b[0m \u001b[0mt1\u001b[0m\u001b[1;33m\u001b[0m\u001b[1;33m\u001b[0m\u001b[0m\n\u001b[0m",
      "\u001b[1;31mValueError\u001b[0m: too many values to unpack (expected 3)"
     ]
    }
   ],
   "source": [
    "a ,b, c = t1"
   ]
  },
  {
   "cell_type": "code",
   "execution_count": 94,
   "id": "dff44c16",
   "metadata": {},
   "outputs": [
    {
     "ename": "ValueError",
     "evalue": "not enough values to unpack (expected 5, got 4)",
     "output_type": "error",
     "traceback": [
      "\u001b[1;31m---------------------------------------------------------------------------\u001b[0m",
      "\u001b[1;31mValueError\u001b[0m                                Traceback (most recent call last)",
      "\u001b[1;32m~\\AppData\\Local\\Temp/ipykernel_5132/3413333985.py\u001b[0m in \u001b[0;36m<module>\u001b[1;34m\u001b[0m\n\u001b[1;32m----> 1\u001b[1;33m \u001b[0ma\u001b[0m \u001b[1;33m,\u001b[0m\u001b[0mb\u001b[0m\u001b[1;33m,\u001b[0m \u001b[0mc\u001b[0m\u001b[1;33m,\u001b[0m\u001b[0mh\u001b[0m\u001b[1;33m,\u001b[0m\u001b[0mk\u001b[0m \u001b[1;33m=\u001b[0m \u001b[0mt1\u001b[0m\u001b[1;33m\u001b[0m\u001b[1;33m\u001b[0m\u001b[0m\n\u001b[0m",
      "\u001b[1;31mValueError\u001b[0m: not enough values to unpack (expected 5, got 4)"
     ]
    }
   ],
   "source": [
    "a ,b, c,h,k = t1"
   ]
  },
  {
   "cell_type": "code",
   "execution_count": 97,
   "id": "c0e29c13",
   "metadata": {},
   "outputs": [],
   "source": [
    "t1  = (5,55,555,5555)"
   ]
  },
  {
   "cell_type": "code",
   "execution_count": 98,
   "id": "f17862ff",
   "metadata": {},
   "outputs": [],
   "source": [
    "a,b,c,d=t1"
   ]
  },
  {
   "cell_type": "code",
   "execution_count": 100,
   "id": "d4a0351f",
   "metadata": {},
   "outputs": [
    {
     "name": "stdout",
     "output_type": "stream",
     "text": [
      "5,55,555,5555\n"
     ]
    }
   ],
   "source": [
    "print(a,b,c,d,sep=\",\")"
   ]
  },
  {
   "cell_type": "code",
   "execution_count": 101,
   "id": "c1e9e131",
   "metadata": {},
   "outputs": [
    {
     "data": {
      "text/plain": [
       "(5, 55, 555, 5555)"
      ]
     },
     "execution_count": 101,
     "metadata": {},
     "output_type": "execute_result"
    }
   ],
   "source": [
    "t1"
   ]
  },
  {
   "cell_type": "code",
   "execution_count": 102,
   "id": "2b0dbdc7",
   "metadata": {},
   "outputs": [],
   "source": [
    "_ ,f, _ ,_= t1   # palce holder"
   ]
  },
  {
   "cell_type": "code",
   "execution_count": 105,
   "id": "f832e1bf",
   "metadata": {},
   "outputs": [
    {
     "data": {
      "text/plain": [
       "55"
      ]
     },
     "execution_count": 105,
     "metadata": {},
     "output_type": "execute_result"
    }
   ],
   "source": [
    "f"
   ]
  },
  {
   "cell_type": "code",
   "execution_count": 106,
   "id": "08802cd2",
   "metadata": {},
   "outputs": [
    {
     "data": {
      "text/plain": [
       "5555"
      ]
     },
     "execution_count": 106,
     "metadata": {},
     "output_type": "execute_result"
    }
   ],
   "source": [
    "_"
   ]
  },
  {
   "cell_type": "code",
   "execution_count": 108,
   "id": "faa6e69b",
   "metadata": {},
   "outputs": [],
   "source": [
    "tup2=(1,2,3,4,5,6,7,8,9)\n",
    "#         R         R"
   ]
  },
  {
   "cell_type": "code",
   "execution_count": 109,
   "id": "c819d2f4",
   "metadata": {},
   "outputs": [
    {
     "data": {
      "text/plain": [
       "9"
      ]
     },
     "execution_count": 109,
     "metadata": {},
     "output_type": "execute_result"
    }
   ],
   "source": [
    "len(tup2)"
   ]
  },
  {
   "cell_type": "code",
   "execution_count": 110,
   "id": "5faaf620",
   "metadata": {},
   "outputs": [],
   "source": [
    "_,_,a,_,_,_,_,b,_=tup2"
   ]
  },
  {
   "cell_type": "code",
   "execution_count": 111,
   "id": "efda54e4",
   "metadata": {},
   "outputs": [
    {
     "data": {
      "text/plain": [
       "3"
      ]
     },
     "execution_count": 111,
     "metadata": {},
     "output_type": "execute_result"
    }
   ],
   "source": [
    "a"
   ]
  },
  {
   "cell_type": "code",
   "execution_count": 112,
   "id": "79d32663",
   "metadata": {},
   "outputs": [
    {
     "data": {
      "text/plain": [
       "8"
      ]
     },
     "execution_count": 112,
     "metadata": {},
     "output_type": "execute_result"
    }
   ],
   "source": [
    "b"
   ]
  },
  {
   "cell_type": "code",
   "execution_count": 113,
   "id": "a4d43272",
   "metadata": {},
   "outputs": [
    {
     "data": {
      "text/plain": [
       "9"
      ]
     },
     "execution_count": 113,
     "metadata": {},
     "output_type": "execute_result"
    }
   ],
   "source": [
    "_"
   ]
  },
  {
   "cell_type": "code",
   "execution_count": 56,
   "id": "fd89729a",
   "metadata": {},
   "outputs": [
    {
     "ename": "ValueError",
     "evalue": "too many values to unpack (expected 3)",
     "output_type": "error",
     "traceback": [
      "\u001b[1;31m---------------------------------------------------------------------------\u001b[0m",
      "\u001b[1;31mValueError\u001b[0m                                Traceback (most recent call last)",
      "\u001b[1;32m~\\AppData\\Local\\Temp\\ipykernel_2472\\3380383481.py\u001b[0m in \u001b[0;36m<module>\u001b[1;34m\u001b[0m\n\u001b[1;32m----> 1\u001b[1;33m \u001b[0ma\u001b[0m \u001b[1;33m,\u001b[0m\u001b[0mb\u001b[0m\u001b[1;33m,\u001b[0m \u001b[0mc\u001b[0m \u001b[1;33m=\u001b[0m \u001b[0mt1\u001b[0m \u001b[1;31m#too many values to unpack\u001b[0m\u001b[1;33m\u001b[0m\u001b[1;33m\u001b[0m\u001b[0m\n\u001b[0m",
      "\u001b[1;31mValueError\u001b[0m: too many values to unpack (expected 3)"
     ]
    }
   ],
   "source": [
    "a ,b, c = t1 #too many values to unpack"
   ]
  },
  {
   "cell_type": "code",
   "execution_count": 58,
   "id": "f2aa914b",
   "metadata": {},
   "outputs": [
    {
     "ename": "ValueError",
     "evalue": "not enough values to unpack (expected 5, got 4)",
     "output_type": "error",
     "traceback": [
      "\u001b[1;31m---------------------------------------------------------------------------\u001b[0m",
      "\u001b[1;31mValueError\u001b[0m                                Traceback (most recent call last)",
      "\u001b[1;32m~\\AppData\\Local\\Temp\\ipykernel_2472\\691563156.py\u001b[0m in \u001b[0;36m<module>\u001b[1;34m\u001b[0m\n\u001b[1;32m----> 1\u001b[1;33m \u001b[0ma\u001b[0m \u001b[1;33m,\u001b[0m\u001b[0mb\u001b[0m\u001b[1;33m,\u001b[0m \u001b[0mc\u001b[0m \u001b[1;33m,\u001b[0m\u001b[0md\u001b[0m\u001b[1;33m,\u001b[0m\u001b[0mf\u001b[0m \u001b[1;33m=\u001b[0m \u001b[0mt1\u001b[0m \u001b[1;31m#not enough values to unpack\u001b[0m\u001b[1;33m\u001b[0m\u001b[1;33m\u001b[0m\u001b[0m\n\u001b[0m",
      "\u001b[1;31mValueError\u001b[0m: not enough values to unpack (expected 5, got 4)"
     ]
    }
   ],
   "source": [
    "a ,b, c ,d,f = t1 #not enough values to unpack"
   ]
  },
  {
   "cell_type": "code",
   "execution_count": 59,
   "id": "e6f0058f",
   "metadata": {},
   "outputs": [],
   "source": [
    "#       0     1    2    3\n",
    "city = ('P', 'U', 'N', 'E') #packing "
   ]
  },
  {
   "cell_type": "code",
   "execution_count": 60,
   "id": "0bd1a23b",
   "metadata": {},
   "outputs": [
    {
     "name": "stdout",
     "output_type": "stream",
     "text": [
      "P\n",
      "E\n",
      "U\n"
     ]
    }
   ],
   "source": [
    "print(city[0])\n",
    "print(city[3])\n",
    "print(city[1])"
   ]
  },
  {
   "cell_type": "code",
   "execution_count": 62,
   "id": "008a822f",
   "metadata": {},
   "outputs": [
    {
     "name": "stdout",
     "output_type": "stream",
     "text": [
      "P\n",
      "U\n",
      "N\n",
      "E\n"
     ]
    }
   ],
   "source": [
    "a ,b ,c ,d = city #unpacking\n",
    "\n",
    "print(a)\n",
    "print(b)\n",
    "print(c)\n",
    "print(d)"
   ]
  },
  {
   "cell_type": "code",
   "execution_count": 1,
   "id": "85035ceb",
   "metadata": {},
   "outputs": [
    {
     "name": "stdout",
     "output_type": "stream",
     "text": [
      "2 4 6 8\n",
      "3\n",
      "6\n",
      "8\n"
     ]
    }
   ],
   "source": [
    "# palce holder\n",
    "\n",
    "t_num = (1,2,3,4,5,6,7,8,9)\n",
    "\n",
    "a,b,c,d,e,f,g,h,i = t_num\n",
    "_,b,_,d,_,f,_,h,_ = t_num # we need even numbers\n",
    "\n",
    "print(b,d,f,h)\n",
    "print(c)\n",
    "print(f)\n",
    "print(h)"
   ]
  },
  {
   "cell_type": "code",
   "execution_count": null,
   "id": "372b8358",
   "metadata": {},
   "outputs": [],
   "source": []
  }
 ],
 "metadata": {
  "kernelspec": {
   "display_name": "Python 3 (ipykernel)",
   "language": "python",
   "name": "python3"
  },
  "language_info": {
   "codemirror_mode": {
    "name": "ipython",
    "version": 3
   },
   "file_extension": ".py",
   "mimetype": "text/x-python",
   "name": "python",
   "nbconvert_exporter": "python",
   "pygments_lexer": "ipython3",
   "version": "3.9.7"
  }
 },
 "nbformat": 4,
 "nbformat_minor": 5
}
