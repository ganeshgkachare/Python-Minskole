{
 "cells": [
  {
   "cell_type": "code",
   "execution_count": 1,
   "id": "eec3a62e",
   "metadata": {},
   "outputs": [],
   "source": [
    "# Object = lambda parameters : parameter operation"
   ]
  },
  {
   "cell_type": "code",
   "execution_count": 2,
   "id": "7924892a",
   "metadata": {},
   "outputs": [],
   "source": [
    "add = lambda a,b: a+b"
   ]
  },
  {
   "cell_type": "code",
   "execution_count": 3,
   "id": "c7826ba3",
   "metadata": {},
   "outputs": [
    {
     "data": {
      "text/plain": [
       "8"
      ]
     },
     "execution_count": 3,
     "metadata": {},
     "output_type": "execute_result"
    }
   ],
   "source": [
    "add(4,4)"
   ]
  },
  {
   "cell_type": "code",
   "execution_count": 4,
   "id": "19609a49",
   "metadata": {},
   "outputs": [],
   "source": [
    "Odd_even = lambda x: \"Even\" if x%2==0 else \"Odd\""
   ]
  },
  {
   "cell_type": "code",
   "execution_count": 5,
   "id": "b7f08534",
   "metadata": {},
   "outputs": [
    {
     "data": {
      "text/plain": [
       "'Odd'"
      ]
     },
     "execution_count": 5,
     "metadata": {},
     "output_type": "execute_result"
    }
   ],
   "source": [
    "Odd_even(5)"
   ]
  },
  {
   "cell_type": "code",
   "execution_count": 6,
   "id": "39811d74",
   "metadata": {},
   "outputs": [
    {
     "data": {
      "text/plain": [
       "'Even'"
      ]
     },
     "execution_count": 6,
     "metadata": {},
     "output_type": "execute_result"
    }
   ],
   "source": [
    "Odd_even(4)"
   ]
  },
  {
   "cell_type": "raw",
   "id": "5d768865",
   "metadata": {},
   "source": [
    "# Rules of global Keyword\n",
    "The basic rules for global keyword in Python are:\n",
    "\n",
    "When we create a variable inside a function, it is local by default.\n",
    "When we define a variable outside of a function, it is global by default. You don't have to use global keyword.\n",
    "We use global keyword to read and write a global variable inside a function.\n",
    "Use of global keyword outside a function has no effect.\n",
    "\n"
   ]
  },
  {
   "cell_type": "code",
   "execution_count": 7,
   "id": "5d387518",
   "metadata": {},
   "outputs": [],
   "source": [
    "# only in local scope\n",
    "def addA():\n",
    "    aa= 10     #Defined as Local as default\n",
    "    return(aa)"
   ]
  },
  {
   "cell_type": "code",
   "execution_count": 8,
   "id": "93e6a5ee",
   "metadata": {},
   "outputs": [
    {
     "data": {
      "text/plain": [
       "10"
      ]
     },
     "execution_count": 8,
     "metadata": {},
     "output_type": "execute_result"
    }
   ],
   "source": [
    "addA()"
   ]
  },
  {
   "cell_type": "code",
   "execution_count": 9,
   "id": "df7b5b9a",
   "metadata": {},
   "outputs": [
    {
     "ename": "NameError",
     "evalue": "name 'aa' is not defined",
     "output_type": "error",
     "traceback": [
      "\u001b[1;31m---------------------------------------------------------------------------\u001b[0m",
      "\u001b[1;31mNameError\u001b[0m                                 Traceback (most recent call last)",
      "\u001b[1;32m~\\AppData\\Local\\Temp/ipykernel_7988/520624288.py\u001b[0m in \u001b[0;36m<module>\u001b[1;34m\u001b[0m\n\u001b[1;32m----> 1\u001b[1;33m \u001b[0maa\u001b[0m   \u001b[1;31m# Error\u001b[0m\u001b[1;33m\u001b[0m\u001b[1;33m\u001b[0m\u001b[0m\n\u001b[0m",
      "\u001b[1;31mNameError\u001b[0m: name 'aa' is not defined"
     ]
    }
   ],
   "source": [
    "aa   # Error"
   ]
  },
  {
   "cell_type": "code",
   "execution_count": 10,
   "id": "cdf4f3b6",
   "metadata": {},
   "outputs": [],
   "source": [
    "# only in local scope\n",
    "def addA():\n",
    "    global aa  #Defined as Global\n",
    "    aa = 10\n",
    "    return(aa)"
   ]
  },
  {
   "cell_type": "code",
   "execution_count": 11,
   "id": "0c7571cd",
   "metadata": {},
   "outputs": [
    {
     "data": {
      "text/plain": [
       "10"
      ]
     },
     "execution_count": 11,
     "metadata": {},
     "output_type": "execute_result"
    }
   ],
   "source": [
    "addA()"
   ]
  },
  {
   "cell_type": "code",
   "execution_count": 12,
   "id": "f198570a",
   "metadata": {},
   "outputs": [
    {
     "data": {
      "text/plain": [
       "10"
      ]
     },
     "execution_count": 12,
     "metadata": {},
     "output_type": "execute_result"
    }
   ],
   "source": [
    "aa  # 10"
   ]
  },
  {
   "cell_type": "code",
   "execution_count": 14,
   "id": "41170ac6",
   "metadata": {},
   "outputs": [],
   "source": [
    "ff=10  # global by default"
   ]
  },
  {
   "cell_type": "code",
   "execution_count": 15,
   "id": "a1ec21cd",
   "metadata": {},
   "outputs": [
    {
     "name": "stdout",
     "output_type": "stream",
     "text": [
      "10\n"
     ]
    }
   ],
   "source": [
    "print(aa)  "
   ]
  },
  {
   "cell_type": "code",
   "execution_count": 16,
   "id": "f187af07",
   "metadata": {},
   "outputs": [],
   "source": [
    "def addA():\n",
    "    global a\n",
    "    a = 10\n",
    "    b=5\n",
    "    return(a)"
   ]
  },
  {
   "cell_type": "code",
   "execution_count": 17,
   "id": "a03a4dee",
   "metadata": {},
   "outputs": [
    {
     "data": {
      "text/plain": [
       "10"
      ]
     },
     "execution_count": 17,
     "metadata": {},
     "output_type": "execute_result"
    }
   ],
   "source": [
    "addA()"
   ]
  },
  {
   "cell_type": "code",
   "execution_count": 18,
   "id": "35bd158e",
   "metadata": {},
   "outputs": [
    {
     "name": "stdout",
     "output_type": "stream",
     "text": [
      "10\n"
     ]
    }
   ],
   "source": [
    "print(a)  "
   ]
  },
  {
   "cell_type": "code",
   "execution_count": 19,
   "id": "6a16540f",
   "metadata": {},
   "outputs": [
    {
     "ename": "NameError",
     "evalue": "name 'b' is not defined",
     "output_type": "error",
     "traceback": [
      "\u001b[1;31m---------------------------------------------------------------------------\u001b[0m",
      "\u001b[1;31mNameError\u001b[0m                                 Traceback (most recent call last)",
      "\u001b[1;32m~\\AppData\\Local\\Temp/ipykernel_7988/822480314.py\u001b[0m in \u001b[0;36m<module>\u001b[1;34m\u001b[0m\n\u001b[1;32m----> 1\u001b[1;33m \u001b[0mprint\u001b[0m\u001b[1;33m(\u001b[0m\u001b[0mb\u001b[0m\u001b[1;33m)\u001b[0m\u001b[1;33m\u001b[0m\u001b[1;33m\u001b[0m\u001b[0m\n\u001b[0m",
      "\u001b[1;31mNameError\u001b[0m: name 'b' is not defined"
     ]
    }
   ],
   "source": [
    "print(b)  "
   ]
  },
  {
   "cell_type": "code",
   "execution_count": 20,
   "id": "08907e54",
   "metadata": {},
   "outputs": [],
   "source": [
    "global a\n",
    "a=55"
   ]
  },
  {
   "cell_type": "code",
   "execution_count": 21,
   "id": "b582be50",
   "metadata": {},
   "outputs": [
    {
     "data": {
      "text/plain": [
       "55"
      ]
     },
     "execution_count": 21,
     "metadata": {},
     "output_type": "execute_result"
    }
   ],
   "source": [
    "a"
   ]
  },
  {
   "cell_type": "code",
   "execution_count": null,
   "id": "c86e2046",
   "metadata": {},
   "outputs": [],
   "source": []
  },
  {
   "cell_type": "markdown",
   "id": "f4e306a3",
   "metadata": {},
   "source": [
    "## Built-in functions"
   ]
  },
  {
   "cell_type": "raw",
   "id": "45712902",
   "metadata": {},
   "source": [
    "map, filter, and reduce are built-in functions used for processing iterables like lists, tuples, and sets."
   ]
  },
  {
   "cell_type": "code",
   "execution_count": 23,
   "id": "4452ffe6",
   "metadata": {},
   "outputs": [],
   "source": [
    "# map\n",
    "# filter\n",
    "# reduce\n",
    "# # Syntax\n",
    "# list(function(Function(lambda/self_define),Iterable_object))\n",
    "# tuple\n",
    "# set"
   ]
  },
  {
   "cell_type": "code",
   "execution_count": 24,
   "id": "6b29b842",
   "metadata": {},
   "outputs": [
    {
     "data": {
      "text/plain": [
       "[1, 2, 3, 4, 5, 6]"
      ]
     },
     "execution_count": 24,
     "metadata": {},
     "output_type": "execute_result"
    }
   ],
   "source": [
    "[1,2,3,4,5,6]"
   ]
  },
  {
   "cell_type": "markdown",
   "id": "e2a54d9a",
   "metadata": {},
   "source": [
    "## map()"
   ]
  },
  {
   "cell_type": "raw",
   "id": "1f6baecc",
   "metadata": {},
   "source": [
    "1) map() function takes two arguments - a function and an iterable.\n",
    "It applies the function to each element of the iterable and returns a new iterable with the results."
   ]
  },
  {
   "cell_type": "code",
   "execution_count": 25,
   "id": "a81bfcc4",
   "metadata": {},
   "outputs": [],
   "source": [
    "\n",
    "# map (fun ,ite)"
   ]
  },
  {
   "cell_type": "code",
   "execution_count": 26,
   "id": "399166b9",
   "metadata": {},
   "outputs": [],
   "source": [
    "listD = [11,22,33]\n",
    "#[21,32,43]\n",
    "\n",
    "q4 = list(map(lambda x:x+10,listD))"
   ]
  },
  {
   "cell_type": "code",
   "execution_count": 27,
   "id": "3926ee44",
   "metadata": {},
   "outputs": [
    {
     "name": "stdout",
     "output_type": "stream",
     "text": [
      "[21, 32, 43]\n"
     ]
    }
   ],
   "source": [
    "print(q4)"
   ]
  },
  {
   "cell_type": "code",
   "execution_count": 28,
   "id": "c9bd1653",
   "metadata": {},
   "outputs": [
    {
     "data": {
      "text/plain": [
       "[21, 32, 43]"
      ]
     },
     "execution_count": 28,
     "metadata": {},
     "output_type": "execute_result"
    }
   ],
   "source": [
    "list(map(lambda x:x+10,[11,22,33]))"
   ]
  },
  {
   "cell_type": "code",
   "execution_count": 29,
   "id": "25f52056",
   "metadata": {},
   "outputs": [
    {
     "data": {
      "text/plain": [
       "(21, 32, 43)"
      ]
     },
     "execution_count": 29,
     "metadata": {},
     "output_type": "execute_result"
    }
   ],
   "source": [
    "tuple(map(lambda x:x+10,[11,22,33]))"
   ]
  },
  {
   "cell_type": "code",
   "execution_count": 30,
   "id": "d3f90d5f",
   "metadata": {},
   "outputs": [
    {
     "data": {
      "text/plain": [
       "{21, 32, 43}"
      ]
     },
     "execution_count": 30,
     "metadata": {},
     "output_type": "execute_result"
    }
   ],
   "source": [
    "set(map(lambda x:x+10,[11,22,33]))"
   ]
  },
  {
   "cell_type": "code",
   "execution_count": 31,
   "id": "2f65e5e4",
   "metadata": {},
   "outputs": [
    {
     "name": "stdout",
     "output_type": "stream",
     "text": [
      "84,142,82,24,16,198,"
     ]
    }
   ],
   "source": [
    "for i in [42,71,41,12,8,99]:\n",
    "    print(i*2,end=\",\")"
   ]
  },
  {
   "cell_type": "code",
   "execution_count": 34,
   "id": "ee3c9731",
   "metadata": {},
   "outputs": [],
   "source": [
    "# map\n",
    "list_score = [42,71,41,12,8,99]\n",
    "\n",
    "def double_score(z):\n",
    "#     for i in z:\n",
    "        return(2*z)"
   ]
  },
  {
   "cell_type": "code",
   "execution_count": 35,
   "id": "53893c48",
   "metadata": {},
   "outputs": [
    {
     "data": {
      "text/plain": [
       "6"
      ]
     },
     "execution_count": 35,
     "metadata": {},
     "output_type": "execute_result"
    }
   ],
   "source": [
    "len(list_score)"
   ]
  },
  {
   "cell_type": "code",
   "execution_count": 36,
   "id": "056d1856",
   "metadata": {},
   "outputs": [],
   "source": [
    "list_score_output=double_score(list_score)"
   ]
  },
  {
   "cell_type": "code",
   "execution_count": 37,
   "id": "55dfe0a8",
   "metadata": {},
   "outputs": [
    {
     "data": {
      "text/plain": [
       "[42, 71, 41, 12, 8, 99, 42, 71, 41, 12, 8, 99]"
      ]
     },
     "execution_count": 37,
     "metadata": {},
     "output_type": "execute_result"
    }
   ],
   "source": [
    "list_score_output  #double_score function output used on full list"
   ]
  },
  {
   "cell_type": "code",
   "execution_count": null,
   "id": "afca2b93",
   "metadata": {},
   "outputs": [],
   "source": []
  },
  {
   "cell_type": "code",
   "execution_count": 38,
   "id": "c4ac44b6",
   "metadata": {},
   "outputs": [],
   "source": [
    "# Using Map:"
   ]
  },
  {
   "cell_type": "code",
   "execution_count": 40,
   "id": "741df79d",
   "metadata": {},
   "outputs": [],
   "source": [
    "# map\n",
    "list_score = [42,71,41,12,8,99]\n",
    "\n",
    "def double_score(z):\n",
    "#     for i in z:\n",
    "        return(2*z)"
   ]
  },
  {
   "cell_type": "code",
   "execution_count": 41,
   "id": "96fa26f1",
   "metadata": {},
   "outputs": [],
   "source": [
    "# [42, 71, 41, 12, 8, 99]"
   ]
  },
  {
   "cell_type": "code",
   "execution_count": 42,
   "id": "229dd619",
   "metadata": {},
   "outputs": [
    {
     "data": {
      "text/plain": [
       "(42, 71, 41, 12, 8, 99, 42, 71, 41, 12, 8, 99)"
      ]
     },
     "execution_count": 42,
     "metadata": {},
     "output_type": "execute_result"
    }
   ],
   "source": [
    "42, 71, 41, 12, 8, 99, 42, 71, 41, 12, 8, 99"
   ]
  },
  {
   "cell_type": "code",
   "execution_count": 44,
   "id": "f396b57b",
   "metadata": {},
   "outputs": [],
   "source": [
    "# Input\n",
    "# [42,71,41,12,8,99]\n",
    "# Output\n",
    "# 84,142,82,24,16,198"
   ]
  },
  {
   "cell_type": "code",
   "execution_count": 45,
   "id": "cd243293",
   "metadata": {},
   "outputs": [
    {
     "data": {
      "text/plain": [
       "[42, 71, 41, 12, 8, 99]"
      ]
     },
     "execution_count": 45,
     "metadata": {},
     "output_type": "execute_result"
    }
   ],
   "source": [
    "list_score"
   ]
  },
  {
   "cell_type": "code",
   "execution_count": 46,
   "id": "342a961b",
   "metadata": {},
   "outputs": [
    {
     "data": {
      "text/plain": [
       "[84, 142, 82, 24, 16, 198]"
      ]
     },
     "execution_count": 46,
     "metadata": {},
     "output_type": "execute_result"
    }
   ],
   "source": [
    "# map (fun ,ite)\n",
    "list(map(double_score,list_score))"
   ]
  },
  {
   "cell_type": "code",
   "execution_count": null,
   "id": "dece3d9d",
   "metadata": {},
   "outputs": [],
   "source": []
  },
  {
   "cell_type": "code",
   "execution_count": 47,
   "id": "5455c111",
   "metadata": {},
   "outputs": [
    {
     "data": {
      "text/plain": [
       "map"
      ]
     },
     "execution_count": 47,
     "metadata": {},
     "output_type": "execute_result"
    }
   ],
   "source": [
    "type(map(double_score,list_score))"
   ]
  },
  {
   "cell_type": "code",
   "execution_count": 48,
   "id": "99172872",
   "metadata": {},
   "outputs": [
    {
     "data": {
      "text/plain": [
       "[84, 142, 82, 24, 16, 198]"
      ]
     },
     "execution_count": 48,
     "metadata": {},
     "output_type": "execute_result"
    }
   ],
   "source": [
    "list(map(lambda x :2*x,list_score))"
   ]
  },
  {
   "cell_type": "code",
   "execution_count": null,
   "id": "b5011b3b",
   "metadata": {},
   "outputs": [],
   "source": []
  },
  {
   "cell_type": "code",
   "execution_count": null,
   "id": "b3221eb1",
   "metadata": {},
   "outputs": [],
   "source": []
  },
  {
   "cell_type": "code",
   "execution_count": 49,
   "id": "6b461a1c",
   "metadata": {},
   "outputs": [],
   "source": [
    "#[1,2,4,6]\n",
    "# [2,3,9,2]"
   ]
  },
  {
   "cell_type": "code",
   "execution_count": 50,
   "id": "f2c29f16",
   "metadata": {},
   "outputs": [
    {
     "data": {
      "text/plain": [
       "[3, 5, 13, 8]"
      ]
     },
     "execution_count": 50,
     "metadata": {},
     "output_type": "execute_result"
    }
   ],
   "source": [
    "list(map(lambda a,b : a+b,[1,2,4,6],[2,3,9,2]))"
   ]
  },
  {
   "cell_type": "code",
   "execution_count": null,
   "id": "23d9e725",
   "metadata": {},
   "outputs": [],
   "source": []
  },
  {
   "cell_type": "code",
   "execution_count": 51,
   "id": "5aa058cb",
   "metadata": {},
   "outputs": [
    {
     "name": "stdout",
     "output_type": "stream",
     "text": [
      "[32, 30, 28, 27, 26]\n"
     ]
    }
   ],
   "source": [
    "#Find age if DOB year given\n",
    "listA = [1992,1994,1996,1997,1998]\n",
    "listB =[] #[32,30,28,27,26]\n",
    "for item in listA:\n",
    "    listB.append(2024-item)\n",
    "print(listB)"
   ]
  },
  {
   "cell_type": "code",
   "execution_count": 52,
   "id": "8590bd27",
   "metadata": {},
   "outputs": [
    {
     "name": "stdout",
     "output_type": "stream",
     "text": [
      "[31, 29, 27, 26, 25]\n"
     ]
    }
   ],
   "source": [
    "# map\n",
    "q2 = list(map(lambda x:2023-x,listA))\n",
    "print(q2)"
   ]
  },
  {
   "cell_type": "code",
   "execution_count": 53,
   "id": "52bc185f",
   "metadata": {},
   "outputs": [
    {
     "name": "stdout",
     "output_type": "stream",
     "text": [
      "(30, 28, 26, 25, 24)\n"
     ]
    }
   ],
   "source": [
    "# map\n",
    "q2 = tuple(map(lambda x:2022-x,listA))\n",
    "print(q2)"
   ]
  },
  {
   "cell_type": "code",
   "execution_count": 54,
   "id": "256fb6e3",
   "metadata": {},
   "outputs": [],
   "source": [
    "listC = [1,2,3,4,5,6,7,8,9,10]\n",
    "#[3,6,9,12,15,18,21,24,27,30]"
   ]
  },
  {
   "cell_type": "code",
   "execution_count": 55,
   "id": "182f9182",
   "metadata": {},
   "outputs": [
    {
     "name": "stdout",
     "output_type": "stream",
     "text": [
      "[3, 6, 9, 12, 15, 18, 21, 24, 27, 30]\n"
     ]
    }
   ],
   "source": [
    "#map(fn,list)\n",
    "q3 = list(map(lambda x:x*3,listC))\n",
    "print(q3)"
   ]
  },
  {
   "cell_type": "code",
   "execution_count": null,
   "id": "f426a60b",
   "metadata": {},
   "outputs": [],
   "source": []
  }
 ],
 "metadata": {
  "kernelspec": {
   "display_name": "Python 3 (ipykernel)",
   "language": "python",
   "name": "python3"
  },
  "language_info": {
   "codemirror_mode": {
    "name": "ipython",
    "version": 3
   },
   "file_extension": ".py",
   "mimetype": "text/x-python",
   "name": "python",
   "nbconvert_exporter": "python",
   "pygments_lexer": "ipython3",
   "version": "3.9.7"
  }
 },
 "nbformat": 4,
 "nbformat_minor": 5
}
