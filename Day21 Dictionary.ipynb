{
 "cells": [
  {
   "cell_type": "markdown",
   "id": "96f29d32",
   "metadata": {},
   "source": [
    "## DICTIONARY  IN PYTHON"
   ]
  },
  {
   "cell_type": "raw",
   "id": "52a7c950",
   "metadata": {},
   "source": [
    "Dictionaries are used to store data values in key:value pairs.\n",
    "    A dictionary is a collection which is  changeable and do not allow duplicates.\n",
    "    Dictionaries cannot have two items with the same key"
   ]
  },
  {
   "cell_type": "code",
   "execution_count": null,
   "id": "d9c91cda",
   "metadata": {},
   "outputs": [],
   "source": [
    "#Syntax\n",
    " dictionary = { key           : value ,   \n",
    "                key2          : value2  }\n",
    "# Mutable      Not duplicate\n",
    "#               hashable"
   ]
  },
  {
   "cell_type": "code",
   "execution_count": 12,
   "id": "e18cb127",
   "metadata": {},
   "outputs": [],
   "source": [
    "score_vk = {\"one_day\" : 700,\n",
    "   #          key       value\n",
    "            \"test\" : 740,\n",
    "            \"t_20\" : 470,\n",
    "            \"international\" : 250}"
   ]
  },
  {
   "cell_type": "code",
   "execution_count": 13,
   "id": "8f9d9e64",
   "metadata": {},
   "outputs": [
    {
     "name": "stdout",
     "output_type": "stream",
     "text": [
      "{'one_day': 700, 'test': 740, 't_20': 470, 'international': 250}\n"
     ]
    }
   ],
   "source": [
    "print(score_vk)"
   ]
  },
  {
   "cell_type": "code",
   "execution_count": 14,
   "id": "9f9f2e69",
   "metadata": {},
   "outputs": [
    {
     "data": {
      "text/plain": [
       "dict"
      ]
     },
     "execution_count": 14,
     "metadata": {},
     "output_type": "execute_result"
    }
   ],
   "source": [
    "type(score_vk)"
   ]
  },
  {
   "cell_type": "code",
   "execution_count": 15,
   "id": "92c42b21",
   "metadata": {},
   "outputs": [
    {
     "data": {
      "text/plain": [
       "4"
      ]
     },
     "execution_count": 15,
     "metadata": {},
     "output_type": "execute_result"
    }
   ],
   "source": [
    "len(score_vk)"
   ]
  },
  {
   "cell_type": "code",
   "execution_count": 16,
   "id": "97af3e30",
   "metadata": {},
   "outputs": [],
   "source": [
    "a=  [1,2,3,4]\n",
    "   # 0 1 2 3"
   ]
  },
  {
   "cell_type": "code",
   "execution_count": 18,
   "id": "0932f29a",
   "metadata": {},
   "outputs": [
    {
     "data": {
      "text/plain": [
       "2"
      ]
     },
     "execution_count": 18,
     "metadata": {},
     "output_type": "execute_result"
    }
   ],
   "source": [
    "a[1]"
   ]
  },
  {
   "cell_type": "code",
   "execution_count": 22,
   "id": "7035d062",
   "metadata": {},
   "outputs": [
    {
     "data": {
      "text/plain": [
       "dict_values([700, 740, 470, 250])"
      ]
     },
     "execution_count": 22,
     "metadata": {},
     "output_type": "execute_result"
    }
   ],
   "source": [
    "score_vk.values()"
   ]
  },
  {
   "cell_type": "code",
   "execution_count": null,
   "id": "faf17c8a",
   "metadata": {},
   "outputs": [],
   "source": [
    " [700,     740,    470,      250]\n",
    "# 0         1      2          3           List index\n",
    "#one_day  test     t_20    international  dict index"
   ]
  },
  {
   "cell_type": "code",
   "execution_count": 19,
   "id": "07577301",
   "metadata": {},
   "outputs": [
    {
     "data": {
      "text/plain": [
       "{'one_day': 700, 'test': 740, 't_20': 470, 'international': 250}"
      ]
     },
     "execution_count": 19,
     "metadata": {},
     "output_type": "execute_result"
    }
   ],
   "source": [
    "score_vk"
   ]
  },
  {
   "cell_type": "code",
   "execution_count": 20,
   "id": "2855694a",
   "metadata": {},
   "outputs": [
    {
     "ename": "KeyError",
     "evalue": "1",
     "output_type": "error",
     "traceback": [
      "\u001b[1;31m---------------------------------------------------------------------------\u001b[0m",
      "\u001b[1;31mKeyError\u001b[0m                                  Traceback (most recent call last)",
      "\u001b[1;32m~\\AppData\\Local\\Temp/ipykernel_2664/2241715965.py\u001b[0m in \u001b[0;36m<module>\u001b[1;34m\u001b[0m\n\u001b[1;32m----> 1\u001b[1;33m \u001b[0mscore_vk\u001b[0m\u001b[1;33m[\u001b[0m\u001b[1;36m1\u001b[0m\u001b[1;33m]\u001b[0m\u001b[1;33m\u001b[0m\u001b[1;33m\u001b[0m\u001b[0m\n\u001b[0m",
      "\u001b[1;31mKeyError\u001b[0m: 1"
     ]
    }
   ],
   "source": [
    "score_vk[1]"
   ]
  },
  {
   "cell_type": "code",
   "execution_count": 23,
   "id": "3e26b032",
   "metadata": {},
   "outputs": [
    {
     "data": {
      "text/plain": [
       "dict_keys(['one_day', 'test', 't_20', 'international'])"
      ]
     },
     "execution_count": 23,
     "metadata": {},
     "output_type": "execute_result"
    }
   ],
   "source": [
    "score_vk.keys()"
   ]
  },
  {
   "cell_type": "code",
   "execution_count": 24,
   "id": "e4df3305",
   "metadata": {},
   "outputs": [
    {
     "data": {
      "text/plain": [
       "740"
      ]
     },
     "execution_count": 24,
     "metadata": {},
     "output_type": "execute_result"
    }
   ],
   "source": [
    "score_vk[\"test\"]\n",
    "#         Key name"
   ]
  },
  {
   "cell_type": "code",
   "execution_count": null,
   "id": "75c4fbcc",
   "metadata": {},
   "outputs": [],
   "source": []
  },
  {
   "cell_type": "code",
   "execution_count": 25,
   "id": "a462725c",
   "metadata": {},
   "outputs": [],
   "source": [
    "# duplicate key in dictionary\n",
    "animal = {\n",
    "    'legs':2,\n",
    "    'color':'red',\n",
    "    'eyes':2,\n",
    "    'legs':4\n",
    "}"
   ]
  },
  {
   "cell_type": "code",
   "execution_count": 27,
   "id": "0d519f8f",
   "metadata": {},
   "outputs": [
    {
     "name": "stdout",
     "output_type": "stream",
     "text": [
      "{'legs': 4, 'color': 'red', 'eyes': 2}\n"
     ]
    }
   ],
   "source": [
    "print(animal)"
   ]
  },
  {
   "cell_type": "code",
   "execution_count": 28,
   "id": "7c442542",
   "metadata": {},
   "outputs": [
    {
     "data": {
      "text/plain": [
       "{'name': 'Raj',\n",
       " 'roll no.': 54,\n",
       " 'Addr': 'Jalpigudi',\n",
       " 'Hobby': 'Pune',\n",
       " (101, 55, 21, 9): 'Score',\n",
       " 'Score': [101, 55, 21, 9],\n",
       " 1: 'ONE'}"
      ]
     },
     "execution_count": 28,
     "metadata": {},
     "output_type": "execute_result"
    }
   ],
   "source": [
    "# keys are hashable\n",
    "dict_student = {\n",
    "    'name' : 'Raj',\n",
    "    'roll no.' : 54,\n",
    "    'Addr' : 'Jalpigudi',\n",
    "    'Hobby' :  'Pune',\n",
    "#     [101,55,21,9] : 'Scores',# unhashable type: 'list'\n",
    "    (101,55,21,9) : 'Score' ,# ok... but not to be used\n",
    "    'Score' :[101,55,21,9],\n",
    "    1 : 'ONE'\n",
    "}\n",
    "# keys are hashable\n",
    "dict_student"
   ]
  },
  {
   "cell_type": "code",
   "execution_count": 29,
   "id": "967594fe",
   "metadata": {},
   "outputs": [
    {
     "data": {
      "text/plain": [
       "'Score'"
      ]
     },
     "execution_count": 29,
     "metadata": {},
     "output_type": "execute_result"
    }
   ],
   "source": [
    "dict_student[(101, 55, 21, 9)]"
   ]
  },
  {
   "cell_type": "code",
   "execution_count": 30,
   "id": "af6348f1",
   "metadata": {},
   "outputs": [
    {
     "data": {
      "text/plain": [
       "'ONE'"
      ]
     },
     "execution_count": 30,
     "metadata": {},
     "output_type": "execute_result"
    }
   ],
   "source": [
    "dict_student[1]"
   ]
  },
  {
   "cell_type": "code",
   "execution_count": 31,
   "id": "5413ca0c",
   "metadata": {},
   "outputs": [
    {
     "ename": "TypeError",
     "evalue": "unhashable type: 'list'",
     "output_type": "error",
     "traceback": [
      "\u001b[1;31m---------------------------------------------------------------------------\u001b[0m",
      "\u001b[1;31mTypeError\u001b[0m                                 Traceback (most recent call last)",
      "\u001b[1;32m~\\AppData\\Local\\Temp/ipykernel_2664/3908725390.py\u001b[0m in \u001b[0;36m<module>\u001b[1;34m\u001b[0m\n\u001b[0;32m      1\u001b[0m \u001b[1;31m# keys are hashable\u001b[0m\u001b[1;33m\u001b[0m\u001b[1;33m\u001b[0m\u001b[0m\n\u001b[1;32m----> 2\u001b[1;33m dict_student = {\n\u001b[0m\u001b[0;32m      3\u001b[0m     \u001b[1;34m'name'\u001b[0m \u001b[1;33m:\u001b[0m \u001b[1;34m'Raj'\u001b[0m\u001b[1;33m,\u001b[0m\u001b[1;33m\u001b[0m\u001b[1;33m\u001b[0m\u001b[0m\n\u001b[0;32m      4\u001b[0m     \u001b[1;34m'roll no.'\u001b[0m \u001b[1;33m:\u001b[0m \u001b[1;36m54\u001b[0m\u001b[1;33m,\u001b[0m\u001b[1;33m\u001b[0m\u001b[1;33m\u001b[0m\u001b[0m\n\u001b[0;32m      5\u001b[0m     \u001b[1;34m'Addr'\u001b[0m \u001b[1;33m:\u001b[0m \u001b[1;34m'Pune'\u001b[0m\u001b[1;33m,\u001b[0m\u001b[1;33m\u001b[0m\u001b[1;33m\u001b[0m\u001b[0m\n",
      "\u001b[1;31mTypeError\u001b[0m: unhashable type: 'list'"
     ]
    }
   ],
   "source": [
    "# keys are hashable\n",
    "dict_student = {\n",
    "    'name' : 'Raj',\n",
    "    'roll no.' : 54,\n",
    "    'Addr' : 'Pune',\n",
    "    'Hobby' :  'cricket',\n",
    "    [101,55,21,9] : 'Scores',# unhashable type: 'list'\n",
    "    (101,55,21,9) : 'Score' ,# ok... but not to be used\n",
    "    'Score' :[101,55,21,9],\n",
    "    1 : 'ONE'\n",
    "}\n",
    "# keys are hashable\n",
    "dict_student"
   ]
  },
  {
   "cell_type": "code",
   "execution_count": null,
   "id": "0d20f134",
   "metadata": {},
   "outputs": [],
   "source": []
  },
  {
   "cell_type": "code",
   "execution_count": 32,
   "id": "e759f4e5",
   "metadata": {},
   "outputs": [],
   "source": [
    "#  Defining the dict with values\n",
    "#   dict does not stores the value by index\n",
    "\n",
    "person = {\n",
    "    \"firstName\":\"Raj\",\n",
    "    (3,5,6):6,\n",
    "    \"Age\":22\n",
    "}"
   ]
  },
  {
   "cell_type": "code",
   "execution_count": 33,
   "id": "57997441",
   "metadata": {},
   "outputs": [
    {
     "data": {
      "text/plain": [
       "22"
      ]
     },
     "execution_count": 33,
     "metadata": {},
     "output_type": "execute_result"
    }
   ],
   "source": [
    "person[\"Age\"]\n",
    "#dict_name [key_name]"
   ]
  },
  {
   "cell_type": "code",
   "execution_count": 34,
   "id": "e4002e66",
   "metadata": {},
   "outputs": [
    {
     "ename": "KeyError",
     "evalue": "0",
     "output_type": "error",
     "traceback": [
      "\u001b[1;31m---------------------------------------------------------------------------\u001b[0m",
      "\u001b[1;31mKeyError\u001b[0m                                  Traceback (most recent call last)",
      "\u001b[1;32m~\\AppData\\Local\\Temp/ipykernel_2664/71876269.py\u001b[0m in \u001b[0;36m<module>\u001b[1;34m\u001b[0m\n\u001b[1;32m----> 1\u001b[1;33m \u001b[0mperson\u001b[0m\u001b[1;33m[\u001b[0m\u001b[1;36m0\u001b[0m\u001b[1;33m]\u001b[0m\u001b[1;33m\u001b[0m\u001b[1;33m\u001b[0m\u001b[0m\n\u001b[0m",
      "\u001b[1;31mKeyError\u001b[0m: 0"
     ]
    }
   ],
   "source": [
    "person[0]"
   ]
  },
  {
   "cell_type": "code",
   "execution_count": 35,
   "id": "63eb1099",
   "metadata": {},
   "outputs": [
    {
     "data": {
      "text/plain": [
       "dict"
      ]
     },
     "execution_count": 35,
     "metadata": {},
     "output_type": "execute_result"
    }
   ],
   "source": [
    "type(person)"
   ]
  },
  {
   "cell_type": "code",
   "execution_count": 36,
   "id": "7c814d06",
   "metadata": {},
   "outputs": [
    {
     "ename": "KeyError",
     "evalue": "1",
     "output_type": "error",
     "traceback": [
      "\u001b[1;31m---------------------------------------------------------------------------\u001b[0m",
      "\u001b[1;31mKeyError\u001b[0m                                  Traceback (most recent call last)",
      "\u001b[1;32m~\\AppData\\Local\\Temp/ipykernel_2664/3150881383.py\u001b[0m in \u001b[0;36m<module>\u001b[1;34m\u001b[0m\n\u001b[0;32m      1\u001b[0m \u001b[1;31m# retrive Method\u001b[0m\u001b[1;33m\u001b[0m\u001b[1;33m\u001b[0m\u001b[0m\n\u001b[1;32m----> 2\u001b[1;33m \u001b[0mprint\u001b[0m\u001b[1;33m(\u001b[0m\u001b[0mperson\u001b[0m\u001b[1;33m[\u001b[0m\u001b[1;36m1\u001b[0m\u001b[1;33m]\u001b[0m\u001b[1;33m)\u001b[0m \u001b[1;31m#KeyError\u001b[0m\u001b[1;33m\u001b[0m\u001b[1;33m\u001b[0m\u001b[0m\n\u001b[0m",
      "\u001b[1;31mKeyError\u001b[0m: 1"
     ]
    }
   ],
   "source": [
    "# retrive Method\n",
    "print(person[1]) #KeyError\n"
   ]
  },
  {
   "cell_type": "code",
   "execution_count": 37,
   "id": "881f500b",
   "metadata": {},
   "outputs": [],
   "source": [
    "person = {\n",
    "    1:\"Raj\",\n",
    "    (3,5,6):6,\n",
    "    \"Age\":22\n",
    "}"
   ]
  },
  {
   "cell_type": "code",
   "execution_count": 38,
   "id": "88749f31",
   "metadata": {},
   "outputs": [
    {
     "name": "stdout",
     "output_type": "stream",
     "text": [
      "Raj\n"
     ]
    }
   ],
   "source": [
    "print(person[1]) "
   ]
  },
  {
   "cell_type": "code",
   "execution_count": 39,
   "id": "1853fd1c",
   "metadata": {},
   "outputs": [
    {
     "data": {
      "text/plain": [
       "{1: 'Raj', (3, 5, 6): 6, 'Age': 22}"
      ]
     },
     "execution_count": 39,
     "metadata": {},
     "output_type": "execute_result"
    }
   ],
   "source": [
    "person"
   ]
  },
  {
   "cell_type": "code",
   "execution_count": null,
   "id": "67f55734",
   "metadata": {},
   "outputs": [],
   "source": [
    "#retrive 1"
   ]
  },
  {
   "cell_type": "code",
   "execution_count": 40,
   "id": "132d98c4",
   "metadata": {},
   "outputs": [
    {
     "ename": "KeyError",
     "evalue": "'firstName'",
     "output_type": "error",
     "traceback": [
      "\u001b[1;31m---------------------------------------------------------------------------\u001b[0m",
      "\u001b[1;31mKeyError\u001b[0m                                  Traceback (most recent call last)",
      "\u001b[1;32m~\\AppData\\Local\\Temp/ipykernel_2664/2894269445.py\u001b[0m in \u001b[0;36m<module>\u001b[1;34m\u001b[0m\n\u001b[1;32m----> 1\u001b[1;33m \u001b[0mperson\u001b[0m\u001b[1;33m[\u001b[0m\u001b[1;34m\"firstName\"\u001b[0m\u001b[1;33m]\u001b[0m\u001b[1;33m\u001b[0m\u001b[1;33m\u001b[0m\u001b[0m\n\u001b[0m",
      "\u001b[1;31mKeyError\u001b[0m: 'firstName'"
     ]
    }
   ],
   "source": [
    "person[\"firstName\"]"
   ]
  },
  {
   "cell_type": "code",
   "execution_count": 41,
   "id": "5ff4fce7",
   "metadata": {},
   "outputs": [
    {
     "ename": "KeyError",
     "evalue": "'lastname'",
     "output_type": "error",
     "traceback": [
      "\u001b[1;31m---------------------------------------------------------------------------\u001b[0m",
      "\u001b[1;31mKeyError\u001b[0m                                  Traceback (most recent call last)",
      "\u001b[1;32m~\\AppData\\Local\\Temp/ipykernel_2664/811476641.py\u001b[0m in \u001b[0;36m<module>\u001b[1;34m\u001b[0m\n\u001b[1;32m----> 1\u001b[1;33m \u001b[0mperson\u001b[0m\u001b[1;33m[\u001b[0m\u001b[1;34m\"lastname\"\u001b[0m\u001b[1;33m]\u001b[0m\u001b[1;33m\u001b[0m\u001b[1;33m\u001b[0m\u001b[0m\n\u001b[0m",
      "\u001b[1;31mKeyError\u001b[0m: 'lastname'"
     ]
    }
   ],
   "source": [
    "person[\"lastname\"]"
   ]
  },
  {
   "cell_type": "code",
   "execution_count": 42,
   "id": "e6c5c79e",
   "metadata": {},
   "outputs": [
    {
     "data": {
      "text/plain": [
       "{1: 'Raj', (3, 5, 6): 6, 'Age': 22}"
      ]
     },
     "execution_count": 42,
     "metadata": {},
     "output_type": "execute_result"
    }
   ],
   "source": [
    "person"
   ]
  },
  {
   "cell_type": "code",
   "execution_count": 43,
   "id": "7a9406ea",
   "metadata": {},
   "outputs": [
    {
     "data": {
      "text/plain": [
       "'Raj'"
      ]
     },
     "execution_count": 43,
     "metadata": {},
     "output_type": "execute_result"
    }
   ],
   "source": [
    "person[1]"
   ]
  },
  {
   "cell_type": "code",
   "execution_count": 44,
   "id": "69924b10",
   "metadata": {},
   "outputs": [],
   "source": [
    "person[1] = 5"
   ]
  },
  {
   "cell_type": "code",
   "execution_count": 45,
   "id": "b7b8badf",
   "metadata": {},
   "outputs": [
    {
     "data": {
      "text/plain": [
       "5"
      ]
     },
     "execution_count": 45,
     "metadata": {},
     "output_type": "execute_result"
    }
   ],
   "source": [
    "person[1]"
   ]
  },
  {
   "cell_type": "code",
   "execution_count": 46,
   "id": "6f397f69",
   "metadata": {},
   "outputs": [
    {
     "ename": "KeyError",
     "evalue": "'lastname'",
     "output_type": "error",
     "traceback": [
      "\u001b[1;31m---------------------------------------------------------------------------\u001b[0m",
      "\u001b[1;31mKeyError\u001b[0m                                  Traceback (most recent call last)",
      "\u001b[1;32m~\\AppData\\Local\\Temp/ipykernel_2664/772590490.py\u001b[0m in \u001b[0;36m<module>\u001b[1;34m\u001b[0m\n\u001b[1;32m----> 1\u001b[1;33m \u001b[0mperson\u001b[0m\u001b[1;33m[\u001b[0m\u001b[1;34m\"lastname\"\u001b[0m\u001b[1;33m]\u001b[0m\u001b[1;33m\u001b[0m\u001b[1;33m\u001b[0m\u001b[0m\n\u001b[0m",
      "\u001b[1;31mKeyError\u001b[0m: 'lastname'"
     ]
    }
   ],
   "source": [
    "person[\"lastname\"] "
   ]
  },
  {
   "cell_type": "code",
   "execution_count": 47,
   "id": "4a2328fe",
   "metadata": {},
   "outputs": [],
   "source": [
    "# added\n",
    "person[\"lastname\"] = \"RRRRR\"\n",
    "# dict    key          value"
   ]
  },
  {
   "cell_type": "code",
   "execution_count": 49,
   "id": "09c7c9c7",
   "metadata": {},
   "outputs": [
    {
     "data": {
      "text/plain": [
       "'RRRRR'"
      ]
     },
     "execution_count": 49,
     "metadata": {},
     "output_type": "execute_result"
    }
   ],
   "source": [
    "person[\"lastname\"]"
   ]
  },
  {
   "cell_type": "code",
   "execution_count": 50,
   "id": "507e6b76",
   "metadata": {},
   "outputs": [
    {
     "data": {
      "text/plain": [
       "{1: 5, (3, 5, 6): 6, 'Age': 22, 'lastname': 'RRRRR'}"
      ]
     },
     "execution_count": 50,
     "metadata": {},
     "output_type": "execute_result"
    }
   ],
   "source": [
    "person"
   ]
  },
  {
   "cell_type": "code",
   "execution_count": 51,
   "id": "104e5213",
   "metadata": {},
   "outputs": [],
   "source": [
    "person[\"lastname\"] = \"AAAA\""
   ]
  },
  {
   "cell_type": "code",
   "execution_count": 52,
   "id": "6acc0845",
   "metadata": {},
   "outputs": [
    {
     "data": {
      "text/plain": [
       "{1: 5, (3, 5, 6): 6, 'Age': 22, 'lastname': 'AAAA'}"
      ]
     },
     "execution_count": 52,
     "metadata": {},
     "output_type": "execute_result"
    }
   ],
   "source": [
    "person"
   ]
  },
  {
   "cell_type": "code",
   "execution_count": 54,
   "id": "63143038",
   "metadata": {},
   "outputs": [
    {
     "data": {
      "text/plain": [
       "'AAAA'"
      ]
     },
     "execution_count": 54,
     "metadata": {},
     "output_type": "execute_result"
    }
   ],
   "source": [
    "person[\"lastname\"]"
   ]
  },
  {
   "cell_type": "code",
   "execution_count": 55,
   "id": "e5b4bcb6",
   "metadata": {},
   "outputs": [],
   "source": [
    "a = person[\"lastname\"]"
   ]
  },
  {
   "cell_type": "code",
   "execution_count": 56,
   "id": "d5f033fa",
   "metadata": {},
   "outputs": [
    {
     "name": "stdout",
     "output_type": "stream",
     "text": [
      "AAAA\n"
     ]
    }
   ],
   "source": [
    "print(a)"
   ]
  },
  {
   "cell_type": "code",
   "execution_count": null,
   "id": "c88839c9",
   "metadata": {},
   "outputs": [],
   "source": [
    "print(person[\"Age\"])"
   ]
  },
  {
   "cell_type": "code",
   "execution_count": null,
   "id": "7fd19d44",
   "metadata": {},
   "outputs": [],
   "source": [
    "print(person)\n",
    "# print(type(person))"
   ]
  }
 ],
 "metadata": {
  "kernelspec": {
   "display_name": "Python 3 (ipykernel)",
   "language": "python",
   "name": "python3"
  },
  "language_info": {
   "codemirror_mode": {
    "name": "ipython",
    "version": 3
   },
   "file_extension": ".py",
   "mimetype": "text/x-python",
   "name": "python",
   "nbconvert_exporter": "python",
   "pygments_lexer": "ipython3",
   "version": "3.9.7"
  }
 },
 "nbformat": 4,
 "nbformat_minor": 5
}
