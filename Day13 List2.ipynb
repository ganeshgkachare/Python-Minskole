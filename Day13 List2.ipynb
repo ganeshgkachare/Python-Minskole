{
 "cells": [
  {
   "cell_type": "markdown",
   "id": "8174933a",
   "metadata": {},
   "source": [
    "## List"
   ]
  },
  {
   "cell_type": "raw",
   "id": "3c6849bd",
   "metadata": {},
   "source": [
    "List\n",
    "    The list is an ordered sequence of mixed data type.\n",
    "    List is mutable."
   ]
  },
  {
   "cell_type": "code",
   "execution_count": 24,
   "id": "c1b3cc40",
   "metadata": {},
   "outputs": [],
   "source": [
    "a = [1,2,3,4,\"5\",\"6\",\"7\",\"Hello\",\"World\",True,False,\"Houndred\"]"
   ]
  },
  {
   "cell_type": "code",
   "execution_count": 25,
   "id": "4ab18c72",
   "metadata": {},
   "outputs": [
    {
     "data": {
      "text/plain": [
       "list"
      ]
     },
     "execution_count": 25,
     "metadata": {},
     "output_type": "execute_result"
    }
   ],
   "source": [
    "type(a)"
   ]
  },
  {
   "cell_type": "code",
   "execution_count": 26,
   "id": "cbc44f68",
   "metadata": {},
   "outputs": [
    {
     "data": {
      "text/plain": [
       "12"
      ]
     },
     "execution_count": 26,
     "metadata": {},
     "output_type": "execute_result"
    }
   ],
   "source": [
    "len(a)"
   ]
  },
  {
   "cell_type": "code",
   "execution_count": null,
   "id": "b59248e0",
   "metadata": {},
   "outputs": [],
   "source": [
    "#Indexing"
   ]
  },
  {
   "cell_type": "code",
   "execution_count": 28,
   "id": "00f1d792",
   "metadata": {},
   "outputs": [
    {
     "data": {
      "text/plain": [
       "'5'"
      ]
     },
     "execution_count": 28,
     "metadata": {},
     "output_type": "execute_result"
    }
   ],
   "source": [
    "a[4]"
   ]
  },
  {
   "cell_type": "code",
   "execution_count": 27,
   "id": "3d68d59a",
   "metadata": {},
   "outputs": [],
   "source": [
    "# ### Slicing\n",
    "#a[starting_index:ending_index:jump]\n",
    "# All Elements"
   ]
  },
  {
   "cell_type": "code",
   "execution_count": 29,
   "id": "3d5309c4",
   "metadata": {},
   "outputs": [],
   "source": [
    "# a[start:  End:  Step]\n",
    "#    0     len(a)  1   # By default\n",
    "# End position not included"
   ]
  },
  {
   "cell_type": "code",
   "execution_count": 32,
   "id": "fc4b65e7",
   "metadata": {},
   "outputs": [
    {
     "data": {
      "text/plain": [
       "[1, 2, 3, 4, '5', '6', '7', 'Hello', 'World', True, False, 'Houndred']"
      ]
     },
     "execution_count": 32,
     "metadata": {},
     "output_type": "execute_result"
    }
   ],
   "source": [
    "a[:]  # Full List"
   ]
  },
  {
   "cell_type": "code",
   "execution_count": 33,
   "id": "878b1aa1",
   "metadata": {},
   "outputs": [
    {
     "data": {
      "text/plain": [
       "['Houndred', False, True, 'World', 'Hello', '7', '6', '5', 4, 3, 2, 1]"
      ]
     },
     "execution_count": 33,
     "metadata": {},
     "output_type": "execute_result"
    }
   ],
   "source": [
    "a[::-1]  # Reverse"
   ]
  },
  {
   "cell_type": "code",
   "execution_count": 34,
   "id": "2a23ca95",
   "metadata": {},
   "outputs": [
    {
     "name": "stdout",
     "output_type": "stream",
     "text": [
      "[4, '5', '6', '7', 'Hello', 'World', True, False, 'Houndred']\n"
     ]
    }
   ],
   "source": [
    "print(a[3:]) # From 3 to foward"
   ]
  },
  {
   "cell_type": "code",
   "execution_count": 35,
   "id": "3696a15e",
   "metadata": {},
   "outputs": [
    {
     "name": "stdout",
     "output_type": "stream",
     "text": [
      "['6', '7', 'Hello']\n"
     ]
    }
   ],
   "source": [
    "print(a[5:8] )# Between 5 and 8 (5,8)"
   ]
  },
  {
   "cell_type": "code",
   "execution_count": 36,
   "id": "1255d014",
   "metadata": {},
   "outputs": [
    {
     "name": "stdout",
     "output_type": "stream",
     "text": [
      "[1, 2, 3]\n"
     ]
    }
   ],
   "source": [
    "print(a[:3] )# from start to 3 "
   ]
  },
  {
   "cell_type": "code",
   "execution_count": null,
   "id": "58964a34",
   "metadata": {},
   "outputs": [],
   "source": [
    "# a = [1,2,3,4,\"5\",\"6\",\"7\",\"Hello\",\"World\",True,False,\"Houndred\"]\n",
    "#      0 1 2 3  4   5   6    7       8      9"
   ]
  },
  {
   "cell_type": "code",
   "execution_count": null,
   "id": "6d3ddf29",
   "metadata": {},
   "outputs": [],
   "source": []
  },
  {
   "cell_type": "markdown",
   "id": "53522f71",
   "metadata": {},
   "source": [
    "## for loop"
   ]
  },
  {
   "cell_type": "markdown",
   "id": "527d2fb4",
   "metadata": {},
   "source": [
    "###### Purpose: To repeat actions for each item in a sequence.\n",
    "###### Sequence: This can be a string, list, tuple, set, or dictionary."
   ]
  },
  {
   "cell_type": "code",
   "execution_count": 1,
   "id": "ba9577f4",
   "metadata": {},
   "outputs": [],
   "source": [
    "# iterate over the list items \n",
    "a = [1,2,3,4,\"5\",\"6\",\"7\",\"Hello\",\"World\",True,False,\"Houndred\"] "
   ]
  },
  {
   "cell_type": "code",
   "execution_count": null,
   "id": "a821b2e1",
   "metadata": {},
   "outputs": [],
   "source": [
    "# for        i          in                   a:\n",
    "#         subcomponent          string, list, tuple, set, or dictionary / range\n"
   ]
  },
  {
   "cell_type": "code",
   "execution_count": null,
   "id": "efbce7e7",
   "metadata": {},
   "outputs": [],
   "source": [
    "for i in a:\n",
    "    code"
   ]
  },
  {
   "cell_type": "code",
   "execution_count": 39,
   "id": "2efa7293",
   "metadata": {},
   "outputs": [
    {
     "name": "stdout",
     "output_type": "stream",
     "text": [
      "1\n",
      "2\n",
      "3\n",
      "4\n",
      "5\n",
      "6\n",
      "7\n",
      "Hello\n",
      "World\n",
      "True\n",
      "False\n",
      "Houndred\n"
     ]
    }
   ],
   "source": [
    "for i in a:\n",
    "    print(i)"
   ]
  },
  {
   "cell_type": "code",
   "execution_count": 40,
   "id": "b351d1ba",
   "metadata": {},
   "outputs": [
    {
     "name": "stdout",
     "output_type": "stream",
     "text": [
      "Houndred\n",
      "Houndred\n",
      "Houndred\n",
      "Houndred\n",
      "Houndred\n",
      "Houndred\n",
      "Houndred\n",
      "Houndred\n",
      "Houndred\n",
      "Houndred\n",
      "Houndred\n",
      "Houndred\n"
     ]
    }
   ],
   "source": [
    "for a in a:\n",
    "    print(i)"
   ]
  },
  {
   "cell_type": "code",
   "execution_count": 2,
   "id": "01aad2e9",
   "metadata": {},
   "outputs": [
    {
     "name": "stdout",
     "output_type": "stream",
     "text": [
      "1\n",
      "2\n",
      "3\n",
      "4\n",
      "5\n",
      "6\n",
      "7\n",
      "Hello\n",
      "World\n",
      "True\n",
      "False\n",
      "Houndred\n"
     ]
    }
   ],
   "source": [
    "for a in a:\n",
    "    print(a)"
   ]
  },
  {
   "cell_type": "code",
   "execution_count": 4,
   "id": "5e5fb0d6",
   "metadata": {},
   "outputs": [],
   "source": [
    "# iterate over the list items \n",
    "a = [1,2,3,4,\"5\",\"6\",\"7\",\"Hello\",\"World\",True,False,\"Houndred\"] "
   ]
  },
  {
   "cell_type": "code",
   "execution_count": 6,
   "id": "b01a43f0",
   "metadata": {},
   "outputs": [
    {
     "name": "stdout",
     "output_type": "stream",
     "text": [
      "1\n",
      "2\n",
      "3\n",
      "4\n",
      "5\n",
      "6\n",
      "7\n",
      "Hello\n",
      "World\n",
      "True\n",
      "False\n",
      "Houndred\n"
     ]
    }
   ],
   "source": [
    "for i in a:\n",
    "    print(i)"
   ]
  },
  {
   "cell_type": "code",
   "execution_count": 9,
   "id": "4c721d0e",
   "metadata": {},
   "outputs": [
    {
     "name": "stdout",
     "output_type": "stream",
     "text": [
      "1, 2, 3, 4, 5, 6, 7, Hello, World, True, False, Houndred, "
     ]
    }
   ],
   "source": [
    "for i in a:\n",
    "    print(i,end=\", \")"
   ]
  },
  {
   "cell_type": "code",
   "execution_count": 10,
   "id": "1c7a5f2a",
   "metadata": {},
   "outputs": [
    {
     "name": "stdout",
     "output_type": "stream",
     "text": [
      "1+ 2+ 3+ 4+ 5+ 6+ 7+ Hello+ World+ True+ False+ Houndred+ "
     ]
    }
   ],
   "source": [
    "for i in a:\n",
    "    print(i,end=\"+ \")"
   ]
  },
  {
   "cell_type": "markdown",
   "id": "c57aada4",
   "metadata": {},
   "source": [
    "## Range()"
   ]
  },
  {
   "cell_type": "raw",
   "id": "830dcf89",
   "metadata": {},
   "source": [
    "\n",
    "Range():-\n",
    "    The range() function returns a sequence of numbers, starting from 0 by default,\n",
    "    and increments by 1 (by default), and stops before a specified number.\n",
    "Syntax\n",
    "    range(start, stop, step)\n",
    "\n",
    "    Parameter\tDescription\n",
    "    start\t    Optional. An integer number specifying at which position to start. Default is 0\n",
    "    stop\t    Required. An integer number specifying at which position to stop (not included).\n",
    "    step\t    Optional. An integer number specifying the incrementation. Default is 1"
   ]
  },
  {
   "cell_type": "code",
   "execution_count": null,
   "id": "c7172ad7",
   "metadata": {},
   "outputs": [],
   "source": []
  },
  {
   "cell_type": "code",
   "execution_count": 11,
   "id": "91f22031",
   "metadata": {},
   "outputs": [],
   "source": [
    "#eg.1\n",
    "a = range(10)"
   ]
  },
  {
   "cell_type": "code",
   "execution_count": 12,
   "id": "70817870",
   "metadata": {},
   "outputs": [
    {
     "data": {
      "text/plain": [
       "range(0, 10)"
      ]
     },
     "execution_count": 12,
     "metadata": {},
     "output_type": "execute_result"
    }
   ],
   "source": [
    "a"
   ]
  },
  {
   "cell_type": "code",
   "execution_count": 13,
   "id": "c701c1cf",
   "metadata": {},
   "outputs": [
    {
     "data": {
      "text/plain": [
       "[0, 1, 2, 3, 4, 5, 6, 7, 8, 9]"
      ]
     },
     "execution_count": 13,
     "metadata": {},
     "output_type": "execute_result"
    }
   ],
   "source": [
    "list(a)"
   ]
  },
  {
   "cell_type": "code",
   "execution_count": 14,
   "id": "9d4a2fc5",
   "metadata": {},
   "outputs": [
    {
     "data": {
      "text/plain": [
       "range(2, 5)"
      ]
     },
     "execution_count": 14,
     "metadata": {},
     "output_type": "execute_result"
    }
   ],
   "source": [
    "range(2,5)"
   ]
  },
  {
   "cell_type": "code",
   "execution_count": 15,
   "id": "654699f2",
   "metadata": {},
   "outputs": [
    {
     "data": {
      "text/plain": [
       "[2, 3, 4]"
      ]
     },
     "execution_count": 15,
     "metadata": {},
     "output_type": "execute_result"
    }
   ],
   "source": [
    "list(range(2,5))"
   ]
  },
  {
   "cell_type": "code",
   "execution_count": 17,
   "id": "c8fd999e",
   "metadata": {},
   "outputs": [
    {
     "data": {
      "text/plain": [
       "range(2, 5, 2)"
      ]
     },
     "execution_count": 17,
     "metadata": {},
     "output_type": "execute_result"
    }
   ],
   "source": [
    "range(2,5,2)"
   ]
  },
  {
   "cell_type": "code",
   "execution_count": 16,
   "id": "bb74bbb3",
   "metadata": {},
   "outputs": [
    {
     "data": {
      "text/plain": [
       "[2, 4]"
      ]
     },
     "execution_count": 16,
     "metadata": {},
     "output_type": "execute_result"
    }
   ],
   "source": [
    "list(range(2,5,2))"
   ]
  }
 ],
 "metadata": {
  "kernelspec": {
   "display_name": "Python 3 (ipykernel)",
   "language": "python",
   "name": "python3"
  },
  "language_info": {
   "codemirror_mode": {
    "name": "ipython",
    "version": 3
   },
   "file_extension": ".py",
   "mimetype": "text/x-python",
   "name": "python",
   "nbconvert_exporter": "python",
   "pygments_lexer": "ipython3",
   "version": "3.9.7"
  }
 },
 "nbformat": 4,
 "nbformat_minor": 5
}
