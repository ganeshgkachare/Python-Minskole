{
 "cells": [
  {
   "cell_type": "code",
   "execution_count": null,
   "id": "1e1198b5",
   "metadata": {},
   "outputs": [],
   "source": [
    "# # setdefault() = get + update\n",
    "# If the key does not exist, insert the key, with the specified value\n",
    "# # Syntax\n",
    "# dictionary.setdefault(keyname, value)"
   ]
  },
  {
   "cell_type": "code",
   "execution_count": 22,
   "id": "5e9258fa",
   "metadata": {},
   "outputs": [],
   "source": [
    "student = {\n",
    "    'firstName':\"Priyanka\",\n",
    "    'lastName':\"Patil\",\n",
    "    \"age\":23,\n",
    "    \"skills\":[\"pyhton\",\"javascript\"]\n",
    "}"
   ]
  },
  {
   "cell_type": "code",
   "execution_count": 23,
   "id": "feae2b1d",
   "metadata": {},
   "outputs": [
    {
     "data": {
      "text/plain": [
       "{'firstName': 'Priyanka',\n",
       " 'lastName': 'Patil',\n",
       " 'age': 23,\n",
       " 'skills': ['pyhton', 'javascript']}"
      ]
     },
     "execution_count": 23,
     "metadata": {},
     "output_type": "execute_result"
    }
   ],
   "source": [
    "student"
   ]
  },
  {
   "cell_type": "code",
   "execution_count": 24,
   "id": "bc05b376",
   "metadata": {},
   "outputs": [
    {
     "data": {
      "text/plain": [
       "'Pune'"
      ]
     },
     "execution_count": 24,
     "metadata": {},
     "output_type": "execute_result"
    }
   ],
   "source": [
    "student.get('city','Pune')"
   ]
  },
  {
   "cell_type": "code",
   "execution_count": 26,
   "id": "816fe37a",
   "metadata": {},
   "outputs": [
    {
     "data": {
      "text/plain": [
       "{'firstName': 'Priyanka',\n",
       " 'lastName': 'Patil',\n",
       " 'age': 23,\n",
       " 'skills': ['pyhton', 'javascript']}"
      ]
     },
     "execution_count": 26,
     "metadata": {},
     "output_type": "execute_result"
    }
   ],
   "source": [
    "student"
   ]
  },
  {
   "cell_type": "code",
   "execution_count": 27,
   "id": "4c608396",
   "metadata": {},
   "outputs": [
    {
     "data": {
      "text/plain": [
       "'Pune'"
      ]
     },
     "execution_count": 27,
     "metadata": {},
     "output_type": "execute_result"
    }
   ],
   "source": [
    "student.setdefault('city','Pune')  #get+update ==>If not exist then update\n"
   ]
  },
  {
   "cell_type": "code",
   "execution_count": 29,
   "id": "c980ed98",
   "metadata": {},
   "outputs": [
    {
     "data": {
      "text/plain": [
       "{'firstName': 'Priyanka',\n",
       " 'lastName': 'Patil',\n",
       " 'age': 23,\n",
       " 'skills': ['pyhton', 'javascript'],\n",
       " 'city': 'Pune'}"
      ]
     },
     "execution_count": 29,
     "metadata": {},
     "output_type": "execute_result"
    }
   ],
   "source": [
    "student"
   ]
  },
  {
   "cell_type": "code",
   "execution_count": null,
   "id": "8e61b975",
   "metadata": {},
   "outputs": [],
   "source": [
    "# # fromkeys()\n",
    "# The fromkeys() method returns a dictionary with the specified keys and the specified value.\n",
    "# #Syntax\n",
    "# dict.fromkeys(keys, value)"
   ]
  },
  {
   "cell_type": "code",
   "execution_count": null,
   "id": "62df954c",
   "metadata": {},
   "outputs": [],
   "source": []
  },
  {
   "cell_type": "code",
   "execution_count": 30,
   "id": "077528df",
   "metadata": {},
   "outputs": [
    {
     "data": {
      "text/plain": [
       "{'Acc1': 0, 'Acc2': 0, 'Acc3': 0}"
      ]
     },
     "execution_count": 30,
     "metadata": {},
     "output_type": "execute_result"
    }
   ],
   "source": [
    "dict.fromkeys([\"Acc1\",\"Acc2\",\"Acc3\"],0)"
   ]
  },
  {
   "cell_type": "code",
   "execution_count": null,
   "id": "cc63c8a5",
   "metadata": {},
   "outputs": [],
   "source": []
  },
  {
   "cell_type": "code",
   "execution_count": 31,
   "id": "7c3a0499",
   "metadata": {},
   "outputs": [
    {
     "name": "stdout",
     "output_type": "stream",
     "text": [
      "{'Acc1': 0, 'Acc2': 0, 'Acc3': 0}\n"
     ]
    }
   ],
   "source": [
    "keys = [\"Acc1\",\"Acc2\",\"Acc3\"]\n",
    "y = 0\n",
    "d = dict.fromkeys(keys,y)\n",
    "print(d)"
   ]
  },
  {
   "cell_type": "code",
   "execution_count": 32,
   "id": "3ecf5ab5",
   "metadata": {},
   "outputs": [
    {
     "name": "stdout",
     "output_type": "stream",
     "text": [
      "{'student1': [1, 2, 3], 'student2': [1, 2, 3], 'student3': [1, 2, 3]}\n"
     ]
    }
   ],
   "source": [
    "keys = [\"student1\",\"student2\",\"student3\"]\n",
    "y = [1,2,3]\n",
    "\n",
    "d = dict.fromkeys(keys,y)\n",
    "print(d)"
   ]
  },
  {
   "cell_type": "code",
   "execution_count": 33,
   "id": "4c1614cf",
   "metadata": {},
   "outputs": [
    {
     "data": {
      "text/plain": [
       "{'student1': [1, 2, 3], 'student2': [1, 2, 3], 'student3': [1, 2, 3]}"
      ]
     },
     "execution_count": 33,
     "metadata": {},
     "output_type": "execute_result"
    }
   ],
   "source": [
    "d"
   ]
  },
  {
   "cell_type": "code",
   "execution_count": 34,
   "id": "b98ccc90",
   "metadata": {},
   "outputs": [
    {
     "data": {
      "text/plain": [
       "dict_keys(['student1', 'student2', 'student3'])"
      ]
     },
     "execution_count": 34,
     "metadata": {},
     "output_type": "execute_result"
    }
   ],
   "source": [
    "d.keys()"
   ]
  },
  {
   "cell_type": "code",
   "execution_count": 35,
   "id": "f37e4278",
   "metadata": {},
   "outputs": [
    {
     "data": {
      "text/plain": [
       "dict_values([[1, 2, 3], [1, 2, 3], [1, 2, 3]])"
      ]
     },
     "execution_count": 35,
     "metadata": {},
     "output_type": "execute_result"
    }
   ],
   "source": [
    "d.values()"
   ]
  },
  {
   "cell_type": "code",
   "execution_count": null,
   "id": "7abc65d7",
   "metadata": {},
   "outputs": [],
   "source": [
    "dict.fromkeys([\"student1\",\"student2\",\"student3\"],[1, 2, 3])"
   ]
  },
  {
   "cell_type": "code",
   "execution_count": 36,
   "id": "52c698b1",
   "metadata": {},
   "outputs": [
    {
     "data": {
      "text/plain": [
       "{'student1': 'Welcome', 'student2': 'Welcome', 'student3': 'Welcome'}"
      ]
     },
     "execution_count": 36,
     "metadata": {},
     "output_type": "execute_result"
    }
   ],
   "source": [
    "dict.fromkeys([\"student1\",\"student2\",\"student3\"],\"Welcome\")"
   ]
  },
  {
   "cell_type": "code",
   "execution_count": 37,
   "id": "8bea1822",
   "metadata": {},
   "outputs": [
    {
     "data": {
      "text/plain": [
       "{'student1': None, 'student2': None, 'student3': None}"
      ]
     },
     "execution_count": 37,
     "metadata": {},
     "output_type": "execute_result"
    }
   ],
   "source": [
    "dict.fromkeys([\"student1\",\"student2\",\"student3\"])"
   ]
  },
  {
   "cell_type": "code",
   "execution_count": null,
   "id": "d50f7d19",
   "metadata": {},
   "outputs": [],
   "source": []
  },
  {
   "cell_type": "code",
   "execution_count": null,
   "id": "69af0356",
   "metadata": {},
   "outputs": [],
   "source": []
  },
  {
   "cell_type": "code",
   "execution_count": null,
   "id": "03aea062",
   "metadata": {},
   "outputs": [],
   "source": []
  },
  {
   "cell_type": "code",
   "execution_count": null,
   "id": "f8ab57f0",
   "metadata": {},
   "outputs": [],
   "source": []
  },
  {
   "cell_type": "markdown",
   "id": "58f1f4dd",
   "metadata": {},
   "source": [
    "#### More examples"
   ]
  },
  {
   "cell_type": "code",
   "execution_count": 38,
   "id": "18b5f6c8",
   "metadata": {},
   "outputs": [],
   "source": [
    "# fromkeys\n",
    "\n",
    "dist = ['dist1', 'dist2' ,'dist3','dist4','dist5']\n",
    "\n",
    "\n",
    "# monsoon  = {\n",
    "#     'dist1'\t: 0,\n",
    "#     'dist2'\t: 0,\n",
    "#     'dist3'\t: 0,\n",
    "#     'dist4'\t: 0,\n",
    "#     'dist5'\t: 0,\n",
    "# }\n",
    "\n",
    "# monsoon = dict.fromkeys([KEYS] , \"Default Values\")\n"
   ]
  },
  {
   "cell_type": "code",
   "execution_count": null,
   "id": "de15fadb",
   "metadata": {},
   "outputs": [],
   "source": [
    "monsoon2 = dict.fromkeys(dist) # By default value is None\n",
    "print(monsoon2)"
   ]
  },
  {
   "cell_type": "code",
   "execution_count": 39,
   "id": "97144d32",
   "metadata": {},
   "outputs": [],
   "source": [
    "\n",
    "dist = ['dist1', 'dist2' ,'dist3','dist4','dist5']"
   ]
  },
  {
   "cell_type": "code",
   "execution_count": null,
   "id": "99f91675",
   "metadata": {},
   "outputs": [],
   "source": [
    "# fromkeys"
   ]
  },
  {
   "cell_type": "code",
   "execution_count": null,
   "id": "5dd178f8",
   "metadata": {},
   "outputs": [],
   "source": [
    "dict.fromkeys(keys,contant_value)"
   ]
  },
  {
   "cell_type": "code",
   "execution_count": 42,
   "id": "e4e343d3",
   "metadata": {},
   "outputs": [
    {
     "data": {
      "text/plain": [
       "{'dist1': [10, 25, 30],\n",
       " 'dist2': [10, 25, 30],\n",
       " 'dist3': [10, 25, 30],\n",
       " 'dist4': [10, 25, 30],\n",
       " 'dist5': [10, 25, 30]}"
      ]
     },
     "execution_count": 42,
     "metadata": {},
     "output_type": "execute_result"
    }
   ],
   "source": [
    "dict.fromkeys(['dist1', 'dist2' ,'dist3','dist4','dist5'] , [10,25,30])"
   ]
  },
  {
   "cell_type": "code",
   "execution_count": null,
   "id": "3351bdff",
   "metadata": {},
   "outputs": [],
   "source": []
  },
  {
   "cell_type": "code",
   "execution_count": 44,
   "id": "d6e1a57e",
   "metadata": {},
   "outputs": [
    {
     "data": {
      "text/plain": [
       "{'dist1': [10, 25, 30],\n",
       " 'dist2': [10, 25, 30],\n",
       " 'dist3': [10, 25, 30],\n",
       " 'dist4': [10, 25, 30],\n",
       " 'dist5': [10, 25, 30]}"
      ]
     },
     "execution_count": 44,
     "metadata": {},
     "output_type": "execute_result"
    }
   ],
   "source": [
    "monsoon3 = dict.fromkeys(['dist1', 'dist2' ,'dist3','dist4','dist5'] , [10,25,30])\n",
    "monsoon3"
   ]
  },
  {
   "cell_type": "code",
   "execution_count": null,
   "id": "0038492b",
   "metadata": {},
   "outputs": [],
   "source": []
  },
  {
   "cell_type": "code",
   "execution_count": 47,
   "id": "febb38c5",
   "metadata": {},
   "outputs": [],
   "source": [
    "monsoon3.update({'dist1': 100,'dist11': 100,'dist111': 100,})"
   ]
  },
  {
   "cell_type": "code",
   "execution_count": 48,
   "id": "94d9c104",
   "metadata": {},
   "outputs": [
    {
     "data": {
      "text/plain": [
       "{'dist1': 100,\n",
       " 'dist2': [10, 25, 30],\n",
       " 'dist3': [10, 25, 30],\n",
       " 'dist4': [10, 25, 30],\n",
       " 'dist5': [10, 25, 30],\n",
       " 'dist11': 100,\n",
       " 'dist111': 100}"
      ]
     },
     "execution_count": 48,
     "metadata": {},
     "output_type": "execute_result"
    }
   ],
   "source": [
    "monsoon3"
   ]
  },
  {
   "cell_type": "code",
   "execution_count": 50,
   "id": "0623fd9d",
   "metadata": {},
   "outputs": [
    {
     "data": {
      "text/plain": [
       "{'dist1': 100,\n",
       " 'dist2': [10, 25, 30],\n",
       " 'dist3': [10, 25, 30],\n",
       " 'dist4': [10, 25, 30],\n",
       " 'dist5': [10, 25, 30],\n",
       " 'dist11': 100,\n",
       " 'dist111': 100}"
      ]
     },
     "execution_count": 50,
     "metadata": {},
     "output_type": "execute_result"
    }
   ],
   "source": [
    "# popitem\n",
    "monsoon3"
   ]
  },
  {
   "cell_type": "code",
   "execution_count": 51,
   "id": "7142ee95",
   "metadata": {},
   "outputs": [
    {
     "data": {
      "text/plain": [
       "('dist111', 100)"
      ]
     },
     "execution_count": 51,
     "metadata": {},
     "output_type": "execute_result"
    }
   ],
   "source": [
    "monsoon3.popitem() # delete the latest  entry not the last "
   ]
  },
  {
   "cell_type": "code",
   "execution_count": 52,
   "id": "f574082a",
   "metadata": {},
   "outputs": [
    {
     "data": {
      "text/plain": [
       "{'dist1': 100,\n",
       " 'dist2': [10, 25, 30],\n",
       " 'dist3': [10, 25, 30],\n",
       " 'dist4': [10, 25, 30],\n",
       " 'dist5': [10, 25, 30],\n",
       " 'dist11': 100}"
      ]
     },
     "execution_count": 52,
     "metadata": {},
     "output_type": "execute_result"
    }
   ],
   "source": [
    "monsoon3"
   ]
  },
  {
   "cell_type": "code",
   "execution_count": 55,
   "id": "40ff646a",
   "metadata": {},
   "outputs": [],
   "source": [
    "monsoon3_copy=monsoon3.copy()"
   ]
  },
  {
   "cell_type": "code",
   "execution_count": 58,
   "id": "913d2921",
   "metadata": {},
   "outputs": [],
   "source": [
    "monsoon4=monsoon3"
   ]
  },
  {
   "cell_type": "code",
   "execution_count": 59,
   "id": "e29a5e2c",
   "metadata": {},
   "outputs": [
    {
     "data": {
      "text/plain": [
       "{'dist1': 100,\n",
       " 'dist2': [10, 25, 30],\n",
       " 'dist3': [10, 25, 30],\n",
       " 'dist4': [10, 25, 30],\n",
       " 'dist5': [10, 25, 30],\n",
       " 'dist11': 100}"
      ]
     },
     "execution_count": 59,
     "metadata": {},
     "output_type": "execute_result"
    }
   ],
   "source": [
    "monsoon4"
   ]
  },
  {
   "cell_type": "code",
   "execution_count": 56,
   "id": "22feb23b",
   "metadata": {},
   "outputs": [
    {
     "data": {
      "text/plain": [
       "{'dist1': 100,\n",
       " 'dist2': [10, 25, 30],\n",
       " 'dist3': [10, 25, 30],\n",
       " 'dist4': [10, 25, 30],\n",
       " 'dist5': [10, 25, 30],\n",
       " 'dist11': 100}"
      ]
     },
     "execution_count": 56,
     "metadata": {},
     "output_type": "execute_result"
    }
   ],
   "source": [
    "monsoon3"
   ]
  },
  {
   "cell_type": "code",
   "execution_count": 57,
   "id": "54bf1e15",
   "metadata": {},
   "outputs": [
    {
     "data": {
      "text/plain": [
       "{'dist1': 100,\n",
       " 'dist2': [10, 25, 30],\n",
       " 'dist3': [10, 25, 30],\n",
       " 'dist4': [10, 25, 30],\n",
       " 'dist5': [10, 25, 30],\n",
       " 'dist11': 100}"
      ]
     },
     "execution_count": 57,
     "metadata": {},
     "output_type": "execute_result"
    }
   ],
   "source": [
    "monsoon3_copy."
   ]
  },
  {
   "cell_type": "code",
   "execution_count": null,
   "id": "c0800b75",
   "metadata": {},
   "outputs": [],
   "source": [
    "monsoon2"
   ]
  },
  {
   "cell_type": "code",
   "execution_count": null,
   "id": "d949dacf",
   "metadata": {},
   "outputs": [],
   "source": []
  },
  {
   "cell_type": "markdown",
   "id": "3a2f9011",
   "metadata": {},
   "source": [
    "## Control flow statements"
   ]
  },
  {
   "cell_type": "code",
   "execution_count": 61,
   "id": "dd1be9bf",
   "metadata": {},
   "outputs": [
    {
     "name": "stdout",
     "output_type": "stream",
     "text": [
      "0\n",
      "I got it\n",
      "1\n",
      "I got it\n",
      "2\n",
      "I got it\n",
      "3\n",
      "I got it\n",
      "4\n",
      "I got it\n",
      "5\n",
      "I got it\n",
      "6\n",
      "I got it\n",
      "7\n",
      "I got it\n",
      "8\n",
      "I got it\n",
      "9\n",
      "I got it\n"
     ]
    }
   ],
   "source": [
    "for i in range(0, 10):\n",
    "    print(i) \n",
    "    print(\"I got it\")"
   ]
  },
  {
   "cell_type": "code",
   "execution_count": 65,
   "id": "9a8d13b9",
   "metadata": {},
   "outputs": [
    {
     "name": "stdout",
     "output_type": "stream",
     "text": [
      "b is greater than a\n"
     ]
    }
   ],
   "source": [
    "a = 33\n",
    "b = 100\n",
    "if b > a:\n",
    "      print(\"b is greater than a\")\n",
    "if a == b:\n",
    "      print(\"a and b are equal\")\n"
   ]
  },
  {
   "cell_type": "code",
   "execution_count": 64,
   "id": "ca9419ea",
   "metadata": {},
   "outputs": [
    {
     "name": "stdout",
     "output_type": "stream",
     "text": [
      "a and b are equal\n"
     ]
    }
   ],
   "source": [
    "a = 100\n",
    "b = 33\n",
    "if b > a:\n",
    "      print(\"b is greater than a\")\n",
    "elif a == b:\n",
    "      print(\"a and b are equal\")\n",
    "else:\n",
    "      print(\"a is greater than b\")\n",
    "        \n",
    "print(\"Finish\")"
   ]
  },
  {
   "cell_type": "code",
   "execution_count": null,
   "id": "027f9adc",
   "metadata": {},
   "outputs": [],
   "source": []
  }
 ],
 "metadata": {
  "kernelspec": {
   "display_name": "Python 3 (ipykernel)",
   "language": "python",
   "name": "python3"
  },
  "language_info": {
   "codemirror_mode": {
    "name": "ipython",
    "version": 3
   },
   "file_extension": ".py",
   "mimetype": "text/x-python",
   "name": "python",
   "nbconvert_exporter": "python",
   "pygments_lexer": "ipython3",
   "version": "3.9.7"
  }
 },
 "nbformat": 4,
 "nbformat_minor": 5
}
