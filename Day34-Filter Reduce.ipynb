{
 "cells": [
  {
   "cell_type": "code",
   "execution_count": 31,
   "id": "00b8eb9b",
   "metadata": {},
   "outputs": [],
   "source": [
    "# list/tuple/set(map(self_defined_function/lambda_function,iterable_input))"
   ]
  },
  {
   "cell_type": "code",
   "execution_count": 32,
   "id": "8bc8031e",
   "metadata": {},
   "outputs": [],
   "source": [
    "# list/tuple/set(filter(self_defined_function/lambda_function,iterable_input))"
   ]
  },
  {
   "cell_type": "code",
   "execution_count": 33,
   "id": "1af4177a",
   "metadata": {},
   "outputs": [
    {
     "data": {
      "text/plain": [
       "[1, 2, 3, 4, 5]"
      ]
     },
     "execution_count": 33,
     "metadata": {},
     "output_type": "execute_result"
    }
   ],
   "source": [
    "[1,2,3,4,5]"
   ]
  },
  {
   "cell_type": "markdown",
   "id": "78e76119",
   "metadata": {},
   "source": [
    "## filter()"
   ]
  },
  {
   "cell_type": "raw",
   "id": "2fd13a3a",
   "metadata": {},
   "source": [
    "2) filter() function takes two arguments - a function and an iterable. \n",
    "It applies the function to each element of the iterable and returns a new iterable with the elements for which the function returns True."
   ]
  },
  {
   "cell_type": "code",
   "execution_count": 34,
   "id": "f40941e9",
   "metadata": {},
   "outputs": [],
   "source": [
    "list_score = [42,71,41,12,8,99]"
   ]
  },
  {
   "cell_type": "code",
   "execution_count": 35,
   "id": "0d61c1fb",
   "metadata": {},
   "outputs": [],
   "source": [
    "# filter\n",
    "# filter (fn,iterable object)\n",
    "def even_num(s):\n",
    "    if s%2 ==0:\n",
    "        return s"
   ]
  },
  {
   "cell_type": "code",
   "execution_count": 36,
   "id": "f55746f8",
   "metadata": {},
   "outputs": [
    {
     "ename": "TypeError",
     "evalue": "unsupported operand type(s) for %: 'list' and 'int'",
     "output_type": "error",
     "traceback": [
      "\u001b[1;31m---------------------------------------------------------------------------\u001b[0m",
      "\u001b[1;31mTypeError\u001b[0m                                 Traceback (most recent call last)",
      "\u001b[1;32m~\\AppData\\Local\\Temp/ipykernel_10624/3129495376.py\u001b[0m in \u001b[0;36m<module>\u001b[1;34m\u001b[0m\n\u001b[1;32m----> 1\u001b[1;33m \u001b[0meven_num\u001b[0m\u001b[1;33m(\u001b[0m\u001b[1;33m[\u001b[0m\u001b[1;36m42\u001b[0m\u001b[1;33m,\u001b[0m\u001b[1;36m71\u001b[0m\u001b[1;33m,\u001b[0m\u001b[1;36m41\u001b[0m\u001b[1;33m,\u001b[0m\u001b[1;36m12\u001b[0m\u001b[1;33m,\u001b[0m\u001b[1;36m8\u001b[0m\u001b[1;33m,\u001b[0m\u001b[1;36m99\u001b[0m\u001b[1;33m]\u001b[0m\u001b[1;33m)\u001b[0m\u001b[1;33m\u001b[0m\u001b[1;33m\u001b[0m\u001b[0m\n\u001b[0m",
      "\u001b[1;32m~\\AppData\\Local\\Temp/ipykernel_10624/3094536187.py\u001b[0m in \u001b[0;36meven_num\u001b[1;34m(s)\u001b[0m\n\u001b[0;32m      2\u001b[0m \u001b[1;31m# filter (fn,iterable object)\u001b[0m\u001b[1;33m\u001b[0m\u001b[1;33m\u001b[0m\u001b[0m\n\u001b[0;32m      3\u001b[0m \u001b[1;32mdef\u001b[0m \u001b[0meven_num\u001b[0m\u001b[1;33m(\u001b[0m\u001b[0ms\u001b[0m\u001b[1;33m)\u001b[0m\u001b[1;33m:\u001b[0m\u001b[1;33m\u001b[0m\u001b[1;33m\u001b[0m\u001b[0m\n\u001b[1;32m----> 4\u001b[1;33m     \u001b[1;32mif\u001b[0m \u001b[0ms\u001b[0m\u001b[1;33m%\u001b[0m\u001b[1;36m2\u001b[0m \u001b[1;33m==\u001b[0m\u001b[1;36m0\u001b[0m\u001b[1;33m:\u001b[0m\u001b[1;33m\u001b[0m\u001b[1;33m\u001b[0m\u001b[0m\n\u001b[0m\u001b[0;32m      5\u001b[0m         \u001b[1;32mreturn\u001b[0m \u001b[0ms\u001b[0m\u001b[1;33m\u001b[0m\u001b[1;33m\u001b[0m\u001b[0m\n",
      "\u001b[1;31mTypeError\u001b[0m: unsupported operand type(s) for %: 'list' and 'int'"
     ]
    }
   ],
   "source": [
    "even_num([42,71,41,12,8,99])"
   ]
  },
  {
   "cell_type": "code",
   "execution_count": 37,
   "id": "9d87210b",
   "metadata": {},
   "outputs": [
    {
     "data": {
      "text/plain": [
       "42"
      ]
     },
     "execution_count": 37,
     "metadata": {},
     "output_type": "execute_result"
    }
   ],
   "source": [
    "even_num(42)"
   ]
  },
  {
   "cell_type": "code",
   "execution_count": 38,
   "id": "2a59cd68",
   "metadata": {},
   "outputs": [],
   "source": [
    "even_num(43)"
   ]
  },
  {
   "cell_type": "code",
   "execution_count": 39,
   "id": "f42a9c2f",
   "metadata": {},
   "outputs": [
    {
     "data": {
      "text/plain": [
       "[42, 71, 41, 12, 8, 99]"
      ]
     },
     "execution_count": 39,
     "metadata": {},
     "output_type": "execute_result"
    }
   ],
   "source": [
    "list_score"
   ]
  },
  {
   "cell_type": "code",
   "execution_count": 40,
   "id": "c6ab678b",
   "metadata": {},
   "outputs": [
    {
     "name": "stdout",
     "output_type": "stream",
     "text": [
      "[42, 12, 8]\n"
     ]
    }
   ],
   "source": [
    "print(list(filter(even_num,list_score)))"
   ]
  },
  {
   "cell_type": "code",
   "execution_count": null,
   "id": "7b6562a8",
   "metadata": {},
   "outputs": [],
   "source": []
  },
  {
   "cell_type": "code",
   "execution_count": 41,
   "id": "15615de0",
   "metadata": {},
   "outputs": [
    {
     "name": "stdout",
     "output_type": "stream",
     "text": [
      "[55, 55, 66]\n"
     ]
    }
   ],
   "source": [
    "\n",
    "listE = [22,33,44,55,22,33,44,55,66]\n",
    "listF = []\n",
    "#[55,55,66]\n",
    "\n",
    "for item in listE:\n",
    "    if item > 50:\n",
    "        listF.append(item)\n",
    "print(listF)"
   ]
  },
  {
   "cell_type": "code",
   "execution_count": 42,
   "id": "ad16d80e",
   "metadata": {},
   "outputs": [],
   "source": [
    "input_list=[22,33,44,50,22,33,44,55,66]"
   ]
  },
  {
   "cell_type": "code",
   "execution_count": 43,
   "id": "499721bd",
   "metadata": {},
   "outputs": [
    {
     "name": "stdout",
     "output_type": "stream",
     "text": [
      "[50, 55, 66]\n"
     ]
    }
   ],
   "source": [
    "# filter \n",
    "q5 = list(filter(lambda x:x >= 50,input_list))\n",
    "print(q5)"
   ]
  },
  {
   "cell_type": "code",
   "execution_count": 44,
   "id": "5d6b3ecb",
   "metadata": {},
   "outputs": [
    {
     "name": "stdout",
     "output_type": "stream",
     "text": [
      "[44, 22, 88]\n"
     ]
    }
   ],
   "source": [
    "listG = [33,44,55,22,3,33,477,88,99,33]\n",
    "print(list(filter(lambda x : x%2 == 0,listG))) #even"
   ]
  },
  {
   "cell_type": "code",
   "execution_count": 45,
   "id": "67c2dc77",
   "metadata": {},
   "outputs": [
    {
     "name": "stdout",
     "output_type": "stream",
     "text": [
      "{33, 99, 3, 55, 477}\n"
     ]
    }
   ],
   "source": [
    "print(set(filter(lambda x : x%2 != 0,listG))) # odd"
   ]
  },
  {
   "cell_type": "code",
   "execution_count": 46,
   "id": "7b719332",
   "metadata": {},
   "outputs": [
    {
     "name": "stdout",
     "output_type": "stream",
     "text": [
      "['Raj']\n"
     ]
    }
   ],
   "source": [
    "listF = [\"Priyanka\",\"Raj\",\"Ganesh\"]\n",
    "print(list(filter(lambda x : len(x)  == 3,listF)))"
   ]
  },
  {
   "cell_type": "code",
   "execution_count": 47,
   "id": "2ab6aa99",
   "metadata": {},
   "outputs": [
    {
     "name": "stdout",
     "output_type": "stream",
     "text": [
      "['Ganesh']\n"
     ]
    }
   ],
   "source": [
    "listF = [\"Priyanka\",\"Raj\",\"Ganesh\"]\n",
    "print(list(filter(lambda x : x.startswith(\"G\"),listF)))"
   ]
  },
  {
   "cell_type": "code",
   "execution_count": null,
   "id": "beade39b",
   "metadata": {},
   "outputs": [],
   "source": []
  },
  {
   "cell_type": "markdown",
   "id": "02e8d562",
   "metadata": {},
   "source": [
    "### reduce()"
   ]
  },
  {
   "cell_type": "raw",
   "id": "2c1fb7c4",
   "metadata": {},
   "source": [
    "3) reduce() function takes two arguments - a function and an iterable. It applies the function to the first two elements of the iterable, then applies it to the result and the next element, and so on, until all the elements are processed and a single value is returned"
   ]
  },
  {
   "cell_type": "code",
   "execution_count": 48,
   "id": "f8b8aad0",
   "metadata": {},
   "outputs": [],
   "source": [
    "# reduce\n",
    "def all_sum(x):\n",
    "    s = 0 \n",
    "    for i in x:\n",
    "        s = s + i\n",
    "    return s"
   ]
  },
  {
   "cell_type": "code",
   "execution_count": 49,
   "id": "33d51ae5",
   "metadata": {},
   "outputs": [
    {
     "name": "stdout",
     "output_type": "stream",
     "text": [
      "15\n"
     ]
    }
   ],
   "source": [
    "print(all_sum([1,2,3,4,5]))"
   ]
  },
  {
   "cell_type": "code",
   "execution_count": 50,
   "id": "81017a2a",
   "metadata": {},
   "outputs": [
    {
     "name": "stdout",
     "output_type": "stream",
     "text": [
      "15\n"
     ]
    }
   ],
   "source": [
    "print(reduce(lambda x ,y: x+y ,[1,2,3,4,5]))"
   ]
  },
  {
   "cell_type": "code",
   "execution_count": 51,
   "id": "89bbb327",
   "metadata": {},
   "outputs": [],
   "source": [
    "from functools import reduce"
   ]
  },
  {
   "cell_type": "code",
   "execution_count": 52,
   "id": "76fe6695",
   "metadata": {},
   "outputs": [
    {
     "name": "stdout",
     "output_type": "stream",
     "text": [
      "15\n"
     ]
    }
   ],
   "source": [
    "print(reduce(lambda x ,y: x+y ,[1,2,3,4,5]))\n",
    "#                               1 2 ==> 1+2=3\n",
    "#                                 3  3 ==> 3+3=6\n",
    "#                                   6 4 ==> 6+4=10\n",
    "#                                     10 5 ==> 10+5=15\n",
    "#                                        15\n",
    "#\n",
    "\n",
    "                                  "
   ]
  },
  {
   "cell_type": "code",
   "execution_count": 53,
   "id": "7743afae",
   "metadata": {},
   "outputs": [
    {
     "name": "stdout",
     "output_type": "stream",
     "text": [
      "120\n"
     ]
    }
   ],
   "source": [
    "print(reduce(lambda x ,y: x*y ,[1,2,3,4,5]))"
   ]
  },
  {
   "cell_type": "code",
   "execution_count": null,
   "id": "e1200c18",
   "metadata": {},
   "outputs": [],
   "source": []
  },
  {
   "cell_type": "code",
   "execution_count": 54,
   "id": "da6df30b",
   "metadata": {},
   "outputs": [
    {
     "name": "stdout",
     "output_type": "stream",
     "text": [
      "18\n"
     ]
    }
   ],
   "source": [
    "\n",
    "listG = [1,2,5,10] # 18\n",
    "sum = 0  # acc\n",
    "\n",
    "for item in listG:\n",
    "    sum = sum + item\n",
    "print(sum)"
   ]
  },
  {
   "cell_type": "code",
   "execution_count": 55,
   "id": "a2d40fa3",
   "metadata": {},
   "outputs": [
    {
     "name": "stdout",
     "output_type": "stream",
     "text": [
      "20\n"
     ]
    }
   ],
   "source": [
    "\n",
    "listG = [1,2,5,10] # 18\n",
    "sum = 2  # acc\n",
    "\n",
    "for item in listG:\n",
    "    sum = sum + item\n",
    "print(sum)"
   ]
  },
  {
   "cell_type": "code",
   "execution_count": 56,
   "id": "a5dddac4",
   "metadata": {},
   "outputs": [
    {
     "name": "stdout",
     "output_type": "stream",
     "text": [
      "18\n"
     ]
    }
   ],
   "source": [
    "from functools import reduce\n",
    "\n",
    "print(reduce(lambda x,y:x+y,listG))"
   ]
  },
  {
   "cell_type": "code",
   "execution_count": 57,
   "id": "b79c45ec",
   "metadata": {},
   "outputs": [
    {
     "data": {
      "text/plain": [
       "[1, 2, 5, 10]"
      ]
     },
     "execution_count": 57,
     "metadata": {},
     "output_type": "execute_result"
    }
   ],
   "source": [
    "listG"
   ]
  },
  {
   "cell_type": "code",
   "execution_count": 58,
   "id": "5ad18da9",
   "metadata": {},
   "outputs": [
    {
     "name": "stdout",
     "output_type": "stream",
     "text": [
      "20\n"
     ]
    }
   ],
   "source": [
    "# print(reduce(lambda acc,nextval:acc+nextval,listG,5))\n",
    "#[1,2,5,10] \n",
    "#acc 2\n",
    "#itr 3 5 10 20\n",
    "print(reduce(lambda x,y:x+y,listG,2)) #[1,2,5,10]\n",
    "#                                     2 1 ==>2+1=3\n",
    "#                                       3 2 ==>3+2=5\n",
    "#                                         5 5 ==>5+5=10\n",
    "#                                           10 10 ==>10+10=20\n",
    "#                                              20"
   ]
  },
  {
   "cell_type": "code",
   "execution_count": 59,
   "id": "66880e06",
   "metadata": {},
   "outputs": [
    {
     "name": "stdout",
     "output_type": "stream",
     "text": [
      "15\n"
     ]
    }
   ],
   "source": [
    "# reduce\n",
    "def all_sum(x):\n",
    "    s = 0 \n",
    "    for i in x:\n",
    "        s = s + i\n",
    "    return s\n",
    "\n",
    "print(all_sum([1,2,3,4,5]))"
   ]
  },
  {
   "cell_type": "code",
   "execution_count": 60,
   "id": "6ba4a843",
   "metadata": {},
   "outputs": [
    {
     "name": "stdout",
     "output_type": "stream",
     "text": [
      "15\n"
     ]
    }
   ],
   "source": [
    "print(reduce(lambda x ,y: x+y ,[1,2,3,4,5]))"
   ]
  },
  {
   "cell_type": "code",
   "execution_count": 61,
   "id": "7d0b19fe",
   "metadata": {},
   "outputs": [
    {
     "name": "stdout",
     "output_type": "stream",
     "text": [
      "120\n"
     ]
    }
   ],
   "source": [
    "print(reduce(lambda x ,y: x*y ,[1,2,3,4,5]))"
   ]
  },
  {
   "cell_type": "code",
   "execution_count": null,
   "id": "6cc9a8f8",
   "metadata": {},
   "outputs": [],
   "source": []
  }
 ],
 "metadata": {
  "kernelspec": {
   "display_name": "Python 3 (ipykernel)",
   "language": "python",
   "name": "python3"
  },
  "language_info": {
   "codemirror_mode": {
    "name": "ipython",
    "version": 3
   },
   "file_extension": ".py",
   "mimetype": "text/x-python",
   "name": "python",
   "nbconvert_exporter": "python",
   "pygments_lexer": "ipython3",
   "version": "3.9.7"
  }
 },
 "nbformat": 4,
 "nbformat_minor": 5
}
