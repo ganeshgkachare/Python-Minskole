{
 "cells": [
  {
   "cell_type": "code",
   "execution_count": 2,
   "id": "f8256529",
   "metadata": {},
   "outputs": [],
   "source": [
    "# A∪B\n",
    "set_d = {1,2,3}\n",
    "set_e = {4,5,6}"
   ]
  },
  {
   "cell_type": "code",
   "execution_count": 3,
   "id": "17513e6a",
   "metadata": {},
   "outputs": [
    {
     "name": "stdout",
     "output_type": "stream",
     "text": [
      "{1, 2, 3, 4, 5, 6}\n"
     ]
    }
   ],
   "source": [
    "print(set_d.union(set_e)) # Union"
   ]
  },
  {
   "cell_type": "code",
   "execution_count": 6,
   "id": "2b85354d",
   "metadata": {},
   "outputs": [],
   "source": [
    "union=set_d.union(set_e)"
   ]
  },
  {
   "cell_type": "code",
   "execution_count": 7,
   "id": "b070b013",
   "metadata": {},
   "outputs": [
    {
     "data": {
      "text/plain": [
       "{1, 2, 3, 4, 5, 6}"
      ]
     },
     "execution_count": 7,
     "metadata": {},
     "output_type": "execute_result"
    }
   ],
   "source": [
    "union"
   ]
  },
  {
   "cell_type": "code",
   "execution_count": 4,
   "id": "358947f6",
   "metadata": {},
   "outputs": [
    {
     "data": {
      "text/plain": [
       "{1, 2, 3}"
      ]
     },
     "execution_count": 4,
     "metadata": {},
     "output_type": "execute_result"
    }
   ],
   "source": [
    "set_d"
   ]
  },
  {
   "cell_type": "code",
   "execution_count": 5,
   "id": "fbd290a6",
   "metadata": {},
   "outputs": [
    {
     "data": {
      "text/plain": [
       "{4, 5, 6}"
      ]
     },
     "execution_count": 5,
     "metadata": {},
     "output_type": "execute_result"
    }
   ],
   "source": [
    "set_e"
   ]
  },
  {
   "cell_type": "code",
   "execution_count": 8,
   "id": "25a2046b",
   "metadata": {},
   "outputs": [
    {
     "name": "stdout",
     "output_type": "stream",
     "text": [
      "{1, 2, 3, 4, 5, 6}\n"
     ]
    }
   ],
   "source": [
    "print(set_d.union(set_e)) # Union"
   ]
  },
  {
   "cell_type": "code",
   "execution_count": 9,
   "id": "4a62e80e",
   "metadata": {},
   "outputs": [
    {
     "name": "stdout",
     "output_type": "stream",
     "text": [
      "{1, 2, 3, 4, 5, 6}\n"
     ]
    }
   ],
   "source": [
    "print(set_d | set_e) # Union (|)"
   ]
  },
  {
   "cell_type": "code",
   "execution_count": 10,
   "id": "2cbadf2f",
   "metadata": {},
   "outputs": [],
   "source": [
    "# A∩B\n",
    "set_d = {1,2,3,4,5}\n",
    "set_e = {4,5,6,7,8}"
   ]
  },
  {
   "cell_type": "code",
   "execution_count": 11,
   "id": "2dfed042",
   "metadata": {},
   "outputs": [
    {
     "data": {
      "text/plain": [
       "{1, 2, 3, 4, 5}"
      ]
     },
     "execution_count": 11,
     "metadata": {},
     "output_type": "execute_result"
    }
   ],
   "source": [
    "set_d"
   ]
  },
  {
   "cell_type": "code",
   "execution_count": 12,
   "id": "9f5e727b",
   "metadata": {},
   "outputs": [
    {
     "data": {
      "text/plain": [
       "{4, 5, 6, 7, 8}"
      ]
     },
     "execution_count": 12,
     "metadata": {},
     "output_type": "execute_result"
    }
   ],
   "source": [
    "set_e"
   ]
  },
  {
   "cell_type": "code",
   "execution_count": null,
   "id": "234909f9",
   "metadata": {},
   "outputs": [],
   "source": []
  },
  {
   "cell_type": "code",
   "execution_count": 13,
   "id": "5e93b3d4",
   "metadata": {},
   "outputs": [
    {
     "name": "stdout",
     "output_type": "stream",
     "text": [
      "{4, 5}\n"
     ]
    }
   ],
   "source": [
    "print(set_d.intersection(set_e)) # Intersection"
   ]
  },
  {
   "cell_type": "code",
   "execution_count": 14,
   "id": "cafa5165",
   "metadata": {},
   "outputs": [
    {
     "data": {
      "text/plain": [
       "{4, 5}"
      ]
     },
     "execution_count": 14,
     "metadata": {},
     "output_type": "execute_result"
    }
   ],
   "source": [
    "set_d.intersection(set_e)"
   ]
  },
  {
   "cell_type": "code",
   "execution_count": 15,
   "id": "64c7e501",
   "metadata": {},
   "outputs": [
    {
     "name": "stdout",
     "output_type": "stream",
     "text": [
      "{4, 5}\n"
     ]
    }
   ],
   "source": [
    "print(set_d & set_e )# Intersection (&)"
   ]
  },
  {
   "cell_type": "code",
   "execution_count": 19,
   "id": "b4d32ffc",
   "metadata": {},
   "outputs": [
    {
     "name": "stdout",
     "output_type": "stream",
     "text": [
      "{1, 2, 3}\n"
     ]
    }
   ],
   "source": [
    "# A - B\n",
    "print(set_d - set_e) # Difference (-)"
   ]
  },
  {
   "cell_type": "code",
   "execution_count": 22,
   "id": "a20241fd",
   "metadata": {},
   "outputs": [
    {
     "data": {
      "text/plain": [
       "{1, 2, 3}"
      ]
     },
     "execution_count": 22,
     "metadata": {},
     "output_type": "execute_result"
    }
   ],
   "source": [
    "set_d.difference(set_e) # Difference"
   ]
  },
  {
   "cell_type": "code",
   "execution_count": 20,
   "id": "e3d4183c",
   "metadata": {},
   "outputs": [
    {
     "name": "stdout",
     "output_type": "stream",
     "text": [
      "{8, 6, 7}\n"
     ]
    }
   ],
   "source": [
    "print(set_e - set_d)"
   ]
  },
  {
   "cell_type": "code",
   "execution_count": 23,
   "id": "227adf68",
   "metadata": {},
   "outputs": [
    {
     "data": {
      "text/plain": [
       "{1, 2, 3, 4, 5}"
      ]
     },
     "execution_count": 23,
     "metadata": {},
     "output_type": "execute_result"
    }
   ],
   "source": [
    "set_d"
   ]
  },
  {
   "cell_type": "code",
   "execution_count": 24,
   "id": "12c53ab5",
   "metadata": {},
   "outputs": [
    {
     "data": {
      "text/plain": [
       "{4, 5, 6, 7, 8}"
      ]
     },
     "execution_count": 24,
     "metadata": {},
     "output_type": "execute_result"
    }
   ],
   "source": [
    "set_e"
   ]
  },
  {
   "cell_type": "code",
   "execution_count": null,
   "id": "ad9bbe9e",
   "metadata": {},
   "outputs": [],
   "source": []
  },
  {
   "cell_type": "code",
   "execution_count": 25,
   "id": "04425e6e",
   "metadata": {},
   "outputs": [
    {
     "name": "stdout",
     "output_type": "stream",
     "text": [
      "{1, 2, 3}\n"
     ]
    }
   ],
   "source": [
    "print(set_d.difference(set_e)) # Difference"
   ]
  },
  {
   "cell_type": "code",
   "execution_count": 26,
   "id": "cab1a452",
   "metadata": {},
   "outputs": [
    {
     "name": "stdout",
     "output_type": "stream",
     "text": [
      "{8, 6, 7}\n"
     ]
    }
   ],
   "source": [
    "print(set_e - set_d)"
   ]
  },
  {
   "cell_type": "code",
   "execution_count": 27,
   "id": "fe00e6f7",
   "metadata": {},
   "outputs": [
    {
     "data": {
      "text/plain": [
       "{1, 2, 3, 4, 5}"
      ]
     },
     "execution_count": 27,
     "metadata": {},
     "output_type": "execute_result"
    }
   ],
   "source": [
    "set_d"
   ]
  },
  {
   "cell_type": "code",
   "execution_count": 28,
   "id": "6766e01e",
   "metadata": {},
   "outputs": [
    {
     "data": {
      "text/plain": [
       "{4, 5, 6, 7, 8}"
      ]
     },
     "execution_count": 28,
     "metadata": {},
     "output_type": "execute_result"
    }
   ],
   "source": [
    "set_e"
   ]
  },
  {
   "cell_type": "code",
   "execution_count": 31,
   "id": "ac0c52cb",
   "metadata": {},
   "outputs": [
    {
     "name": "stdout",
     "output_type": "stream",
     "text": [
      "{1, 2, 3, 6, 7, 8}\n"
     ]
    }
   ],
   "source": [
    "# AΔB\n",
    "print(set_d ^ set_e) # Symmetric Difference (^)"
   ]
  },
  {
   "cell_type": "code",
   "execution_count": 32,
   "id": "89b19e4e",
   "metadata": {},
   "outputs": [
    {
     "name": "stdout",
     "output_type": "stream",
     "text": [
      "{1, 2, 3, 6, 7, 8}\n"
     ]
    }
   ],
   "source": [
    "print(set_e.symmetric_difference(set_d)) # Symmetric Difference"
   ]
  },
  {
   "cell_type": "code",
   "execution_count": 33,
   "id": "26655ef9",
   "metadata": {},
   "outputs": [],
   "source": [
    "# Subset: if each element of b is in a \n",
    "a = {1,2,3,4,5,6,8}\n",
    "b = {2,4,8}"
   ]
  },
  {
   "cell_type": "code",
   "execution_count": 34,
   "id": "4409b9ba",
   "metadata": {},
   "outputs": [
    {
     "name": "stdout",
     "output_type": "stream",
     "text": [
      "True\n"
     ]
    }
   ],
   "source": [
    "print(b.issubset(a))"
   ]
  },
  {
   "cell_type": "code",
   "execution_count": 35,
   "id": "4a28fed2",
   "metadata": {},
   "outputs": [
    {
     "name": "stdout",
     "output_type": "stream",
     "text": [
      "False\n"
     ]
    }
   ],
   "source": [
    "print(a.issubset(b))"
   ]
  },
  {
   "cell_type": "code",
   "execution_count": 36,
   "id": "288b8270",
   "metadata": {},
   "outputs": [],
   "source": [
    "# Subset: if each element of b is in a \n",
    "a = {1,2,3,4,5,6,8}\n",
    "b = {2,4,8,9}"
   ]
  },
  {
   "cell_type": "code",
   "execution_count": 37,
   "id": "d9a3a529",
   "metadata": {},
   "outputs": [
    {
     "name": "stdout",
     "output_type": "stream",
     "text": [
      "False\n"
     ]
    }
   ],
   "source": [
    "print(b.issubset(a))"
   ]
  },
  {
   "cell_type": "code",
   "execution_count": 38,
   "id": "3a155d4f",
   "metadata": {},
   "outputs": [
    {
     "name": "stdout",
     "output_type": "stream",
     "text": [
      "False\n"
     ]
    }
   ],
   "source": [
    "print(a.issubset(b))"
   ]
  },
  {
   "cell_type": "code",
   "execution_count": 39,
   "id": "6a76417c",
   "metadata": {},
   "outputs": [],
   "source": [
    "a = {1,2,3,4,5,6,8}\n",
    "b = {2,4,8}"
   ]
  },
  {
   "cell_type": "code",
   "execution_count": 40,
   "id": "a78ddab7",
   "metadata": {},
   "outputs": [
    {
     "name": "stdout",
     "output_type": "stream",
     "text": [
      "True\n"
     ]
    }
   ],
   "source": [
    "# Superset: if each element in a is in b\n",
    "print(a.issuperset(b)) #a >= b"
   ]
  },
  {
   "cell_type": "code",
   "execution_count": 41,
   "id": "bad1363d",
   "metadata": {},
   "outputs": [
    {
     "name": "stdout",
     "output_type": "stream",
     "text": [
      "False\n"
     ]
    }
   ],
   "source": [
    "print(b.issuperset(a))"
   ]
  },
  {
   "cell_type": "code",
   "execution_count": 42,
   "id": "64304962",
   "metadata": {},
   "outputs": [
    {
     "data": {
      "text/plain": [
       "True"
      ]
     },
     "execution_count": 42,
     "metadata": {},
     "output_type": "execute_result"
    }
   ],
   "source": [
    "a >= b # Superset"
   ]
  },
  {
   "cell_type": "code",
   "execution_count": 45,
   "id": "349a8cce",
   "metadata": {},
   "outputs": [],
   "source": [
    "a = [1,2,3]\n",
    "b = [3,2,1]"
   ]
  },
  {
   "cell_type": "code",
   "execution_count": 46,
   "id": "ebf03d67",
   "metadata": {},
   "outputs": [
    {
     "data": {
      "text/plain": [
       "False"
      ]
     },
     "execution_count": 46,
     "metadata": {},
     "output_type": "execute_result"
    }
   ],
   "source": [
    "a == b"
   ]
  },
  {
   "cell_type": "code",
   "execution_count": 47,
   "id": "5a7b9eec",
   "metadata": {},
   "outputs": [],
   "source": [
    "a = {1,2,3}\n",
    "b = {3,2,1}"
   ]
  },
  {
   "cell_type": "code",
   "execution_count": 48,
   "id": "e4a5e734",
   "metadata": {},
   "outputs": [
    {
     "data": {
      "text/plain": [
       "True"
      ]
     },
     "execution_count": 48,
     "metadata": {},
     "output_type": "execute_result"
    }
   ],
   "source": [
    "a == b"
   ]
  },
  {
   "cell_type": "code",
   "execution_count": 49,
   "id": "c265ee19",
   "metadata": {},
   "outputs": [
    {
     "data": {
      "text/plain": [
       "False"
      ]
     },
     "execution_count": 49,
     "metadata": {},
     "output_type": "execute_result"
    }
   ],
   "source": [
    "a.isdisjoint(b)"
   ]
  },
  {
   "cell_type": "code",
   "execution_count": 51,
   "id": "36dd1bcb",
   "metadata": {},
   "outputs": [],
   "source": [
    "a = {1,2,3}\n",
    "b = {4,5,6}"
   ]
  },
  {
   "cell_type": "code",
   "execution_count": 53,
   "id": "948fcb6c",
   "metadata": {},
   "outputs": [
    {
     "data": {
      "text/plain": [
       "True"
      ]
     },
     "execution_count": 53,
     "metadata": {},
     "output_type": "execute_result"
    }
   ],
   "source": [
    "a.isdisjoint(b)"
   ]
  },
  {
   "cell_type": "code",
   "execution_count": 54,
   "id": "bac4aa6a",
   "metadata": {},
   "outputs": [
    {
     "data": {
      "text/plain": [
       "False"
      ]
     },
     "execution_count": 54,
     "metadata": {},
     "output_type": "execute_result"
    }
   ],
   "source": [
    "a = {1,2,3,4}\n",
    "b = {3,2,1}\n",
    "a == b"
   ]
  },
  {
   "cell_type": "code",
   "execution_count": 56,
   "id": "3ec13aa2",
   "metadata": {},
   "outputs": [
    {
     "data": {
      "text/plain": [
       "True"
      ]
     },
     "execution_count": 56,
     "metadata": {},
     "output_type": "execute_result"
    }
   ],
   "source": [
    "a = {1,2,3}\n",
    "b = {3,2,1}\n",
    "a == b"
   ]
  },
  {
   "cell_type": "code",
   "execution_count": 57,
   "id": "affcb622",
   "metadata": {},
   "outputs": [
    {
     "data": {
      "text/plain": [
       "False"
      ]
     },
     "execution_count": 57,
     "metadata": {},
     "output_type": "execute_result"
    }
   ],
   "source": [
    "a = {1,2,3,4}\n",
    "b = {3,2,1}\n",
    "a == b"
   ]
  },
  {
   "cell_type": "code",
   "execution_count": 59,
   "id": "e06928a9",
   "metadata": {},
   "outputs": [
    {
     "data": {
      "text/plain": [
       "False"
      ]
     },
     "execution_count": 59,
     "metadata": {},
     "output_type": "execute_result"
    }
   ],
   "source": [
    "a = {1,2,\"3\"}\n",
    "b = {3,2,1}\n",
    "a == b"
   ]
  },
  {
   "cell_type": "code",
   "execution_count": null,
   "id": "23f7c47b",
   "metadata": {},
   "outputs": [],
   "source": []
  },
  {
   "cell_type": "code",
   "execution_count": null,
   "id": "32a498b6",
   "metadata": {},
   "outputs": [],
   "source": []
  }
 ],
 "metadata": {
  "kernelspec": {
   "display_name": "Python 3 (ipykernel)",
   "language": "python",
   "name": "python3"
  },
  "language_info": {
   "codemirror_mode": {
    "name": "ipython",
    "version": 3
   },
   "file_extension": ".py",
   "mimetype": "text/x-python",
   "name": "python",
   "nbconvert_exporter": "python",
   "pygments_lexer": "ipython3",
   "version": "3.9.7"
  }
 },
 "nbformat": 4,
 "nbformat_minor": 5
}
