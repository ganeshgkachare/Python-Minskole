{
 "cells": [
  {
   "cell_type": "markdown",
   "id": "1feb4394",
   "metadata": {},
   "source": [
    "# Set "
   ]
  },
  {
   "cell_type": "code",
   "execution_count": null,
   "id": "e4e2f9ac",
   "metadata": {},
   "outputs": [],
   "source": [
    "# no duplicate elements\n",
    "# set is an unordered collection of unique elements\n",
    "# we can not call elements of  a set by calling the index position"
   ]
  },
  {
   "cell_type": "markdown",
   "id": "238e2926",
   "metadata": {},
   "source": [
    "## Method"
   ]
  },
  {
   "cell_type": "code",
   "execution_count": null,
   "id": "48dcb46c",
   "metadata": {},
   "outputs": [],
   "source": []
  },
  {
   "cell_type": "code",
   "execution_count": null,
   "id": "c31379f1",
   "metadata": {},
   "outputs": [],
   "source": []
  },
  {
   "cell_type": "code",
   "execution_count": 69,
   "id": "5d8747d0",
   "metadata": {},
   "outputs": [
    {
     "name": "stdout",
     "output_type": "stream",
     "text": [
      "{11, 44, 77, 22}\n",
      "--------\n",
      "set()\n"
     ]
    }
   ],
   "source": [
    "b = {11,22,44,77}\n",
    "print(b)\n",
    "print(\"--------\")\n",
    "b.clear()\n",
    "print(b)\n"
   ]
  },
  {
   "cell_type": "code",
   "execution_count": 70,
   "id": "8e292d4a",
   "metadata": {},
   "outputs": [
    {
     "name": "stdout",
     "output_type": "stream",
     "text": [
      "{9, 10, 4}\n"
     ]
    }
   ],
   "source": [
    "set_a = {9,10}\n",
    "set_a.add(4) #Adding an element\n",
    "print(set_a)"
   ]
  },
  {
   "cell_type": "code",
   "execution_count": 71,
   "id": "8b63bb69",
   "metadata": {},
   "outputs": [
    {
     "data": {
      "text/plain": [
       "{4, 9, 10}"
      ]
     },
     "execution_count": 71,
     "metadata": {},
     "output_type": "execute_result"
    }
   ],
   "source": [
    "set_a"
   ]
  },
  {
   "cell_type": "code",
   "execution_count": 73,
   "id": "09a52534",
   "metadata": {},
   "outputs": [
    {
     "data": {
      "text/plain": [
       "{4, 9, 10}"
      ]
     },
     "execution_count": 73,
     "metadata": {},
     "output_type": "execute_result"
    }
   ],
   "source": [
    "{4, 9, 10, 4}"
   ]
  },
  {
   "cell_type": "code",
   "execution_count": 72,
   "id": "3e2ad0e9",
   "metadata": {},
   "outputs": [],
   "source": [
    "set_a.add(4)"
   ]
  },
  {
   "cell_type": "code",
   "execution_count": 74,
   "id": "d90a6d2a",
   "metadata": {},
   "outputs": [],
   "source": [
    "set_c = {1,2,3}"
   ]
  },
  {
   "cell_type": "code",
   "execution_count": 75,
   "id": "ad41de28",
   "metadata": {},
   "outputs": [
    {
     "data": {
      "text/plain": [
       "{1, 2, 3}"
      ]
     },
     "execution_count": 75,
     "metadata": {},
     "output_type": "execute_result"
    }
   ],
   "source": [
    "set_c"
   ]
  },
  {
   "cell_type": "code",
   "execution_count": 76,
   "id": "c958046d",
   "metadata": {},
   "outputs": [
    {
     "data": {
      "text/plain": [
       "{4, 9, 10}"
      ]
     },
     "execution_count": 76,
     "metadata": {},
     "output_type": "execute_result"
    }
   ],
   "source": [
    "set_a"
   ]
  },
  {
   "cell_type": "code",
   "execution_count": null,
   "id": "287e630a",
   "metadata": {},
   "outputs": [],
   "source": []
  },
  {
   "cell_type": "code",
   "execution_count": 77,
   "id": "6da38fde",
   "metadata": {},
   "outputs": [
    {
     "data": {
      "text/plain": [
       "{1, 2, 3, 4, 9, 10}"
      ]
     },
     "execution_count": 77,
     "metadata": {},
     "output_type": "execute_result"
    }
   ],
   "source": [
    "set_c.update(set_a)\n",
    "set_c"
   ]
  },
  {
   "cell_type": "code",
   "execution_count": 78,
   "id": "9d9efef6",
   "metadata": {},
   "outputs": [
    {
     "data": {
      "text/plain": [
       "{1, 2, 3, 4, 9, 10}"
      ]
     },
     "execution_count": 78,
     "metadata": {},
     "output_type": "execute_result"
    }
   ],
   "source": [
    "set_c"
   ]
  },
  {
   "cell_type": "code",
   "execution_count": 79,
   "id": "cab17044",
   "metadata": {},
   "outputs": [
    {
     "ename": "TypeError",
     "evalue": "'int' object is not iterable",
     "output_type": "error",
     "traceback": [
      "\u001b[1;31m---------------------------------------------------------------------------\u001b[0m",
      "\u001b[1;31mTypeError\u001b[0m                                 Traceback (most recent call last)",
      "\u001b[1;32m~\\AppData\\Local\\Temp/ipykernel_23112/2226586680.py\u001b[0m in \u001b[0;36m<module>\u001b[1;34m\u001b[0m\n\u001b[1;32m----> 1\u001b[1;33m \u001b[0mset_c\u001b[0m\u001b[1;33m.\u001b[0m\u001b[0mupdate\u001b[0m\u001b[1;33m(\u001b[0m\u001b[1;36m15\u001b[0m\u001b[1;33m)\u001b[0m\u001b[1;33m\u001b[0m\u001b[1;33m\u001b[0m\u001b[0m\n\u001b[0m",
      "\u001b[1;31mTypeError\u001b[0m: 'int' object is not iterable"
     ]
    }
   ],
   "source": [
    "set_c.update(15)"
   ]
  },
  {
   "cell_type": "code",
   "execution_count": 80,
   "id": "3189981f",
   "metadata": {},
   "outputs": [],
   "source": [
    "set_c.update([15])"
   ]
  },
  {
   "cell_type": "code",
   "execution_count": 81,
   "id": "8e17d24f",
   "metadata": {},
   "outputs": [
    {
     "data": {
      "text/plain": [
       "{1, 2, 3, 4, 9, 10, 15}"
      ]
     },
     "execution_count": 81,
     "metadata": {},
     "output_type": "execute_result"
    }
   ],
   "source": [
    "set_c"
   ]
  },
  {
   "cell_type": "code",
   "execution_count": null,
   "id": "eb709b1e",
   "metadata": {},
   "outputs": [],
   "source": []
  },
  {
   "cell_type": "code",
   "execution_count": 82,
   "id": "3ba0ea1a",
   "metadata": {},
   "outputs": [
    {
     "name": "stdout",
     "output_type": "stream",
     "text": [
      "{1, 2, 3, 4, 5, 9, 10, 15}\n"
     ]
    }
   ],
   "source": [
    "set_c.update({5})\n",
    "print(set_c)"
   ]
  },
  {
   "cell_type": "code",
   "execution_count": 83,
   "id": "7fa7be4d",
   "metadata": {},
   "outputs": [
    {
     "name": "stdout",
     "output_type": "stream",
     "text": [
      "{1, 2, 3, 4, 5, 99, 5.88, 9, 10, 15}\n"
     ]
    }
   ],
   "source": [
    "set_c.update({5.88,99})\n",
    "print(set_c)"
   ]
  },
  {
   "cell_type": "code",
   "execution_count": 86,
   "id": "6638289c",
   "metadata": {},
   "outputs": [
    {
     "name": "stdout",
     "output_type": "stream",
     "text": [
      "{10, 4}\n",
      "{10, 4}\n"
     ]
    }
   ],
   "source": [
    "print(set_a)\n",
    "set_a.discard(9) # Remove an element\n",
    "print(set_a)"
   ]
  },
  {
   "cell_type": "code",
   "execution_count": 87,
   "id": "cc306fef",
   "metadata": {},
   "outputs": [
    {
     "data": {
      "text/plain": [
       "{4, 10}"
      ]
     },
     "execution_count": 87,
     "metadata": {},
     "output_type": "execute_result"
    }
   ],
   "source": [
    "set_a"
   ]
  },
  {
   "cell_type": "code",
   "execution_count": 88,
   "id": "ce4b6ad2",
   "metadata": {},
   "outputs": [
    {
     "name": "stdout",
     "output_type": "stream",
     "text": [
      "{4}\n"
     ]
    }
   ],
   "source": [
    "set_a.remove(10)\n",
    "print(set_a)"
   ]
  },
  {
   "cell_type": "code",
   "execution_count": 89,
   "id": "c7db5ff0",
   "metadata": {},
   "outputs": [
    {
     "data": {
      "text/plain": [
       "{4}"
      ]
     },
     "execution_count": 89,
     "metadata": {},
     "output_type": "execute_result"
    }
   ],
   "source": [
    "set_a"
   ]
  },
  {
   "cell_type": "code",
   "execution_count": 91,
   "id": "8a499e5f",
   "metadata": {},
   "outputs": [
    {
     "name": "stdout",
     "output_type": "stream",
     "text": [
      "True\n"
     ]
    }
   ],
   "source": [
    "print(1 not in set_a)"
   ]
  },
  {
   "cell_type": "code",
   "execution_count": 92,
   "id": "bd3b1e57",
   "metadata": {},
   "outputs": [
    {
     "name": "stdout",
     "output_type": "stream",
     "text": [
      "False\n"
     ]
    }
   ],
   "source": [
    "print(3 in set_a)"
   ]
  },
  {
   "cell_type": "code",
   "execution_count": 93,
   "id": "14af3306",
   "metadata": {},
   "outputs": [
    {
     "data": {
      "text/plain": [
       "{4}"
      ]
     },
     "execution_count": 93,
     "metadata": {},
     "output_type": "execute_result"
    }
   ],
   "source": [
    "set_a"
   ]
  },
  {
   "cell_type": "code",
   "execution_count": 94,
   "id": "da7357fb",
   "metadata": {},
   "outputs": [
    {
     "name": "stdout",
     "output_type": "stream",
     "text": [
      "4\n",
      "set()\n"
     ]
    }
   ],
   "source": [
    "print(set_a.pop())\n",
    "print(set_a)"
   ]
  },
  {
   "cell_type": "code",
   "execution_count": 95,
   "id": "9cb6eb53",
   "metadata": {},
   "outputs": [
    {
     "data": {
      "text/plain": [
       "set()"
      ]
     },
     "execution_count": 95,
     "metadata": {},
     "output_type": "execute_result"
    }
   ],
   "source": [
    "set_a"
   ]
  },
  {
   "cell_type": "code",
   "execution_count": 96,
   "id": "68819fd5",
   "metadata": {},
   "outputs": [
    {
     "ename": "KeyError",
     "evalue": "'pop from an empty set'",
     "output_type": "error",
     "traceback": [
      "\u001b[1;31m---------------------------------------------------------------------------\u001b[0m",
      "\u001b[1;31mKeyError\u001b[0m                                  Traceback (most recent call last)",
      "\u001b[1;32m~\\AppData\\Local\\Temp/ipykernel_23112/665172341.py\u001b[0m in \u001b[0;36m<module>\u001b[1;34m\u001b[0m\n\u001b[1;32m----> 1\u001b[1;33m \u001b[0mprint\u001b[0m\u001b[1;33m(\u001b[0m\u001b[0mset_a\u001b[0m\u001b[1;33m.\u001b[0m\u001b[0mpop\u001b[0m\u001b[1;33m(\u001b[0m\u001b[1;33m)\u001b[0m\u001b[1;33m)\u001b[0m\u001b[1;33m\u001b[0m\u001b[1;33m\u001b[0m\u001b[0m\n\u001b[0m\u001b[0;32m      2\u001b[0m \u001b[0mprint\u001b[0m\u001b[1;33m(\u001b[0m\u001b[0mset_a\u001b[0m\u001b[1;33m)\u001b[0m\u001b[1;33m\u001b[0m\u001b[1;33m\u001b[0m\u001b[0m\n",
      "\u001b[1;31mKeyError\u001b[0m: 'pop from an empty set'"
     ]
    }
   ],
   "source": [
    "print(set_a.pop())\n",
    "print(set_a)"
   ]
  },
  {
   "cell_type": "code",
   "execution_count": 97,
   "id": "e928002c",
   "metadata": {},
   "outputs": [],
   "source": [
    "set_b = {\"hola\",7,6,5,4,3, True, False}"
   ]
  },
  {
   "cell_type": "code",
   "execution_count": 98,
   "id": "acc80230",
   "metadata": {},
   "outputs": [
    {
     "name": "stdout",
     "output_type": "stream",
     "text": [
      "False\n"
     ]
    }
   ],
   "source": [
    "print(set_b.pop())"
   ]
  },
  {
   "cell_type": "code",
   "execution_count": 103,
   "id": "ea51a1e3",
   "metadata": {},
   "outputs": [
    {
     "data": {
      "text/plain": [
       "{4, 5, 6, 7, 'hola'}"
      ]
     },
     "execution_count": 103,
     "metadata": {},
     "output_type": "execute_result"
    }
   ],
   "source": [
    "set_b"
   ]
  },
  {
   "cell_type": "code",
   "execution_count": 105,
   "id": "dbe3af1d",
   "metadata": {},
   "outputs": [
    {
     "name": "stdout",
     "output_type": "stream",
     "text": [
      "5\n"
     ]
    }
   ],
   "source": [
    "print(set_b.pop())"
   ]
  },
  {
   "cell_type": "code",
   "execution_count": 106,
   "id": "f363292f",
   "metadata": {},
   "outputs": [
    {
     "name": "stdout",
     "output_type": "stream",
     "text": [
      "{6, 7, 'hola'}\n"
     ]
    }
   ],
   "source": [
    "print(set_b)"
   ]
  },
  {
   "cell_type": "code",
   "execution_count": 107,
   "id": "3eec2a11",
   "metadata": {},
   "outputs": [
    {
     "name": "stdout",
     "output_type": "stream",
     "text": [
      "6\n"
     ]
    }
   ],
   "source": [
    "print(set_b.pop())"
   ]
  },
  {
   "cell_type": "code",
   "execution_count": 108,
   "id": "dd069c6e",
   "metadata": {},
   "outputs": [
    {
     "name": "stdout",
     "output_type": "stream",
     "text": [
      "7\n"
     ]
    }
   ],
   "source": [
    "print(set_b.pop())"
   ]
  },
  {
   "cell_type": "code",
   "execution_count": null,
   "id": "29029c6e",
   "metadata": {},
   "outputs": [],
   "source": []
  },
  {
   "cell_type": "code",
   "execution_count": null,
   "id": "9cdb5986",
   "metadata": {},
   "outputs": [],
   "source": [
    "print(set_b.pop())\n",
    "print(set_b)"
   ]
  }
 ],
 "metadata": {
  "kernelspec": {
   "display_name": "Python 3 (ipykernel)",
   "language": "python",
   "name": "python3"
  },
  "language_info": {
   "codemirror_mode": {
    "name": "ipython",
    "version": 3
   },
   "file_extension": ".py",
   "mimetype": "text/x-python",
   "name": "python",
   "nbconvert_exporter": "python",
   "pygments_lexer": "ipython3",
   "version": "3.9.7"
  }
 },
 "nbformat": 4,
 "nbformat_minor": 5
}
