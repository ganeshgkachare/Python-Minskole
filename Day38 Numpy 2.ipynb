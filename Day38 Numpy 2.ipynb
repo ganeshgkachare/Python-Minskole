{
 "cells": [
  {
   "cell_type": "code",
   "execution_count": 1,
   "id": "3709c71c",
   "metadata": {},
   "outputs": [],
   "source": [
    "import numpy as np  #import numpy"
   ]
  },
  {
   "cell_type": "code",
   "execution_count": null,
   "id": "f6300f61",
   "metadata": {},
   "outputs": [],
   "source": [
    "# we cannot apply mathematical operators directly on lists\n",
    "# we can apply mathematical operators directly on Array\n",
    "\n",
    "# List store elements of different data type\n",
    "# Array store elements of same data type (homogeneous)\n",
    "\n",
    "# NumPy operations are faster than standard Python lists."
   ]
  },
  {
   "cell_type": "code",
   "execution_count": 2,
   "id": "9161e50f",
   "metadata": {},
   "outputs": [
    {
     "data": {
      "text/plain": [
       "[2, 3, 'one', 4.5]"
      ]
     },
     "execution_count": 2,
     "metadata": {},
     "output_type": "execute_result"
    }
   ],
   "source": [
    "[2,3,\"one\",4.5]"
   ]
  },
  {
   "cell_type": "code",
   "execution_count": 3,
   "id": "c34aade1",
   "metadata": {},
   "outputs": [
    {
     "data": {
      "text/plain": [
       "array(['2', '3', 'one', '4.5'], dtype='<U32')"
      ]
     },
     "execution_count": 3,
     "metadata": {},
     "output_type": "execute_result"
    }
   ],
   "source": [
    "np.array([2,3,\"one\",4.5])"
   ]
  },
  {
   "cell_type": "code",
   "execution_count": 4,
   "id": "151cbd8c",
   "metadata": {},
   "outputs": [],
   "source": [
    "L=[1, 2, 3, 4, 5, \"6\", 7, 8, 9, 10]"
   ]
  },
  {
   "cell_type": "code",
   "execution_count": 5,
   "id": "bae7c882",
   "metadata": {},
   "outputs": [
    {
     "data": {
      "text/plain": [
       "[1, 2, 3, 4, 5, '6', 7, 8, 9, 10]"
      ]
     },
     "execution_count": 5,
     "metadata": {},
     "output_type": "execute_result"
    }
   ],
   "source": [
    "L"
   ]
  },
  {
   "cell_type": "code",
   "execution_count": 6,
   "id": "7bddca78",
   "metadata": {},
   "outputs": [
    {
     "data": {
      "text/plain": [
       "array(['1', '2', '3', '4', '5', '6', '7', '8', '9', '10'], dtype='<U11')"
      ]
     },
     "execution_count": 6,
     "metadata": {},
     "output_type": "execute_result"
    }
   ],
   "source": [
    "np.array(L)"
   ]
  },
  {
   "cell_type": "code",
   "execution_count": null,
   "id": "ea1a4571",
   "metadata": {},
   "outputs": [],
   "source": [
    "# dtype"
   ]
  },
  {
   "cell_type": "code",
   "execution_count": 7,
   "id": "bada4480",
   "metadata": {},
   "outputs": [
    {
     "data": {
      "text/plain": [
       "array([ 1,  2,  3,  4,  5,  6,  7,  8,  9, 10])"
      ]
     },
     "execution_count": 7,
     "metadata": {},
     "output_type": "execute_result"
    }
   ],
   "source": [
    "np.array(L,dtype=int)"
   ]
  },
  {
   "cell_type": "code",
   "execution_count": 8,
   "id": "e54cd157",
   "metadata": {},
   "outputs": [
    {
     "data": {
      "text/plain": [
       "array([ 1.,  2.,  3.,  4.,  5.,  6.,  7.,  8.,  9., 10.])"
      ]
     },
     "execution_count": 8,
     "metadata": {},
     "output_type": "execute_result"
    }
   ],
   "source": [
    "np.array(L,dtype=float)"
   ]
  },
  {
   "cell_type": "code",
   "execution_count": 9,
   "id": "fb47f090",
   "metadata": {},
   "outputs": [
    {
     "data": {
      "text/plain": [
       "array(['1', '2', '3', '4', '5', '6', '7', '8', '9', '10'], dtype='<U2')"
      ]
     },
     "execution_count": 9,
     "metadata": {},
     "output_type": "execute_result"
    }
   ],
   "source": [
    "np.array(L,dtype=str)"
   ]
  },
  {
   "cell_type": "code",
   "execution_count": null,
   "id": "4d00be49",
   "metadata": {},
   "outputs": [],
   "source": [
    "# Index / Mutability"
   ]
  },
  {
   "cell_type": "code",
   "execution_count": null,
   "id": "cd29cca9",
   "metadata": {},
   "outputs": [],
   "source": [
    "# Indexing/Slicing Homework"
   ]
  },
  {
   "cell_type": "code",
   "execution_count": 10,
   "id": "36322d01",
   "metadata": {},
   "outputs": [],
   "source": [
    "a=np.array([1, 2, 3, 4, 5, 6, 7, 8, 9, 10])"
   ]
  },
  {
   "cell_type": "code",
   "execution_count": 11,
   "id": "e9276fdb",
   "metadata": {},
   "outputs": [],
   "source": [
    "#       0   1   2  3    4   5   6   7   8   9    ==> Positive Index\n",
    "#     [ 1   2   3   4   5   6   7   8   9   10]  ==> Left to right\n",
    "#     -10  -9  -8  -7  -6  -5  -4  -3  -2   -1   ==> Negative Index"
   ]
  },
  {
   "cell_type": "code",
   "execution_count": 12,
   "id": "43e17ada",
   "metadata": {},
   "outputs": [],
   "source": [
    "# variable  [start :       end :              step]\n",
    "#           0         len(variable)          1      Default value"
   ]
  },
  {
   "cell_type": "code",
   "execution_count": 13,
   "id": "b70ab3bc",
   "metadata": {},
   "outputs": [
    {
     "data": {
      "text/plain": [
       "1"
      ]
     },
     "execution_count": 13,
     "metadata": {},
     "output_type": "execute_result"
    }
   ],
   "source": [
    "a[0] #first element at index position 0 "
   ]
  },
  {
   "cell_type": "code",
   "execution_count": 14,
   "id": "f38d3b49",
   "metadata": {},
   "outputs": [
    {
     "data": {
      "text/plain": [
       "2"
      ]
     },
     "execution_count": 14,
     "metadata": {},
     "output_type": "execute_result"
    }
   ],
   "source": [
    "a[1] #second element (index position 1)"
   ]
  },
  {
   "cell_type": "code",
   "execution_count": 15,
   "id": "9c9ece7f",
   "metadata": {},
   "outputs": [
    {
     "data": {
      "text/plain": [
       "10"
      ]
     },
     "execution_count": 15,
     "metadata": {},
     "output_type": "execute_result"
    }
   ],
   "source": [
    "a[-1] #last element"
   ]
  },
  {
   "cell_type": "code",
   "execution_count": 16,
   "id": "fe111789",
   "metadata": {},
   "outputs": [
    {
     "data": {
      "text/plain": [
       "array([3, 4, 5, 6])"
      ]
     },
     "execution_count": 16,
     "metadata": {},
     "output_type": "execute_result"
    }
   ],
   "source": [
    "a[2:6] #slicing from index position 2 (incl.) till position 6 (excl.) "
   ]
  },
  {
   "cell_type": "code",
   "execution_count": null,
   "id": "3f92d7a5",
   "metadata": {},
   "outputs": [],
   "source": [
    "#       0   1   2   3    4   5   6   7   8   9    ==> Positive Index\n",
    "#     [ 1   2   3   4   5   6   7   8   9   10]  ==> Left to right\n",
    "#     -10  -9  -8  -7  -6  -5  -4  -3  -2   -1   ==> Negative Index"
   ]
  },
  {
   "cell_type": "code",
   "execution_count": null,
   "id": "4c315d2c",
   "metadata": {},
   "outputs": [],
   "source": []
  },
  {
   "cell_type": "code",
   "execution_count": 17,
   "id": "4b039c69",
   "metadata": {},
   "outputs": [
    {
     "data": {
      "text/plain": [
       "array([ 1,  2,  3,  4,  5,  6,  7,  8,  9, 10])"
      ]
     },
     "execution_count": 17,
     "metadata": {},
     "output_type": "execute_result"
    }
   ],
   "source": [
    "a[:] #all elements"
   ]
  },
  {
   "cell_type": "code",
   "execution_count": 18,
   "id": "12eb4ee3",
   "metadata": {},
   "outputs": [
    {
     "data": {
      "text/plain": [
       "array([1, 2, 3, 4, 5])"
      ]
     },
     "execution_count": 18,
     "metadata": {},
     "output_type": "execute_result"
    }
   ],
   "source": [
    "a[:5] #all elements until index position 5 (excl.)"
   ]
  },
  {
   "cell_type": "code",
   "execution_count": 19,
   "id": "fd7741e6",
   "metadata": {},
   "outputs": [
    {
     "data": {
      "text/plain": [
       "array([ 7,  8,  9, 10])"
      ]
     },
     "execution_count": 19,
     "metadata": {},
     "output_type": "execute_result"
    }
   ],
   "source": [
    "a[6:] #all elements from index position 6 (incl.) till the last element (incl.)"
   ]
  },
  {
   "cell_type": "code",
   "execution_count": 20,
   "id": "d95095b4",
   "metadata": {},
   "outputs": [
    {
     "data": {
      "text/plain": [
       "array([1, 3, 5, 7, 9])"
      ]
     },
     "execution_count": 20,
     "metadata": {},
     "output_type": "execute_result"
    }
   ],
   "source": [
    "a[::2] #every second element, starting from first element"
   ]
  },
  {
   "cell_type": "code",
   "execution_count": 21,
   "id": "850b19ae",
   "metadata": {},
   "outputs": [
    {
     "data": {
      "text/plain": [
       "array([ 1,  4,  7, 10])"
      ]
     },
     "execution_count": 21,
     "metadata": {},
     "output_type": "execute_result"
    }
   ],
   "source": [
    "a[::3] #every third element, starting from first element"
   ]
  },
  {
   "cell_type": "code",
   "execution_count": 22,
   "id": "d6347166",
   "metadata": {},
   "outputs": [
    {
     "data": {
      "text/plain": [
       "array([3, 6, 9])"
      ]
     },
     "execution_count": 22,
     "metadata": {},
     "output_type": "execute_result"
    }
   ],
   "source": [
    "a[2::3] #every third element, starting from third element (index position 2)"
   ]
  },
  {
   "cell_type": "code",
   "execution_count": 23,
   "id": "f4f31361",
   "metadata": {},
   "outputs": [
    {
     "data": {
      "text/plain": [
       "1"
      ]
     },
     "execution_count": 23,
     "metadata": {},
     "output_type": "execute_result"
    }
   ],
   "source": [
    "a[0]"
   ]
  },
  {
   "cell_type": "code",
   "execution_count": 24,
   "id": "1d263d3d",
   "metadata": {},
   "outputs": [
    {
     "data": {
      "text/plain": [
       "array([ 1,  2,  3,  4,  5,  6,  7,  8,  9, 10])"
      ]
     },
     "execution_count": 24,
     "metadata": {},
     "output_type": "execute_result"
    }
   ],
   "source": [
    "a"
   ]
  },
  {
   "cell_type": "code",
   "execution_count": 25,
   "id": "015a6e21",
   "metadata": {},
   "outputs": [],
   "source": [
    "a[0] = 100 #ndarrays are mutable, changing first element to 100 "
   ]
  },
  {
   "cell_type": "code",
   "execution_count": 26,
   "id": "d987e01c",
   "metadata": {},
   "outputs": [
    {
     "data": {
      "text/plain": [
       "array([100,   2,   3,   4,   5,   6,   7,   8,   9,  10])"
      ]
     },
     "execution_count": 26,
     "metadata": {},
     "output_type": "execute_result"
    }
   ],
   "source": [
    "a"
   ]
  },
  {
   "cell_type": "code",
   "execution_count": 27,
   "id": "c4c58f20",
   "metadata": {},
   "outputs": [],
   "source": [
    "a[-1] = 101 #changing last element to 101"
   ]
  },
  {
   "cell_type": "code",
   "execution_count": 28,
   "id": "78c9ec06",
   "metadata": {},
   "outputs": [
    {
     "data": {
      "text/plain": [
       "array([100,   2,   3,   4,   5,   6,   7,   8,   9, 101])"
      ]
     },
     "execution_count": 28,
     "metadata": {},
     "output_type": "execute_result"
    }
   ],
   "source": [
    "a"
   ]
  },
  {
   "cell_type": "code",
   "execution_count": 29,
   "id": "86f60df8",
   "metadata": {},
   "outputs": [
    {
     "data": {
      "text/plain": [
       "array([101,   9,   8,   7,   6,   5,   4,   3,   2, 100])"
      ]
     },
     "execution_count": 29,
     "metadata": {},
     "output_type": "execute_result"
    }
   ],
   "source": [
    "a[::-1]  #Reverse"
   ]
  },
  {
   "cell_type": "code",
   "execution_count": 31,
   "id": "eb34d8db",
   "metadata": {},
   "outputs": [
    {
     "data": {
      "text/plain": [
       "array([8, 7, 6])"
      ]
     },
     "execution_count": 31,
     "metadata": {},
     "output_type": "execute_result"
    }
   ],
   "source": [
    "# 8,7,6  \n",
    "a[-3:-6:-1]"
   ]
  },
  {
   "cell_type": "code",
   "execution_count": 32,
   "id": "5d258a8d",
   "metadata": {},
   "outputs": [
    {
     "data": {
      "text/plain": [
       "array([8, 7, 6])"
      ]
     },
     "execution_count": 32,
     "metadata": {},
     "output_type": "execute_result"
    }
   ],
   "source": [
    "a[7:4:-1]"
   ]
  },
  {
   "cell_type": "code",
   "execution_count": 30,
   "id": "17ecf90c",
   "metadata": {},
   "outputs": [
    {
     "data": {
      "text/plain": [
       "array([100,   2,   3,   4,   5,   6,   7,   8,   9, 101])"
      ]
     },
     "execution_count": 30,
     "metadata": {},
     "output_type": "execute_result"
    }
   ],
   "source": [
    "a"
   ]
  },
  {
   "cell_type": "code",
   "execution_count": 34,
   "id": "c8f36a11",
   "metadata": {},
   "outputs": [
    {
     "name": "stdout",
     "output_type": "stream",
     "text": [
      "100 ,2 ,3 ,4 ,5 ,6 ,7 ,8 ,9 ,101 ,"
     ]
    }
   ],
   "source": [
    "#arrays is iterable\n",
    "for i in a: # same as lists, ndarrays store multiple elements (is iterable) \n",
    "    print(i,end=\" ,\")"
   ]
  },
  {
   "cell_type": "code",
   "execution_count": 35,
   "id": "6ffb2d34",
   "metadata": {},
   "outputs": [
    {
     "data": {
      "text/plain": [
       "array([100,   2,   3,   4,   5,   6,   7,   8,   9, 101])"
      ]
     },
     "execution_count": 35,
     "metadata": {},
     "output_type": "execute_result"
    }
   ],
   "source": [
    "a"
   ]
  },
  {
   "cell_type": "code",
   "execution_count": 36,
   "id": "0e454fd2",
   "metadata": {},
   "outputs": [
    {
     "data": {
      "text/plain": [
       "(10,)"
      ]
     },
     "execution_count": 36,
     "metadata": {},
     "output_type": "execute_result"
    }
   ],
   "source": [
    "a.shape #array shape :tuple representing the dimensions of the array"
   ]
  },
  {
   "cell_type": "code",
   "execution_count": 37,
   "id": "a31ed041",
   "metadata": {},
   "outputs": [
    {
     "data": {
      "text/plain": [
       "1"
      ]
     },
     "execution_count": 37,
     "metadata": {},
     "output_type": "execute_result"
    }
   ],
   "source": [
    "a.ndim  # dimension"
   ]
  },
  {
   "cell_type": "code",
   "execution_count": 38,
   "id": "3b01f6c8",
   "metadata": {},
   "outputs": [
    {
     "data": {
      "text/plain": [
       "10"
      ]
     },
     "execution_count": 38,
     "metadata": {},
     "output_type": "execute_result"
    }
   ],
   "source": [
    "a.size  # no. arry elements"
   ]
  },
  {
   "cell_type": "code",
   "execution_count": 39,
   "id": "0b1c8d8d",
   "metadata": {},
   "outputs": [
    {
     "data": {
      "text/plain": [
       "10"
      ]
     },
     "execution_count": 39,
     "metadata": {},
     "output_type": "execute_result"
    }
   ],
   "source": [
    "len(a)"
   ]
  },
  {
   "cell_type": "code",
   "execution_count": 41,
   "id": "37db164b",
   "metadata": {},
   "outputs": [
    {
     "data": {
      "text/plain": [
       "array([100,   2,   3,   4,   5,   6,   7,   8,   9, 101])"
      ]
     },
     "execution_count": 41,
     "metadata": {},
     "output_type": "execute_result"
    }
   ],
   "source": [
    "a"
   ]
  },
  {
   "cell_type": "code",
   "execution_count": 40,
   "id": "229ed048",
   "metadata": {},
   "outputs": [
    {
     "data": {
      "text/plain": [
       "dtype('int32')"
      ]
     },
     "execution_count": 40,
     "metadata": {},
     "output_type": "execute_result"
    }
   ],
   "source": [
    "a.dtype #data type of array element (int,float,complex,bool,string,object)"
   ]
  },
  {
   "cell_type": "code",
   "execution_count": null,
   "id": "92c7ea3b",
   "metadata": {},
   "outputs": [],
   "source": []
  },
  {
   "cell_type": "code",
   "execution_count": null,
   "id": "c75cf653",
   "metadata": {},
   "outputs": [],
   "source": [
    "#Change datatype"
   ]
  },
  {
   "cell_type": "code",
   "execution_count": 42,
   "id": "a566fdf5",
   "metadata": {},
   "outputs": [
    {
     "data": {
      "text/plain": [
       "[1, 2, 3, 4, 5, '6', 7, 8, 9, 10]"
      ]
     },
     "execution_count": 42,
     "metadata": {},
     "output_type": "execute_result"
    }
   ],
   "source": [
    "L"
   ]
  },
  {
   "cell_type": "code",
   "execution_count": 43,
   "id": "3704844a",
   "metadata": {},
   "outputs": [],
   "source": [
    "a=np.array(L,dtype=str)"
   ]
  },
  {
   "cell_type": "code",
   "execution_count": 44,
   "id": "829b3e30",
   "metadata": {},
   "outputs": [
    {
     "data": {
      "text/plain": [
       "array(['1', '2', '3', '4', '5', '6', '7', '8', '9', '10'], dtype='<U2')"
      ]
     },
     "execution_count": 44,
     "metadata": {},
     "output_type": "execute_result"
    }
   ],
   "source": [
    "a"
   ]
  },
  {
   "cell_type": "code",
   "execution_count": null,
   "id": "798652fe",
   "metadata": {},
   "outputs": [],
   "source": [
    "# astype\n",
    "# Array.astype(datatype)"
   ]
  },
  {
   "cell_type": "code",
   "execution_count": 45,
   "id": "de7b9061",
   "metadata": {},
   "outputs": [
    {
     "data": {
      "text/plain": [
       "array([ 1.,  2.,  3.,  4.,  5.,  6.,  7.,  8.,  9., 10.])"
      ]
     },
     "execution_count": 45,
     "metadata": {},
     "output_type": "execute_result"
    }
   ],
   "source": [
    "a.astype(float) #change data type"
   ]
  },
  {
   "cell_type": "code",
   "execution_count": 46,
   "id": "77ec88ea",
   "metadata": {},
   "outputs": [
    {
     "data": {
      "text/plain": [
       "array([ 1,  2,  3,  4,  5,  6,  7,  8,  9, 10])"
      ]
     },
     "execution_count": 46,
     "metadata": {},
     "output_type": "execute_result"
    }
   ],
   "source": [
    "a.astype(int)"
   ]
  },
  {
   "cell_type": "code",
   "execution_count": 47,
   "id": "1c506e5e",
   "metadata": {},
   "outputs": [
    {
     "data": {
      "text/plain": [
       "array(['1', '2', '3', '4', '5', '6', '7', '8', '9', '10'], dtype='<U2')"
      ]
     },
     "execution_count": 47,
     "metadata": {},
     "output_type": "execute_result"
    }
   ],
   "source": [
    "a.astype(str)"
   ]
  },
  {
   "cell_type": "code",
   "execution_count": 48,
   "id": "bbf16d18",
   "metadata": {},
   "outputs": [
    {
     "data": {
      "text/plain": [
       "array([ 1.+0.j,  2.+0.j,  3.+0.j,  4.+0.j,  5.+0.j,  6.+0.j,  7.+0.j,\n",
       "        8.+0.j,  9.+0.j, 10.+0.j])"
      ]
     },
     "execution_count": 48,
     "metadata": {},
     "output_type": "execute_result"
    }
   ],
   "source": [
    "a.astype(complex)"
   ]
  },
  {
   "cell_type": "code",
   "execution_count": 50,
   "id": "5ec3df31",
   "metadata": {},
   "outputs": [],
   "source": [
    "a=np.array([1,2,3,0])"
   ]
  },
  {
   "cell_type": "code",
   "execution_count": 51,
   "id": "803ce657",
   "metadata": {},
   "outputs": [
    {
     "data": {
      "text/plain": [
       "array([ True,  True,  True, False])"
      ]
     },
     "execution_count": 51,
     "metadata": {},
     "output_type": "execute_result"
    }
   ],
   "source": [
    "a.astype(bool)"
   ]
  }
 ],
 "metadata": {
  "kernelspec": {
   "display_name": "Python 3 (ipykernel)",
   "language": "python",
   "name": "python3"
  },
  "language_info": {
   "codemirror_mode": {
    "name": "ipython",
    "version": 3
   },
   "file_extension": ".py",
   "mimetype": "text/x-python",
   "name": "python",
   "nbconvert_exporter": "python",
   "pygments_lexer": "ipython3",
   "version": "3.9.7"
  }
 },
 "nbformat": 4,
 "nbformat_minor": 5
}
