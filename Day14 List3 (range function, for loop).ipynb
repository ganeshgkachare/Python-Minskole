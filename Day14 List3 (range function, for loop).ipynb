{
 "cells": [
  {
   "cell_type": "raw",
   "id": "830dcf89",
   "metadata": {},
   "source": [
    "\n",
    "Range():-\n",
    "    The range() function returns a sequence of numbers, starting from 0 by default,\n",
    "    and increments by 1 (by default), and stops before a specified number.\n",
    "Syntax\n",
    "    range(start, stop, step)\n",
    "\n",
    "    Parameter\tDescription\n",
    "    start\t    Optional. An integer number specifying at which position to start. Default is 0\n",
    "    stop\t    Required. An integer number specifying at which position to stop (not included).\n",
    "    step\t    Optional. An integer number specifying the incrementation. Default is 1"
   ]
  },
  {
   "cell_type": "code",
   "execution_count": null,
   "id": "b6a9e5cd",
   "metadata": {},
   "outputs": [],
   "source": [
    "# can we make table?"
   ]
  },
  {
   "cell_type": "code",
   "execution_count": 17,
   "id": "e72e3c2f",
   "metadata": {},
   "outputs": [
    {
     "data": {
      "text/plain": [
       "range(0, 10)"
      ]
     },
     "execution_count": 17,
     "metadata": {},
     "output_type": "execute_result"
    }
   ],
   "source": [
    "range(10)  # range(0,10)"
   ]
  },
  {
   "cell_type": "code",
   "execution_count": 20,
   "id": "df1e2177",
   "metadata": {},
   "outputs": [
    {
     "data": {
      "text/plain": [
       "[0, 1, 2, 3, 4, 5, 6, 7, 8, 9]"
      ]
     },
     "execution_count": 20,
     "metadata": {},
     "output_type": "execute_result"
    }
   ],
   "source": [
    "list(range(10))"
   ]
  },
  {
   "cell_type": "code",
   "execution_count": 21,
   "id": "34aadf9c",
   "metadata": {},
   "outputs": [
    {
     "data": {
      "text/plain": [
       "[0, 1, 2, 3, 4, 5, 6, 7, 8, 9]"
      ]
     },
     "execution_count": 21,
     "metadata": {},
     "output_type": "execute_result"
    }
   ],
   "source": [
    "list(range(0,10))"
   ]
  },
  {
   "cell_type": "code",
   "execution_count": 22,
   "id": "0f732307",
   "metadata": {},
   "outputs": [
    {
     "data": {
      "text/plain": [
       "[0, 1, 2, 3, 4, 5, 6, 7, 8, 9]"
      ]
     },
     "execution_count": 22,
     "metadata": {},
     "output_type": "execute_result"
    }
   ],
   "source": [
    "list(range(0,10,1))"
   ]
  },
  {
   "cell_type": "code",
   "execution_count": 23,
   "id": "2f222181",
   "metadata": {},
   "outputs": [
    {
     "data": {
      "text/plain": [
       "[0, 2, 4, 6, 8]"
      ]
     },
     "execution_count": 23,
     "metadata": {},
     "output_type": "execute_result"
    }
   ],
   "source": [
    "list(range(0,10,2))"
   ]
  },
  {
   "cell_type": "code",
   "execution_count": null,
   "id": "4f1e38b3",
   "metadata": {},
   "outputs": [],
   "source": [
    "#eg. Create table of 5\n",
    "# 1) using list\n",
    "# 2) using for loop"
   ]
  },
  {
   "cell_type": "code",
   "execution_count": 24,
   "id": "fc8660c2",
   "metadata": {},
   "outputs": [
    {
     "data": {
      "text/plain": [
       "[0, 5, 10, 15, 20, 25, 30, 35, 40, 45]"
      ]
     },
     "execution_count": 24,
     "metadata": {},
     "output_type": "execute_result"
    }
   ],
   "source": [
    "list(range(0,50,5))"
   ]
  },
  {
   "cell_type": "code",
   "execution_count": 25,
   "id": "9cb74419",
   "metadata": {},
   "outputs": [
    {
     "data": {
      "text/plain": [
       "[5, 10, 15, 20, 25, 30, 35, 40, 45, 50]"
      ]
     },
     "execution_count": 25,
     "metadata": {},
     "output_type": "execute_result"
    }
   ],
   "source": [
    "list(range(5,51,5))"
   ]
  },
  {
   "cell_type": "code",
   "execution_count": 26,
   "id": "bf34eaff",
   "metadata": {},
   "outputs": [
    {
     "name": "stdout",
     "output_type": "stream",
     "text": [
      "5\n",
      "10\n",
      "15\n",
      "20\n",
      "25\n",
      "30\n",
      "35\n",
      "40\n",
      "45\n",
      "50\n"
     ]
    }
   ],
   "source": [
    "for i in range(5,51,5):\n",
    "    print(i)"
   ]
  },
  {
   "cell_type": "code",
   "execution_count": null,
   "id": "3da9aef3",
   "metadata": {},
   "outputs": [],
   "source": [
    "# Que:Create table of 5 in the following format\n",
    "#     5*1 = 5\n",
    "#     5*2 = 10\n",
    "#     -\n",
    "#     -\n",
    "#     5*10 = 50"
   ]
  },
  {
   "cell_type": "code",
   "execution_count": 37,
   "id": "89c675b0",
   "metadata": {},
   "outputs": [
    {
     "data": {
      "text/plain": [
       "[5, 10, 15, 20, 25, 30, 35, 40, 45, 50]"
      ]
     },
     "execution_count": 37,
     "metadata": {},
     "output_type": "execute_result"
    }
   ],
   "source": [
    "list(range(5,51,5))"
   ]
  },
  {
   "cell_type": "code",
   "execution_count": 36,
   "id": "1430879f",
   "metadata": {},
   "outputs": [
    {
     "name": "stdout",
     "output_type": "stream",
     "text": [
      "5 * 5 =  5\n",
      "5 * 10 =  10\n",
      "5 * 15 =  15\n",
      "5 * 20 =  20\n",
      "5 * 25 =  25\n",
      "5 * 30 =  30\n",
      "5 * 35 =  35\n",
      "5 * 40 =  40\n",
      "5 * 45 =  45\n",
      "5 * 50 =  50\n"
     ]
    }
   ],
   "source": [
    "for i in range(5,51,5):        # Need to use index instead of actual values\n",
    "    print (f\"5 * {i} = \", i)\n",
    "\n",
    "\n",
    "\n"
   ]
  },
  {
   "cell_type": "code",
   "execution_count": null,
   "id": "51880bb2",
   "metadata": {},
   "outputs": [],
   "source": []
  },
  {
   "cell_type": "code",
   "execution_count": 27,
   "id": "2f41dc70",
   "metadata": {},
   "outputs": [],
   "source": [
    "a= [1, 2, 3, 4, '5', '6', '7', 'Hello', 'World', True, False, 'Houndred']\n",
    "#   0  1  2  3   4    5    6     7        8       9      10     11"
   ]
  },
  {
   "cell_type": "code",
   "execution_count": 28,
   "id": "55542bdd",
   "metadata": {},
   "outputs": [
    {
     "data": {
      "text/plain": [
       "12"
      ]
     },
     "execution_count": 28,
     "metadata": {},
     "output_type": "execute_result"
    }
   ],
   "source": [
    "len(a)"
   ]
  },
  {
   "cell_type": "code",
   "execution_count": 29,
   "id": "3156eac3",
   "metadata": {},
   "outputs": [
    {
     "data": {
      "text/plain": [
       "2"
      ]
     },
     "execution_count": 29,
     "metadata": {},
     "output_type": "execute_result"
    }
   ],
   "source": [
    "a[-11]"
   ]
  },
  {
   "cell_type": "code",
   "execution_count": 30,
   "id": "21232951",
   "metadata": {},
   "outputs": [
    {
     "name": "stdout",
     "output_type": "stream",
     "text": [
      "1\n",
      "2\n",
      "3\n",
      "4\n",
      "5\n",
      "6\n",
      "7\n",
      "Hello\n",
      "World\n",
      "True\n",
      "False\n",
      "Houndred\n"
     ]
    }
   ],
   "source": [
    "for i in a:\n",
    "    print(i)"
   ]
  },
  {
   "cell_type": "code",
   "execution_count": 31,
   "id": "ec62ec87",
   "metadata": {},
   "outputs": [
    {
     "data": {
      "text/plain": [
       "[1, 2, 3, 4, '5', '6', '7', 'Hello', 'World', True, False, 'Houndred']"
      ]
     },
     "execution_count": 31,
     "metadata": {},
     "output_type": "execute_result"
    }
   ],
   "source": [
    "a"
   ]
  },
  {
   "cell_type": "code",
   "execution_count": 40,
   "id": "7c4fd844",
   "metadata": {},
   "outputs": [
    {
     "data": {
      "text/plain": [
       "12"
      ]
     },
     "execution_count": 40,
     "metadata": {},
     "output_type": "execute_result"
    }
   ],
   "source": [
    "len(a)"
   ]
  },
  {
   "cell_type": "code",
   "execution_count": 46,
   "id": "cdeac0b0",
   "metadata": {},
   "outputs": [],
   "source": [
    "a= [1, 2, 3, 4, '5', '6', '7', 'Hello', 'World', True, False, 'Houndred']\n",
    "#   0  1  2  3   4    5    6     7        8       9      10     11"
   ]
  },
  {
   "cell_type": "code",
   "execution_count": 41,
   "id": "193baa87",
   "metadata": {},
   "outputs": [
    {
     "data": {
      "text/plain": [
       "[0, 1, 2, 3, 4, 5, 6, 7, 8, 9, 10, 11]"
      ]
     },
     "execution_count": 41,
     "metadata": {},
     "output_type": "execute_result"
    }
   ],
   "source": [
    "list(range(len(a)))"
   ]
  },
  {
   "cell_type": "code",
   "execution_count": 42,
   "id": "40853059",
   "metadata": {},
   "outputs": [
    {
     "data": {
      "text/plain": [
       "'Hello'"
      ]
     },
     "execution_count": 42,
     "metadata": {},
     "output_type": "execute_result"
    }
   ],
   "source": [
    "a[7]"
   ]
  },
  {
   "cell_type": "code",
   "execution_count": 47,
   "id": "6904f217",
   "metadata": {},
   "outputs": [
    {
     "name": "stdout",
     "output_type": "stream",
     "text": [
      "1\n",
      "2\n",
      "3\n",
      "4\n",
      "5\n",
      "6\n",
      "7\n",
      "Hello\n",
      "World\n",
      "True\n",
      "False\n",
      "Houndred\n"
     ]
    }
   ],
   "source": [
    "#can we iterate item in list using range?\n",
    "\n",
    "for x in range(len(a)):\n",
    "    print(a[x])\n",
    "\n"
   ]
  },
  {
   "cell_type": "code",
   "execution_count": null,
   "id": "ba1076fb",
   "metadata": {},
   "outputs": [],
   "source": [
    "# Que:Create table of 5 in the following format\n",
    "#     5*1 = 5\n",
    "#     5*2 = 10\n",
    "#     -\n",
    "#     -\n",
    "#     5*10 = 50"
   ]
  }
 ],
 "metadata": {
  "kernelspec": {
   "display_name": "Python 3 (ipykernel)",
   "language": "python",
   "name": "python3"
  },
  "language_info": {
   "codemirror_mode": {
    "name": "ipython",
    "version": 3
   },
   "file_extension": ".py",
   "mimetype": "text/x-python",
   "name": "python",
   "nbconvert_exporter": "python",
   "pygments_lexer": "ipython3",
   "version": "3.9.7"
  }
 },
 "nbformat": 4,
 "nbformat_minor": 5
}
