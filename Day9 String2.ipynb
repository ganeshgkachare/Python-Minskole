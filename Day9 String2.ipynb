{
 "cells": [
  {
   "cell_type": "markdown",
   "id": "2292dec4",
   "metadata": {},
   "source": [
    "## Slicing"
   ]
  },
  {
   "cell_type": "raw",
   "id": "422268eb",
   "metadata": {},
   "source": [
    "\n",
    "Slicing :-\n",
    "\n",
    "    Slicing in Python is a feature that enables accessing parts of the sequence. \n",
    "    We use slicing when we require a part of the string and not the complete string.\n",
    "    \n",
    "Syntax :\n",
    "        string[start : end : step]\n",
    "\n",
    "    start : We provide the starting index.\n",
    "    end : We provide the end index(this is not included in substring).\n",
    "    step : It is an optional argument that determines the increment between each index for slicing.\n",
    "    \n",
    "    left ------------------>right"
   ]
  },
  {
   "cell_type": "code",
   "execution_count": null,
   "id": "bf5904d3",
   "metadata": {},
   "outputs": [],
   "source": [
    "#         0123456789   13\n",
    "string = \"This is python class for Data Analyst.\"\n",
    "#                 8\n",
    "len(string)"
   ]
  },
  {
   "cell_type": "code",
   "execution_count": null,
   "id": "7d02d28d",
   "metadata": {},
   "outputs": [],
   "source": [
    "print(string)\n",
    "print(type(string))\n",
    "print(len(string))"
   ]
  },
  {
   "cell_type": "code",
   "execution_count": null,
   "id": "c8c6905d",
   "metadata": {},
   "outputs": [],
   "source": [
    "string[8:14]"
   ]
  },
  {
   "cell_type": "code",
   "execution_count": null,
   "id": "9ecf59bf",
   "metadata": {},
   "outputs": [],
   "source": [
    "#Slicing\n",
    "string[0:7]"
   ]
  },
  {
   "cell_type": "code",
   "execution_count": null,
   "id": "e4c8f5a2",
   "metadata": {},
   "outputs": [],
   "source": [
    "string[:]"
   ]
  },
  {
   "cell_type": "code",
   "execution_count": null,
   "id": "5c0996f4",
   "metadata": {},
   "outputs": [],
   "source": [
    "string[9:7:-1]"
   ]
  },
  {
   "cell_type": "code",
   "execution_count": null,
   "id": "60bea43e",
   "metadata": {},
   "outputs": [],
   "source": [
    "string[1:2]"
   ]
  },
  {
   "cell_type": "code",
   "execution_count": null,
   "id": "92d7d982",
   "metadata": {},
   "outputs": [],
   "source": [
    "string[0:7:2]"
   ]
  },
  {
   "cell_type": "code",
   "execution_count": null,
   "id": "b3812ade",
   "metadata": {},
   "outputs": [],
   "source": [
    "string[7:0]"
   ]
  },
  {
   "cell_type": "code",
   "execution_count": null,
   "id": "62c5e5f9",
   "metadata": {},
   "outputs": [],
   "source": [
    "string[7:0:-1]"
   ]
  },
  {
   "cell_type": "code",
   "execution_count": 18,
   "id": "77cd756e",
   "metadata": {},
   "outputs": [],
   "source": [
    "#         0123456789   13\n",
    "string = \"This is python class for Data Analyst.\"\n",
    "#                 8"
   ]
  },
  {
   "cell_type": "code",
   "execution_count": null,
   "id": "6eb5493f",
   "metadata": {},
   "outputs": [],
   "source": [
    "# Extract only python word\n",
    "\n",
    "string[8:14]"
   ]
  },
  {
   "cell_type": "code",
   "execution_count": null,
   "id": "925783a7",
   "metadata": {},
   "outputs": [],
   "source": []
  },
  {
   "cell_type": "code",
   "execution_count": null,
   "id": "47bba82e",
   "metadata": {},
   "outputs": [],
   "source": []
  },
  {
   "cell_type": "code",
   "execution_count": 2,
   "id": "3947c451",
   "metadata": {},
   "outputs": [],
   "source": [
    "b=\"python\"\n",
    "\n",
    "# p  y  t  h  o  n\n",
    "# 0  1  2  3  4  5  \n",
    "\n"
   ]
  },
  {
   "cell_type": "code",
   "execution_count": 3,
   "id": "6b4067b1",
   "metadata": {},
   "outputs": [
    {
     "ename": "IndexError",
     "evalue": "string index out of range",
     "output_type": "error",
     "traceback": [
      "\u001b[1;31m---------------------------------------------------------------------------\u001b[0m",
      "\u001b[1;31mIndexError\u001b[0m                                Traceback (most recent call last)",
      "\u001b[1;32m~\\AppData\\Local\\Temp/ipykernel_24256/3344860222.py\u001b[0m in \u001b[0;36m<module>\u001b[1;34m\u001b[0m\n\u001b[1;32m----> 1\u001b[1;33m \u001b[0mb\u001b[0m\u001b[1;33m[\u001b[0m\u001b[1;36m6\u001b[0m\u001b[1;33m]\u001b[0m\u001b[1;33m\u001b[0m\u001b[1;33m\u001b[0m\u001b[0m\n\u001b[0m",
      "\u001b[1;31mIndexError\u001b[0m: string index out of range"
     ]
    }
   ],
   "source": [
    "b[6]"
   ]
  },
  {
   "cell_type": "code",
   "execution_count": 4,
   "id": "f47a37ff",
   "metadata": {},
   "outputs": [
    {
     "data": {
      "text/plain": [
       "6"
      ]
     },
     "execution_count": 4,
     "metadata": {},
     "output_type": "execute_result"
    }
   ],
   "source": [
    "len(b)"
   ]
  },
  {
   "cell_type": "code",
   "execution_count": 5,
   "id": "cefc9438",
   "metadata": {},
   "outputs": [
    {
     "data": {
      "text/plain": [
       "'python'"
      ]
     },
     "execution_count": 5,
     "metadata": {},
     "output_type": "execute_result"
    }
   ],
   "source": [
    "b[:]"
   ]
  },
  {
   "cell_type": "code",
   "execution_count": 6,
   "id": "2ca54e80",
   "metadata": {},
   "outputs": [
    {
     "data": {
      "text/plain": [
       "'nohtyp'"
      ]
     },
     "execution_count": 6,
     "metadata": {},
     "output_type": "execute_result"
    }
   ],
   "source": [
    "b[::-1]"
   ]
  },
  {
   "cell_type": "code",
   "execution_count": 7,
   "id": "5586b1cb",
   "metadata": {},
   "outputs": [
    {
     "data": {
      "text/plain": [
       "'pyt'"
      ]
     },
     "execution_count": 7,
     "metadata": {},
     "output_type": "execute_result"
    }
   ],
   "source": [
    "b[:3]"
   ]
  },
  {
   "cell_type": "code",
   "execution_count": null,
   "id": "dc0abf95",
   "metadata": {},
   "outputs": [],
   "source": [
    "b=\"python\"\n",
    "\n",
    "# p  y  t  h  o  n\n",
    "# 0  1  2  3  4  5  \n",
    "\n",
    "    left ------------------>right"
   ]
  },
  {
   "cell_type": "code",
   "execution_count": 10,
   "id": "d2584c16",
   "metadata": {},
   "outputs": [
    {
     "data": {
      "text/plain": [
       "'hon'"
      ]
     },
     "execution_count": 10,
     "metadata": {},
     "output_type": "execute_result"
    }
   ],
   "source": [
    "b[3:]"
   ]
  },
  {
   "cell_type": "code",
   "execution_count": 11,
   "id": "da29c4d5",
   "metadata": {},
   "outputs": [
    {
     "data": {
      "text/plain": [
       "'pyt'"
      ]
     },
     "execution_count": 11,
     "metadata": {},
     "output_type": "execute_result"
    }
   ],
   "source": [
    "b[:3]"
   ]
  },
  {
   "cell_type": "code",
   "execution_count": 9,
   "id": "758cb709",
   "metadata": {},
   "outputs": [
    {
     "data": {
      "text/plain": [
       "'no'"
      ]
     },
     "execution_count": 9,
     "metadata": {},
     "output_type": "execute_result"
    }
   ],
   "source": [
    "b[:3:-1]"
   ]
  },
  {
   "cell_type": "code",
   "execution_count": null,
   "id": "dc0d865c",
   "metadata": {},
   "outputs": [],
   "source": [
    "b[0:5]"
   ]
  },
  {
   "cell_type": "code",
   "execution_count": null,
   "id": "b41ea1c6",
   "metadata": {},
   "outputs": [],
   "source": []
  },
  {
   "cell_type": "code",
   "execution_count": null,
   "id": "c49c5063",
   "metadata": {},
   "outputs": [],
   "source": [
    "# p  y  t  h  o  n\n",
    "# 0  1  2  3  4  5  \n"
   ]
  },
  {
   "cell_type": "code",
   "execution_count": 12,
   "id": "b915b17c",
   "metadata": {},
   "outputs": [
    {
     "data": {
      "text/plain": [
       "'pto'"
      ]
     },
     "execution_count": 12,
     "metadata": {},
     "output_type": "execute_result"
    }
   ],
   "source": [
    "b[0:5:2]"
   ]
  },
  {
   "cell_type": "code",
   "execution_count": 13,
   "id": "f6496ee1",
   "metadata": {},
   "outputs": [
    {
     "data": {
      "text/plain": [
       "'pytho'"
      ]
     },
     "execution_count": 13,
     "metadata": {},
     "output_type": "execute_result"
    }
   ],
   "source": [
    "b[0:5]"
   ]
  },
  {
   "cell_type": "code",
   "execution_count": 14,
   "id": "1ad6daee",
   "metadata": {},
   "outputs": [
    {
     "data": {
      "text/plain": [
       "'python'"
      ]
     },
     "execution_count": 14,
     "metadata": {},
     "output_type": "execute_result"
    }
   ],
   "source": [
    "b[0:6]"
   ]
  },
  {
   "cell_type": "code",
   "execution_count": 15,
   "id": "6ae183b5",
   "metadata": {},
   "outputs": [
    {
     "data": {
      "text/plain": [
       "''"
      ]
     },
     "execution_count": 15,
     "metadata": {},
     "output_type": "execute_result"
    }
   ],
   "source": [
    "b[5:0]"
   ]
  },
  {
   "cell_type": "code",
   "execution_count": 16,
   "id": "b9cd2715",
   "metadata": {},
   "outputs": [
    {
     "data": {
      "text/plain": [
       "'nohty'"
      ]
     },
     "execution_count": 16,
     "metadata": {},
     "output_type": "execute_result"
    }
   ],
   "source": [
    "b[5:0:-1]"
   ]
  },
  {
   "cell_type": "code",
   "execution_count": 19,
   "id": "e63879d7",
   "metadata": {},
   "outputs": [
    {
     "data": {
      "text/plain": [
       "'This is python class for Data Analyst.'"
      ]
     },
     "execution_count": 19,
     "metadata": {},
     "output_type": "execute_result"
    }
   ],
   "source": [
    "string"
   ]
  },
  {
   "cell_type": "code",
   "execution_count": 20,
   "id": "ca94fdf4",
   "metadata": {},
   "outputs": [
    {
     "name": "stdout",
     "output_type": "stream",
     "text": [
      "pytho\n"
     ]
    }
   ],
   "source": [
    "print(string[8:13])"
   ]
  },
  {
   "cell_type": "code",
   "execution_count": 21,
   "id": "4463c7a5",
   "metadata": {},
   "outputs": [
    {
     "name": "stdout",
     "output_type": "stream",
     "text": [
      "Data\n"
     ]
    }
   ],
   "source": [
    "#Slicing\n",
    "print(string[-13:-9])"
   ]
  },
  {
   "cell_type": "code",
   "execution_count": 24,
   "id": "16ef215a",
   "metadata": {},
   "outputs": [
    {
     "data": {
      "text/plain": [
       "''"
      ]
     },
     "execution_count": 24,
     "metadata": {},
     "output_type": "execute_result"
    }
   ],
   "source": [
    "string[-9:-13]"
   ]
  },
  {
   "cell_type": "code",
   "execution_count": 23,
   "id": "923303c7",
   "metadata": {},
   "outputs": [
    {
     "name": "stdout",
     "output_type": "stream",
     "text": [
      "\n"
     ]
    }
   ],
   "source": [
    "print(string[-9:-13])"
   ]
  },
  {
   "cell_type": "code",
   "execution_count": 25,
   "id": "3ec233fd",
   "metadata": {},
   "outputs": [
    {
     "name": "stdout",
     "output_type": "stream",
     "text": [
      " ata\n"
     ]
    }
   ],
   "source": [
    "print(string[-9:-13:-1])"
   ]
  },
  {
   "cell_type": "code",
   "execution_count": 26,
   "id": "70cb38be",
   "metadata": {},
   "outputs": [
    {
     "name": "stdout",
     "output_type": "stream",
     "text": [
      "s is python class for Data Analyst.\n"
     ]
    }
   ],
   "source": [
    "print(string[3:])"
   ]
  },
  {
   "cell_type": "code",
   "execution_count": 27,
   "id": "fa31b051",
   "metadata": {},
   "outputs": [
    {
     "name": "stdout",
     "output_type": "stream",
     "text": [
      "This is python class for Data Analyst.\n"
     ]
    }
   ],
   "source": [
    "print(string[:])"
   ]
  },
  {
   "cell_type": "code",
   "execution_count": 28,
   "id": "57b694f1",
   "metadata": {},
   "outputs": [
    {
     "name": "stdout",
     "output_type": "stream",
     "text": [
      ".tsylanA ataD rof ssalc nohtyp si sihT\n"
     ]
    }
   ],
   "source": [
    "print(string[::-1])"
   ]
  },
  {
   "cell_type": "code",
   "execution_count": null,
   "id": "57ebb8d5",
   "metadata": {},
   "outputs": [],
   "source": [
    "string = \"This is python class for Data Analyst.\""
   ]
  },
  {
   "cell_type": "code",
   "execution_count": 29,
   "id": "eac88f1b",
   "metadata": {},
   "outputs": [
    {
     "name": "stdout",
     "output_type": "stream",
     "text": [
      "Python\n",
      "nohtyP\n"
     ]
    }
   ],
   "source": [
    "str2 = \"Python\"\n",
    " \n",
    "print(str2[:])      # Full string\n",
    "print(str2[::-1])   # Reverse string"
   ]
  },
  {
   "cell_type": "code",
   "execution_count": 30,
   "id": "7fabfef4",
   "metadata": {},
   "outputs": [],
   "source": [
    "str2 = \"Python\""
   ]
  },
  {
   "cell_type": "code",
   "execution_count": 31,
   "id": "bbaa1276",
   "metadata": {},
   "outputs": [
    {
     "data": {
      "text/plain": [
       "'t'"
      ]
     },
     "execution_count": 31,
     "metadata": {},
     "output_type": "execute_result"
    }
   ],
   "source": [
    "str2[2]"
   ]
  },
  {
   "cell_type": "code",
   "execution_count": 32,
   "id": "dc8fff2f",
   "metadata": {},
   "outputs": [
    {
     "ename": "TypeError",
     "evalue": "'str' object does not support item assignment",
     "output_type": "error",
     "traceback": [
      "\u001b[1;31m---------------------------------------------------------------------------\u001b[0m",
      "\u001b[1;31mTypeError\u001b[0m                                 Traceback (most recent call last)",
      "\u001b[1;32m~\\AppData\\Local\\Temp/ipykernel_24256/3761536977.py\u001b[0m in \u001b[0;36m<module>\u001b[1;34m\u001b[0m\n\u001b[1;32m----> 1\u001b[1;33m \u001b[0mstr2\u001b[0m\u001b[1;33m[\u001b[0m\u001b[1;36m2\u001b[0m\u001b[1;33m]\u001b[0m \u001b[1;33m=\u001b[0m \u001b[1;34m\"T\"\u001b[0m\u001b[1;33m\u001b[0m\u001b[1;33m\u001b[0m\u001b[0m\n\u001b[0m",
      "\u001b[1;31mTypeError\u001b[0m: 'str' object does not support item assignment"
     ]
    }
   ],
   "source": [
    "str2[2] = \"T\""
   ]
  },
  {
   "cell_type": "code",
   "execution_count": null,
   "id": "2e3de2a5",
   "metadata": {},
   "outputs": [],
   "source": [
    "# str2[0] = \"A\"  #TypeError :-'str' object does not support item assignment\n",
    "#String is immutable"
   ]
  },
  {
   "cell_type": "code",
   "execution_count": 33,
   "id": "2c083ac6",
   "metadata": {},
   "outputs": [
    {
     "name": "stdout",
     "output_type": "stream",
     "text": [
      "Python Class\n"
     ]
    }
   ],
   "source": [
    "#String Concatenation :-\n",
    "str2 = \"Python\"\n",
    "str3 = \" Class\"\n",
    "str4 = str2 + str3  \n",
    "print(str4)"
   ]
  },
  {
   "cell_type": "code",
   "execution_count": 34,
   "id": "77dabefb",
   "metadata": {},
   "outputs": [
    {
     "name": "stdout",
     "output_type": "stream",
     "text": [
      "PythonPythonPython\n"
     ]
    }
   ],
   "source": [
    "#String Repetation:-\n",
    "str2 = \"Python\"\n",
    "str5 = str2 * 3\n",
    "print(str5)"
   ]
  },
  {
   "cell_type": "code",
   "execution_count": 37,
   "id": "f6dab9c7",
   "metadata": {},
   "outputs": [
    {
     "name": "stdout",
     "output_type": "stream",
     "text": [
      "5\n"
     ]
    }
   ],
   "source": [
    "print(2+3)"
   ]
  },
  {
   "cell_type": "code",
   "execution_count": null,
   "id": "a0d46971",
   "metadata": {},
   "outputs": [],
   "source": [
    "print(\"Hi\" + \" Good\" + \" Morning\")"
   ]
  },
  {
   "cell_type": "code",
   "execution_count": 40,
   "id": "510f1c0b",
   "metadata": {},
   "outputs": [
    {
     "ename": "TypeError",
     "evalue": "can only concatenate str (not \"int\") to str",
     "output_type": "error",
     "traceback": [
      "\u001b[1;31m---------------------------------------------------------------------------\u001b[0m",
      "\u001b[1;31mTypeError\u001b[0m                                 Traceback (most recent call last)",
      "\u001b[1;32m~\\AppData\\Local\\Temp/ipykernel_24256/3421328434.py\u001b[0m in \u001b[0;36m<module>\u001b[1;34m\u001b[0m\n\u001b[1;32m----> 1\u001b[1;33m \u001b[0mprint\u001b[0m\u001b[1;33m(\u001b[0m\u001b[1;34m\"Five\"\u001b[0m \u001b[1;33m+\u001b[0m \u001b[1;36m5\u001b[0m\u001b[1;33m)\u001b[0m   \u001b[1;31m#TypeError :- can only concatenate str (not \"int\") to str\u001b[0m\u001b[1;33m\u001b[0m\u001b[1;33m\u001b[0m\u001b[0m\n\u001b[0m",
      "\u001b[1;31mTypeError\u001b[0m: can only concatenate str (not \"int\") to str"
     ]
    }
   ],
   "source": [
    "print(\"Five\" + 5)   #TypeError :- can only concatenate str (not \"int\") to str"
   ]
  },
  {
   "cell_type": "code",
   "execution_count": 41,
   "id": "32c74f54",
   "metadata": {},
   "outputs": [
    {
     "name": "stdout",
     "output_type": "stream",
     "text": [
      "Five5\n"
     ]
    }
   ],
   "source": [
    "print(\"Five\" + str(5)) "
   ]
  },
  {
   "cell_type": "code",
   "execution_count": 38,
   "id": "8784c678",
   "metadata": {},
   "outputs": [
    {
     "name": "stdout",
     "output_type": "stream",
     "text": [
      "Five 5\n"
     ]
    }
   ],
   "source": [
    "print(\"Five \" + '5')"
   ]
  },
  {
   "cell_type": "raw",
   "id": "a2b96c7f",
   "metadata": {},
   "source": [
    "\n",
    "string + string   ===> string\n",
    "string + int      ===> Error\n",
    "string + str(int) ===> string\n",
    "\n"
   ]
  },
  {
   "cell_type": "code",
   "execution_count": null,
   "id": "d53268bc",
   "metadata": {},
   "outputs": [],
   "source": [
    "\"abc\"+ 5"
   ]
  },
  {
   "cell_type": "code",
   "execution_count": null,
   "id": "a9dfa708",
   "metadata": {},
   "outputs": [],
   "source": [
    "\"abc\"+ 5.6"
   ]
  },
  {
   "cell_type": "code",
   "execution_count": null,
   "id": "aae57074",
   "metadata": {},
   "outputs": [],
   "source": [
    "\"abc\"+ str(5.6)"
   ]
  },
  {
   "cell_type": "code",
   "execution_count": null,
   "id": "d26b310e",
   "metadata": {},
   "outputs": [],
   "source": [
    "a=5"
   ]
  },
  {
   "cell_type": "code",
   "execution_count": null,
   "id": "34a99f85",
   "metadata": {},
   "outputs": [],
   "source": [
    "type(str(a))"
   ]
  }
 ],
 "metadata": {
  "kernelspec": {
   "display_name": "Python 3 (ipykernel)",
   "language": "python",
   "name": "python3"
  },
  "language_info": {
   "codemirror_mode": {
    "name": "ipython",
    "version": 3
   },
   "file_extension": ".py",
   "mimetype": "text/x-python",
   "name": "python",
   "nbconvert_exporter": "python",
   "pygments_lexer": "ipython3",
   "version": "3.9.7"
  }
 },
 "nbformat": 4,
 "nbformat_minor": 5
}
