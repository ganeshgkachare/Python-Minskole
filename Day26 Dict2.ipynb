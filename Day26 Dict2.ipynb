{
 "cells": [
  {
   "cell_type": "code",
   "execution_count": 10,
   "id": "48a3f248",
   "metadata": {},
   "outputs": [],
   "source": [
    "dict_student = {\n",
    "    \"FirstName\" : \"Vivek\",\n",
    "    \"Age\":22,\n",
    "    \"Class\" :  \"FYJC\",\n",
    "    \"PIN\" : 442404,\n",
    "    \"Sub\" : ['P' ,\"C\" , \"M\" ,\"IT\"]\n",
    "}"
   ]
  },
  {
   "cell_type": "code",
   "execution_count": 11,
   "id": "ea315d78",
   "metadata": {},
   "outputs": [
    {
     "ename": "KeyError",
     "evalue": "'LastName'",
     "output_type": "error",
     "traceback": [
      "\u001b[1;31m---------------------------------------------------------------------------\u001b[0m",
      "\u001b[1;31mKeyError\u001b[0m                                  Traceback (most recent call last)",
      "\u001b[1;32m~\\AppData\\Local\\Temp/ipykernel_9592/2912676635.py\u001b[0m in \u001b[0;36m<module>\u001b[1;34m\u001b[0m\n\u001b[1;32m----> 1\u001b[1;33m \u001b[0mdict_student\u001b[0m\u001b[1;33m[\u001b[0m\u001b[1;34m\"LastName\"\u001b[0m\u001b[1;33m]\u001b[0m\u001b[1;33m\u001b[0m\u001b[1;33m\u001b[0m\u001b[0m\n\u001b[0m",
      "\u001b[1;31mKeyError\u001b[0m: 'LastName'"
     ]
    }
   ],
   "source": [
    "dict_student[\"LastName\"]"
   ]
  },
  {
   "cell_type": "code",
   "execution_count": 12,
   "id": "184d355c",
   "metadata": {},
   "outputs": [],
   "source": [
    "dict_student.get('LastName')"
   ]
  },
  {
   "cell_type": "code",
   "execution_count": 14,
   "id": "4b2af798",
   "metadata": {},
   "outputs": [
    {
     "data": {
      "text/plain": [
       "'LastName not defined'"
      ]
     },
     "execution_count": 14,
     "metadata": {},
     "output_type": "execute_result"
    }
   ],
   "source": [
    "dict_student.get('LastName',\"LastName not defined\")"
   ]
  },
  {
   "cell_type": "code",
   "execution_count": 15,
   "id": "b9daa68e",
   "metadata": {},
   "outputs": [
    {
     "data": {
      "text/plain": [
       "{'FirstName': 'Vivek',\n",
       " 'Age': 22,\n",
       " 'Class': 'FYJC',\n",
       " 'PIN': 442404,\n",
       " 'Sub': ['P', 'C', 'M', 'IT']}"
      ]
     },
     "execution_count": 15,
     "metadata": {},
     "output_type": "execute_result"
    }
   ],
   "source": [
    "dict_student"
   ]
  },
  {
   "cell_type": "code",
   "execution_count": 16,
   "id": "c65638c5",
   "metadata": {},
   "outputs": [],
   "source": [
    "# update\n",
    "dict_student['Age'] = 40\n"
   ]
  },
  {
   "cell_type": "code",
   "execution_count": 17,
   "id": "c3517ccb",
   "metadata": {},
   "outputs": [
    {
     "data": {
      "text/plain": [
       "{'FirstName': 'Vivek',\n",
       " 'Age': 40,\n",
       " 'Class': 'FYJC',\n",
       " 'PIN': 442404,\n",
       " 'Sub': ['P', 'C', 'M', 'IT']}"
      ]
     },
     "execution_count": 17,
     "metadata": {},
     "output_type": "execute_result"
    }
   ],
   "source": [
    "dict_student"
   ]
  },
  {
   "cell_type": "code",
   "execution_count": 18,
   "id": "2a440e4f",
   "metadata": {},
   "outputs": [
    {
     "ename": "KeyError",
     "evalue": "'City'",
     "output_type": "error",
     "traceback": [
      "\u001b[1;31m---------------------------------------------------------------------------\u001b[0m",
      "\u001b[1;31mKeyError\u001b[0m                                  Traceback (most recent call last)",
      "\u001b[1;32m~\\AppData\\Local\\Temp/ipykernel_9592/1535320922.py\u001b[0m in \u001b[0;36m<module>\u001b[1;34m\u001b[0m\n\u001b[1;32m----> 1\u001b[1;33m \u001b[0mdict_student\u001b[0m\u001b[1;33m[\u001b[0m\u001b[1;34m'City'\u001b[0m\u001b[1;33m]\u001b[0m\u001b[1;33m\u001b[0m\u001b[1;33m\u001b[0m\u001b[0m\n\u001b[0m",
      "\u001b[1;31mKeyError\u001b[0m: 'City'"
     ]
    }
   ],
   "source": [
    "dict_student['City']"
   ]
  },
  {
   "cell_type": "code",
   "execution_count": 19,
   "id": "24c7d41e",
   "metadata": {},
   "outputs": [
    {
     "data": {
      "text/plain": [
       "'City is not defined'"
      ]
     },
     "execution_count": 19,
     "metadata": {},
     "output_type": "execute_result"
    }
   ],
   "source": [
    "dict_student.get(\"City\",\"City is not defined\")"
   ]
  },
  {
   "cell_type": "code",
   "execution_count": 20,
   "id": "8341f264",
   "metadata": {},
   "outputs": [
    {
     "data": {
      "text/plain": [
       "{'FirstName': 'Vivek',\n",
       " 'Age': 40,\n",
       " 'Class': 'FYJC',\n",
       " 'PIN': 442404,\n",
       " 'Sub': ['P', 'C', 'M', 'IT']}"
      ]
     },
     "execution_count": 20,
     "metadata": {},
     "output_type": "execute_result"
    }
   ],
   "source": [
    "dict_student"
   ]
  },
  {
   "cell_type": "code",
   "execution_count": 21,
   "id": "b247d480",
   "metadata": {},
   "outputs": [],
   "source": [
    "# add\n",
    "dict_student['City'] = \"Pune\"\n"
   ]
  },
  {
   "cell_type": "code",
   "execution_count": 22,
   "id": "ff736488",
   "metadata": {},
   "outputs": [
    {
     "data": {
      "text/plain": [
       "{'FirstName': 'Vivek',\n",
       " 'Age': 40,\n",
       " 'Class': 'FYJC',\n",
       " 'PIN': 442404,\n",
       " 'Sub': ['P', 'C', 'M', 'IT'],\n",
       " 'City': 'Pune'}"
      ]
     },
     "execution_count": 22,
     "metadata": {},
     "output_type": "execute_result"
    }
   ],
   "source": [
    "dict_student"
   ]
  },
  {
   "cell_type": "code",
   "execution_count": 23,
   "id": "662f4cb5",
   "metadata": {},
   "outputs": [
    {
     "data": {
      "text/plain": [
       "dict_keys(['FirstName', 'Age', 'Class', 'PIN', 'Sub', 'City'])"
      ]
     },
     "execution_count": 23,
     "metadata": {},
     "output_type": "execute_result"
    }
   ],
   "source": [
    "dict_student.keys()"
   ]
  },
  {
   "cell_type": "code",
   "execution_count": 24,
   "id": "246ee92d",
   "metadata": {},
   "outputs": [
    {
     "data": {
      "text/plain": [
       "True"
      ]
     },
     "execution_count": 24,
     "metadata": {},
     "output_type": "execute_result"
    }
   ],
   "source": [
    "\"City\" in dict_student.keys()"
   ]
  },
  {
   "cell_type": "code",
   "execution_count": 25,
   "id": "5a57da34",
   "metadata": {},
   "outputs": [
    {
     "data": {
      "text/plain": [
       "dict_values(['Vivek', 40, 'FYJC', 442404, ['P', 'C', 'M', 'IT'], 'Pune'])"
      ]
     },
     "execution_count": 25,
     "metadata": {},
     "output_type": "execute_result"
    }
   ],
   "source": [
    "dict_student.values()"
   ]
  },
  {
   "cell_type": "code",
   "execution_count": null,
   "id": "4b53bc9a",
   "metadata": {},
   "outputs": [],
   "source": []
  },
  {
   "cell_type": "code",
   "execution_count": 26,
   "id": "579f5917",
   "metadata": {},
   "outputs": [
    {
     "data": {
      "text/plain": [
       "dict_items([('FirstName', 'Vivek'), ('Age', 40), ('Class', 'FYJC'), ('PIN', 442404), ('Sub', ['P', 'C', 'M', 'IT']), ('City', 'Pune')])"
      ]
     },
     "execution_count": 26,
     "metadata": {},
     "output_type": "execute_result"
    }
   ],
   "source": [
    "dict_student.items()"
   ]
  },
  {
   "cell_type": "code",
   "execution_count": 27,
   "id": "6f0b3295",
   "metadata": {},
   "outputs": [
    {
     "data": {
      "text/plain": [
       "{'FirstName': 'Vivek',\n",
       " 'Age': 40,\n",
       " 'Class': 'FYJC',\n",
       " 'PIN': 442404,\n",
       " 'Sub': ['P', 'C', 'M', 'IT'],\n",
       " 'City': 'Pune'}"
      ]
     },
     "execution_count": 27,
     "metadata": {},
     "output_type": "execute_result"
    }
   ],
   "source": [
    "dict_student"
   ]
  },
  {
   "cell_type": "code",
   "execution_count": 28,
   "id": "76125b81",
   "metadata": {},
   "outputs": [],
   "source": [
    "#delete\n",
    "del dict_student['Age']"
   ]
  },
  {
   "cell_type": "code",
   "execution_count": 29,
   "id": "1435a111",
   "metadata": {},
   "outputs": [
    {
     "data": {
      "text/plain": [
       "{'FirstName': 'Vivek',\n",
       " 'Class': 'FYJC',\n",
       " 'PIN': 442404,\n",
       " 'Sub': ['P', 'C', 'M', 'IT'],\n",
       " 'City': 'Pune'}"
      ]
     },
     "execution_count": 29,
     "metadata": {},
     "output_type": "execute_result"
    }
   ],
   "source": [
    "dict_student"
   ]
  },
  {
   "cell_type": "code",
   "execution_count": 30,
   "id": "ca736d98",
   "metadata": {},
   "outputs": [],
   "source": [
    "del dict_student"
   ]
  },
  {
   "cell_type": "code",
   "execution_count": 31,
   "id": "f368b89f",
   "metadata": {},
   "outputs": [
    {
     "ename": "NameError",
     "evalue": "name 'dict_student' is not defined",
     "output_type": "error",
     "traceback": [
      "\u001b[1;31m---------------------------------------------------------------------------\u001b[0m",
      "\u001b[1;31mNameError\u001b[0m                                 Traceback (most recent call last)",
      "\u001b[1;32m~\\AppData\\Local\\Temp/ipykernel_9592/696103136.py\u001b[0m in \u001b[0;36m<module>\u001b[1;34m\u001b[0m\n\u001b[1;32m----> 1\u001b[1;33m \u001b[0mdict_student\u001b[0m\u001b[1;33m\u001b[0m\u001b[1;33m\u001b[0m\u001b[0m\n\u001b[0m",
      "\u001b[1;31mNameError\u001b[0m: name 'dict_student' is not defined"
     ]
    }
   ],
   "source": [
    "dict_student"
   ]
  },
  {
   "cell_type": "code",
   "execution_count": null,
   "id": "97454838",
   "metadata": {},
   "outputs": [],
   "source": []
  },
  {
   "cell_type": "code",
   "execution_count": 32,
   "id": "6d2e70d9",
   "metadata": {},
   "outputs": [],
   "source": [
    "animal = {\n",
    "    #property - values\n",
    "    #key  -     values\n",
    "    'legs':2,\n",
    "    'color':'red',\n",
    "    'eyes':2,\n",
    "    'legs':4\n",
    "}"
   ]
  },
  {
   "cell_type": "code",
   "execution_count": 33,
   "id": "316c7a1d",
   "metadata": {},
   "outputs": [
    {
     "data": {
      "text/plain": [
       "{'legs': 4, 'color': 'red', 'eyes': 2}"
      ]
     },
     "execution_count": 33,
     "metadata": {},
     "output_type": "execute_result"
    }
   ],
   "source": [
    "animal"
   ]
  },
  {
   "cell_type": "code",
   "execution_count": 34,
   "id": "90d0fc64",
   "metadata": {},
   "outputs": [],
   "source": [
    "animal.clear()"
   ]
  },
  {
   "cell_type": "code",
   "execution_count": 35,
   "id": "9ed5fe01",
   "metadata": {},
   "outputs": [
    {
     "data": {
      "text/plain": [
       "{}"
      ]
     },
     "execution_count": 35,
     "metadata": {},
     "output_type": "execute_result"
    }
   ],
   "source": [
    "animal"
   ]
  },
  {
   "cell_type": "code",
   "execution_count": 37,
   "id": "bf36d6ef",
   "metadata": {},
   "outputs": [],
   "source": [
    "animal = {\n",
    "    #property - values\n",
    "    #key  -     values\n",
    "    'legs':2,\n",
    "    'color':'red',\n",
    "    'eyes':2,\n",
    "    'legs':4\n",
    "}"
   ]
  },
  {
   "cell_type": "code",
   "execution_count": 38,
   "id": "a8733a64",
   "metadata": {},
   "outputs": [
    {
     "data": {
      "text/plain": [
       "3"
      ]
     },
     "execution_count": 38,
     "metadata": {},
     "output_type": "execute_result"
    }
   ],
   "source": [
    "len(animal)"
   ]
  },
  {
   "cell_type": "code",
   "execution_count": 40,
   "id": "771b5c20",
   "metadata": {},
   "outputs": [
    {
     "data": {
      "text/plain": [
       "{'legs': 4, 'color': 'red', 'eyes': 2}"
      ]
     },
     "execution_count": 40,
     "metadata": {},
     "output_type": "execute_result"
    }
   ],
   "source": [
    "animal"
   ]
  },
  {
   "cell_type": "code",
   "execution_count": null,
   "id": "45ee430a",
   "metadata": {},
   "outputs": [],
   "source": [
    "animal = {\n",
    "    #property - values\n",
    "    #key  -     values\n",
    "    'legs':2,\n",
    "    'color':'red',\n",
    "    'eyes':2,\n",
    "    'legs':4\n",
    "}"
   ]
  },
  {
   "cell_type": "code",
   "execution_count": 41,
   "id": "c14522c8",
   "metadata": {},
   "outputs": [
    {
     "name": "stdout",
     "output_type": "stream",
     "text": [
      "True\n",
      "True\n",
      "False\n",
      "False\n"
     ]
    }
   ],
   "source": [
    "# dict with in operator ==> check only keys\n",
    "print(\"legs\" in animal)   #T\n",
    "print(\"leg\" not in animal) # T\n",
    "print(\"leg\" in animal)     #F\n",
    "print(\"red\" in animal)    #F "
   ]
  },
  {
   "cell_type": "code",
   "execution_count": 42,
   "id": "edb3c0f8",
   "metadata": {},
   "outputs": [
    {
     "data": {
      "text/plain": [
       "True"
      ]
     },
     "execution_count": 42,
     "metadata": {},
     "output_type": "execute_result"
    }
   ],
   "source": [
    "\"red\" in animal.values()"
   ]
  },
  {
   "cell_type": "code",
   "execution_count": 43,
   "id": "180163ba",
   "metadata": {},
   "outputs": [
    {
     "data": {
      "text/plain": [
       "{'legs': 4, 'color': 'red', 'eyes': 2}"
      ]
     },
     "execution_count": 43,
     "metadata": {},
     "output_type": "execute_result"
    }
   ],
   "source": [
    "animal"
   ]
  },
  {
   "cell_type": "code",
   "execution_count": null,
   "id": "4b125412",
   "metadata": {},
   "outputs": [],
   "source": [
    "f\"The key is{key} and ites value is{Value}\""
   ]
  },
  {
   "cell_type": "code",
   "execution_count": null,
   "id": "fdc91cfb",
   "metadata": {},
   "outputs": [],
   "source": []
  },
  {
   "cell_type": "code",
   "execution_count": 44,
   "id": "875cd865",
   "metadata": {},
   "outputs": [
    {
     "name": "stdout",
     "output_type": "stream",
     "text": [
      "The key is legs and ites value is 4\n",
      "The key is color and ites value is red\n",
      "The key is eyes and ites value is 2\n"
     ]
    }
   ],
   "source": [
    "for key in animal:\n",
    "    print(\"The key is\",key,\"and its value is\",animal[key])"
   ]
  },
  {
   "cell_type": "code",
   "execution_count": 45,
   "id": "385609ec",
   "metadata": {},
   "outputs": [
    {
     "name": "stdout",
     "output_type": "stream",
     "text": [
      "legs\n",
      "color\n",
      "eyes\n"
     ]
    }
   ],
   "source": [
    "for key in animal:\n",
    "    print(key)"
   ]
  },
  {
   "cell_type": "code",
   "execution_count": 47,
   "id": "271f536f",
   "metadata": {},
   "outputs": [],
   "source": [
    "a=[11,22,33,44]"
   ]
  },
  {
   "cell_type": "code",
   "execution_count": 48,
   "id": "e6e8e151",
   "metadata": {},
   "outputs": [
    {
     "name": "stdout",
     "output_type": "stream",
     "text": [
      "11\n",
      "22\n",
      "33\n",
      "44\n"
     ]
    }
   ],
   "source": [
    "for i in a:\n",
    "    print(i)"
   ]
  },
  {
   "cell_type": "code",
   "execution_count": 49,
   "id": "deb049fe",
   "metadata": {},
   "outputs": [
    {
     "name": "stdout",
     "output_type": "stream",
     "text": [
      "0\n",
      "1\n",
      "2\n",
      "3\n"
     ]
    }
   ],
   "source": [
    "for i in range(len(a)):\n",
    "    print(i)"
   ]
  },
  {
   "cell_type": "code",
   "execution_count": 51,
   "id": "6726cfe9",
   "metadata": {},
   "outputs": [
    {
     "name": "stdout",
     "output_type": "stream",
     "text": [
      "Index==> 0 Value==> 11\n",
      "Index==> 1 Value==> 22\n",
      "Index==> 2 Value==> 33\n",
      "Index==> 3 Value==> 44\n"
     ]
    }
   ],
   "source": [
    "for i in range(len(a)):\n",
    "    print(\"Index==>\",i,\"Value==>\",a[i])"
   ]
  },
  {
   "cell_type": "code",
   "execution_count": 52,
   "id": "af656fa7",
   "metadata": {},
   "outputs": [],
   "source": [
    "# clear()\n",
    "animal.clear()"
   ]
  },
  {
   "cell_type": "code",
   "execution_count": 53,
   "id": "8c72b96c",
   "metadata": {},
   "outputs": [
    {
     "data": {
      "text/plain": [
       "{}"
      ]
     },
     "execution_count": 53,
     "metadata": {},
     "output_type": "execute_result"
    }
   ],
   "source": [
    "animal"
   ]
  },
  {
   "cell_type": "code",
   "execution_count": null,
   "id": "761161a5",
   "metadata": {},
   "outputs": [],
   "source": [
    "# Example\n",
    "flower = {\n",
    "    'name':\"lotus\",\n",
    "    \"color\":\"white\",\n",
    "    \"region\":\"kashmir\",\n",
    "    \"lifeShell\":4\n",
    "}"
   ]
  },
  {
   "cell_type": "code",
   "execution_count": 55,
   "id": "0d61134f",
   "metadata": {},
   "outputs": [
    {
     "data": {
      "text/plain": [
       "10"
      ]
     },
     "execution_count": 55,
     "metadata": {},
     "output_type": "execute_result"
    }
   ],
   "source": [
    "int(\"10\")\n",
    "Constructor"
   ]
  },
  {
   "cell_type": "code",
   "execution_count": null,
   "id": "382bdd99",
   "metadata": {},
   "outputs": [],
   "source": []
  },
  {
   "cell_type": "markdown",
   "id": "0e17848f",
   "metadata": {},
   "source": [
    "\n",
    "## HOW TO CREATE A DICTIONARY"
   ]
  },
  {
   "cell_type": "code",
   "execution_count": 54,
   "id": "ae6a6ae9",
   "metadata": {},
   "outputs": [
    {
     "data": {
      "text/plain": [
       "{'name': 'Nikhita', 'age': 26, 'job': 'SOftwareTeste'}"
      ]
     },
     "execution_count": 54,
     "metadata": {},
     "output_type": "execute_result"
    }
   ],
   "source": [
    "b_basic = {'name': 'Nikhita' ,'age': 26 , 'job' : 'SOftwareTeste'}\n",
    "b_basic"
   ]
  },
  {
   "cell_type": "code",
   "execution_count": 58,
   "id": "de959404",
   "metadata": {},
   "outputs": [
    {
     "data": {
      "text/plain": [
       "{'name': 'rahul', 'age': 32, 'job': 'teacher'}"
      ]
     },
     "execution_count": 58,
     "metadata": {},
     "output_type": "execute_result"
    }
   ],
   "source": [
    "# By using variable\n",
    "a_var = dict(name = \"rahul\", age = 32 ,job = 'teacher')\n",
    "a_var"
   ]
  },
  {
   "cell_type": "code",
   "execution_count": 60,
   "id": "d852ef4f",
   "metadata": {},
   "outputs": [],
   "source": [
    "Class=\"Python\""
   ]
  },
  {
   "cell_type": "code",
   "execution_count": 59,
   "id": "656f6c93",
   "metadata": {},
   "outputs": [
    {
     "data": {
      "text/plain": [
       "{'Class': 'Python'}"
      ]
     },
     "execution_count": 59,
     "metadata": {},
     "output_type": "execute_result"
    }
   ],
   "source": [
    "dict(Class=\"Python\")"
   ]
  },
  {
   "cell_type": "code",
   "execution_count": 57,
   "id": "b478b9f7",
   "metadata": {},
   "outputs": [
    {
     "data": {
      "text/plain": [
       "'Python'"
      ]
     },
     "execution_count": 57,
     "metadata": {},
     "output_type": "execute_result"
    }
   ],
   "source": [
    "Class"
   ]
  },
  {
   "cell_type": "code",
   "execution_count": 62,
   "id": "24e7809d",
   "metadata": {},
   "outputs": [
    {
     "data": {
      "text/plain": [
       "dict_items([('name', 'rahul'), ('age', 32), ('job', 'teacher')])"
      ]
     },
     "execution_count": 62,
     "metadata": {},
     "output_type": "execute_result"
    }
   ],
   "source": [
    "a_var.items()"
   ]
  },
  {
   "cell_type": "code",
   "execution_count": 63,
   "id": "e14944ba",
   "metadata": {},
   "outputs": [
    {
     "data": {
      "text/plain": [
       "{'name': 'Akash', 'age': 35, 'job': 'Instructor'}"
      ]
     },
     "execution_count": 63,
     "metadata": {},
     "output_type": "execute_result"
    }
   ],
   "source": [
    "# By using tuple\n",
    "d_tup = dict([('name',\"Akash\"),('age',35),('job',\"Instructor\")])\n",
    "d_tup"
   ]
  },
  {
   "cell_type": "code",
   "execution_count": null,
   "id": "a7aab0ba",
   "metadata": {},
   "outputs": [],
   "source": []
  },
  {
   "cell_type": "markdown",
   "id": "f3ae025b",
   "metadata": {},
   "source": [
    "## Homework"
   ]
  },
  {
   "cell_type": "code",
   "execution_count": null,
   "id": "142cacd5",
   "metadata": {},
   "outputs": [],
   "source": [
    "# score_vk = {\n",
    "#         one_day : 700,\n",
    "#         test : 740,\n",
    "#         t_20 : 470,\n",
    "#         international : 250\n",
    "# }"
   ]
  },
  {
   "cell_type": "code",
   "execution_count": null,
   "id": "949dc214",
   "metadata": {},
   "outputs": [],
   "source": [
    "# 1. CREATE ABOVE DICTIONARY USING BASIC METHOD \n",
    "# {} AND NAME IT AS score_vk_basic\n"
   ]
  },
  {
   "cell_type": "code",
   "execution_count": null,
   "id": "48063eb5",
   "metadata": {},
   "outputs": [],
   "source": [
    "# 2. CREATE ABOVE DICTIONARY USING \n",
    "# variable assignments way AND NAME IT AS score_vk_var\n"
   ]
  },
  {
   "cell_type": "code",
   "execution_count": null,
   "id": "d7b9a17f",
   "metadata": {},
   "outputs": [],
   "source": [
    "# 3. CREATE ABOVE DICTIONARY USING \n",
    "# tuple pair way  AND NAME IT AS score_vk_basic_tup\n"
   ]
  }
 ],
 "metadata": {
  "kernelspec": {
   "display_name": "Python 3 (ipykernel)",
   "language": "python",
   "name": "python3"
  },
  "language_info": {
   "codemirror_mode": {
    "name": "ipython",
    "version": 3
   },
   "file_extension": ".py",
   "mimetype": "text/x-python",
   "name": "python",
   "nbconvert_exporter": "python",
   "pygments_lexer": "ipython3",
   "version": "3.9.7"
  }
 },
 "nbformat": 4,
 "nbformat_minor": 5
}
