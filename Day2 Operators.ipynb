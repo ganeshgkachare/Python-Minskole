{
 "cells": [
  {
   "cell_type": "markdown",
   "id": "c2fbb2e1",
   "metadata": {},
   "source": [
    "# Operators"
   ]
  },
  {
   "cell_type": "markdown",
   "id": "93651b4d",
   "metadata": {},
   "source": [
    " Operators are special symbols in Python that carry out arithmetic or logical computation. \n",
    " The value that the operator operates on is called the operand.\n",
    " \n",
    "    1. Arithmetic\n",
    "    2. Comparison\n",
    "    3. Logical\n",
    "    4. Special operators :- 1) Identity operators\n",
    "                            2) Membership operators\n",
    "    5. Assignment operators:-"
   ]
  },
  {
   "cell_type": "markdown",
   "id": "d96cea59",
   "metadata": {},
   "source": [
    "## 1) Arithmetic Operators :-\n",
    "\n",
    "    Operator\tOperation\t       Description\t\n",
    "    +\t        Addition\t       Adds values on either side of the operator.\t\n",
    "    -\t        Subtraction\t       Subtracts right hand operand from left hand operand.\t\n",
    "    *\t        Multiplication\t   Multiplies values on either side of the operator\t\n",
    "    /\t        Division\t       Divides left hand operand by right hand operand\t\n",
    "    %\t        Modulus\t           Divides left hand operand by right hand operand and returns remainder\t\n",
    "    **\t        Exponent    \t   Performs exponential (power) calculation on operators\t\n",
    "    //\t        Floor Division\t   The division of operands where the result is the quotient in which\n",
    "                                   the digits after the decimal point are removed. "
   ]
  },
  {
   "cell_type": "code",
   "execution_count": 4,
   "id": "5988a13f",
   "metadata": {},
   "outputs": [],
   "source": [
    "a = 11\n",
    "b = 2"
   ]
  },
  {
   "cell_type": "code",
   "execution_count": 5,
   "id": "b37c760c",
   "metadata": {},
   "outputs": [
    {
     "data": {
      "text/plain": [
       "13"
      ]
     },
     "execution_count": 5,
     "metadata": {},
     "output_type": "execute_result"
    }
   ],
   "source": [
    "a+b #Add"
   ]
  },
  {
   "cell_type": "code",
   "execution_count": 6,
   "id": "a949e310",
   "metadata": {},
   "outputs": [
    {
     "data": {
      "text/plain": [
       "9"
      ]
     },
     "execution_count": 6,
     "metadata": {},
     "output_type": "execute_result"
    }
   ],
   "source": [
    "a-b #Sub"
   ]
  },
  {
   "cell_type": "code",
   "execution_count": 7,
   "id": "025b4565",
   "metadata": {},
   "outputs": [
    {
     "ename": "NameError",
     "evalue": "name 'A' is not defined",
     "output_type": "error",
     "traceback": [
      "\u001b[1;31m---------------------------------------------------------------------------\u001b[0m",
      "\u001b[1;31mNameError\u001b[0m                                 Traceback (most recent call last)",
      "\u001b[1;32m~\\AppData\\Local\\Temp/ipykernel_17432/3306273366.py\u001b[0m in \u001b[0;36m<module>\u001b[1;34m\u001b[0m\n\u001b[1;32m----> 1\u001b[1;33m \u001b[0mA\u001b[0m\u001b[1;33m*\u001b[0m\u001b[0mb\u001b[0m\u001b[1;33m\u001b[0m\u001b[1;33m\u001b[0m\u001b[0m\n\u001b[0m",
      "\u001b[1;31mNameError\u001b[0m: name 'A' is not defined"
     ]
    }
   ],
   "source": [
    "A*b"
   ]
  },
  {
   "cell_type": "code",
   "execution_count": 8,
   "id": "a581937e",
   "metadata": {},
   "outputs": [
    {
     "data": {
      "text/plain": [
       "22"
      ]
     },
     "execution_count": 8,
     "metadata": {},
     "output_type": "execute_result"
    }
   ],
   "source": [
    "a*b"
   ]
  },
  {
   "cell_type": "code",
   "execution_count": 11,
   "id": "fd19b8a4",
   "metadata": {},
   "outputs": [
    {
     "name": "stdout",
     "output_type": "stream",
     "text": [
      "The exponent of: a=11 and b=2 : 121\n",
      "9\n"
     ]
    }
   ],
   "source": [
    "print(\"The exponent of: a=11 and b=2 :\",a**b) # a^b\n",
    "print(3**2) # 3*3"
   ]
  },
  {
   "cell_type": "code",
   "execution_count": 12,
   "id": "31370265",
   "metadata": {},
   "outputs": [
    {
     "data": {
      "text/plain": [
       "5.5"
      ]
     },
     "execution_count": 12,
     "metadata": {},
     "output_type": "execute_result"
    }
   ],
   "source": [
    "11/2"
   ]
  },
  {
   "cell_type": "code",
   "execution_count": 13,
   "id": "05ccebc8",
   "metadata": {},
   "outputs": [
    {
     "data": {
      "text/plain": [
       "5"
      ]
     },
     "execution_count": 13,
     "metadata": {},
     "output_type": "execute_result"
    }
   ],
   "source": [
    "11//2"
   ]
  },
  {
   "cell_type": "code",
   "execution_count": 14,
   "id": "ab20a5a4",
   "metadata": {},
   "outputs": [
    {
     "data": {
      "text/plain": [
       "1"
      ]
     },
     "execution_count": 14,
     "metadata": {},
     "output_type": "execute_result"
    }
   ],
   "source": [
    "11%2 # Modulus== Reminder"
   ]
  },
  {
   "cell_type": "code",
   "execution_count": 20,
   "id": "50de50cc",
   "metadata": {},
   "outputs": [
    {
     "data": {
      "text/plain": [
       "5.5"
      ]
     },
     "execution_count": 20,
     "metadata": {},
     "output_type": "execute_result"
    }
   ],
   "source": [
    "11/2"
   ]
  },
  {
   "cell_type": "code",
   "execution_count": 22,
   "id": "0f2df111",
   "metadata": {},
   "outputs": [
    {
     "data": {
      "text/plain": [
       "5"
      ]
     },
     "execution_count": 22,
     "metadata": {},
     "output_type": "execute_result"
    }
   ],
   "source": [
    "int(11/2)"
   ]
  },
  {
   "cell_type": "code",
   "execution_count": null,
   "id": "e374a033",
   "metadata": {},
   "outputs": [],
   "source": []
  },
  {
   "cell_type": "code",
   "execution_count": 24,
   "id": "35e8c775",
   "metadata": {},
   "outputs": [
    {
     "data": {
      "text/plain": [
       "5"
      ]
     },
     "execution_count": 24,
     "metadata": {},
     "output_type": "execute_result"
    }
   ],
   "source": [
    "11//2"
   ]
  },
  {
   "cell_type": "code",
   "execution_count": 33,
   "id": "f63533d1",
   "metadata": {},
   "outputs": [
    {
     "data": {
      "text/plain": [
       "7.333333333333333"
      ]
     },
     "execution_count": 33,
     "metadata": {},
     "output_type": "execute_result"
    }
   ],
   "source": [
    "22/3"
   ]
  },
  {
   "cell_type": "code",
   "execution_count": 34,
   "id": "7ca91e27",
   "metadata": {},
   "outputs": [
    {
     "data": {
      "text/plain": [
       "7"
      ]
     },
     "execution_count": 34,
     "metadata": {},
     "output_type": "execute_result"
    }
   ],
   "source": [
    "22//3"
   ]
  },
  {
   "cell_type": "code",
   "execution_count": 27,
   "id": "8487c1a0",
   "metadata": {},
   "outputs": [],
   "source": [
    "a=22\n",
    "b=3\n",
    "# My output should be 0.333333333"
   ]
  },
  {
   "cell_type": "code",
   "execution_count": 28,
   "id": "8de2a014",
   "metadata": {},
   "outputs": [
    {
     "data": {
      "text/plain": [
       "7.333333333333333"
      ]
     },
     "execution_count": 28,
     "metadata": {},
     "output_type": "execute_result"
    }
   ],
   "source": [
    "a/b"
   ]
  },
  {
   "cell_type": "code",
   "execution_count": 29,
   "id": "d97f4345",
   "metadata": {},
   "outputs": [
    {
     "data": {
      "text/plain": [
       "7"
      ]
     },
     "execution_count": 29,
     "metadata": {},
     "output_type": "execute_result"
    }
   ],
   "source": [
    "a//b"
   ]
  },
  {
   "cell_type": "code",
   "execution_count": 32,
   "id": "809a31ef",
   "metadata": {},
   "outputs": [
    {
     "data": {
      "text/plain": [
       "0.33333333333333304"
      ]
     },
     "execution_count": 32,
     "metadata": {},
     "output_type": "execute_result"
    }
   ],
   "source": [
    "(a/b)-(a//b)"
   ]
  },
  {
   "cell_type": "code",
   "execution_count": null,
   "id": "b887b221",
   "metadata": {},
   "outputs": [],
   "source": []
  },
  {
   "cell_type": "code",
   "execution_count": 30,
   "id": "f1efe378",
   "metadata": {},
   "outputs": [
    {
     "data": {
      "text/plain": [
       "1"
      ]
     },
     "execution_count": 30,
     "metadata": {},
     "output_type": "execute_result"
    }
   ],
   "source": [
    "a%b"
   ]
  },
  {
   "cell_type": "code",
   "execution_count": 31,
   "id": "414a1eab",
   "metadata": {},
   "outputs": [
    {
     "data": {
      "text/plain": [
       "10648"
      ]
     },
     "execution_count": 31,
     "metadata": {},
     "output_type": "execute_result"
    }
   ],
   "source": [
    "a**b"
   ]
  },
  {
   "cell_type": "code",
   "execution_count": null,
   "id": "877d6ac7",
   "metadata": {},
   "outputs": [],
   "source": []
  },
  {
   "cell_type": "markdown",
   "id": "45ec584e",
   "metadata": {},
   "source": [
    "## 2) Comparison operators:-\n",
    "\n",
    "    Operator\t    Description\t\n",
    "    ==\t        If the values of two operands are equal, then the condition becomes true.\t\n",
    "    !=\t        If values of two operands are not equal, then condition becomes true.\n",
    "    >\t        If the value of left operand is greater than the value of right operand, then condition becomes true.\t\n",
    "    <\t        If the value of left operand is less than the value of right operand, then condition becomes true.\t\n",
    "    >=\t        If the value of left operand is greater than or equal to the value of right operand, then condition becomes\n",
    "                   true.\t\n",
    "    <=\t        If the value of left operand is less than or equal to the value of right operand, then condition becomes true.\n"
   ]
  },
  {
   "cell_type": "code",
   "execution_count": null,
   "id": "666d9e83",
   "metadata": {},
   "outputs": [],
   "source": [
    "left operand      Operator         right operand"
   ]
  },
  {
   "cell_type": "code",
   "execution_count": 35,
   "id": "9bb207d2",
   "metadata": {},
   "outputs": [],
   "source": [
    "a=10\n",
    "b=2"
   ]
  },
  {
   "cell_type": "code",
   "execution_count": 40,
   "id": "bbce8526",
   "metadata": {},
   "outputs": [
    {
     "data": {
      "text/plain": [
       "int"
      ]
     },
     "execution_count": 40,
     "metadata": {},
     "output_type": "execute_result"
    }
   ],
   "source": [
    "type(a)"
   ]
  },
  {
   "cell_type": "code",
   "execution_count": 41,
   "id": "5af750d0",
   "metadata": {},
   "outputs": [
    {
     "data": {
      "text/plain": [
       "int"
      ]
     },
     "execution_count": 41,
     "metadata": {},
     "output_type": "execute_result"
    }
   ],
   "source": [
    "type(a+b)"
   ]
  },
  {
   "cell_type": "code",
   "execution_count": 36,
   "id": "794b8662",
   "metadata": {},
   "outputs": [
    {
     "data": {
      "text/plain": [
       "10"
      ]
     },
     "execution_count": 36,
     "metadata": {},
     "output_type": "execute_result"
    }
   ],
   "source": [
    "a"
   ]
  },
  {
   "cell_type": "code",
   "execution_count": 37,
   "id": "7e90f37a",
   "metadata": {},
   "outputs": [
    {
     "data": {
      "text/plain": [
       "2"
      ]
     },
     "execution_count": 37,
     "metadata": {},
     "output_type": "execute_result"
    }
   ],
   "source": [
    "b"
   ]
  },
  {
   "cell_type": "code",
   "execution_count": 38,
   "id": "09a5c6ff",
   "metadata": {},
   "outputs": [
    {
     "data": {
      "text/plain": [
       "False"
      ]
     },
     "execution_count": 38,
     "metadata": {},
     "output_type": "execute_result"
    }
   ],
   "source": [
    "a==b"
   ]
  },
  {
   "cell_type": "code",
   "execution_count": 42,
   "id": "ea92c9b8",
   "metadata": {},
   "outputs": [
    {
     "data": {
      "text/plain": [
       "bool"
      ]
     },
     "execution_count": 42,
     "metadata": {},
     "output_type": "execute_result"
    }
   ],
   "source": [
    "type(a==b)"
   ]
  },
  {
   "cell_type": "code",
   "execution_count": 43,
   "id": "ddb76da2",
   "metadata": {},
   "outputs": [
    {
     "data": {
      "text/plain": [
       "True"
      ]
     },
     "execution_count": 43,
     "metadata": {},
     "output_type": "execute_result"
    }
   ],
   "source": [
    "5==5"
   ]
  },
  {
   "cell_type": "code",
   "execution_count": 44,
   "id": "abce1931",
   "metadata": {},
   "outputs": [
    {
     "data": {
      "text/plain": [
       "False"
      ]
     },
     "execution_count": 44,
     "metadata": {},
     "output_type": "execute_result"
    }
   ],
   "source": [
    "5==6"
   ]
  },
  {
   "cell_type": "code",
   "execution_count": 45,
   "id": "40de35c5",
   "metadata": {},
   "outputs": [
    {
     "data": {
      "text/plain": [
       "False"
      ]
     },
     "execution_count": 45,
     "metadata": {},
     "output_type": "execute_result"
    }
   ],
   "source": [
    "5 != 5"
   ]
  },
  {
   "cell_type": "code",
   "execution_count": 46,
   "id": "60b6c006",
   "metadata": {},
   "outputs": [
    {
     "data": {
      "text/plain": [
       "True"
      ]
     },
     "execution_count": 46,
     "metadata": {},
     "output_type": "execute_result"
    }
   ],
   "source": [
    "5 != 6"
   ]
  },
  {
   "cell_type": "code",
   "execution_count": 47,
   "id": "a87e6741",
   "metadata": {},
   "outputs": [
    {
     "data": {
      "text/plain": [
       "True"
      ]
     },
     "execution_count": 47,
     "metadata": {},
     "output_type": "execute_result"
    }
   ],
   "source": [
    "5 < 6"
   ]
  },
  {
   "cell_type": "code",
   "execution_count": null,
   "id": "7cd9b2b6",
   "metadata": {},
   "outputs": [],
   "source": []
  },
  {
   "cell_type": "code",
   "execution_count": null,
   "id": "efbc845f",
   "metadata": {},
   "outputs": [],
   "source": [
    "#Requirement\n",
    "a=6\n",
    "b=6\n",
    "# Variable a is equal to b or greater than b is correct"
   ]
  },
  {
   "cell_type": "code",
   "execution_count": 56,
   "id": "ed028c90",
   "metadata": {},
   "outputs": [
    {
     "data": {
      "text/plain": [
       "False"
      ]
     },
     "execution_count": 56,
     "metadata": {},
     "output_type": "execute_result"
    }
   ],
   "source": [
    "6 > 6"
   ]
  },
  {
   "cell_type": "code",
   "execution_count": 55,
   "id": "fcc9afe5",
   "metadata": {},
   "outputs": [
    {
     "data": {
      "text/plain": [
       "True"
      ]
     },
     "execution_count": 55,
     "metadata": {},
     "output_type": "execute_result"
    }
   ],
   "source": [
    "6==6"
   ]
  },
  {
   "cell_type": "code",
   "execution_count": 59,
   "id": "361e7bea",
   "metadata": {},
   "outputs": [
    {
     "data": {
      "text/plain": [
       "True"
      ]
     },
     "execution_count": 59,
     "metadata": {},
     "output_type": "execute_result"
    }
   ],
   "source": [
    "7 >= 6"
   ]
  },
  {
   "cell_type": "code",
   "execution_count": 60,
   "id": "f84af8b4",
   "metadata": {},
   "outputs": [
    {
     "data": {
      "text/plain": [
       "True"
      ]
     },
     "execution_count": 60,
     "metadata": {},
     "output_type": "execute_result"
    }
   ],
   "source": [
    "7 >= 7   # Is checking left hand side is equal to right hand side if true then Result ==> True\n",
    "        # Also Is checking left hand side is greater than right hand side if true then Result ==> True\n"
   ]
  },
  {
   "cell_type": "code",
   "execution_count": 58,
   "id": "47868a58",
   "metadata": {},
   "outputs": [
    {
     "data": {
      "text/plain": [
       "True"
      ]
     },
     "execution_count": 58,
     "metadata": {},
     "output_type": "execute_result"
    }
   ],
   "source": [
    "6 == 6"
   ]
  },
  {
   "cell_type": "code",
   "execution_count": 50,
   "id": "0920c957",
   "metadata": {},
   "outputs": [
    {
     "data": {
      "text/plain": [
       "False"
      ]
     },
     "execution_count": 50,
     "metadata": {},
     "output_type": "execute_result"
    }
   ],
   "source": [
    "6 > 6"
   ]
  },
  {
   "cell_type": "code",
   "execution_count": null,
   "id": "1b1e1217",
   "metadata": {},
   "outputs": [],
   "source": []
  },
  {
   "cell_type": "code",
   "execution_count": null,
   "id": "840a9eb4",
   "metadata": {},
   "outputs": [],
   "source": []
  },
  {
   "cell_type": "code",
   "execution_count": null,
   "id": "45fa2327",
   "metadata": {},
   "outputs": [],
   "source": []
  },
  {
   "cell_type": "code",
   "execution_count": null,
   "id": "97da8227",
   "metadata": {},
   "outputs": [],
   "source": []
  },
  {
   "cell_type": "code",
   "execution_count": null,
   "id": "add80863",
   "metadata": {},
   "outputs": [],
   "source": []
  },
  {
   "cell_type": "code",
   "execution_count": null,
   "id": "f19cb55f",
   "metadata": {},
   "outputs": [],
   "source": [
    "x = 20\n",
    "y = 30"
   ]
  },
  {
   "cell_type": "code",
   "execution_count": null,
   "id": "3ce55e9b",
   "metadata": {},
   "outputs": [],
   "source": [
    "x!=y"
   ]
  },
  {
   "cell_type": "code",
   "execution_count": null,
   "id": "fc444e1c",
   "metadata": {},
   "outputs": [],
   "source": [
    "print('Is x greater than y :- ',x>y)"
   ]
  },
  {
   "cell_type": "code",
   "execution_count": null,
   "id": "655b7b7b",
   "metadata": {},
   "outputs": [],
   "source": [
    "print('Is x less than y :- ',x<y)"
   ]
  },
  {
   "cell_type": "code",
   "execution_count": null,
   "id": "9e061e2a",
   "metadata": {},
   "outputs": [],
   "source": [
    "print('Is x equal to y :- ',x==y)"
   ]
  },
  {
   "cell_type": "code",
   "execution_count": null,
   "id": "5c0e614a",
   "metadata": {},
   "outputs": [],
   "source": [
    "print('Is x not equal to y :- ',x!=y)"
   ]
  },
  {
   "cell_type": "code",
   "execution_count": null,
   "id": "364fbc20",
   "metadata": {},
   "outputs": [],
   "source": [
    "print('Is x greater than or equal to y :- ',x>=y)"
   ]
  },
  {
   "cell_type": "code",
   "execution_count": null,
   "id": "35bd4d21",
   "metadata": {},
   "outputs": [],
   "source": [
    "print('Is x less than or equal to y :- ',x<=y)"
   ]
  },
  {
   "cell_type": "code",
   "execution_count": null,
   "id": "9ee14f2f",
   "metadata": {},
   "outputs": [],
   "source": []
  },
  {
   "cell_type": "code",
   "execution_count": null,
   "id": "5f4e4066",
   "metadata": {},
   "outputs": [],
   "source": [
    "a = 5\n",
    "b = 5"
   ]
  },
  {
   "cell_type": "code",
   "execution_count": null,
   "id": "ce082607",
   "metadata": {},
   "outputs": [],
   "source": [
    "a<b"
   ]
  },
  {
   "cell_type": "code",
   "execution_count": null,
   "id": "7b434a1a",
   "metadata": {},
   "outputs": [],
   "source": [
    "a<=b"
   ]
  },
  {
   "cell_type": "code",
   "execution_count": null,
   "id": "d8012760",
   "metadata": {},
   "outputs": [],
   "source": []
  },
  {
   "cell_type": "code",
   "execution_count": null,
   "id": "444da933",
   "metadata": {},
   "outputs": [],
   "source": []
  },
  {
   "cell_type": "markdown",
   "id": "3a241b00",
   "metadata": {},
   "source": [
    "## 3) Logical Operators :-\n",
    "\n",
    "    Operator\t                            Description\t\n",
    "    and      Logical AND\t    If both the operands are true then condition becomes true.\t(a and b) is true.\n",
    "    or        Logical OR\t    If any of the two operands are non-zero then condition becomes true. (a or b) is true.\n",
    "    not       Logical NOT\t    Used to reverse the logical state of its operand."
   ]
  },
  {
   "cell_type": "code",
   "execution_count": null,
   "id": "ead5e927",
   "metadata": {},
   "outputs": [],
   "source": [
    "# and\n",
    "True and True ===> True\n",
    "True and False ===> False\n",
    "False and True===> False\n",
    "False and False ===> False"
   ]
  },
  {
   "cell_type": "code",
   "execution_count": null,
   "id": "0c7f6e49",
   "metadata": {},
   "outputs": [],
   "source": [
    "12 < 13 and 7 == 7"
   ]
  },
  {
   "cell_type": "code",
   "execution_count": null,
   "id": "e05c6e35",
   "metadata": {},
   "outputs": [],
   "source": [
    "print(12 < 13 and 7 == 7)    "
   ]
  },
  {
   "cell_type": "code",
   "execution_count": null,
   "id": "4cb88950",
   "metadata": {},
   "outputs": [],
   "source": [
    "print(12 >= 13 and 7 != 6)   "
   ]
  },
  {
   "cell_type": "code",
   "execution_count": null,
   "id": "c9842e98",
   "metadata": {},
   "outputs": [],
   "source": [
    "print(12 == 11 and 7 == 8)  "
   ]
  },
  {
   "cell_type": "code",
   "execution_count": null,
   "id": "e24f5580",
   "metadata": {},
   "outputs": [],
   "source": [
    " \n",
    "print(12 > 11 and 7 == 8)  "
   ]
  },
  {
   "cell_type": "code",
   "execution_count": null,
   "id": "67f229cb",
   "metadata": {},
   "outputs": [],
   "source": [
    "print(12 > 11 and 7 != 8)  "
   ]
  },
  {
   "cell_type": "code",
   "execution_count": null,
   "id": "5e57df4e",
   "metadata": {},
   "outputs": [],
   "source": []
  },
  {
   "cell_type": "code",
   "execution_count": null,
   "id": "b35485a4",
   "metadata": {},
   "outputs": [],
   "source": [
    "a = 5 < 4 \n",
    "a"
   ]
  },
  {
   "cell_type": "code",
   "execution_count": null,
   "id": "c282324d",
   "metadata": {},
   "outputs": [],
   "source": [
    "b = 5 <= 6\n",
    "b"
   ]
  },
  {
   "cell_type": "code",
   "execution_count": null,
   "id": "c5890acd",
   "metadata": {},
   "outputs": [],
   "source": [
    "print(a)\n",
    "print(b)"
   ]
  },
  {
   "cell_type": "code",
   "execution_count": null,
   "id": "9e3aaf6f",
   "metadata": {},
   "outputs": [],
   "source": [
    "a and b"
   ]
  },
  {
   "cell_type": "code",
   "execution_count": null,
   "id": "9682b01a",
   "metadata": {},
   "outputs": [],
   "source": [
    "2>3 and 5<6"
   ]
  },
  {
   "cell_type": "code",
   "execution_count": null,
   "id": "db0db12c",
   "metadata": {},
   "outputs": [],
   "source": []
  },
  {
   "cell_type": "code",
   "execution_count": null,
   "id": "7a7ed430",
   "metadata": {},
   "outputs": [],
   "source": []
  },
  {
   "cell_type": "code",
   "execution_count": null,
   "id": "5ec6feff",
   "metadata": {},
   "outputs": [],
   "source": []
  },
  {
   "cell_type": "code",
   "execution_count": null,
   "id": "99dc737c",
   "metadata": {},
   "outputs": [],
   "source": []
  },
  {
   "cell_type": "code",
   "execution_count": null,
   "id": "242e16ee",
   "metadata": {},
   "outputs": [],
   "source": []
  },
  {
   "cell_type": "code",
   "execution_count": null,
   "id": "b0562305",
   "metadata": {},
   "outputs": [],
   "source": []
  },
  {
   "cell_type": "code",
   "execution_count": null,
   "id": "26a58154",
   "metadata": {},
   "outputs": [],
   "source": [
    "# OR\n",
    "True or True ===> True\n",
    "True or False ===> True\n",
    "False or True===> True\n",
    "False or False ===> False"
   ]
  },
  {
   "cell_type": "code",
   "execution_count": null,
   "id": "037be7e1",
   "metadata": {},
   "outputs": [],
   "source": [
    "2<3 or 5<4"
   ]
  },
  {
   "cell_type": "code",
   "execution_count": null,
   "id": "0c13d1f1",
   "metadata": {},
   "outputs": [],
   "source": [
    "2<3 or 5>4"
   ]
  },
  {
   "cell_type": "code",
   "execution_count": null,
   "id": "128681fb",
   "metadata": {},
   "outputs": [],
   "source": [
    "2>3 or 5<4"
   ]
  },
  {
   "cell_type": "code",
   "execution_count": null,
   "id": "3e762f0e",
   "metadata": {},
   "outputs": [],
   "source": [
    "a = 2<3 or 5<4"
   ]
  },
  {
   "cell_type": "code",
   "execution_count": null,
   "id": "1d1d25c5",
   "metadata": {},
   "outputs": [],
   "source": [
    "a"
   ]
  },
  {
   "cell_type": "code",
   "execution_count": null,
   "id": "20112955",
   "metadata": {},
   "outputs": [],
   "source": [
    "bb = 2>3 or 5<4"
   ]
  },
  {
   "cell_type": "code",
   "execution_count": null,
   "id": "afa10489",
   "metadata": {},
   "outputs": [],
   "source": [
    "b"
   ]
  },
  {
   "cell_type": "code",
   "execution_count": null,
   "id": "36fc8ece",
   "metadata": {},
   "outputs": [],
   "source": [
    "bb"
   ]
  },
  {
   "cell_type": "code",
   "execution_count": null,
   "id": "2e143dd9",
   "metadata": {},
   "outputs": [],
   "source": [
    "not bb"
   ]
  },
  {
   "cell_type": "code",
   "execution_count": null,
   "id": "5b62e4ea",
   "metadata": {},
   "outputs": [],
   "source": [
    "# not"
   ]
  },
  {
   "cell_type": "code",
   "execution_count": null,
   "id": "f81b09ba",
   "metadata": {},
   "outputs": [],
   "source": [
    "cc = not bb"
   ]
  },
  {
   "cell_type": "code",
   "execution_count": null,
   "id": "2e3be266",
   "metadata": {},
   "outputs": [],
   "source": [
    "cc"
   ]
  },
  {
   "cell_type": "code",
   "execution_count": null,
   "id": "2a9eba7f",
   "metadata": {},
   "outputs": [],
   "source": [
    "not cc"
   ]
  },
  {
   "cell_type": "markdown",
   "id": "9aae7765",
   "metadata": {},
   "source": [
    "There are two built-in functions for multiple condition\n",
    "\n",
    "all() :- True if all True otherwise False\n",
    "any() :- True if at least one is True\n",
    "\n",
    "The all() function returns True if all elements in the iterable are truthy (i.e., non-zero, non-empty, or True), or False if at least one element is falsy (i.e., zero, empty, or False)"
   ]
  },
  {
   "cell_type": "code",
   "execution_count": null,
   "id": "2b684297",
   "metadata": {},
   "outputs": [],
   "source": [
    "all((12 < 13 , 7 == 7,12 <= 13 , 7 != 6)) "
   ]
  },
  {
   "cell_type": "code",
   "execution_count": null,
   "id": "41dd9f21",
   "metadata": {},
   "outputs": [],
   "source": [
    "all((12 < 13 , 7 == 7,12 <= 13 , 7 != 6 , 0))   #why?"
   ]
  },
  {
   "cell_type": "code",
   "execution_count": null,
   "id": "d1d55cc6",
   "metadata": {},
   "outputs": [],
   "source": [
    "all((12 < 13 , 7 == 7,12 <= 13 , 7 != 6 ,False))"
   ]
  },
  {
   "cell_type": "code",
   "execution_count": null,
   "id": "f464c801",
   "metadata": {},
   "outputs": [],
   "source": [
    "any((12 < 13 , 7 == 7,12 <= 13 , 7 != 6 , 0))"
   ]
  },
  {
   "cell_type": "markdown",
   "id": "4067f33a",
   "metadata": {},
   "source": [
    "## 4) Special operators"
   ]
  },
  {
   "cell_type": "markdown",
   "id": "5e418a8c",
   "metadata": {},
   "source": [
    " 1) Identity operators\n",
    " \n",
    " 2) Membership operators"
   ]
  },
  {
   "cell_type": "markdown",
   "id": "e02bb9f0",
   "metadata": {},
   "source": [
    "### 1) Identity operators\n",
    "\n",
    "    Operator\tDescription\t\n",
    "      is \t    Returns true if both variables are the same object\t\n",
    "     is not  \tReturns true if both variables are not the same object"
   ]
  },
  {
   "cell_type": "code",
   "execution_count": 19,
   "id": "7c6f0b7f",
   "metadata": {},
   "outputs": [],
   "source": [
    "# eg\n",
    "x = 10\n",
    "y = 11 \n",
    "z = '10'"
   ]
  },
  {
   "cell_type": "code",
   "execution_count": 20,
   "id": "7d8d371e",
   "metadata": {},
   "outputs": [
    {
     "data": {
      "text/plain": [
       "10"
      ]
     },
     "execution_count": 20,
     "metadata": {},
     "output_type": "execute_result"
    }
   ],
   "source": [
    "x"
   ]
  },
  {
   "cell_type": "code",
   "execution_count": 21,
   "id": "f2a22e5b",
   "metadata": {},
   "outputs": [
    {
     "data": {
      "text/plain": [
       "11"
      ]
     },
     "execution_count": 21,
     "metadata": {},
     "output_type": "execute_result"
    }
   ],
   "source": [
    "y"
   ]
  },
  {
   "cell_type": "code",
   "execution_count": 22,
   "id": "d8e7108b",
   "metadata": {},
   "outputs": [
    {
     "data": {
      "text/plain": [
       "'10'"
      ]
     },
     "execution_count": 22,
     "metadata": {},
     "output_type": "execute_result"
    }
   ],
   "source": [
    "z"
   ]
  },
  {
   "cell_type": "code",
   "execution_count": 23,
   "id": "e621a75f",
   "metadata": {},
   "outputs": [
    {
     "name": "stdout",
     "output_type": "stream",
     "text": [
      "False\n",
      "False\n"
     ]
    }
   ],
   "source": [
    "print(x is y) \n",
    "print(x is z) "
   ]
  },
  {
   "cell_type": "code",
   "execution_count": 24,
   "id": "1854ff9c",
   "metadata": {},
   "outputs": [
    {
     "name": "stdout",
     "output_type": "stream",
     "text": [
      "True\n",
      "True\n"
     ]
    }
   ],
   "source": [
    "print(x is not y) \n",
    "print(x is not z) "
   ]
  },
  {
   "cell_type": "code",
   "execution_count": 25,
   "id": "c032527d",
   "metadata": {},
   "outputs": [
    {
     "name": "stdout",
     "output_type": "stream",
     "text": [
      "2024291134032\n",
      "2024291134064\n",
      "2024303982832\n"
     ]
    }
   ],
   "source": [
    "print(id(x))\n",
    "print(id(y))\n",
    "print(id(z))"
   ]
  },
  {
   "cell_type": "code",
   "execution_count": 38,
   "id": "7b8d0964",
   "metadata": {},
   "outputs": [],
   "source": [
    "a=\"5\""
   ]
  },
  {
   "cell_type": "code",
   "execution_count": 39,
   "id": "32ac5672",
   "metadata": {},
   "outputs": [
    {
     "data": {
      "text/plain": [
       "'5'"
      ]
     },
     "execution_count": 39,
     "metadata": {},
     "output_type": "execute_result"
    }
   ],
   "source": [
    "a"
   ]
  },
  {
   "cell_type": "code",
   "execution_count": 50,
   "id": "c0587cb7",
   "metadata": {},
   "outputs": [],
   "source": [
    "b=5"
   ]
  },
  {
   "cell_type": "code",
   "execution_count": 46,
   "id": "17d3366a",
   "metadata": {},
   "outputs": [
    {
     "data": {
      "text/plain": [
       "'5'"
      ]
     },
     "execution_count": 46,
     "metadata": {},
     "output_type": "execute_result"
    }
   ],
   "source": [
    "b"
   ]
  },
  {
   "cell_type": "code",
   "execution_count": 47,
   "id": "109a4c67",
   "metadata": {},
   "outputs": [],
   "source": [
    "c=5.0"
   ]
  },
  {
   "cell_type": "code",
   "execution_count": 48,
   "id": "d04c357c",
   "metadata": {},
   "outputs": [
    {
     "data": {
      "text/plain": [
       "5.0"
      ]
     },
     "execution_count": 48,
     "metadata": {},
     "output_type": "execute_result"
    }
   ],
   "source": [
    "c"
   ]
  },
  {
   "cell_type": "code",
   "execution_count": 49,
   "id": "867d166d",
   "metadata": {},
   "outputs": [
    {
     "data": {
      "text/plain": [
       "True"
      ]
     },
     "execution_count": 49,
     "metadata": {},
     "output_type": "execute_result"
    }
   ],
   "source": [
    "a is b"
   ]
  },
  {
   "cell_type": "code",
   "execution_count": 43,
   "id": "8547e2d0",
   "metadata": {},
   "outputs": [
    {
     "data": {
      "text/plain": [
       "2024292058800"
      ]
     },
     "execution_count": 43,
     "metadata": {},
     "output_type": "execute_result"
    }
   ],
   "source": [
    "id(a)"
   ]
  },
  {
   "cell_type": "code",
   "execution_count": 44,
   "id": "4966cce3",
   "metadata": {},
   "outputs": [
    {
     "data": {
      "text/plain": [
       "2024291133872"
      ]
     },
     "execution_count": 44,
     "metadata": {},
     "output_type": "execute_result"
    }
   ],
   "source": [
    "id(b)"
   ]
  },
  {
   "cell_type": "code",
   "execution_count": 35,
   "id": "e120e90e",
   "metadata": {},
   "outputs": [
    {
     "data": {
      "text/plain": [
       "False"
      ]
     },
     "execution_count": 35,
     "metadata": {},
     "output_type": "execute_result"
    }
   ],
   "source": [
    "c is b"
   ]
  },
  {
   "cell_type": "code",
   "execution_count": 36,
   "id": "cb30edc0",
   "metadata": {},
   "outputs": [
    {
     "data": {
      "text/plain": [
       "2024372085072"
      ]
     },
     "execution_count": 36,
     "metadata": {},
     "output_type": "execute_result"
    }
   ],
   "source": [
    "id(c)"
   ]
  },
  {
   "cell_type": "code",
   "execution_count": 37,
   "id": "a9cfc5a0",
   "metadata": {},
   "outputs": [
    {
     "data": {
      "text/plain": [
       "2024291133872"
      ]
     },
     "execution_count": 37,
     "metadata": {},
     "output_type": "execute_result"
    }
   ],
   "source": [
    "id(b)"
   ]
  },
  {
   "cell_type": "code",
   "execution_count": null,
   "id": "fbda2fdc",
   "metadata": {},
   "outputs": [],
   "source": []
  },
  {
   "cell_type": "code",
   "execution_count": null,
   "id": "e6b862c3",
   "metadata": {},
   "outputs": [],
   "source": []
  },
  {
   "cell_type": "markdown",
   "id": "1c014923",
   "metadata": {},
   "source": [
    "### 2) Membership Operator\n",
    "\n",
    "    Operator\t   Description\t\n",
    "      in\t        Evaluates to true if it finds a variable in the specified sequence and false otherwise.\n",
    "      not in\t    Evaluates to true if it does not finds a variable in the specified sequence and false otherwise."
   ]
  },
  {
   "cell_type": "code",
   "execution_count": null,
   "id": "1655c1db",
   "metadata": {},
   "outputs": [],
   "source": [
    "a = 'h'\n",
    "b = 'hello'\n",
    "c = 'world'"
   ]
  },
  {
   "cell_type": "code",
   "execution_count": null,
   "id": "3d5236fa",
   "metadata": {},
   "outputs": [],
   "source": [
    "print(a in b)"
   ]
  },
  {
   "cell_type": "code",
   "execution_count": null,
   "id": "c12e41c7",
   "metadata": {},
   "outputs": [],
   "source": [
    "print(a in c)"
   ]
  },
  {
   "cell_type": "code",
   "execution_count": null,
   "id": "125c68a3",
   "metadata": {},
   "outputs": [],
   "source": [
    "print(a not in c)"
   ]
  },
  {
   "cell_type": "code",
   "execution_count": null,
   "id": "b28e77df",
   "metadata": {},
   "outputs": [],
   "source": []
  },
  {
   "cell_type": "markdown",
   "id": "b471133f",
   "metadata": {},
   "source": []
  },
  {
   "cell_type": "markdown",
   "id": "e68fd247",
   "metadata": {},
   "source": [
    "## 5) Assignment operators:\n",
    "\n",
    "        Operator\t    Description\t                                                            \n",
    "    =\t                Assigns values from right side operands to left side operand\t\n",
    "    +=  Add AND\t        It adds right operand to the left operand and assign the result to left operand\t\n",
    "    -=  Subtract AND\tIt subtracts right operand from the left operand and assign the result to left operand\t\n",
    "    *=  Multiply AND\tIt multiplies right operand with the left operand and assign the result to left operand\t\n",
    "    /=  Divide AND\t    It divides left operand with the right operand and assign the result to left operand\t\n",
    "    %=  Modulus AND\t    It takes modulus using two operands and assign the result to left operand\tc %= a is equivalent to \n",
    "    **=  Exponent AND\tPerforms exponential (power) calculation on operators and assign value to the left operand\t\n",
    "    //=  Floor Division\tIt performs floor division on operators and assign value to the left operand"
   ]
  },
  {
   "cell_type": "code",
   "execution_count": null,
   "id": "891999a2",
   "metadata": {},
   "outputs": [],
   "source": [
    "# eg.\n",
    "z=5"
   ]
  },
  {
   "cell_type": "code",
   "execution_count": null,
   "id": "88b55eb6",
   "metadata": {},
   "outputs": [],
   "source": [
    "z+=2"
   ]
  },
  {
   "cell_type": "code",
   "execution_count": null,
   "id": "b08e8322",
   "metadata": {},
   "outputs": [],
   "source": [
    "print(z)"
   ]
  },
  {
   "cell_type": "code",
   "execution_count": null,
   "id": "217521b3",
   "metadata": {},
   "outputs": [],
   "source": [
    "z-=3"
   ]
  },
  {
   "cell_type": "code",
   "execution_count": null,
   "id": "d45ec3a9",
   "metadata": {},
   "outputs": [],
   "source": [
    "print(z)"
   ]
  },
  {
   "cell_type": "code",
   "execution_count": null,
   "id": "d5635109",
   "metadata": {},
   "outputs": [],
   "source": [
    "z*=2\n",
    "print(z)"
   ]
  },
  {
   "cell_type": "code",
   "execution_count": null,
   "id": "6b9a0c2f",
   "metadata": {},
   "outputs": [],
   "source": [
    "z**=2\n",
    "print(z)"
   ]
  },
  {
   "cell_type": "code",
   "execution_count": null,
   "id": "079825df",
   "metadata": {},
   "outputs": [],
   "source": [
    "z/=2\n",
    "print(z)"
   ]
  },
  {
   "cell_type": "code",
   "execution_count": null,
   "id": "20ec34c4",
   "metadata": {},
   "outputs": [],
   "source": [
    "z//=2\n",
    "print(z)"
   ]
  },
  {
   "cell_type": "code",
   "execution_count": null,
   "id": "865e97d2",
   "metadata": {},
   "outputs": [],
   "source": [
    "z%=2\n",
    "print(z)"
   ]
  },
  {
   "cell_type": "code",
   "execution_count": null,
   "id": "a184c0b0",
   "metadata": {},
   "outputs": [],
   "source": []
  },
  {
   "cell_type": "code",
   "execution_count": null,
   "id": "aafd0bfd",
   "metadata": {},
   "outputs": [],
   "source": [
    "# eg.\n",
    "a = 2\n",
    "b = 2\n",
    "c = 10\n",
    "print(a)\n",
    "a = 3\n",
    "print(a)\n",
    "a +=1\n",
    "print(a)\n",
    "b -= 1\n",
    "print(b)\n",
    "b *= 2\n",
    "print(b)\n",
    "b /= 2\n",
    "print(b)\n",
    "c %= 2\n",
    "print(c)\n",
    "c +=2\n",
    "c **=2\n",
    "print(c)\n",
    "c //=2\n",
    "print(c)"
   ]
  },
  {
   "cell_type": "code",
   "execution_count": null,
   "id": "c0bca7f6",
   "metadata": {},
   "outputs": [],
   "source": [
    "2%9"
   ]
  },
  {
   "cell_type": "code",
   "execution_count": null,
   "id": "d35ef3ca",
   "metadata": {},
   "outputs": [],
   "source": [
    "9%2"
   ]
  },
  {
   "cell_type": "code",
   "execution_count": null,
   "id": "66389204",
   "metadata": {},
   "outputs": [],
   "source": []
  }
 ],
 "metadata": {
  "kernelspec": {
   "display_name": "Python 3 (ipykernel)",
   "language": "python",
   "name": "python3"
  },
  "language_info": {
   "codemirror_mode": {
    "name": "ipython",
    "version": 3
   },
   "file_extension": ".py",
   "mimetype": "text/x-python",
   "name": "python",
   "nbconvert_exporter": "python",
   "pygments_lexer": "ipython3",
   "version": "3.9.7"
  }
 },
 "nbformat": 4,
 "nbformat_minor": 5
}
