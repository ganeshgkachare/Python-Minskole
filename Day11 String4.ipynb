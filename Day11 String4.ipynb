{
 "cells": [
  {
   "cell_type": "markdown",
   "id": "5b8cebdc",
   "metadata": {},
   "source": [
    "## String Methods"
   ]
  },
  {
   "cell_type": "raw",
   "id": "94e65440",
   "metadata": {},
   "source": [
    "\"\"\"\n",
    " String Methods :-\n",
    "\n",
    " syntax:-\n",
    "        stringVariableName.method()\n",
    "\"\"\""
   ]
  },
  {
   "cell_type": "code",
   "execution_count": null,
   "id": "c09ad8b2",
   "metadata": {},
   "outputs": [],
   "source": [
    "a=\"Pythonclass\""
   ]
  },
  {
   "cell_type": "code",
   "execution_count": null,
   "id": "4dc96cda",
   "metadata": {},
   "outputs": [],
   "source": [
    "a.isalnum()"
   ]
  },
  {
   "cell_type": "code",
   "execution_count": 8,
   "id": "bea69b11",
   "metadata": {},
   "outputs": [],
   "source": [
    "String = \"Pythonclass\"  #(a-z A-Z 0-9)\n",
    "# isalnum() \n",
    "# Returns True if all characters in the string are alphanumeric .meaning alphabet letter (a-z) and numbers (0-9)\n",
    "# not alphanumeric: (space)!#%&? "
   ]
  },
  {
   "cell_type": "code",
   "execution_count": null,
   "id": "bb75f019",
   "metadata": {},
   "outputs": [],
   "source": [
    "String.isalnum()"
   ]
  },
  {
   "cell_type": "code",
   "execution_count": null,
   "id": "2d9dc976",
   "metadata": {},
   "outputs": [],
   "source": [
    "String.isalnum()"
   ]
  },
  {
   "cell_type": "code",
   "execution_count": null,
   "id": "bb33412b",
   "metadata": {},
   "outputs": [],
   "source": [
    "\"Pythonclass\".isalnum()"
   ]
  },
  {
   "cell_type": "code",
   "execution_count": 9,
   "id": "c3599191",
   "metadata": {},
   "outputs": [
    {
     "data": {
      "text/plain": [
       "False"
      ]
     },
     "execution_count": 9,
     "metadata": {},
     "output_type": "execute_result"
    }
   ],
   "source": [
    "\"Python class\".isalnum()"
   ]
  },
  {
   "cell_type": "code",
   "execution_count": null,
   "id": "fbfaa7cb",
   "metadata": {},
   "outputs": [],
   "source": [
    "\"abcd65876\".isalnum()"
   ]
  },
  {
   "cell_type": "code",
   "execution_count": null,
   "id": "682a2a6f",
   "metadata": {},
   "outputs": [],
   "source": [
    "\"abcd 65876\".isalnum()"
   ]
  },
  {
   "cell_type": "code",
   "execution_count": 10,
   "id": "b7871dd9",
   "metadata": {},
   "outputs": [
    {
     "data": {
      "text/plain": [
       "False"
      ]
     },
     "execution_count": 10,
     "metadata": {},
     "output_type": "execute_result"
    }
   ],
   "source": [
    "\"abcd,65876\".isalnum()"
   ]
  },
  {
   "cell_type": "code",
   "execution_count": 11,
   "id": "8ffa62c3",
   "metadata": {},
   "outputs": [
    {
     "data": {
      "text/plain": [
       "True"
      ]
     },
     "execution_count": 11,
     "metadata": {},
     "output_type": "execute_result"
    }
   ],
   "source": [
    "\"abcd65876\".isalnum()"
   ]
  },
  {
   "cell_type": "code",
   "execution_count": 14,
   "id": "c728973c",
   "metadata": {},
   "outputs": [
    {
     "data": {
      "text/plain": [
       "True"
      ]
     },
     "execution_count": 14,
     "metadata": {},
     "output_type": "execute_result"
    }
   ],
   "source": [
    "# isalpha()\n",
    "# Returns True if all characters in the string are alphabet letters. (a-z A-Z)\n",
    "str1 = String.isalpha() \n",
    "str1"
   ]
  },
  {
   "cell_type": "code",
   "execution_count": 13,
   "id": "f9efc5b5",
   "metadata": {},
   "outputs": [],
   "source": [
    "String = \"Pythonclass\""
   ]
  },
  {
   "cell_type": "code",
   "execution_count": 15,
   "id": "93a205cb",
   "metadata": {},
   "outputs": [
    {
     "data": {
      "text/plain": [
       "False"
      ]
     },
     "execution_count": 15,
     "metadata": {},
     "output_type": "execute_result"
    }
   ],
   "source": [
    "\"abcd65876\".isalpha() "
   ]
  },
  {
   "cell_type": "code",
   "execution_count": 16,
   "id": "041b6136",
   "metadata": {},
   "outputs": [
    {
     "data": {
      "text/plain": [
       "True"
      ]
     },
     "execution_count": 16,
     "metadata": {},
     "output_type": "execute_result"
    }
   ],
   "source": [
    "\"Abcd\".isalpha() "
   ]
  },
  {
   "cell_type": "code",
   "execution_count": 18,
   "id": "4c4942b8",
   "metadata": {},
   "outputs": [
    {
     "name": "stdout",
     "output_type": "stream",
     "text": [
      "PYTHON CLASS\n"
     ]
    }
   ],
   "source": [
    "# upper() \n",
    "# Converts a string into upper case\n",
    "\n",
    "String = \"Python class\"\n",
    "b1 = String.upper()\n",
    "print(b1)"
   ]
  },
  {
   "cell_type": "code",
   "execution_count": 17,
   "id": "fafd27d2",
   "metadata": {},
   "outputs": [
    {
     "data": {
      "text/plain": [
       "'PYTHON'"
      ]
     },
     "execution_count": 17,
     "metadata": {},
     "output_type": "execute_result"
    }
   ],
   "source": [
    "\"python\".upper()"
   ]
  },
  {
   "cell_type": "code",
   "execution_count": 19,
   "id": "964ee9cd",
   "metadata": {},
   "outputs": [
    {
     "name": "stdout",
     "output_type": "stream",
     "text": [
      "True\n"
     ]
    }
   ],
   "source": [
    "#isupper()\n",
    "a3 = \"PYTHON\"\n",
    "b3 = a3.isupper()\n",
    "print(b3)"
   ]
  },
  {
   "cell_type": "code",
   "execution_count": 20,
   "id": "fdf673bf",
   "metadata": {},
   "outputs": [
    {
     "name": "stdout",
     "output_type": "stream",
     "text": [
      "False\n"
     ]
    }
   ],
   "source": [
    "a3 = \"PYTHOn\"\n",
    "b3 = a3.isupper()\n",
    "print(b3)"
   ]
  },
  {
   "cell_type": "code",
   "execution_count": null,
   "id": "17a4f589",
   "metadata": {},
   "outputs": [],
   "source": []
  },
  {
   "cell_type": "code",
   "execution_count": 21,
   "id": "6e8a60ed",
   "metadata": {},
   "outputs": [
    {
     "name": "stdout",
     "output_type": "stream",
     "text": [
      "True\n"
     ]
    }
   ],
   "source": [
    "#islower()\n",
    "a4 = \"python\"\n",
    "b4 = a4.islower()\n",
    "print(b4)"
   ]
  },
  {
   "cell_type": "code",
   "execution_count": 22,
   "id": "37a3c2e3",
   "metadata": {},
   "outputs": [
    {
     "data": {
      "text/plain": [
       "True"
      ]
     },
     "execution_count": 22,
     "metadata": {},
     "output_type": "execute_result"
    }
   ],
   "source": [
    "a4.islower()"
   ]
  },
  {
   "cell_type": "code",
   "execution_count": null,
   "id": "6eb0de5e",
   "metadata": {},
   "outputs": [],
   "source": []
  },
  {
   "cell_type": "code",
   "execution_count": 23,
   "id": "ae004e3d",
   "metadata": {},
   "outputs": [
    {
     "name": "stdout",
     "output_type": "stream",
     "text": [
      "My name is raj\n"
     ]
    }
   ],
   "source": [
    "#capitalize()\n",
    "\n",
    "a5 = \"my name is Raj\"\n",
    "b5 = a5.capitalize()\n",
    "print(b5)"
   ]
  },
  {
   "cell_type": "code",
   "execution_count": 24,
   "id": "2db7439c",
   "metadata": {},
   "outputs": [
    {
     "data": {
      "text/plain": [
       "'My Name Is Raj'"
      ]
     },
     "execution_count": 24,
     "metadata": {},
     "output_type": "execute_result"
    }
   ],
   "source": [
    "a5.title()"
   ]
  },
  {
   "cell_type": "code",
   "execution_count": 25,
   "id": "2c8dc267",
   "metadata": {},
   "outputs": [
    {
     "data": {
      "text/plain": [
       "'dATA SCIENCE mASTERS'"
      ]
     },
     "execution_count": 25,
     "metadata": {},
     "output_type": "execute_result"
    }
   ],
   "source": [
    "#swapcase()\n",
    "name=\"Data science Masters\"\n",
    "name.swapcase()"
   ]
  },
  {
   "cell_type": "code",
   "execution_count": 26,
   "id": "41e0beab",
   "metadata": {},
   "outputs": [
    {
     "name": "stdout",
     "output_type": "stream",
     "text": [
      "True\n"
     ]
    }
   ],
   "source": [
    "# startswith()\n",
    "\n",
    "a6 = \"delhi\"\n",
    "b6 = a6.startswith(\"d\")\n",
    "print(b6)"
   ]
  },
  {
   "cell_type": "code",
   "execution_count": 27,
   "id": "57ca5f6c",
   "metadata": {},
   "outputs": [
    {
     "name": "stdout",
     "output_type": "stream",
     "text": [
      "True\n"
     ]
    }
   ],
   "source": [
    "\n",
    "a6 = \"delhi\"\n",
    "b6 = a6.startswith(\"del\")\n",
    "print(b6)"
   ]
  },
  {
   "cell_type": "code",
   "execution_count": 30,
   "id": "91a46464",
   "metadata": {},
   "outputs": [
    {
     "name": "stdout",
     "output_type": "stream",
     "text": [
      "False\n"
     ]
    }
   ],
   "source": [
    "\n",
    "a6 = \"Delhi\"\n",
    "b6 = a6.startswith(\"del\")\n",
    "print(b6)"
   ]
  },
  {
   "cell_type": "code",
   "execution_count": 31,
   "id": "570620a1",
   "metadata": {},
   "outputs": [
    {
     "name": "stdout",
     "output_type": "stream",
     "text": [
      "True\n"
     ]
    }
   ],
   "source": [
    "a6 = \"Delhi\"\n",
    "b2=a6.lower()\n",
    "b6 = b2.startswith(\"del\")\n",
    "print(b6)"
   ]
  },
  {
   "cell_type": "code",
   "execution_count": 33,
   "id": "e0a96837",
   "metadata": {},
   "outputs": [
    {
     "data": {
      "text/plain": [
       "True"
      ]
     },
     "execution_count": 33,
     "metadata": {},
     "output_type": "execute_result"
    }
   ],
   "source": [
    "\"Delhi\".lower().startswith(\"del\")"
   ]
  },
  {
   "cell_type": "code",
   "execution_count": null,
   "id": "7cdf7921",
   "metadata": {},
   "outputs": [],
   "source": []
  },
  {
   "cell_type": "code",
   "execution_count": 34,
   "id": "ddee7789",
   "metadata": {},
   "outputs": [
    {
     "name": "stdout",
     "output_type": "stream",
     "text": [
      "True\n"
     ]
    }
   ],
   "source": [
    "#endswith()\n",
    "\n",
    "a7 = \"akola\"\n",
    "b7 = a7.endswith(\"la\")\n",
    "print(b7)"
   ]
  },
  {
   "cell_type": "code",
   "execution_count": 35,
   "id": "40cb8032",
   "metadata": {},
   "outputs": [
    {
     "name": "stdout",
     "output_type": "stream",
     "text": [
      "False\n"
     ]
    }
   ],
   "source": [
    "\n",
    "a7 = \"AKOLA\"\n",
    "b7 = a7.endswith(\"la\")\n",
    "print(b7)"
   ]
  },
  {
   "cell_type": "code",
   "execution_count": 36,
   "id": "57612d9f",
   "metadata": {},
   "outputs": [
    {
     "data": {
      "text/plain": [
       "False"
      ]
     },
     "execution_count": 36,
     "metadata": {},
     "output_type": "execute_result"
    }
   ],
   "source": [
    "\"AKOLA\".upper().endswith(\"la\")"
   ]
  },
  {
   "cell_type": "code",
   "execution_count": 37,
   "id": "b43e9b2b",
   "metadata": {},
   "outputs": [
    {
     "data": {
      "text/plain": [
       "True"
      ]
     },
     "execution_count": 37,
     "metadata": {},
     "output_type": "execute_result"
    }
   ],
   "source": [
    "\"AKOLA\".lower().endswith(\"la\")"
   ]
  },
  {
   "cell_type": "code",
   "execution_count": null,
   "id": "022ac443",
   "metadata": {},
   "outputs": [],
   "source": []
  },
  {
   "cell_type": "code",
   "execution_count": 38,
   "id": "43951e7b",
   "metadata": {},
   "outputs": [
    {
     "name": "stdout",
     "output_type": "stream",
     "text": [
      "5\n"
     ]
    }
   ],
   "source": [
    "#index()\n",
    "\n",
    "a8 = \"I am learning javascript\"\n",
    "b8 = a8.index(\"l\")\n",
    "print(b8)"
   ]
  },
  {
   "cell_type": "code",
   "execution_count": 39,
   "id": "ceb7b89c",
   "metadata": {},
   "outputs": [
    {
     "name": "stdout",
     "output_type": "stream",
     "text": [
      "5\n"
     ]
    }
   ],
   "source": [
    "a8 = \"I am learning javascript. learning\"\n",
    "b8 = a8.index(\"l\")\n",
    "print(b8)"
   ]
  },
  {
   "cell_type": "code",
   "execution_count": null,
   "id": "4662b117",
   "metadata": {},
   "outputs": [],
   "source": []
  },
  {
   "cell_type": "code",
   "execution_count": 40,
   "id": "3544d73d",
   "metadata": {},
   "outputs": [
    {
     "name": "stdout",
     "output_type": "stream",
     "text": [
      "2\n"
     ]
    }
   ],
   "source": [
    "#count()\n",
    "\n",
    "a9 = \"abhisha\"\n",
    "b9 = a9.count('a')\n",
    "print(b9)"
   ]
  },
  {
   "cell_type": "code",
   "execution_count": 41,
   "id": "dfbb0a82",
   "metadata": {},
   "outputs": [
    {
     "name": "stdout",
     "output_type": "stream",
     "text": [
      "I am learning python\n"
     ]
    }
   ],
   "source": [
    "#replace()\n",
    "a10 = \"I am learning javascript\"\n",
    "b10 = a10.replace('javascript','python')\n",
    "print(b10)"
   ]
  },
  {
   "cell_type": "code",
   "execution_count": 42,
   "id": "fb96df32",
   "metadata": {},
   "outputs": [
    {
     "name": "stdout",
     "output_type": "stream",
     "text": [
      "I am learning javascript\n"
     ]
    }
   ],
   "source": [
    "a10 = \"I am learning javascript\"\n",
    "a11 = a10.replace('javascript ','python')\n",
    "print(a11)"
   ]
  },
  {
   "cell_type": "code",
   "execution_count": 46,
   "id": "04465797",
   "metadata": {},
   "outputs": [
    {
     "name": "stdout",
     "output_type": "stream",
     "text": [
      "I am learning python\n"
     ]
    }
   ],
   "source": [
    "a10 = \"I am learning javascript \"\n",
    "a11 = a10.replace('javascript ','python')\n",
    "print(a11)"
   ]
  }
 ],
 "metadata": {
  "kernelspec": {
   "display_name": "Python 3 (ipykernel)",
   "language": "python",
   "name": "python3"
  },
  "language_info": {
   "codemirror_mode": {
    "name": "ipython",
    "version": 3
   },
   "file_extension": ".py",
   "mimetype": "text/x-python",
   "name": "python",
   "nbconvert_exporter": "python",
   "pygments_lexer": "ipython3",
   "version": "3.9.7"
  }
 },
 "nbformat": 4,
 "nbformat_minor": 5
}
