{
 "cells": [
  {
   "cell_type": "markdown",
   "id": "d9bbb90f",
   "metadata": {},
   "source": [
    "## CONDITIONAL STATEMENT IN PYTHON"
   ]
  },
  {
   "cell_type": "code",
   "execution_count": null,
   "id": "169f6a66",
   "metadata": {},
   "outputs": [],
   "source": [
    "if condition:\n",
    "    code1"
   ]
  },
  {
   "cell_type": "code",
   "execution_count": null,
   "id": "21695ce2",
   "metadata": {},
   "outputs": [],
   "source": []
  },
  {
   "cell_type": "code",
   "execution_count": null,
   "id": "c38cf179",
   "metadata": {},
   "outputs": [],
   "source": [
    "a=5\n",
    "if a==5:\n",
    "    print(\"a has value 5\")\n",
    "    print(\"--------\")\n",
    "    \n",
    "    "
   ]
  },
  {
   "cell_type": "code",
   "execution_count": null,
   "id": "a7103d95",
   "metadata": {},
   "outputs": [],
   "source": [
    "if condition:\n",
    "    code1\n",
    "    code2\n",
    "else:\n",
    "    code1"
   ]
  },
  {
   "cell_type": "code",
   "execution_count": null,
   "id": "9c9e80e3",
   "metadata": {},
   "outputs": [],
   "source": [
    "a=\"Hi\"\n",
    "if a==5:\n",
    "    print(\"a has value 5\")\n",
    "    print(\"--------\")\n",
    "if a==6:\n",
    "    print(\"a has value 6\")\n",
    "else:\n",
    "    print(\"a is not number\")\n",
    "    \n",
    "    "
   ]
  },
  {
   "cell_type": "code",
   "execution_count": null,
   "id": "632aad63",
   "metadata": {},
   "outputs": [],
   "source": [
    "if condition:\n",
    "    code1\n",
    "    code2\n",
    "if condition:\n",
    "    code1\n",
    "    code2\n",
    "if condition:\n",
    "    code"
   ]
  },
  {
   "cell_type": "code",
   "execution_count": null,
   "id": "6d6b99fd",
   "metadata": {},
   "outputs": [],
   "source": [
    "if condition:\n",
    "    code1\n",
    "    code2\n",
    "elif condition:\n",
    "    code1\n",
    "    code2\n",
    "elif condition:\n",
    "    code1\n",
    "    code2\n",
    "else:\n",
    "    code"
   ]
  },
  {
   "cell_type": "code",
   "execution_count": null,
   "id": "c8534749",
   "metadata": {},
   "outputs": [],
   "source": [
    "if condition:\n",
    "    code1\n",
    "    code2\n",
    "elif condition:\n",
    "    code1\n",
    "    code2\n",
    "else:"
   ]
  },
  {
   "cell_type": "code",
   "execution_count": 35,
   "id": "9d940f9e",
   "metadata": {},
   "outputs": [],
   "source": [
    "# iterate over the list items \n",
    "a = [1,2,3,4,\"5\",\"6\",\"7\",\"Hello\",\"World\",True,False,\"Houndred\"] \n",
    "\n",
    "# Q.1 Print only True and false\n",
    "# Q.2 Print only int\n",
    "# Q.3 Print only those string that contains \"l\"\n",
    "# Q.4 Print only those string that contains \"l\" at 3rd position #\"Hello\"\n",
    "\n",
    "# Hint:- Use if condition"
   ]
  },
  {
   "cell_type": "code",
   "execution_count": null,
   "id": "5e1dc13f",
   "metadata": {},
   "outputs": [],
   "source": []
  },
  {
   "cell_type": "code",
   "execution_count": null,
   "id": "fcc3fa0e",
   "metadata": {},
   "outputs": [],
   "source": []
  },
  {
   "cell_type": "code",
   "execution_count": 27,
   "id": "9844e2ee",
   "metadata": {},
   "outputs": [
    {
     "name": "stdout",
     "output_type": "stream",
     "text": [
      " Enter your age :22\n",
      "your age is : 22\n"
     ]
    },
    {
     "ename": "TypeError",
     "evalue": "'>=' not supported between instances of 'str' and 'int'",
     "output_type": "error",
     "traceback": [
      "\u001b[1;31m---------------------------------------------------------------------------\u001b[0m",
      "\u001b[1;31mTypeError\u001b[0m                                 Traceback (most recent call last)",
      "\u001b[1;32m~\\AppData\\Local\\Temp/ipykernel_15564/2285630952.py\u001b[0m in \u001b[0;36m<module>\u001b[1;34m\u001b[0m\n\u001b[0;32m      7\u001b[0m \u001b[1;33m\u001b[0m\u001b[0m\n\u001b[0;32m      8\u001b[0m \u001b[1;33m\u001b[0m\u001b[0m\n\u001b[1;32m----> 9\u001b[1;33m \u001b[1;32mif\u001b[0m \u001b[0mage_candidate\u001b[0m \u001b[1;33m>=\u001b[0m \u001b[1;36m18\u001b[0m\u001b[1;33m:\u001b[0m \u001b[1;31m# boundary condition\u001b[0m\u001b[1;33m\u001b[0m\u001b[1;33m\u001b[0m\u001b[0m\n\u001b[0m\u001b[0;32m     10\u001b[0m     \u001b[0mprint\u001b[0m\u001b[1;33m(\u001b[0m\u001b[1;34m\" You are eligible for voting\"\u001b[0m\u001b[1;33m)\u001b[0m\u001b[1;33m\u001b[0m\u001b[1;33m\u001b[0m\u001b[0m\n\u001b[0;32m     11\u001b[0m \u001b[1;32melse\u001b[0m\u001b[1;33m:\u001b[0m\u001b[1;33m\u001b[0m\u001b[1;33m\u001b[0m\u001b[0m\n",
      "\u001b[1;31mTypeError\u001b[0m: '>=' not supported between instances of 'str' and 'int'"
     ]
    }
   ],
   "source": [
    "# eg: \n",
    "# voting age\n",
    "\n",
    "\n",
    "age_candidate = (input(\" Enter your age :\"))\n",
    "print(\"your age is : {}\".format(age_candidate))\n",
    "\n",
    "\n",
    "if age_candidate >= 18: # boundary condition\n",
    "    print(\" You are eligible for voting\")\n",
    "else:\n",
    "    print(\" You are not  eligible for voting\")"
   ]
  },
  {
   "cell_type": "code",
   "execution_count": null,
   "id": "3840aefe",
   "metadata": {},
   "outputs": [],
   "source": []
  },
  {
   "cell_type": "code",
   "execution_count": 28,
   "id": "b285cb89",
   "metadata": {},
   "outputs": [
    {
     "name": "stdout",
     "output_type": "stream",
     "text": [
      " Enter your age :22\n",
      "your age is : 22\n",
      " You are eligible for voting\n"
     ]
    }
   ],
   "source": [
    "# eg: \n",
    "# voting age\n",
    "\n",
    "\n",
    "age_candidate = int(input(\" Enter your age :\"))\n",
    "print(\"your age is : {}\".format(age_candidate))\n",
    "\n",
    "\n",
    "if age_candidate >= 18: # boundary condition\n",
    "    print(\" You are eligible for voting\")\n",
    "else:\n",
    "    print(\" You are not  eligible for voting\")"
   ]
  },
  {
   "cell_type": "code",
   "execution_count": 32,
   "id": "c67565cc",
   "metadata": {},
   "outputs": [
    {
     "name": "stdout",
     "output_type": "stream",
     "text": [
      "2\n",
      "4\n",
      "6\n",
      "8\n",
      "10\n",
      "12\n",
      "14\n",
      "16\n",
      "18\n",
      "20\n",
      "22\n",
      "24\n",
      "26\n",
      "28\n",
      "30\n",
      "32\n",
      "34\n",
      "36\n",
      "38\n",
      "40\n",
      "42\n",
      "44\n",
      "46\n",
      "48\n",
      "50\n"
     ]
    }
   ],
   "source": [
    "#Even number 1-50\n",
    "for i in list(range(1,51)):\n",
    "    if i%2==0:\n",
    "        print(i)"
   ]
  },
  {
   "cell_type": "code",
   "execution_count": 33,
   "id": "9800ed82",
   "metadata": {},
   "outputs": [],
   "source": [
    "even_number=[]\n",
    "for i in list(range(1,51)):\n",
    "    if i%2==0:\n",
    "        even_number.append(i)"
   ]
  },
  {
   "cell_type": "code",
   "execution_count": 34,
   "id": "d0f2f818",
   "metadata": {},
   "outputs": [
    {
     "data": {
      "text/plain": [
       "[2,\n",
       " 4,\n",
       " 6,\n",
       " 8,\n",
       " 10,\n",
       " 12,\n",
       " 14,\n",
       " 16,\n",
       " 18,\n",
       " 20,\n",
       " 22,\n",
       " 24,\n",
       " 26,\n",
       " 28,\n",
       " 30,\n",
       " 32,\n",
       " 34,\n",
       " 36,\n",
       " 38,\n",
       " 40,\n",
       " 42,\n",
       " 44,\n",
       " 46,\n",
       " 48,\n",
       " 50]"
      ]
     },
     "execution_count": 34,
     "metadata": {},
     "output_type": "execute_result"
    }
   ],
   "source": [
    "even_number"
   ]
  },
  {
   "cell_type": "code",
   "execution_count": null,
   "id": "4b4deb72",
   "metadata": {},
   "outputs": [],
   "source": []
  },
  {
   "cell_type": "code",
   "execution_count": 31,
   "id": "c869d54c",
   "metadata": {},
   "outputs": [
    {
     "name": "stdout",
     "output_type": "stream",
     "text": [
      "1\n",
      "3\n",
      "5\n",
      "7\n",
      "9\n",
      "11\n",
      "13\n",
      "15\n",
      "17\n",
      "19\n",
      "21\n",
      "23\n",
      "25\n",
      "27\n",
      "29\n",
      "31\n",
      "33\n",
      "35\n",
      "37\n",
      "39\n",
      "41\n",
      "43\n",
      "45\n",
      "47\n",
      "49\n"
     ]
    }
   ],
   "source": [
    "#Odd number 1-50\n",
    "for i in list(range(1,51)):\n",
    "    if i%2!=0:\n",
    "        print(i)"
   ]
  },
  {
   "cell_type": "code",
   "execution_count": null,
   "id": "ecc93f6f",
   "metadata": {},
   "outputs": [],
   "source": []
  },
  {
   "cell_type": "code",
   "execution_count": null,
   "id": "c96c16aa",
   "metadata": {},
   "outputs": [],
   "source": []
  },
  {
   "cell_type": "code",
   "execution_count": null,
   "id": "253fa770",
   "metadata": {},
   "outputs": [],
   "source": []
  },
  {
   "cell_type": "code",
   "execution_count": null,
   "id": "4b007398",
   "metadata": {},
   "outputs": [],
   "source": []
  },
  {
   "cell_type": "code",
   "execution_count": null,
   "id": "bf86cbaf",
   "metadata": {},
   "outputs": [],
   "source": []
  },
  {
   "cell_type": "code",
   "execution_count": null,
   "id": "61592e76",
   "metadata": {},
   "outputs": [],
   "source": []
  },
  {
   "cell_type": "code",
   "execution_count": null,
   "id": "b989f65a",
   "metadata": {},
   "outputs": [],
   "source": []
  },
  {
   "cell_type": "code",
   "execution_count": null,
   "id": "c7f80b8b",
   "metadata": {},
   "outputs": [],
   "source": [
    "marks = int(input(\"Enter your total marks: \"))\n",
    "print(\"Your marks are : {}\".format(marks))\n",
    "\n",
    "print(type(marks))\n",
    "\n",
    "\n",
    "if marks> 95:\n",
    "    print(\"Grade A\")\n",
    "if marks> 80:\n",
    "    print(\"Grade B\")\n",
    "if marks> 75:\n",
    "    print(\"Grade C\")"
   ]
  },
  {
   "cell_type": "code",
   "execution_count": null,
   "id": "1ae51b57",
   "metadata": {},
   "outputs": [],
   "source": []
  },
  {
   "cell_type": "code",
   "execution_count": 22,
   "id": "fe94cb99",
   "metadata": {},
   "outputs": [],
   "source": [
    "marks = 96"
   ]
  },
  {
   "cell_type": "code",
   "execution_count": 23,
   "id": "d204a0b9",
   "metadata": {},
   "outputs": [
    {
     "data": {
      "text/plain": [
       "96"
      ]
     },
     "execution_count": 23,
     "metadata": {},
     "output_type": "execute_result"
    }
   ],
   "source": [
    "marks"
   ]
  },
  {
   "cell_type": "code",
   "execution_count": 24,
   "id": "6e5d10c1",
   "metadata": {},
   "outputs": [
    {
     "name": "stdout",
     "output_type": "stream",
     "text": [
      "Grade A\n",
      "Grade B\n",
      "Grade C\n"
     ]
    }
   ],
   "source": [
    "if marks> 95:\n",
    "    print(\"Grade A\")\n",
    "if marks> 80:\n",
    "    print(\"Grade B\")\n",
    "if marks> 75:\n",
    "    print(\"Grade C\")"
   ]
  },
  {
   "cell_type": "code",
   "execution_count": 25,
   "id": "fa370c79",
   "metadata": {},
   "outputs": [
    {
     "name": "stdout",
     "output_type": "stream",
     "text": [
      "Grade A\n"
     ]
    }
   ],
   "source": [
    "for i in a:  \n",
    "    if marks> 95:\n",
    "        print(\"Grade A\")\n",
    "    elif marks> 80:\n",
    "        print(\"Grade B\")\n",
    "    elif marks> 75:\n",
    "        print(\"Grade C\")"
   ]
  },
  {
   "cell_type": "code",
   "execution_count": null,
   "id": "4e55d01f",
   "metadata": {},
   "outputs": [],
   "source": []
  },
  {
   "cell_type": "code",
   "execution_count": null,
   "id": "ffd4047b",
   "metadata": {},
   "outputs": [],
   "source": []
  },
  {
   "cell_type": "code",
   "execution_count": null,
   "id": "2a0eef87",
   "metadata": {},
   "outputs": [],
   "source": [
    "marks = int(input(\"Enter your total marks: \"))\n",
    "print(\"Your marks are : {}\".format(marks))\n",
    "\n",
    "print(type(marks))\n",
    "\n",
    "\n",
    "if marks> 95:\n",
    "    print(\"Grade A\")\n",
    "elif marks> 80:\n",
    "    print(\"Grade B\")\n",
    "elif marks> 75:\n",
    "    print(\"Grade C\")"
   ]
  },
  {
   "cell_type": "code",
   "execution_count": null,
   "id": "617f9cb5",
   "metadata": {},
   "outputs": [],
   "source": []
  },
  {
   "cell_type": "code",
   "execution_count": null,
   "id": "ff844b37",
   "metadata": {},
   "outputs": [],
   "source": [
    "# EG:\n",
    "#Take marks from student and calculate its average. If average is greater than 35 he is pass otherwise give message \"Try next time\"\n",
    "\n",
    "\n",
    "phy = int(input(\"Enter marks of Physics : \"))\n",
    "che = int(input(\"Enter marks of Chem : \"))\n",
    "maths = int(input(\"Enter marks of Maths : \"))\n",
    "\n",
    "\n",
    "print(\"your marks in phy {}\".format(phy))\n",
    "print(\"your marks in che {}\".format(che))\n",
    "print(\"your marks in maths {}\".format(maths))\n",
    "\n",
    "average = (phy+che+maths)/3\n",
    "print(average)\n",
    "\n",
    "\n",
    "if average > 35 :\n",
    "    print(\"Pass\")\n",
    "else:\n",
    "    print(\"Try next time\")"
   ]
  },
  {
   "cell_type": "code",
   "execution_count": null,
   "id": "c00f22de",
   "metadata": {},
   "outputs": [],
   "source": []
  },
  {
   "cell_type": "code",
   "execution_count": null,
   "id": "332d32e8",
   "metadata": {},
   "outputs": [],
   "source": [
    "age_candidate  = int(input(\"Enter you age: \"))\n",
    "\n",
    "\n",
    "if 0 < age_candidate < 18:\n",
    "    print(\"You are not eligible to vote\")\n",
    "elif 18 <= age_candidate < 45:\n",
    "    print(\"You are  eligible to vote\")\n",
    "elif 45 <= age_candidate < 60:\n",
    "    print(\"You are  eligible to vote\")\n",
    "    print(\"You  must exercise your rights properly\")\n",
    "elif 60 <= age_candidate < 99:\n",
    "    print(\"You are  eligible to vote\")\n",
    "    print(\"You  can ask office for assistance to vote \")\n",
    "else:\n",
    "    print(\"Enter yor age properly\")"
   ]
  },
  {
   "cell_type": "code",
   "execution_count": null,
   "id": "3893c33b",
   "metadata": {},
   "outputs": [],
   "source": [
    "age_candidate  = int(input(\"Enter you age: \"))\n",
    "\n",
    "\n",
    "if 0 < age_candidate <= 18:\n",
    "    print(\"You are not eligible to vote\")\n",
    "elif 45 <= age_candidate <= 60:\n",
    "    print(\"You are  eligible to vote\")\n",
    "    print(\"You  must exercise your rights properly\")\n",
    "elif 18 <= age_candidate <= 45:\n",
    "    print(\"You are  eligible to vote\")\n",
    "elif 60 <= age_candidate <= 99:\n",
    "    print(\"You are  eligible to vote\")\n",
    "    print(\"You  can ask office for assistance to vote \")\n",
    "else:\n",
    "    print(\"Enter yor age properly\")"
   ]
  },
  {
   "cell_type": "code",
   "execution_count": null,
   "id": "4121e471",
   "metadata": {},
   "outputs": [],
   "source": []
  },
  {
   "cell_type": "code",
   "execution_count": null,
   "id": "c989371b",
   "metadata": {},
   "outputs": [],
   "source": []
  }
 ],
 "metadata": {
  "kernelspec": {
   "display_name": "Python 3 (ipykernel)",
   "language": "python",
   "name": "python3"
  },
  "language_info": {
   "codemirror_mode": {
    "name": "ipython",
    "version": 3
   },
   "file_extension": ".py",
   "mimetype": "text/x-python",
   "name": "python",
   "nbconvert_exporter": "python",
   "pygments_lexer": "ipython3",
   "version": "3.9.7"
  }
 },
 "nbformat": 4,
 "nbformat_minor": 5
}
