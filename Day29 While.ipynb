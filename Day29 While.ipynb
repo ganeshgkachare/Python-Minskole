{
 "cells": [
  {
   "cell_type": "markdown",
   "id": "3a2f9011",
   "metadata": {},
   "source": [
    "## Control flow statements"
   ]
  },
  {
   "cell_type": "code",
   "execution_count": null,
   "id": "ca9419ea",
   "metadata": {},
   "outputs": [],
   "source": [
    "a = 100\n",
    "b = 33\n",
    "if b > a:\n",
    "      print(\"b is greater than a\")\n",
    "elif a == b:\n",
    "      print(\"a and b are equal\")\n",
    "else:\n",
    "      print(\"a is greater than b\")\n",
    "        \n",
    "print(\"Finish\")"
   ]
  },
  {
   "cell_type": "code",
   "execution_count": null,
   "id": "c9c1043c",
   "metadata": {},
   "outputs": [],
   "source": []
  },
  {
   "cell_type": "markdown",
   "id": "a37b6bc6",
   "metadata": {},
   "source": [
    "while\n",
    "To repeat a specific block of code an unknown number of times, until a given condition is True."
   ]
  },
  {
   "cell_type": "code",
   "execution_count": null,
   "id": "7d2cf6e1",
   "metadata": {},
   "outputs": [],
   "source": [
    "#Syntax\n",
    "\n",
    "while condition  :\n",
    "      True\n",
    "    code"
   ]
  },
  {
   "cell_type": "code",
   "execution_count": 3,
   "id": "dc6c7f4c",
   "metadata": {},
   "outputs": [
    {
     "name": "stdout",
     "output_type": "stream",
     "text": [
      "a is less than 3\n",
      "a is less than 3\n"
     ]
    }
   ],
   "source": [
    "\n",
    "a=1 #initialize=1\n",
    "while a<3:\n",
    "    print(\"a is less than 3\")\n",
    "    a=a+1\n",
    "    "
   ]
  },
  {
   "cell_type": "code",
   "execution_count": null,
   "id": "4c34ea1d",
   "metadata": {},
   "outputs": [],
   "source": [
    "# Task=100\n",
    "# leave apply if pending task less than 10\n",
    "# daily you can complete 10 task.  # you are completing you daily task\n",
    "# How many daiys after you can apply for leave\n",
    "# Note= daily we recive 2 new task."
   ]
  },
  {
   "cell_type": "code",
   "execution_count": null,
   "id": "1df0524e",
   "metadata": {},
   "outputs": [],
   "source": []
  },
  {
   "cell_type": "code",
   "execution_count": null,
   "id": "36e82bfc",
   "metadata": {},
   "outputs": [],
   "source": []
  },
  {
   "cell_type": "code",
   "execution_count": null,
   "id": "1ce7b936",
   "metadata": {},
   "outputs": [],
   "source": []
  },
  {
   "cell_type": "code",
   "execution_count": null,
   "id": "b7dd2f41",
   "metadata": {},
   "outputs": [],
   "source": []
  },
  {
   "cell_type": "code",
   "execution_count": null,
   "id": "10ef971c",
   "metadata": {},
   "outputs": [],
   "source": [
    "#initialize count variable to 1\n",
    "count =2\n",
    "\n",
    "while count < 6 :\n",
    "    count+=1 # count = count +1\n",
    "#the above line means count = count + 1\n",
    "    print (count)"
   ]
  },
  {
   "cell_type": "code",
   "execution_count": 5,
   "id": "57aef731",
   "metadata": {},
   "outputs": [
    {
     "name": "stdout",
     "output_type": "stream",
     "text": [
      "3\n",
      "4\n",
      "5\n",
      "6\n"
     ]
    }
   ],
   "source": [
    "#initialize count variable to 1\n",
    "count = 2\n",
    "\n",
    "while count < 6:\n",
    "    count+=1      #count = count + 1  \n",
    "#                       4      3+   1\n",
    "    print (count)    #3  4  5  6  "
   ]
  },
  {
   "cell_type": "code",
   "execution_count": 6,
   "id": "fe2217df",
   "metadata": {},
   "outputs": [
    {
     "name": "stdout",
     "output_type": "stream",
     "text": [
      "3\n",
      "5\n",
      "7\n",
      "9\n"
     ]
    }
   ],
   "source": [
    "\n",
    "count =3\n",
    "\n",
    "while count < 10 :\n",
    "    print (count)  #3\n",
    "    count+=2"
   ]
  },
  {
   "cell_type": "code",
   "execution_count": 7,
   "id": "831cc95b",
   "metadata": {},
   "outputs": [
    {
     "name": "stdout",
     "output_type": "stream",
     "text": [
      "5\n",
      "7\n",
      "9\n",
      "11\n"
     ]
    }
   ],
   "source": [
    "\n",
    "count =3\n",
    "\n",
    "while count < 10 :\n",
    "    count+=2\n",
    "    print (count)  \n",
    "    "
   ]
  },
  {
   "cell_type": "markdown",
   "id": "98232049",
   "metadata": {},
   "source": [
    "### Statement"
   ]
  },
  {
   "cell_type": "raw",
   "id": "8aa69ed6",
   "metadata": {},
   "source": [
    "1) break statement\n",
    "It terminates the loop immediately and transfers execution to the new statement after the loop.\n",
    "\n",
    "2) continue statement:\n",
    "The continue statement causes the loop to skip its current execution at some point and move on to the next iteration. Instead of terminating the loop like a break statement, it moves on to the subsequent execution.\n",
    "\n",
    "3) pass statement:\n",
    "Pass statement is used as a placeholder for future code"
   ]
  },
  {
   "cell_type": "code",
   "execution_count": 9,
   "id": "860c34c6",
   "metadata": {},
   "outputs": [
    {
     "data": {
      "text/plain": [
       "range(0, 5)"
      ]
     },
     "execution_count": 9,
     "metadata": {},
     "output_type": "execute_result"
    }
   ],
   "source": [
    "range(0, 5)"
   ]
  },
  {
   "cell_type": "code",
   "execution_count": 10,
   "id": "68d91afa",
   "metadata": {},
   "outputs": [
    {
     "data": {
      "text/plain": [
       "[0, 1, 2, 3, 4]"
      ]
     },
     "execution_count": 10,
     "metadata": {},
     "output_type": "execute_result"
    }
   ],
   "source": [
    "list(range(0, 5))"
   ]
  },
  {
   "cell_type": "code",
   "execution_count": 8,
   "id": "1d709e69",
   "metadata": {},
   "outputs": [
    {
     "name": "stdout",
     "output_type": "stream",
     "text": [
      "0\n",
      "1\n",
      "2\n",
      "3\n",
      "4\n"
     ]
    }
   ],
   "source": [
    "for i in range(0, 5):\n",
    "    print(i)"
   ]
  },
  {
   "cell_type": "code",
   "execution_count": 11,
   "id": "debf65b1",
   "metadata": {},
   "outputs": [
    {
     "name": "stdout",
     "output_type": "stream",
     "text": [
      "0\n",
      "1\n",
      "2\n",
      "3\n",
      "Value is 3\n",
      "4\n"
     ]
    }
   ],
   "source": [
    "for i in range(0, 5):  #0, 1, 2, 3, 4\n",
    "    print(i)\n",
    "    if i == 3:\n",
    "        print(\"Value is 3\")\n",
    "    "
   ]
  },
  {
   "cell_type": "code",
   "execution_count": null,
   "id": "0c1644fb",
   "metadata": {},
   "outputs": [],
   "source": []
  },
  {
   "cell_type": "code",
   "execution_count": null,
   "id": "041fe437",
   "metadata": {},
   "outputs": [],
   "source": []
  }
 ],
 "metadata": {
  "kernelspec": {
   "display_name": "Python 3 (ipykernel)",
   "language": "python",
   "name": "python3"
  },
  "language_info": {
   "codemirror_mode": {
    "name": "ipython",
    "version": 3
   },
   "file_extension": ".py",
   "mimetype": "text/x-python",
   "name": "python",
   "nbconvert_exporter": "python",
   "pygments_lexer": "ipython3",
   "version": "3.9.7"
  }
 },
 "nbformat": 4,
 "nbformat_minor": 5
}
