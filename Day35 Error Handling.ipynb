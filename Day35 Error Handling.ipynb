{
 "cells": [
  {
   "cell_type": "markdown",
   "id": "35c7885c",
   "metadata": {},
   "source": [
    "## try ... except"
   ]
  },
  {
   "cell_type": "raw",
   "id": "f62e4c4b",
   "metadata": {},
   "source": [
    "try-except blocks are used for error handling. The try block contains the code that may raise an exception, and the except block contains the code that handles the exception.\n",
    "\n",
    "try:\n",
    "    # code that may raise an exception\n",
    "except ExceptionType:\n",
    "    # code to handle the exception"
   ]
  },
  {
   "cell_type": "code",
   "execution_count": 2,
   "id": "dd0e0700",
   "metadata": {},
   "outputs": [
    {
     "ename": "ZeroDivisionError",
     "evalue": "division by zero",
     "output_type": "error",
     "traceback": [
      "\u001b[1;31m---------------------------------------------------------------------------\u001b[0m",
      "\u001b[1;31mZeroDivisionError\u001b[0m                         Traceback (most recent call last)",
      "\u001b[1;32m~\\AppData\\Local\\Temp/ipykernel_16688/269081190.py\u001b[0m in \u001b[0;36m<module>\u001b[1;34m\u001b[0m\n\u001b[0;32m      2\u001b[0m \u001b[1;31m#b = 100\u001b[0m\u001b[1;33m\u001b[0m\u001b[1;33m\u001b[0m\u001b[0m\n\u001b[0;32m      3\u001b[0m \u001b[0mb\u001b[0m \u001b[1;33m=\u001b[0m \u001b[1;36m0\u001b[0m\u001b[1;33m\u001b[0m\u001b[1;33m\u001b[0m\u001b[0m\n\u001b[1;32m----> 4\u001b[1;33m \u001b[0mc\u001b[0m \u001b[1;33m=\u001b[0m \u001b[0ma\u001b[0m\u001b[1;33m/\u001b[0m\u001b[0mb\u001b[0m \u001b[1;31m# ZeroDivisionError: division by zero if b = 0\u001b[0m\u001b[1;33m\u001b[0m\u001b[1;33m\u001b[0m\u001b[0m\n\u001b[0m\u001b[0;32m      5\u001b[0m \u001b[0mprint\u001b[0m\u001b[1;33m(\u001b[0m\u001b[0mc\u001b[0m\u001b[1;33m)\u001b[0m\u001b[1;33m\u001b[0m\u001b[1;33m\u001b[0m\u001b[0m\n\u001b[0;32m      6\u001b[0m \u001b[1;33m\u001b[0m\u001b[0m\n",
      "\u001b[1;31mZeroDivisionError\u001b[0m: division by zero"
     ]
    }
   ],
   "source": [
    "a = 10\n",
    "#b = 100\n",
    "b = 0\n",
    "c = a/b # ZeroDivisionError: division by zero if b = 0\n",
    "print(c)\n",
    "\n",
    "print(\"ok\")"
   ]
  },
  {
   "cell_type": "code",
   "execution_count": 3,
   "id": "b7c23da7",
   "metadata": {},
   "outputs": [
    {
     "name": "stdout",
     "output_type": "stream",
     "text": [
      "5.0\n",
      "ok\n"
     ]
    }
   ],
   "source": [
    "try:\n",
    "    a = 10\n",
    "    # b = 100\n",
    "    b = 2\n",
    "    c = a/b # ZeroDivisionError: division by zero if b = 0\n",
    "    print(c)\n",
    "except ZeroDivisionError as e:   \n",
    "    print(\"You have enterd wrong value of b , should not be zero\")\n",
    "\n",
    "    \n",
    "print(\"ok\")"
   ]
  },
  {
   "cell_type": "code",
   "execution_count": 4,
   "id": "f104fbd3",
   "metadata": {},
   "outputs": [
    {
     "name": "stdout",
     "output_type": "stream",
     "text": [
      "You have enterd wrong value of b , should not be zero\n",
      "ok\n"
     ]
    }
   ],
   "source": [
    "try:\n",
    "    a = 10\n",
    "    # b = 100\n",
    "    b = 0\n",
    "    c = a/b # ZeroDivisionError: division by zero if b = 0\n",
    "    print(c)\n",
    "except ZeroDivisionError as e:   \n",
    "    print(\"You have enterd wrong value of b , should not be zero\")\n",
    "\n",
    "    \n",
    "print(\"ok\")"
   ]
  },
  {
   "cell_type": "code",
   "execution_count": 7,
   "id": "603dd545",
   "metadata": {},
   "outputs": [
    {
     "name": "stdout",
     "output_type": "stream",
     "text": [
      "Check something else\n",
      "ok\n"
     ]
    }
   ],
   "source": [
    "try:\n",
    "    a = 10\n",
    "    # b = 100\n",
    "    b = 2\n",
    "    c = d/b # ZeroDivisionError: division by zero if b = 0\n",
    "    print(c)\n",
    "except ZeroDivisionError as e:   \n",
    "    print(\"You have enterd wrong value of b , should not be zero\")\n",
    "except: \n",
    "    print(\"Check something else\")\n",
    "\n",
    "    \n",
    "print(\"ok\")"
   ]
  },
  {
   "cell_type": "code",
   "execution_count": null,
   "id": "409e4943",
   "metadata": {},
   "outputs": [],
   "source": [
    "try:\n",
    "    a = 10\n",
    "    # b = 100\n",
    "    b = 2\n",
    "    c = d/b # ZeroDivisionError: division by zero if b = 0\n",
    "    print(c)\n",
    "except ZeroDivisionError as e:   \n",
    "    print(\"You have enterd wrong value of b ,should not be zero\")\n",
    "except NameError as e: \n",
    "    print(\"Check variables. NameError\")\n",
    "else:\n",
    "    print(\"Someting else wrong\")\n",
    "finally:\n",
    "    print(\"Code run completelly\")\n",
    "\n",
    "    \n",
    "print(\"ok\")"
   ]
  },
  {
   "cell_type": "code",
   "execution_count": 5,
   "id": "cce270ed",
   "metadata": {},
   "outputs": [
    {
     "ename": "NameError",
     "evalue": "name 'd' is not defined",
     "output_type": "error",
     "traceback": [
      "\u001b[1;31m---------------------------------------------------------------------------\u001b[0m",
      "\u001b[1;31mNameError\u001b[0m                                 Traceback (most recent call last)",
      "\u001b[1;32m~\\AppData\\Local\\Temp/ipykernel_16688/3161387801.py\u001b[0m in \u001b[0;36m<module>\u001b[1;34m\u001b[0m\n\u001b[1;32m----> 1\u001b[1;33m \u001b[0md\u001b[0m\u001b[1;33m\u001b[0m\u001b[1;33m\u001b[0m\u001b[0m\n\u001b[0m",
      "\u001b[1;31mNameError\u001b[0m: name 'd' is not defined"
     ]
    }
   ],
   "source": [
    "d"
   ]
  },
  {
   "cell_type": "code",
   "execution_count": null,
   "id": "5676b09e",
   "metadata": {},
   "outputs": [],
   "source": [
    "try:\n",
    "    a = 10\n",
    "    # b = 100\n",
    "    b = 0\n",
    "    c = a/b # ZeroDivisionError: division by zero if b = 0\n",
    "    print(c)\n",
    "except ZeroDivisionError as e:   \n",
    "    print(\"You have enterd wrong value of b , should not be zero\",e)\n",
    "\n",
    "    \n",
    "print(\"ok\")"
   ]
  },
  {
   "cell_type": "code",
   "execution_count": null,
   "id": "bdf29856",
   "metadata": {},
   "outputs": [],
   "source": [
    "try:\n",
    "    a = 10\n",
    "    # b = 100\n",
    "    b = 0\n",
    "    c = a/b # ZeroDivisionError: division by zero if b = 0\n",
    "    print(c)\n",
    "except FileNotFoundError as e:\n",
    "    print(\"Some error occured \", e)\n",
    "except IndexError as e:\n",
    "    print(\"Element not found\" , e )\n",
    "except:\n",
    "    print(\"Something wrong\")"
   ]
  },
  {
   "cell_type": "code",
   "execution_count": 9,
   "id": "da195d60",
   "metadata": {},
   "outputs": [
    {
     "name": "stdout",
     "output_type": "stream",
     "text": [
      "This is int\n",
      "This is int\n",
      "This is int\n",
      "Code Execution was successful\n",
      "Code End\n",
      "Hi\n"
     ]
    }
   ],
   "source": [
    "# 1. catch exception in below code using try... except \n",
    "# else print \" Code Execution was successful\"\n",
    "try:\n",
    "    list_z = [1,2,3,\"a\"]\n",
    "    for i in range(3):\n",
    "        if type(list_z[i]) == int:\n",
    "            print(\"This is int\")\n",
    "        \n",
    "        else:\n",
    "            print(\"This is not int\") \n",
    "except IndexError as e1:\n",
    "    print(\"Error occured is:\",e1)\n",
    "except ZeroDivisionError:\n",
    "    print(\"input should not be zero\")\n",
    "else:\n",
    "    print (\"Code Execution was successful\")\n",
    "finally:\n",
    "    print(\"Code End\")\n",
    "\n",
    "print(\"Hi\")"
   ]
  },
  {
   "cell_type": "code",
   "execution_count": 8,
   "id": "03597e9d",
   "metadata": {},
   "outputs": [
    {
     "ename": "SyntaxError",
     "evalue": "EOL while scanning string literal (Temp/ipykernel_16688/2623499098.py, line 4)",
     "output_type": "error",
     "traceback": [
      "\u001b[1;36m  File \u001b[1;32m\"C:\\Users\\Prajakta\\AppData\\Local\\Temp/ipykernel_16688/2623499098.py\"\u001b[1;36m, line \u001b[1;32m4\u001b[0m\n\u001b[1;33m    print(\"Hello World)\u001b[0m\n\u001b[1;37m                       ^\u001b[0m\n\u001b[1;31mSyntaxError\u001b[0m\u001b[1;31m:\u001b[0m EOL while scanning string literal\n"
     ]
    }
   ],
   "source": [
    "# # 2. catch exception in below code using try... except\n",
    "\n",
    "try:\n",
    "    print(\"Hello World)\n",
    "except :\n",
    "    print(\"Error occured is:\")\n",
    "else:\n",
    "    print(\"Error occured\")   # syntax erroe not handled"
   ]
  },
  {
   "cell_type": "markdown",
   "id": "8fcc7985",
   "metadata": {},
   "source": [
    "### raise Exception "
   ]
  },
  {
   "cell_type": "code",
   "execution_count": 32,
   "id": "02521015",
   "metadata": {},
   "outputs": [],
   "source": [
    "def div1(a):\n",
    "    # a = int(input(\"Enter an non zero number !!!\"))\n",
    "    if a == 2:\n",
    "        raise ZeroDivisionError(\"Enter a non zero num\")\n",
    "    else:\n",
    "        print(100/a)"
   ]
  },
  {
   "cell_type": "code",
   "execution_count": 33,
   "id": "6568c5c9",
   "metadata": {},
   "outputs": [
    {
     "name": "stdout",
     "output_type": "stream",
     "text": [
      "2.0\n"
     ]
    }
   ],
   "source": [
    "div1(50)"
   ]
  },
  {
   "cell_type": "code",
   "execution_count": 34,
   "id": "d7596f65",
   "metadata": {},
   "outputs": [
    {
     "ename": "ZeroDivisionError",
     "evalue": "Enter a non zero num",
     "output_type": "error",
     "traceback": [
      "\u001b[1;31m---------------------------------------------------------------------------\u001b[0m",
      "\u001b[1;31mZeroDivisionError\u001b[0m                         Traceback (most recent call last)",
      "\u001b[1;32m~\\AppData\\Local\\Temp/ipykernel_16688/399627153.py\u001b[0m in \u001b[0;36m<module>\u001b[1;34m\u001b[0m\n\u001b[1;32m----> 1\u001b[1;33m \u001b[0mdiv1\u001b[0m\u001b[1;33m(\u001b[0m\u001b[1;36m2\u001b[0m\u001b[1;33m)\u001b[0m\u001b[1;33m\u001b[0m\u001b[1;33m\u001b[0m\u001b[0m\n\u001b[0m",
      "\u001b[1;32m~\\AppData\\Local\\Temp/ipykernel_16688/1590796110.py\u001b[0m in \u001b[0;36mdiv1\u001b[1;34m(a)\u001b[0m\n\u001b[0;32m      2\u001b[0m     \u001b[1;31m# a = int(input(\"Enter an non zero number !!!\"))\u001b[0m\u001b[1;33m\u001b[0m\u001b[1;33m\u001b[0m\u001b[0m\n\u001b[0;32m      3\u001b[0m     \u001b[1;32mif\u001b[0m \u001b[0ma\u001b[0m \u001b[1;33m==\u001b[0m \u001b[1;36m2\u001b[0m\u001b[1;33m:\u001b[0m\u001b[1;33m\u001b[0m\u001b[1;33m\u001b[0m\u001b[0m\n\u001b[1;32m----> 4\u001b[1;33m         \u001b[1;32mraise\u001b[0m \u001b[0mZeroDivisionError\u001b[0m\u001b[1;33m(\u001b[0m\u001b[1;34m\"Enter a non zero num\"\u001b[0m\u001b[1;33m)\u001b[0m\u001b[1;33m\u001b[0m\u001b[1;33m\u001b[0m\u001b[0m\n\u001b[0m\u001b[0;32m      5\u001b[0m     \u001b[1;32melse\u001b[0m\u001b[1;33m:\u001b[0m\u001b[1;33m\u001b[0m\u001b[1;33m\u001b[0m\u001b[0m\n\u001b[0;32m      6\u001b[0m         \u001b[0mprint\u001b[0m\u001b[1;33m(\u001b[0m\u001b[1;36m100\u001b[0m\u001b[1;33m/\u001b[0m\u001b[0ma\u001b[0m\u001b[1;33m)\u001b[0m\u001b[1;33m\u001b[0m\u001b[1;33m\u001b[0m\u001b[0m\n",
      "\u001b[1;31mZeroDivisionError\u001b[0m: Enter a non zero num"
     ]
    }
   ],
   "source": [
    "div1(2)"
   ]
  },
  {
   "cell_type": "code",
   "execution_count": null,
   "id": "8b7b535d",
   "metadata": {},
   "outputs": [],
   "source": []
  },
  {
   "cell_type": "code",
   "execution_count": 36,
   "id": "5d98b17e",
   "metadata": {},
   "outputs": [
    {
     "name": "stdout",
     "output_type": "stream",
     "text": [
      "Enter an even number !!!3\n"
     ]
    },
    {
     "ename": "Exception",
     "evalue": "Enter only even number",
     "output_type": "error",
     "traceback": [
      "\u001b[1;31m---------------------------------------------------------------------------\u001b[0m",
      "\u001b[1;31mException\u001b[0m                                 Traceback (most recent call last)",
      "\u001b[1;32m~\\AppData\\Local\\Temp/ipykernel_16688/3554806020.py\u001b[0m in \u001b[0;36m<module>\u001b[1;34m\u001b[0m\n\u001b[0;32m      4\u001b[0m \u001b[0mx\u001b[0m \u001b[1;33m=\u001b[0m \u001b[0mint\u001b[0m\u001b[1;33m(\u001b[0m\u001b[0minput\u001b[0m\u001b[1;33m(\u001b[0m\u001b[1;34m\"Enter an even number !!!\"\u001b[0m\u001b[1;33m)\u001b[0m\u001b[1;33m)\u001b[0m\u001b[1;33m\u001b[0m\u001b[1;33m\u001b[0m\u001b[0m\n\u001b[0;32m      5\u001b[0m \u001b[1;32mif\u001b[0m \u001b[0mx\u001b[0m \u001b[1;33m%\u001b[0m\u001b[1;36m2\u001b[0m \u001b[1;33m!=\u001b[0m \u001b[1;36m0\u001b[0m\u001b[1;33m:\u001b[0m\u001b[1;33m\u001b[0m\u001b[1;33m\u001b[0m\u001b[0m\n\u001b[1;32m----> 6\u001b[1;33m     \u001b[1;32mraise\u001b[0m \u001b[0mException\u001b[0m\u001b[1;33m(\u001b[0m\u001b[1;34m\"Enter only even number\"\u001b[0m\u001b[1;33m)\u001b[0m\u001b[1;33m\u001b[0m\u001b[1;33m\u001b[0m\u001b[0m\n\u001b[0m\u001b[0;32m      7\u001b[0m \u001b[1;32melse\u001b[0m\u001b[1;33m:\u001b[0m\u001b[1;33m\u001b[0m\u001b[1;33m\u001b[0m\u001b[0m\n\u001b[0;32m      8\u001b[0m     \u001b[0mprint\u001b[0m\u001b[1;33m(\u001b[0m\u001b[1;34m\"The number is even \"\u001b[0m\u001b[1;33m)\u001b[0m\u001b[1;33m\u001b[0m\u001b[1;33m\u001b[0m\u001b[0m\n",
      "\u001b[1;31mException\u001b[0m: Enter only even number"
     ]
    }
   ],
   "source": [
    "\n",
    "# user defined exception\n",
    "\n",
    "\n",
    "x = int(input(\"Enter an even number !!!\"))\n",
    "if x %2 != 0:\n",
    "    raise Exception(\"Enter only even number\")\n",
    "else:\n",
    "    print(\"The number is even \")"
   ]
  },
  {
   "cell_type": "code",
   "execution_count": null,
   "id": "36fb3720",
   "metadata": {},
   "outputs": [],
   "source": []
  }
 ],
 "metadata": {
  "kernelspec": {
   "display_name": "Python 3 (ipykernel)",
   "language": "python",
   "name": "python3"
  },
  "language_info": {
   "codemirror_mode": {
    "name": "ipython",
    "version": 3
   },
   "file_extension": ".py",
   "mimetype": "text/x-python",
   "name": "python",
   "nbconvert_exporter": "python",
   "pygments_lexer": "ipython3",
   "version": "3.9.7"
  }
 },
 "nbformat": 4,
 "nbformat_minor": 5
}
