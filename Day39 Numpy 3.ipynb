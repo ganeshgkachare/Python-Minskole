{
 "cells": [
  {
   "cell_type": "code",
   "execution_count": 1,
   "id": "3709c71c",
   "metadata": {},
   "outputs": [],
   "source": [
    "import numpy as np  #import numpy"
   ]
  },
  {
   "cell_type": "code",
   "execution_count": null,
   "id": "f1c6479f",
   "metadata": {},
   "outputs": [],
   "source": [
    "# we cannot apply mathematical operators directly on lists\n",
    "# we can apply mathematical operators directly on Array\n",
    "\n",
    "# List store elements of different data type\n",
    "# Array store elements of same data type (homogeneous)\n",
    "\n",
    "# NumPy operations are faster than standard Python lists.\n",
    "\n",
    "# np.array(L,dtype=int) # Create 1D array\n",
    "# Array is mutable and iterable\n",
    "\n",
    "\n",
    "# Array.shape #array shape :tuple representing the dimensions of the array\n",
    "# Array.ndim  # dimension\n",
    "# Array.size  # no. arry elements\n",
    "# Array.dtype #data type of array element (int,float,complex,bool,string,object)\n",
    "# Array.astype(datatype)  #Change datatype"
   ]
  },
  {
   "cell_type": "code",
   "execution_count": 2,
   "id": "49b296e8",
   "metadata": {},
   "outputs": [
    {
     "data": {
      "text/plain": [
       "range(1, 10)"
      ]
     },
     "execution_count": 2,
     "metadata": {},
     "output_type": "execute_result"
    }
   ],
   "source": [
    "range(1,10)"
   ]
  },
  {
   "cell_type": "code",
   "execution_count": 3,
   "id": "0ae2f08f",
   "metadata": {},
   "outputs": [
    {
     "data": {
      "text/plain": [
       "[1, 2, 3, 4, 5, 6, 7, 8, 9]"
      ]
     },
     "execution_count": 3,
     "metadata": {},
     "output_type": "execute_result"
    }
   ],
   "source": [
    "list(range(1,10))"
   ]
  },
  {
   "cell_type": "code",
   "execution_count": null,
   "id": "2bbf52a6",
   "metadata": {},
   "outputs": [],
   "source": [
    "# arange\n",
    "# np.arange(start,stop,stepsize,dtype)\n",
    "#              0           +1            Default"
   ]
  },
  {
   "cell_type": "code",
   "execution_count": 15,
   "id": "fab880a7",
   "metadata": {},
   "outputs": [
    {
     "data": {
      "text/plain": [
       "array([2, 4, 6])"
      ]
     },
     "execution_count": 15,
     "metadata": {},
     "output_type": "execute_result"
    }
   ],
   "source": [
    "np.arange(stop=8,start=2,step=2)"
   ]
  },
  {
   "cell_type": "code",
   "execution_count": 4,
   "id": "e1cae4a3",
   "metadata": {},
   "outputs": [
    {
     "data": {
      "text/plain": [
       "array([0, 1, 2, 3, 4, 5, 6, 7, 8, 9])"
      ]
     },
     "execution_count": 4,
     "metadata": {},
     "output_type": "execute_result"
    }
   ],
   "source": [
    "np.arange(10)"
   ]
  },
  {
   "cell_type": "code",
   "execution_count": 5,
   "id": "ed534b2a",
   "metadata": {},
   "outputs": [
    {
     "data": {
      "text/plain": [
       "array([2, 3, 4, 5, 6, 7, 8, 9])"
      ]
     },
     "execution_count": 5,
     "metadata": {},
     "output_type": "execute_result"
    }
   ],
   "source": [
    "np.arange(2,10)"
   ]
  },
  {
   "cell_type": "code",
   "execution_count": 6,
   "id": "f2cd99ed",
   "metadata": {},
   "outputs": [
    {
     "data": {
      "text/plain": [
       "array([2, 4, 6, 8])"
      ]
     },
     "execution_count": 6,
     "metadata": {},
     "output_type": "execute_result"
    }
   ],
   "source": [
    "np.arange(2,10,2)"
   ]
  },
  {
   "cell_type": "code",
   "execution_count": null,
   "id": "5ed7e826",
   "metadata": {},
   "outputs": [],
   "source": [
    "np.arange(2,10,2)"
   ]
  },
  {
   "cell_type": "code",
   "execution_count": 14,
   "id": "d0384367",
   "metadata": {},
   "outputs": [
    {
     "ename": "ValueError",
     "evalue": "no fill-function for data-type.",
     "output_type": "error",
     "traceback": [
      "\u001b[1;31m---------------------------------------------------------------------------\u001b[0m",
      "\u001b[1;31mValueError\u001b[0m                                Traceback (most recent call last)",
      "\u001b[1;32m~\\AppData\\Local\\Temp/ipykernel_14516/160766411.py\u001b[0m in \u001b[0;36m<module>\u001b[1;34m\u001b[0m\n\u001b[1;32m----> 1\u001b[1;33m \u001b[0mnp\u001b[0m\u001b[1;33m.\u001b[0m\u001b[0marange\u001b[0m\u001b[1;33m(\u001b[0m\u001b[1;36m0\u001b[0m\u001b[1;33m,\u001b[0m\u001b[1;36m10\u001b[0m\u001b[1;33m,\u001b[0m\u001b[1;36m2\u001b[0m\u001b[1;33m,\u001b[0m\u001b[0mdtype\u001b[0m\u001b[1;33m=\u001b[0m\u001b[0mbool\u001b[0m\u001b[1;33m)\u001b[0m \u001b[1;31m#dtype=int/float\u001b[0m\u001b[1;33m\u001b[0m\u001b[1;33m\u001b[0m\u001b[0m\n\u001b[0m",
      "\u001b[1;31mValueError\u001b[0m: no fill-function for data-type."
     ]
    }
   ],
   "source": [
    "np.arange(0,10,2,dtype=bool) #dtype=int/float"
   ]
  },
  {
   "cell_type": "code",
   "execution_count": 19,
   "id": "b10f94d9",
   "metadata": {},
   "outputs": [
    {
     "ename": "TypeError",
     "evalue": "'float' object cannot be interpreted as an integer",
     "output_type": "error",
     "traceback": [
      "\u001b[1;31m---------------------------------------------------------------------------\u001b[0m",
      "\u001b[1;31mTypeError\u001b[0m                                 Traceback (most recent call last)",
      "\u001b[1;32m~\\AppData\\Local\\Temp/ipykernel_14516/2120962848.py\u001b[0m in \u001b[0;36m<module>\u001b[1;34m\u001b[0m\n\u001b[1;32m----> 1\u001b[1;33m \u001b[0mlist\u001b[0m\u001b[1;33m(\u001b[0m\u001b[0mrange\u001b[0m\u001b[1;33m(\u001b[0m\u001b[1;36m1\u001b[0m\u001b[1;33m,\u001b[0m\u001b[1;36m10\u001b[0m\u001b[1;33m,\u001b[0m\u001b[1;36m0.5\u001b[0m\u001b[1;33m)\u001b[0m\u001b[1;33m)\u001b[0m\u001b[1;33m\u001b[0m\u001b[1;33m\u001b[0m\u001b[0m\n\u001b[0m",
      "\u001b[1;31mTypeError\u001b[0m: 'float' object cannot be interpreted as an integer"
     ]
    }
   ],
   "source": [
    "list(range(1,10,0.5)) # step size fractional not allowed in list"
   ]
  },
  {
   "cell_type": "code",
   "execution_count": null,
   "id": "5a555237",
   "metadata": {},
   "outputs": [],
   "source": []
  },
  {
   "cell_type": "code",
   "execution_count": 20,
   "id": "fc406ebc",
   "metadata": {},
   "outputs": [
    {
     "name": "stdout",
     "output_type": "stream",
     "text": [
      "[0.  0.5 1.  1.5 2.  2.5 3.  3.5 4.  4.5 5.  5.5 6.  6.5 7.  7.5 8.  8.5\n",
      " 9.  9.5]\n"
     ]
    }
   ],
   "source": [
    "a = np.arange(0,10,0.5) # fractional step count is allowed \n",
    "print(a)"
   ]
  },
  {
   "cell_type": "code",
   "execution_count": 21,
   "id": "cb519ce6",
   "metadata": {},
   "outputs": [
    {
     "data": {
      "text/plain": [
       "0.5"
      ]
     },
     "execution_count": 21,
     "metadata": {},
     "output_type": "execute_result"
    }
   ],
   "source": [
    "2-1.5\n"
   ]
  },
  {
   "cell_type": "code",
   "execution_count": null,
   "id": "e5a03f20",
   "metadata": {},
   "outputs": [],
   "source": [
    "#linspace() :- returns evenly spaced numbers over a specified interval.\n",
    "#linspace(start,end,num(part))"
   ]
  },
  {
   "cell_type": "code",
   "execution_count": 22,
   "id": "fb4cf936",
   "metadata": {},
   "outputs": [
    {
     "data": {
      "text/plain": [
       "array([ 1.,  2.,  3.,  4.,  5.,  6.,  7.,  8.,  9., 10., 11., 12., 13.,\n",
       "       14., 15., 16., 17., 18., 19., 20., 21., 22., 23., 24., 25., 26.,\n",
       "       27., 28., 29., 30., 31., 32., 33., 34., 35., 36., 37., 38., 39.,\n",
       "       40., 41., 42., 43., 44., 45., 46., 47., 48., 49., 50.])"
      ]
     },
     "execution_count": 22,
     "metadata": {},
     "output_type": "execute_result"
    }
   ],
   "source": [
    "a=np.linspace(1, 50)\n",
    "a"
   ]
  },
  {
   "cell_type": "code",
   "execution_count": 23,
   "id": "73eb9885",
   "metadata": {
    "scrolled": true
   },
   "outputs": [
    {
     "data": {
      "text/plain": [
       "array([ 1.        ,  1.18367347,  1.36734694,  1.55102041,  1.73469388,\n",
       "        1.91836735,  2.10204082,  2.28571429,  2.46938776,  2.65306122,\n",
       "        2.83673469,  3.02040816,  3.20408163,  3.3877551 ,  3.57142857,\n",
       "        3.75510204,  3.93877551,  4.12244898,  4.30612245,  4.48979592,\n",
       "        4.67346939,  4.85714286,  5.04081633,  5.2244898 ,  5.40816327,\n",
       "        5.59183673,  5.7755102 ,  5.95918367,  6.14285714,  6.32653061,\n",
       "        6.51020408,  6.69387755,  6.87755102,  7.06122449,  7.24489796,\n",
       "        7.42857143,  7.6122449 ,  7.79591837,  7.97959184,  8.16326531,\n",
       "        8.34693878,  8.53061224,  8.71428571,  8.89795918,  9.08163265,\n",
       "        9.26530612,  9.44897959,  9.63265306,  9.81632653, 10.        ])"
      ]
     },
     "execution_count": 23,
     "metadata": {},
     "output_type": "execute_result"
    }
   ],
   "source": [
    "a=np.linspace(1, 10)\n",
    "a"
   ]
  },
  {
   "cell_type": "code",
   "execution_count": 24,
   "id": "117d3da9",
   "metadata": {},
   "outputs": [
    {
     "data": {
      "text/plain": [
       "array([ 1.  ,  3.25,  5.5 ,  7.75, 10.  ])"
      ]
     },
     "execution_count": 24,
     "metadata": {},
     "output_type": "execute_result"
    }
   ],
   "source": [
    "#linspace(start,end,num(part))\n",
    "np.linspace(1, 10,5)"
   ]
  },
  {
   "cell_type": "code",
   "execution_count": 27,
   "id": "9d4d24fc",
   "metadata": {},
   "outputs": [],
   "source": [
    "a=np.linspace(1, 20,10)"
   ]
  },
  {
   "cell_type": "code",
   "execution_count": 29,
   "id": "3892e4f2",
   "metadata": {},
   "outputs": [
    {
     "data": {
      "text/plain": [
       "array([ 1.        ,  3.11111111,  5.22222222,  7.33333333,  9.44444444,\n",
       "       11.55555556, 13.66666667, 15.77777778, 17.88888889, 20.        ])"
      ]
     },
     "execution_count": 29,
     "metadata": {},
     "output_type": "execute_result"
    }
   ],
   "source": [
    "a"
   ]
  },
  {
   "cell_type": "code",
   "execution_count": 28,
   "id": "6bde4ddf",
   "metadata": {},
   "outputs": [
    {
     "data": {
      "text/plain": [
       "10"
      ]
     },
     "execution_count": 28,
     "metadata": {},
     "output_type": "execute_result"
    }
   ],
   "source": [
    "len(a)"
   ]
  },
  {
   "cell_type": "code",
   "execution_count": 30,
   "id": "d51776c7",
   "metadata": {
    "scrolled": true
   },
   "outputs": [
    {
     "data": {
      "text/plain": [
       "array([ 1.        ,  3.11111111,  5.22222222,  7.33333333,  9.44444444,\n",
       "       11.55555556, 13.66666667, 15.77777778, 17.88888889, 20.        ])"
      ]
     },
     "execution_count": 30,
     "metadata": {},
     "output_type": "execute_result"
    }
   ],
   "source": [
    "np.linspace(1, 20,10)"
   ]
  },
  {
   "cell_type": "code",
   "execution_count": 33,
   "id": "4bdaeb4f",
   "metadata": {},
   "outputs": [
    {
     "data": {
      "text/plain": [
       "1.9"
      ]
     },
     "execution_count": 33,
     "metadata": {},
     "output_type": "execute_result"
    }
   ],
   "source": [
    "19/10"
   ]
  },
  {
   "cell_type": "code",
   "execution_count": 34,
   "id": "2ec5fa45",
   "metadata": {},
   "outputs": [
    {
     "data": {
      "text/plain": [
       "1.8999999999999995"
      ]
     },
     "execution_count": 34,
     "metadata": {},
     "output_type": "execute_result"
    }
   ],
   "source": [
    "8.6- 6.7"
   ]
  },
  {
   "cell_type": "code",
   "execution_count": 35,
   "id": "a0de86bf",
   "metadata": {},
   "outputs": [
    {
     "data": {
      "text/plain": [
       "array([ 1. ,  2.9,  4.8,  6.7,  8.6, 10.5, 12.4, 14.3, 16.2, 18.1])"
      ]
     },
     "execution_count": 35,
     "metadata": {},
     "output_type": "execute_result"
    }
   ],
   "source": [
    "np.linspace(1, 20,10,endpoint=False)"
   ]
  },
  {
   "cell_type": "code",
   "execution_count": 36,
   "id": "eacd432e",
   "metadata": {},
   "outputs": [
    {
     "data": {
      "text/plain": [
       "(array([ 1. ,  2.9,  4.8,  6.7,  8.6, 10.5, 12.4, 14.3, 16.2, 18.1]), 1.9)"
      ]
     },
     "execution_count": 36,
     "metadata": {},
     "output_type": "execute_result"
    }
   ],
   "source": [
    "np.linspace(1, 20,10,endpoint=False,retstep=True)"
   ]
  },
  {
   "cell_type": "code",
   "execution_count": 40,
   "id": "ffaa7f6a",
   "metadata": {},
   "outputs": [
    {
     "name": "stdout",
     "output_type": "stream",
     "text": [
      "(array([ 1.        ,  3.11111111,  5.22222222,  7.33333333,  9.44444444,\n",
      "       11.55555556, 13.66666667, 15.77777778, 17.88888889, 20.        ]), 2.111111111111111)\n"
     ]
    }
   ],
   "source": [
    "print(np.linspace(1, 20,10,endpoint=True,retstep=True))"
   ]
  },
  {
   "cell_type": "code",
   "execution_count": 39,
   "id": "2c904fd4",
   "metadata": {},
   "outputs": [
    {
     "data": {
      "text/plain": [
       "array([ 1.  ,  5.75, 10.5 , 15.25, 20.  ])"
      ]
     },
     "execution_count": 39,
     "metadata": {},
     "output_type": "execute_result"
    }
   ],
   "source": [
    "np.linspace(1, 20,5)"
   ]
  },
  {
   "cell_type": "code",
   "execution_count": null,
   "id": "72451a62",
   "metadata": {},
   "outputs": [],
   "source": []
  }
 ],
 "metadata": {
  "kernelspec": {
   "display_name": "Python 3 (ipykernel)",
   "language": "python",
   "name": "python3"
  },
  "language_info": {
   "codemirror_mode": {
    "name": "ipython",
    "version": 3
   },
   "file_extension": ".py",
   "mimetype": "text/x-python",
   "name": "python",
   "nbconvert_exporter": "python",
   "pygments_lexer": "ipython3",
   "version": "3.9.7"
  }
 },
 "nbformat": 4,
 "nbformat_minor": 5
}
