{
 "cells": [
  {
   "cell_type": "raw",
   "id": "a2b96c7f",
   "metadata": {},
   "source": [
    "\n",
    "string + string   ===> string\n",
    "string + int      ===> Error\n",
    "string + str(int) ===> string\n"
   ]
  },
  {
   "cell_type": "code",
   "execution_count": 1,
   "id": "d53268bc",
   "metadata": {},
   "outputs": [
    {
     "ename": "TypeError",
     "evalue": "can only concatenate str (not \"int\") to str",
     "output_type": "error",
     "traceback": [
      "\u001b[1;31m---------------------------------------------------------------------------\u001b[0m",
      "\u001b[1;31mTypeError\u001b[0m                                 Traceback (most recent call last)",
      "\u001b[1;32m~\\AppData\\Local\\Temp/ipykernel_16308/3643904446.py\u001b[0m in \u001b[0;36m<module>\u001b[1;34m\u001b[0m\n\u001b[1;32m----> 1\u001b[1;33m \u001b[1;34m\"abc\"\u001b[0m\u001b[1;33m+\u001b[0m \u001b[1;36m5\u001b[0m\u001b[1;33m\u001b[0m\u001b[1;33m\u001b[0m\u001b[0m\n\u001b[0m",
      "\u001b[1;31mTypeError\u001b[0m: can only concatenate str (not \"int\") to str"
     ]
    }
   ],
   "source": [
    "\"abc\"+ 5"
   ]
  },
  {
   "cell_type": "code",
   "execution_count": 2,
   "id": "a9dfa708",
   "metadata": {},
   "outputs": [
    {
     "ename": "TypeError",
     "evalue": "can only concatenate str (not \"float\") to str",
     "output_type": "error",
     "traceback": [
      "\u001b[1;31m---------------------------------------------------------------------------\u001b[0m",
      "\u001b[1;31mTypeError\u001b[0m                                 Traceback (most recent call last)",
      "\u001b[1;32m~\\AppData\\Local\\Temp/ipykernel_16308/951672965.py\u001b[0m in \u001b[0;36m<module>\u001b[1;34m\u001b[0m\n\u001b[1;32m----> 1\u001b[1;33m \u001b[1;34m\"abc\"\u001b[0m\u001b[1;33m+\u001b[0m \u001b[1;36m5.6\u001b[0m\u001b[1;33m\u001b[0m\u001b[1;33m\u001b[0m\u001b[0m\n\u001b[0m",
      "\u001b[1;31mTypeError\u001b[0m: can only concatenate str (not \"float\") to str"
     ]
    }
   ],
   "source": [
    "\"abc\"+ 5.6"
   ]
  },
  {
   "cell_type": "code",
   "execution_count": 3,
   "id": "aae57074",
   "metadata": {},
   "outputs": [
    {
     "data": {
      "text/plain": [
       "'abc5.6'"
      ]
     },
     "execution_count": 3,
     "metadata": {},
     "output_type": "execute_result"
    }
   ],
   "source": [
    "\"abc\"+ str(5.6)"
   ]
  },
  {
   "cell_type": "code",
   "execution_count": 4,
   "id": "d26b310e",
   "metadata": {},
   "outputs": [],
   "source": [
    "a=5"
   ]
  },
  {
   "cell_type": "code",
   "execution_count": 5,
   "id": "34a99f85",
   "metadata": {},
   "outputs": [
    {
     "data": {
      "text/plain": [
       "str"
      ]
     },
     "execution_count": 5,
     "metadata": {},
     "output_type": "execute_result"
    }
   ],
   "source": [
    "type(str(a))"
   ]
  },
  {
   "cell_type": "markdown",
   "id": "fec863d8",
   "metadata": {},
   "source": [
    "## STRING FORMATTING"
   ]
  },
  {
   "cell_type": "raw",
   "id": "8df6f611",
   "metadata": {},
   "source": [
    "STRING FORMATTING\n",
    "\n",
    "     1) f-string\n",
    "     2) .format()\n",
    "\n",
    "placeholders {}\n",
    "\n",
    "\n",
    "\n",
    "\"My name is ---.I am --- years old\""
   ]
  },
  {
   "cell_type": "code",
   "execution_count": null,
   "id": "a241c10f",
   "metadata": {},
   "outputs": [],
   "source": []
  },
  {
   "cell_type": "code",
   "execution_count": 7,
   "id": "2eb798b9",
   "metadata": {},
   "outputs": [],
   "source": [
    "name=\"Ganesh\""
   ]
  },
  {
   "cell_type": "code",
   "execution_count": 8,
   "id": "a2e496f0",
   "metadata": {},
   "outputs": [
    {
     "data": {
      "text/plain": [
       "'My name is name.'"
      ]
     },
     "execution_count": 8,
     "metadata": {},
     "output_type": "execute_result"
    }
   ],
   "source": [
    "\"My name is name.\""
   ]
  },
  {
   "cell_type": "code",
   "execution_count": 9,
   "id": "5ac01544",
   "metadata": {},
   "outputs": [],
   "source": [
    "name =\"Raj\"\n",
    "age = 25"
   ]
  },
  {
   "cell_type": "code",
   "execution_count": 10,
   "id": "129c17e2",
   "metadata": {},
   "outputs": [
    {
     "data": {
      "text/plain": [
       "'Raj'"
      ]
     },
     "execution_count": 10,
     "metadata": {},
     "output_type": "execute_result"
    }
   ],
   "source": [
    "name"
   ]
  },
  {
   "cell_type": "code",
   "execution_count": 11,
   "id": "e81fdde0",
   "metadata": {},
   "outputs": [
    {
     "data": {
      "text/plain": [
       "25"
      ]
     },
     "execution_count": 11,
     "metadata": {},
     "output_type": "execute_result"
    }
   ],
   "source": [
    "age"
   ]
  },
  {
   "cell_type": "code",
   "execution_count": null,
   "id": "292b540f",
   "metadata": {},
   "outputs": [],
   "source": []
  },
  {
   "cell_type": "code",
   "execution_count": 12,
   "id": "2778e459",
   "metadata": {},
   "outputs": [
    {
     "data": {
      "text/plain": [
       "'My name is name.I am age years old'"
      ]
     },
     "execution_count": 12,
     "metadata": {},
     "output_type": "execute_result"
    }
   ],
   "source": [
    "\"My name is name.I am age years old\""
   ]
  },
  {
   "cell_type": "code",
   "execution_count": 13,
   "id": "55eb7051",
   "metadata": {},
   "outputs": [
    {
     "data": {
      "text/plain": [
       "'My name is Raj.I am 25 years old'"
      ]
     },
     "execution_count": 13,
     "metadata": {},
     "output_type": "execute_result"
    }
   ],
   "source": [
    "f\"My name is {name}.I am {age} years old\""
   ]
  },
  {
   "cell_type": "code",
   "execution_count": null,
   "id": "6dd46e5b",
   "metadata": {},
   "outputs": [],
   "source": []
  },
  {
   "cell_type": "code",
   "execution_count": null,
   "id": "8b0c8fc4",
   "metadata": {},
   "outputs": [],
   "source": []
  },
  {
   "cell_type": "code",
   "execution_count": null,
   "id": "a6f3cd0d",
   "metadata": {},
   "outputs": [],
   "source": []
  },
  {
   "cell_type": "code",
   "execution_count": 14,
   "id": "fa9ff6b1",
   "metadata": {},
   "outputs": [
    {
     "data": {
      "text/plain": [
       "'My name is Raj .I am 25 years old'"
      ]
     },
     "execution_count": 14,
     "metadata": {},
     "output_type": "execute_result"
    }
   ],
   "source": [
    "f\"My name is {name} .I am {age} years old\""
   ]
  },
  {
   "cell_type": "raw",
   "id": "7f4064b4",
   "metadata": {},
   "source": [
    "#  .format()"
   ]
  },
  {
   "cell_type": "code",
   "execution_count": 15,
   "id": "091bfd18",
   "metadata": {},
   "outputs": [],
   "source": [
    "\"My name is {1}.I am {0} years old\".format(age,name)"
   ]
  },
  {
   "cell_type": "code",
   "execution_count": null,
   "id": "5cda7c81",
   "metadata": {},
   "outputs": [],
   "source": []
  },
  {
   "cell_type": "code",
   "execution_count": 16,
   "id": "9b576ded",
   "metadata": {},
   "outputs": [
    {
     "data": {
      "text/plain": [
       "'My name is Raj.I am 25 years old'"
      ]
     },
     "execution_count": 16,
     "metadata": {},
     "output_type": "execute_result"
    }
   ],
   "source": [
    "\"My name is {}.I am {} years old\".format(name,age)"
   ]
  },
  {
   "cell_type": "code",
   "execution_count": 17,
   "id": "ee1fc853",
   "metadata": {},
   "outputs": [
    {
     "data": {
      "text/plain": [
       "'My name is 25.I am Raj years old'"
      ]
     },
     "execution_count": 17,
     "metadata": {},
     "output_type": "execute_result"
    }
   ],
   "source": [
    "\"My name is {}.I am {} years old\".format(age,name)\n",
    "#                                         0   1"
   ]
  },
  {
   "cell_type": "code",
   "execution_count": null,
   "id": "6c303bde",
   "metadata": {},
   "outputs": [],
   "source": [
    "\"My name is {}.I am {} years old\".format(age,name)"
   ]
  },
  {
   "cell_type": "code",
   "execution_count": 18,
   "id": "8adec363",
   "metadata": {},
   "outputs": [
    {
     "data": {
      "text/plain": [
       "'My name is Raj.I am 25 years old'"
      ]
     },
     "execution_count": 18,
     "metadata": {},
     "output_type": "execute_result"
    }
   ],
   "source": [
    "\"My name is {1}.I am {0} years old\".format(age,name)\n",
    "#                                           0    1"
   ]
  },
  {
   "cell_type": "code",
   "execution_count": 23,
   "id": "53430d03",
   "metadata": {},
   "outputs": [],
   "source": [
    "name =\"Raj\"\n",
    "age = 25\n",
    "lang=\"Python\""
   ]
  },
  {
   "cell_type": "code",
   "execution_count": null,
   "id": "c8d12eea",
   "metadata": {},
   "outputs": [],
   "source": []
  },
  {
   "cell_type": "code",
   "execution_count": 24,
   "id": "6d6878f8",
   "metadata": {},
   "outputs": [
    {
     "data": {
      "text/plain": [
       "'My name is name.I am age years old. I am learning lang.'"
      ]
     },
     "execution_count": 24,
     "metadata": {},
     "output_type": "execute_result"
    }
   ],
   "source": [
    "\"My name is name.I am age years old. I am learning lang.\""
   ]
  },
  {
   "cell_type": "code",
   "execution_count": 26,
   "id": "3a751069",
   "metadata": {},
   "outputs": [
    {
     "data": {
      "text/plain": [
       "'My name is Raj.I am age years 25. I am learning Python'"
      ]
     },
     "execution_count": 26,
     "metadata": {},
     "output_type": "execute_result"
    }
   ],
   "source": [
    "\"My name is {}.I am age years {}. I am learning {}\".format(name,age,lang)"
   ]
  },
  {
   "cell_type": "code",
   "execution_count": 25,
   "id": "8d426eb7",
   "metadata": {},
   "outputs": [
    {
     "data": {
      "text/plain": [
       "'My name is Python.I am age years 25. I am learning Raj'"
      ]
     },
     "execution_count": 25,
     "metadata": {},
     "output_type": "execute_result"
    }
   ],
   "source": [
    "\"My name is {}.I am age years {}. I am learning {}\".format(lang,age,name)"
   ]
  },
  {
   "cell_type": "code",
   "execution_count": 27,
   "id": "066dd990",
   "metadata": {},
   "outputs": [
    {
     "data": {
      "text/plain": [
       "'My name is Raj.I am age years 25. I am learning Python'"
      ]
     },
     "execution_count": 27,
     "metadata": {},
     "output_type": "execute_result"
    }
   ],
   "source": [
    "\"My name is {2}.I am age years {1}. I am learning {0}\".format(lang,age,name)\n",
    "                                                           #  0    1   2"
   ]
  },
  {
   "cell_type": "code",
   "execution_count": 28,
   "id": "b8ffb89e",
   "metadata": {},
   "outputs": [],
   "source": [
    "a=\"My name is {1}.I am {0} years old\""
   ]
  },
  {
   "cell_type": "code",
   "execution_count": 29,
   "id": "fac42aae",
   "metadata": {},
   "outputs": [
    {
     "data": {
      "text/plain": [
       "'My name is {1}.I am {0} years old'"
      ]
     },
     "execution_count": 29,
     "metadata": {},
     "output_type": "execute_result"
    }
   ],
   "source": [
    "a"
   ]
  },
  {
   "cell_type": "code",
   "execution_count": null,
   "id": "d052abdb",
   "metadata": {},
   "outputs": [],
   "source": []
  },
  {
   "cell_type": "code",
   "execution_count": 31,
   "id": "22344168",
   "metadata": {},
   "outputs": [
    {
     "data": {
      "text/plain": [
       "'My name is 25.I am Raj years old'"
      ]
     },
     "execution_count": 31,
     "metadata": {},
     "output_type": "execute_result"
    }
   ],
   "source": [
    "a.format(name,age)\n",
    "#         0    1"
   ]
  },
  {
   "cell_type": "code",
   "execution_count": 32,
   "id": "874fe663",
   "metadata": {},
   "outputs": [],
   "source": [
    "a=\"abc\""
   ]
  },
  {
   "cell_type": "code",
   "execution_count": 33,
   "id": "0d679744",
   "metadata": {},
   "outputs": [
    {
     "data": {
      "text/plain": [
       "'abc'"
      ]
     },
     "execution_count": 33,
     "metadata": {},
     "output_type": "execute_result"
    }
   ],
   "source": [
    "a"
   ]
  },
  {
   "cell_type": "code",
   "execution_count": 34,
   "id": "3eaec775",
   "metadata": {},
   "outputs": [
    {
     "data": {
      "text/plain": [
       "'My name is name.I am age years old'"
      ]
     },
     "execution_count": 34,
     "metadata": {},
     "output_type": "execute_result"
    }
   ],
   "source": [
    "\"My name is name.I am age years old\""
   ]
  },
  {
   "cell_type": "code",
   "execution_count": 35,
   "id": "9ac74a3b",
   "metadata": {},
   "outputs": [
    {
     "name": "stdout",
     "output_type": "stream",
     "text": [
      "My name is name.I am age years old\n"
     ]
    }
   ],
   "source": [
    "print(\"My name is name.I am age years old\")"
   ]
  },
  {
   "cell_type": "code",
   "execution_count": 41,
   "id": "0015d7d0",
   "metadata": {},
   "outputs": [
    {
     "data": {
      "text/plain": [
       "'My name is name.\\nI am age years old'"
      ]
     },
     "execution_count": 41,
     "metadata": {},
     "output_type": "execute_result"
    }
   ],
   "source": [
    "\"My name is name.\\nI am age years old\""
   ]
  },
  {
   "cell_type": "code",
   "execution_count": 40,
   "id": "a7c6d272",
   "metadata": {},
   "outputs": [
    {
     "name": "stdout",
     "output_type": "stream",
     "text": [
      "My name is name. \n",
      " I am age years old\n"
     ]
    }
   ],
   "source": [
    "print(\"My name is name.\\n I am age years old\")"
   ]
  },
  {
   "cell_type": "code",
   "execution_count": 44,
   "id": "2fc55fd2",
   "metadata": {},
   "outputs": [
    {
     "name": "stdout",
     "output_type": "stream",
     "text": [
      "My name is name.\\n I am age years old\n"
     ]
    }
   ],
   "source": [
    "print(r\"My name is name.\\n I am age years old\")"
   ]
  },
  {
   "cell_type": "code",
   "execution_count": 42,
   "id": "e977ecf8",
   "metadata": {},
   "outputs": [
    {
     "name": "stdout",
     "output_type": "stream",
     "text": [
      "My name is name.\t I am age years old\n"
     ]
    }
   ],
   "source": [
    "print(\"My name is name.\\t I am age years old\")"
   ]
  },
  {
   "cell_type": "markdown",
   "id": "5b8cebdc",
   "metadata": {},
   "source": [
    "## String Methods"
   ]
  },
  {
   "cell_type": "raw",
   "id": "94e65440",
   "metadata": {},
   "source": [
    "\"\"\"\n",
    " String Methods :-\n",
    "\n",
    " syntax:-\n",
    "        stringVariableName.method()\n",
    "\"\"\""
   ]
  },
  {
   "cell_type": "code",
   "execution_count": 45,
   "id": "bea69b11",
   "metadata": {},
   "outputs": [],
   "source": [
    "String = \"Pythonclass\"  #(a-z A-Z 0-9)\n",
    "# isalnum() \n",
    "# Returns True if all characters in the string are alphanumeric .meaning alphabet letter (a-z) and numbers (0-9)\n",
    "# not alphanumeric: (space)!#%&? "
   ]
  },
  {
   "cell_type": "code",
   "execution_count": 46,
   "id": "ee69e742",
   "metadata": {},
   "outputs": [
    {
     "data": {
      "text/plain": [
       "'Pythonclass'"
      ]
     },
     "execution_count": 46,
     "metadata": {},
     "output_type": "execute_result"
    }
   ],
   "source": [
    "String.isalnum()"
   ]
  },
  {
   "cell_type": "code",
   "execution_count": 47,
   "id": "2d9dc976",
   "metadata": {},
   "outputs": [
    {
     "data": {
      "text/plain": [
       "True"
      ]
     },
     "execution_count": 47,
     "metadata": {},
     "output_type": "execute_result"
    }
   ],
   "source": [
    "String.isalnum()"
   ]
  },
  {
   "cell_type": "code",
   "execution_count": 48,
   "id": "fff5a340",
   "metadata": {},
   "outputs": [
    {
     "data": {
      "text/plain": [
       "True"
      ]
     },
     "execution_count": 48,
     "metadata": {},
     "output_type": "execute_result"
    }
   ],
   "source": [
    "\"Pythonclass\".isalnum()"
   ]
  },
  {
   "cell_type": "code",
   "execution_count": 49,
   "id": "9500dd78",
   "metadata": {},
   "outputs": [
    {
     "data": {
      "text/plain": [
       "False"
      ]
     },
     "execution_count": 49,
     "metadata": {},
     "output_type": "execute_result"
    }
   ],
   "source": [
    "\"Python class\".isalnum()"
   ]
  },
  {
   "cell_type": "code",
   "execution_count": 50,
   "id": "fbfaa7cb",
   "metadata": {},
   "outputs": [
    {
     "data": {
      "text/plain": [
       "True"
      ]
     },
     "execution_count": 50,
     "metadata": {},
     "output_type": "execute_result"
    }
   ],
   "source": [
    "\"abcd65876\".isalnum()"
   ]
  },
  {
   "cell_type": "code",
   "execution_count": 51,
   "id": "682a2a6f",
   "metadata": {},
   "outputs": [
    {
     "data": {
      "text/plain": [
       "False"
      ]
     },
     "execution_count": 51,
     "metadata": {},
     "output_type": "execute_result"
    }
   ],
   "source": [
    "\"abcd 65876\".isalnum()"
   ]
  },
  {
   "cell_type": "code",
   "execution_count": 52,
   "id": "b7871dd9",
   "metadata": {},
   "outputs": [
    {
     "data": {
      "text/plain": [
       "False"
      ]
     },
     "execution_count": 52,
     "metadata": {},
     "output_type": "execute_result"
    }
   ],
   "source": [
    "\"abcd,65876\".isalnum()"
   ]
  },
  {
   "cell_type": "code",
   "execution_count": 53,
   "id": "960f31c3",
   "metadata": {},
   "outputs": [
    {
     "data": {
      "text/plain": [
       "True"
      ]
     },
     "execution_count": 53,
     "metadata": {},
     "output_type": "execute_result"
    }
   ],
   "source": [
    "str1 = String.isalnum()\n",
    "str1"
   ]
  },
  {
   "cell_type": "code",
   "execution_count": 56,
   "id": "edf1324d",
   "metadata": {},
   "outputs": [
    {
     "name": "stdout",
     "output_type": "stream",
     "text": [
      "True\n"
     ]
    }
   ],
   "source": [
    "print(str1)"
   ]
  },
  {
   "cell_type": "code",
   "execution_count": 57,
   "id": "82021496",
   "metadata": {
    "scrolled": true
   },
   "outputs": [
    {
     "name": "stdout",
     "output_type": "stream",
     "text": [
      "True\n",
      "None\n"
     ]
    }
   ],
   "source": [
    "print(print(str1))"
   ]
  },
  {
   "cell_type": "code",
   "execution_count": 58,
   "id": "90431279",
   "metadata": {},
   "outputs": [
    {
     "name": "stdout",
     "output_type": "stream",
     "text": [
      "True\n",
      "None\n"
     ]
    }
   ],
   "source": [
    "print(print(str1))"
   ]
  },
  {
   "cell_type": "code",
   "execution_count": null,
   "id": "c728973c",
   "metadata": {},
   "outputs": [],
   "source": [
    "# isalpha()\n",
    "# Returns True if all characters in the string are alphabet letters. (a-z)\n",
    "str1 = String.isalpha() \n",
    "str1"
   ]
  },
  {
   "cell_type": "code",
   "execution_count": null,
   "id": "93a205cb",
   "metadata": {},
   "outputs": [],
   "source": [
    "\"abcd65876\".isalpha() "
   ]
  }
 ],
 "metadata": {
  "kernelspec": {
   "display_name": "Python 3 (ipykernel)",
   "language": "python",
   "name": "python3"
  },
  "language_info": {
   "codemirror_mode": {
    "name": "ipython",
    "version": 3
   },
   "file_extension": ".py",
   "mimetype": "text/x-python",
   "name": "python",
   "nbconvert_exporter": "python",
   "pygments_lexer": "ipython3",
   "version": "3.9.7"
  }
 },
 "nbformat": 4,
 "nbformat_minor": 5
}
