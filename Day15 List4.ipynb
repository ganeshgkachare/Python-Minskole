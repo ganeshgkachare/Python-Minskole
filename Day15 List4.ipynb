{
 "cells": [
  {
   "cell_type": "code",
   "execution_count": 23,
   "id": "20c8e032",
   "metadata": {},
   "outputs": [],
   "source": [
    "a= [1, 2, 3, 4, '5', '6', '7', 'Hello', 'World', True, False, 'Houndred']\n",
    "#   0  1  2  3   4    5    6     7        8       9      10     11"
   ]
  },
  {
   "cell_type": "code",
   "execution_count": null,
   "id": "f181056a",
   "metadata": {},
   "outputs": [],
   "source": [
    "list(range(len(a)))"
   ]
  },
  {
   "cell_type": "code",
   "execution_count": 24,
   "id": "72a5e6bb",
   "metadata": {},
   "outputs": [
    {
     "data": {
      "text/plain": [
       "'Hello'"
      ]
     },
     "execution_count": 24,
     "metadata": {},
     "output_type": "execute_result"
    }
   ],
   "source": [
    "a[7]"
   ]
  },
  {
   "cell_type": "code",
   "execution_count": 25,
   "id": "7fa44f99",
   "metadata": {},
   "outputs": [
    {
     "ename": "IndexError",
     "evalue": "list index out of range",
     "output_type": "error",
     "traceback": [
      "\u001b[1;31m---------------------------------------------------------------------------\u001b[0m",
      "\u001b[1;31mIndexError\u001b[0m                                Traceback (most recent call last)",
      "\u001b[1;32m~\\AppData\\Local\\Temp/ipykernel_29804/2760624763.py\u001b[0m in \u001b[0;36m<module>\u001b[1;34m\u001b[0m\n\u001b[1;32m----> 1\u001b[1;33m \u001b[0ma\u001b[0m\u001b[1;33m[\u001b[0m\u001b[1;36m12\u001b[0m\u001b[1;33m]\u001b[0m\u001b[1;33m\u001b[0m\u001b[1;33m\u001b[0m\u001b[0m\n\u001b[0m",
      "\u001b[1;31mIndexError\u001b[0m: list index out of range"
     ]
    }
   ],
   "source": [
    "a[12]"
   ]
  },
  {
   "cell_type": "code",
   "execution_count": null,
   "id": "6904f217",
   "metadata": {},
   "outputs": [],
   "source": [
    "#can we iterate item in list using range?\n",
    "\n",
    "for x in range(len(a)):\n",
    "    print(a[x])\n",
    "\n"
   ]
  },
  {
   "cell_type": "code",
   "execution_count": null,
   "id": "e08b8289",
   "metadata": {},
   "outputs": [],
   "source": [
    "# Que:Create table of 5 in the following format\n",
    "#     5*1 = 5\n",
    "#     5*2 = 10\n",
    "#     -\n",
    "#     -\n",
    "#     5*10 = 50"
   ]
  },
  {
   "cell_type": "code",
   "execution_count": 21,
   "id": "2fe26e1e",
   "metadata": {},
   "outputs": [],
   "source": [
    "a=list(range(1,11))"
   ]
  },
  {
   "cell_type": "code",
   "execution_count": 22,
   "id": "aabfccb0",
   "metadata": {},
   "outputs": [
    {
     "name": "stdout",
     "output_type": "stream",
     "text": [
      "0 * 6 =  0\n",
      "1 * 6 =  6\n",
      "2 * 6 =  12\n",
      "3 * 6 =  18\n",
      "4 * 6 =  24\n",
      "5 * 6 =  30\n",
      "6 * 6 =  36\n",
      "7 * 6 =  42\n",
      "8 * 6 =  48\n",
      "9 * 6 =  54\n"
     ]
    }
   ],
   "source": [
    "for x in range(len(a)):\n",
    "    print(x,\"* 6 = \",x*6)"
   ]
  },
  {
   "cell_type": "code",
   "execution_count": 19,
   "id": "874f339e",
   "metadata": {},
   "outputs": [
    {
     "name": "stdout",
     "output_type": "stream",
     "text": [
      "1 * 6 =  6\n",
      "2 * 6 =  12\n",
      "3 * 6 =  18\n",
      "4 * 6 =  24\n",
      "5 * 6 =  30\n",
      "6 * 6 =  36\n",
      "7 * 6 =  42\n",
      "8 * 6 =  48\n",
      "9 * 6 =  54\n",
      "10 * 6 =  60\n"
     ]
    }
   ],
   "source": [
    "for x in range(len(a)):\n",
    "    if (x==0):\n",
    "        continue\n",
    "    print(x,\"* 6 = \",x*6)"
   ]
  },
  {
   "cell_type": "code",
   "execution_count": null,
   "id": "be2beed3",
   "metadata": {},
   "outputs": [],
   "source": []
  },
  {
   "cell_type": "code",
   "execution_count": 35,
   "id": "640dabee",
   "metadata": {},
   "outputs": [],
   "source": [
    "a=list(range(5,51,5))"
   ]
  },
  {
   "cell_type": "code",
   "execution_count": 36,
   "id": "dcac5623",
   "metadata": {},
   "outputs": [
    {
     "data": {
      "text/plain": [
       "[5, 10, 15, 20, 25, 30, 35, 40, 45, 50]"
      ]
     },
     "execution_count": 36,
     "metadata": {},
     "output_type": "execute_result"
    }
   ],
   "source": [
    "a"
   ]
  },
  {
   "cell_type": "code",
   "execution_count": 37,
   "id": "2a745ab5",
   "metadata": {},
   "outputs": [
    {
     "data": {
      "text/plain": [
       "range(0, 10)"
      ]
     },
     "execution_count": 37,
     "metadata": {},
     "output_type": "execute_result"
    }
   ],
   "source": [
    "(range(len(a)))"
   ]
  },
  {
   "cell_type": "code",
   "execution_count": 32,
   "id": "7e481f58",
   "metadata": {},
   "outputs": [
    {
     "data": {
      "text/plain": [
       "[0, 1, 2, 3, 4, 5, 6, 7, 8, 9]"
      ]
     },
     "execution_count": 32,
     "metadata": {},
     "output_type": "execute_result"
    }
   ],
   "source": [
    "list(range(len(a)))"
   ]
  },
  {
   "cell_type": "code",
   "execution_count": null,
   "id": "a6bbb186",
   "metadata": {},
   "outputs": [],
   "source": [
    "# Que:Create table of 5 in the following format\n",
    "#     5*1 = 5\n",
    "#     5*2 = 10\n",
    "#     -\n",
    "#     -\n",
    "#     5*10 = 50"
   ]
  },
  {
   "cell_type": "code",
   "execution_count": null,
   "id": "2673bb8f",
   "metadata": {},
   "outputs": [],
   "source": [
    "a = [5, 10, 15, (20), 25, 30, 35, 40, 45, 50]\n",
    "#    0   1   2   (3)   4   5   6   7   8   9   ===> x"
   ]
  },
  {
   "cell_type": "code",
   "execution_count": null,
   "id": "3b381f69",
   "metadata": {},
   "outputs": [],
   "source": [
    "x=3"
   ]
  },
  {
   "cell_type": "code",
   "execution_count": null,
   "id": "69276b74",
   "metadata": {},
   "outputs": [],
   "source": [
    "f\"5 * {x+1} = \",a[x]\n",
    "f\"5 * {3+1} = \",a[3]\n",
    "\n",
    "f\"5 * 4 = \",20"
   ]
  },
  {
   "cell_type": "code",
   "execution_count": 38,
   "id": "a9c953c1",
   "metadata": {},
   "outputs": [
    {
     "name": "stdout",
     "output_type": "stream",
     "text": [
      "5 * 1 =  5\n",
      "5 * 2 =  10\n",
      "5 * 3 =  15\n",
      "5 * 4 =  20\n",
      "5 * 5 =  25\n",
      "5 * 6 =  30\n",
      "5 * 7 =  35\n",
      "5 * 8 =  40\n",
      "5 * 9 =  45\n",
      "5 * 10 =  50\n"
     ]
    }
   ],
   "source": [
    "a=range(5,51,5)\n",
    "for x in range(len(a)):\n",
    "    print(f\"5 * {x+1} = \",a[x])"
   ]
  },
  {
   "cell_type": "code",
   "execution_count": 39,
   "id": "3d68d59a",
   "metadata": {},
   "outputs": [],
   "source": [
    "# ### Slicing\n",
    "#a[starting_index:ending_index:jump]\n",
    "# All Elements"
   ]
  },
  {
   "cell_type": "code",
   "execution_count": 42,
   "id": "b934381d",
   "metadata": {},
   "outputs": [],
   "source": [
    "a= [1, 2, 3, 4, '5', '6', '7', 'Hello', 'World', True, False, 'Houndred']\n"
   ]
  },
  {
   "cell_type": "code",
   "execution_count": 43,
   "id": "2a23ca95",
   "metadata": {},
   "outputs": [
    {
     "name": "stdout",
     "output_type": "stream",
     "text": [
      "[4, '5', '6', '7', 'Hello', 'World', True, False, 'Houndred']\n"
     ]
    }
   ],
   "source": [
    "print(a[3:]) # From 3 to foward"
   ]
  },
  {
   "cell_type": "code",
   "execution_count": 44,
   "id": "3696a15e",
   "metadata": {},
   "outputs": [
    {
     "name": "stdout",
     "output_type": "stream",
     "text": [
      "['6', '7', 'Hello']\n"
     ]
    }
   ],
   "source": [
    "print(a[5:8] )# Between 5 and 8 (5,8)"
   ]
  },
  {
   "cell_type": "code",
   "execution_count": 45,
   "id": "1255d014",
   "metadata": {},
   "outputs": [
    {
     "name": "stdout",
     "output_type": "stream",
     "text": [
      "[1, 2, 3]\n"
     ]
    }
   ],
   "source": [
    "print(a[:3] )# from start to 3 "
   ]
  },
  {
   "cell_type": "code",
   "execution_count": 46,
   "id": "2dba9534",
   "metadata": {},
   "outputs": [
    {
     "name": "stdout",
     "output_type": "stream",
     "text": [
      "[1, 2, 3, 4, '5', '6', '7', 'Hello', 'World', True, False, 'Houndred']\n"
     ]
    }
   ],
   "source": [
    "print(a[::]) # Full list"
   ]
  },
  {
   "cell_type": "code",
   "execution_count": 47,
   "id": "c7547bd3",
   "metadata": {},
   "outputs": [
    {
     "name": "stdout",
     "output_type": "stream",
     "text": [
      "['Houndred', False, True, 'World', 'Hello', '7', '6', '5', 4, 3, 2, 1]\n"
     ]
    }
   ],
   "source": [
    "print(a[::-1]) # Reverse"
   ]
  },
  {
   "cell_type": "code",
   "execution_count": 48,
   "id": "9108985a",
   "metadata": {},
   "outputs": [],
   "source": [
    "# ### Concatenate\n",
    "b = [1,2,3,4]\n",
    "c = [4,6,7,8]"
   ]
  },
  {
   "cell_type": "code",
   "execution_count": 49,
   "id": "903dd10e",
   "metadata": {},
   "outputs": [
    {
     "data": {
      "text/plain": [
       "list"
      ]
     },
     "execution_count": 49,
     "metadata": {},
     "output_type": "execute_result"
    }
   ],
   "source": [
    "type(b) # datatype in variable b"
   ]
  },
  {
   "cell_type": "code",
   "execution_count": 50,
   "id": "08f70696",
   "metadata": {},
   "outputs": [
    {
     "data": {
      "text/plain": [
       "4"
      ]
     },
     "execution_count": 50,
     "metadata": {},
     "output_type": "execute_result"
    }
   ],
   "source": [
    "len(b) # Len of variable b"
   ]
  },
  {
   "cell_type": "code",
   "execution_count": 51,
   "id": "81ea52a6",
   "metadata": {},
   "outputs": [
    {
     "data": {
      "text/plain": [
       "[1, 2, 3, 4, 4, 6, 7, 8]"
      ]
     },
     "execution_count": 51,
     "metadata": {},
     "output_type": "execute_result"
    }
   ],
   "source": [
    "b + c"
   ]
  },
  {
   "cell_type": "code",
   "execution_count": 52,
   "id": "08776195",
   "metadata": {},
   "outputs": [
    {
     "data": {
      "text/plain": [
       "[4, 6, 7, 8, 1, 2, 3, 4]"
      ]
     },
     "execution_count": 52,
     "metadata": {},
     "output_type": "execute_result"
    }
   ],
   "source": [
    "c + b"
   ]
  },
  {
   "cell_type": "code",
   "execution_count": 53,
   "id": "58e9e49e",
   "metadata": {},
   "outputs": [],
   "source": [
    "n = b + c"
   ]
  },
  {
   "cell_type": "code",
   "execution_count": 54,
   "id": "420031ef",
   "metadata": {},
   "outputs": [
    {
     "data": {
      "text/plain": [
       "[1, 2, 3, 4, 4, 6, 7, 8]"
      ]
     },
     "execution_count": 54,
     "metadata": {},
     "output_type": "execute_result"
    }
   ],
   "source": [
    "n"
   ]
  },
  {
   "cell_type": "code",
   "execution_count": 55,
   "id": "0e8b9c08",
   "metadata": {},
   "outputs": [
    {
     "data": {
      "text/plain": [
       "[1, 2, 3, 4]"
      ]
     },
     "execution_count": 55,
     "metadata": {},
     "output_type": "execute_result"
    }
   ],
   "source": [
    "b"
   ]
  },
  {
   "cell_type": "code",
   "execution_count": 57,
   "id": "6654fdf5",
   "metadata": {},
   "outputs": [],
   "source": [
    "c=55"
   ]
  },
  {
   "cell_type": "code",
   "execution_count": 60,
   "id": "df4fe88b",
   "metadata": {},
   "outputs": [
    {
     "ename": "TypeError",
     "evalue": "can only concatenate list (not \"int\") to list",
     "output_type": "error",
     "traceback": [
      "\u001b[1;31m---------------------------------------------------------------------------\u001b[0m",
      "\u001b[1;31mTypeError\u001b[0m                                 Traceback (most recent call last)",
      "\u001b[1;32m~\\AppData\\Local\\Temp/ipykernel_29804/64709751.py\u001b[0m in \u001b[0;36m<module>\u001b[1;34m\u001b[0m\n\u001b[1;32m----> 1\u001b[1;33m \u001b[0mb\u001b[0m \u001b[1;33m+\u001b[0m \u001b[0mc\u001b[0m  \u001b[1;31m# Number not concatenated in list\u001b[0m\u001b[1;33m\u001b[0m\u001b[1;33m\u001b[0m\u001b[0m\n\u001b[0m\u001b[0;32m      2\u001b[0m        \u001b[1;31m# To concat we need all variables list\u001b[0m\u001b[1;33m\u001b[0m\u001b[1;33m\u001b[0m\u001b[0m\n",
      "\u001b[1;31mTypeError\u001b[0m: can only concatenate list (not \"int\") to list"
     ]
    }
   ],
   "source": [
    "b + c  # Number not concatenated in list\n",
    "       # To concat we need all variables list"
   ]
  },
  {
   "cell_type": "code",
   "execution_count": 62,
   "id": "5273aa11",
   "metadata": {},
   "outputs": [
    {
     "data": {
      "text/plain": [
       "[1, 2, 3, 4]"
      ]
     },
     "execution_count": 62,
     "metadata": {},
     "output_type": "execute_result"
    }
   ],
   "source": [
    "b"
   ]
  },
  {
   "cell_type": "code",
   "execution_count": 63,
   "id": "1cc7888c",
   "metadata": {},
   "outputs": [
    {
     "data": {
      "text/plain": [
       "[1, 2, 3, 4, 1, 2, 3, 4]"
      ]
     },
     "execution_count": 63,
     "metadata": {},
     "output_type": "execute_result"
    }
   ],
   "source": [
    "b*2   # Replicate 2 (must be int) times"
   ]
  },
  {
   "cell_type": "code",
   "execution_count": 64,
   "id": "a2e3f72c",
   "metadata": {},
   "outputs": [
    {
     "ename": "TypeError",
     "evalue": "can't multiply sequence by non-int of type 'float'",
     "output_type": "error",
     "traceback": [
      "\u001b[1;31m---------------------------------------------------------------------------\u001b[0m",
      "\u001b[1;31mTypeError\u001b[0m                                 Traceback (most recent call last)",
      "\u001b[1;32m~\\AppData\\Local\\Temp/ipykernel_29804/2893660637.py\u001b[0m in \u001b[0;36m<module>\u001b[1;34m\u001b[0m\n\u001b[1;32m----> 1\u001b[1;33m \u001b[0mb\u001b[0m\u001b[1;33m*\u001b[0m\u001b[1;36m2.5\u001b[0m\u001b[1;33m\u001b[0m\u001b[1;33m\u001b[0m\u001b[0m\n\u001b[0m",
      "\u001b[1;31mTypeError\u001b[0m: can't multiply sequence by non-int of type 'float'"
     ]
    }
   ],
   "source": [
    "b*2.5"
   ]
  },
  {
   "cell_type": "code",
   "execution_count": 65,
   "id": "b5ed9220",
   "metadata": {},
   "outputs": [
    {
     "data": {
      "text/plain": [
       "[1, 2, 3, 4]"
      ]
     },
     "execution_count": 65,
     "metadata": {},
     "output_type": "execute_result"
    }
   ],
   "source": [
    "b"
   ]
  },
  {
   "cell_type": "code",
   "execution_count": 67,
   "id": "379bd855",
   "metadata": {},
   "outputs": [],
   "source": [
    "b = [1,2,3,4]\n",
    "c = [4,6,7,8]"
   ]
  },
  {
   "cell_type": "code",
   "execution_count": 68,
   "id": "7a4a2cd6",
   "metadata": {},
   "outputs": [
    {
     "ename": "TypeError",
     "evalue": "can't multiply sequence by non-int of type 'list'",
     "output_type": "error",
     "traceback": [
      "\u001b[1;31m---------------------------------------------------------------------------\u001b[0m",
      "\u001b[1;31mTypeError\u001b[0m                                 Traceback (most recent call last)",
      "\u001b[1;32m~\\AppData\\Local\\Temp/ipykernel_29804/385819888.py\u001b[0m in \u001b[0;36m<module>\u001b[1;34m\u001b[0m\n\u001b[1;32m----> 1\u001b[1;33m \u001b[0mb\u001b[0m\u001b[1;33m*\u001b[0m\u001b[0mc\u001b[0m\u001b[1;33m\u001b[0m\u001b[1;33m\u001b[0m\u001b[0m\n\u001b[0m",
      "\u001b[1;31mTypeError\u001b[0m: can't multiply sequence by non-int of type 'list'"
     ]
    }
   ],
   "source": [
    "b*c"
   ]
  },
  {
   "cell_type": "code",
   "execution_count": 69,
   "id": "bfde1436",
   "metadata": {},
   "outputs": [
    {
     "ename": "TypeError",
     "evalue": "unsupported operand type(s) for /: 'list' and 'list'",
     "output_type": "error",
     "traceback": [
      "\u001b[1;31m---------------------------------------------------------------------------\u001b[0m",
      "\u001b[1;31mTypeError\u001b[0m                                 Traceback (most recent call last)",
      "\u001b[1;32m~\\AppData\\Local\\Temp/ipykernel_29804/3039434022.py\u001b[0m in \u001b[0;36m<module>\u001b[1;34m\u001b[0m\n\u001b[1;32m----> 1\u001b[1;33m \u001b[0mb\u001b[0m\u001b[1;33m/\u001b[0m\u001b[0mc\u001b[0m\u001b[1;33m\u001b[0m\u001b[1;33m\u001b[0m\u001b[0m\n\u001b[0m",
      "\u001b[1;31mTypeError\u001b[0m: unsupported operand type(s) for /: 'list' and 'list'"
     ]
    }
   ],
   "source": [
    "b/c"
   ]
  },
  {
   "cell_type": "code",
   "execution_count": 70,
   "id": "9162f380",
   "metadata": {},
   "outputs": [
    {
     "ename": "TypeError",
     "evalue": "unsupported operand type(s) for /: 'list' and 'int'",
     "output_type": "error",
     "traceback": [
      "\u001b[1;31m---------------------------------------------------------------------------\u001b[0m",
      "\u001b[1;31mTypeError\u001b[0m                                 Traceback (most recent call last)",
      "\u001b[1;32m~\\AppData\\Local\\Temp/ipykernel_29804/2469646989.py\u001b[0m in \u001b[0;36m<module>\u001b[1;34m\u001b[0m\n\u001b[1;32m----> 1\u001b[1;33m \u001b[0mb\u001b[0m\u001b[1;33m/\u001b[0m\u001b[1;36m2\u001b[0m\u001b[1;33m\u001b[0m\u001b[1;33m\u001b[0m\u001b[0m\n\u001b[0m",
      "\u001b[1;31mTypeError\u001b[0m: unsupported operand type(s) for /: 'list' and 'int'"
     ]
    }
   ],
   "source": [
    "b/2"
   ]
  },
  {
   "cell_type": "code",
   "execution_count": 71,
   "id": "e4f7aba8",
   "metadata": {},
   "outputs": [
    {
     "ename": "TypeError",
     "evalue": "unsupported operand type(s) for -: 'list' and 'list'",
     "output_type": "error",
     "traceback": [
      "\u001b[1;31m---------------------------------------------------------------------------\u001b[0m",
      "\u001b[1;31mTypeError\u001b[0m                                 Traceback (most recent call last)",
      "\u001b[1;32m~\\AppData\\Local\\Temp/ipykernel_29804/645270155.py\u001b[0m in \u001b[0;36m<module>\u001b[1;34m\u001b[0m\n\u001b[1;32m----> 1\u001b[1;33m \u001b[0mb\u001b[0m\u001b[1;33m-\u001b[0m\u001b[0mc\u001b[0m\u001b[1;33m\u001b[0m\u001b[1;33m\u001b[0m\u001b[0m\n\u001b[0m",
      "\u001b[1;31mTypeError\u001b[0m: unsupported operand type(s) for -: 'list' and 'list'"
     ]
    }
   ],
   "source": [
    "b-c"
   ]
  },
  {
   "cell_type": "code",
   "execution_count": 72,
   "id": "e15f7c23",
   "metadata": {},
   "outputs": [
    {
     "ename": "TypeError",
     "evalue": "unsupported operand type(s) for -: 'list' and 'int'",
     "output_type": "error",
     "traceback": [
      "\u001b[1;31m---------------------------------------------------------------------------\u001b[0m",
      "\u001b[1;31mTypeError\u001b[0m                                 Traceback (most recent call last)",
      "\u001b[1;32m~\\AppData\\Local\\Temp/ipykernel_29804/448906092.py\u001b[0m in \u001b[0;36m<module>\u001b[1;34m\u001b[0m\n\u001b[1;32m----> 1\u001b[1;33m \u001b[0mb\u001b[0m\u001b[1;33m-\u001b[0m\u001b[1;36m4\u001b[0m\u001b[1;33m\u001b[0m\u001b[1;33m\u001b[0m\u001b[0m\n\u001b[0m",
      "\u001b[1;31mTypeError\u001b[0m: unsupported operand type(s) for -: 'list' and 'int'"
     ]
    }
   ],
   "source": [
    "b-4"
   ]
  }
 ],
 "metadata": {
  "kernelspec": {
   "display_name": "Python 3 (ipykernel)",
   "language": "python",
   "name": "python3"
  },
  "language_info": {
   "codemirror_mode": {
    "name": "ipython",
    "version": 3
   },
   "file_extension": ".py",
   "mimetype": "text/x-python",
   "name": "python",
   "nbconvert_exporter": "python",
   "pygments_lexer": "ipython3",
   "version": "3.9.7"
  }
 },
 "nbformat": 4,
 "nbformat_minor": 5
}
