{
 "cells": [
  {
   "cell_type": "markdown",
   "id": "ad0d86fa",
   "metadata": {},
   "source": [
    "## Set"
   ]
  },
  {
   "cell_type": "raw",
   "id": "43b206d2",
   "metadata": {},
   "source": [
    "Set\n",
    "\n",
    "    Set is an unordered collection of data types that is iterable, mutable and has \n",
    "    no duplicate elements.\n",
    "\n",
    "Creating a Set\n",
    "    Sets can be created by using the built-in set() function with an iterable object   \n",
    "    or a sequence by placing the sequence inside curly braces, separated by a ‘comma’.\n",
    "    \n",
    "    Every element in set is hashable\n",
    "\n",
    "Note: A set cannot have mutable elements like a list or dictionary, as it is mutable. \n",
    "\n",
    "    Common uses include membership testing, removing duplicates from a sequence, and computing \n",
    "    mathematical operations such as intersection, union, difference, and symmetric difference. "
   ]
  },
  {
   "cell_type": "code",
   "execution_count": null,
   "id": "b40193f0",
   "metadata": {},
   "outputs": [],
   "source": [
    "set()"
   ]
  },
  {
   "cell_type": "code",
   "execution_count": null,
   "id": "a0289611",
   "metadata": {},
   "outputs": [],
   "source": [
    "#M1\n",
    "a=set([1,2,3])"
   ]
  },
  {
   "cell_type": "code",
   "execution_count": null,
   "id": "58732427",
   "metadata": {},
   "outputs": [],
   "source": [
    "a"
   ]
  },
  {
   "cell_type": "code",
   "execution_count": null,
   "id": "7945cfc4",
   "metadata": {},
   "outputs": [],
   "source": [
    "type(a)"
   ]
  },
  {
   "cell_type": "code",
   "execution_count": null,
   "id": "9ee0d2a2",
   "metadata": {},
   "outputs": [],
   "source": [
    "#M2\n",
    "b={2,3,4}\n",
    "type(b)"
   ]
  },
  {
   "cell_type": "code",
   "execution_count": null,
   "id": "a966045d",
   "metadata": {},
   "outputs": [],
   "source": [
    "{1,2.0}"
   ]
  },
  {
   "cell_type": "code",
   "execution_count": null,
   "id": "b57bfef9",
   "metadata": {},
   "outputs": [],
   "source": [
    "{1,2.0,(1,2,3)} # Unorder"
   ]
  },
  {
   "cell_type": "code",
   "execution_count": null,
   "id": "17861b75",
   "metadata": {},
   "outputs": [],
   "source": [
    "{1,2.0,(1,2,3),[4,5]} # List"
   ]
  },
  {
   "cell_type": "code",
   "execution_count": null,
   "id": "61e7872b",
   "metadata": {},
   "outputs": [],
   "source": [
    "{1,2.0,(1,2,3),[4,5]}"
   ]
  },
  {
   "cell_type": "code",
   "execution_count": null,
   "id": "b2bf7c0b",
   "metadata": {},
   "outputs": [],
   "source": [
    "{1,2,2,2,3,4,5,5,5,5} # No duplicate"
   ]
  },
  {
   "cell_type": "code",
   "execution_count": null,
   "id": "7c2e5c8c",
   "metadata": {},
   "outputs": [],
   "source": [
    "a={1,2,2,2,3,4,5,5,5,5}"
   ]
  },
  {
   "cell_type": "code",
   "execution_count": null,
   "id": "7fac16d0",
   "metadata": {},
   "outputs": [],
   "source": [
    "a"
   ]
  },
  {
   "cell_type": "code",
   "execution_count": null,
   "id": "31cd612c",
   "metadata": {},
   "outputs": [],
   "source": [
    "a[2]"
   ]
  },
  {
   "cell_type": "code",
   "execution_count": null,
   "id": "84d2b261",
   "metadata": {},
   "outputs": [],
   "source": [
    "b=[1,2,3,4,5,6]"
   ]
  },
  {
   "cell_type": "code",
   "execution_count": null,
   "id": "5077b375",
   "metadata": {},
   "outputs": [],
   "source": [
    "b[2]"
   ]
  },
  {
   "cell_type": "code",
   "execution_count": null,
   "id": "93d16b5a",
   "metadata": {},
   "outputs": [],
   "source": [
    "type([])"
   ]
  },
  {
   "cell_type": "code",
   "execution_count": null,
   "id": "98c67574",
   "metadata": {},
   "outputs": [],
   "source": [
    "type(())"
   ]
  },
  {
   "cell_type": "code",
   "execution_count": null,
   "id": "1981efe6",
   "metadata": {},
   "outputs": [],
   "source": [
    "type({})"
   ]
  },
  {
   "cell_type": "code",
   "execution_count": null,
   "id": "8b325947",
   "metadata": {},
   "outputs": [],
   "source": []
  },
  {
   "cell_type": "code",
   "execution_count": null,
   "id": "f8cc5056",
   "metadata": {},
   "outputs": [],
   "source": [
    "set((1,2,3))"
   ]
  },
  {
   "cell_type": "code",
   "execution_count": 30,
   "id": "43a781d6",
   "metadata": {},
   "outputs": [
    {
     "name": "stdout",
     "output_type": "stream",
     "text": [
      "<class 'set'>\n"
     ]
    }
   ],
   "source": [
    "# set is an unordered collection of unique elements\n",
    "# # Sets Creation\n",
    "s = {\"a\",\"b\",\"c\",\"d\"}\n",
    "print(type(s))"
   ]
  },
  {
   "cell_type": "code",
   "execution_count": 31,
   "id": "204b6250",
   "metadata": {},
   "outputs": [],
   "source": [
    "aa=set()"
   ]
  },
  {
   "cell_type": "code",
   "execution_count": 32,
   "id": "51fd8dda",
   "metadata": {},
   "outputs": [
    {
     "data": {
      "text/plain": [
       "set"
      ]
     },
     "execution_count": 32,
     "metadata": {},
     "output_type": "execute_result"
    }
   ],
   "source": [
    "type(aa)"
   ]
  },
  {
   "cell_type": "code",
   "execution_count": 33,
   "id": "3277ad36",
   "metadata": {},
   "outputs": [
    {
     "data": {
      "text/plain": [
       "dict"
      ]
     },
     "execution_count": 33,
     "metadata": {},
     "output_type": "execute_result"
    }
   ],
   "source": [
    "type({})"
   ]
  },
  {
   "cell_type": "code",
   "execution_count": null,
   "id": "dd7bca57",
   "metadata": {},
   "outputs": [],
   "source": []
  },
  {
   "cell_type": "code",
   "execution_count": 34,
   "id": "a95ba4cb",
   "metadata": {},
   "outputs": [],
   "source": [
    "s={1,2,3}"
   ]
  },
  {
   "cell_type": "code",
   "execution_count": 35,
   "id": "5710191d",
   "metadata": {},
   "outputs": [
    {
     "data": {
      "text/plain": [
       "set"
      ]
     },
     "execution_count": 35,
     "metadata": {},
     "output_type": "execute_result"
    }
   ],
   "source": [
    "type(s)"
   ]
  },
  {
   "cell_type": "code",
   "execution_count": 36,
   "id": "ee578df6",
   "metadata": {},
   "outputs": [],
   "source": [
    "sss={}"
   ]
  },
  {
   "cell_type": "code",
   "execution_count": 37,
   "id": "8a3d0399",
   "metadata": {},
   "outputs": [
    {
     "data": {
      "text/plain": [
       "dict"
      ]
     },
     "execution_count": 37,
     "metadata": {},
     "output_type": "execute_result"
    }
   ],
   "source": [
    "type(sss)"
   ]
  },
  {
   "cell_type": "code",
   "execution_count": null,
   "id": "ada1fac0",
   "metadata": {},
   "outputs": [],
   "source": []
  },
  {
   "cell_type": "code",
   "execution_count": 38,
   "id": "54702b8a",
   "metadata": {},
   "outputs": [
    {
     "data": {
      "text/plain": [
       "{1, 2, 3.4}"
      ]
     },
     "execution_count": 38,
     "metadata": {},
     "output_type": "execute_result"
    }
   ],
   "source": [
    "{1,2,3.4,True}"
   ]
  },
  {
   "cell_type": "code",
   "execution_count": 39,
   "id": "876cab5e",
   "metadata": {},
   "outputs": [
    {
     "data": {
      "text/plain": [
       "{(2, 3), 1, 2, 3.4}"
      ]
     },
     "execution_count": 39,
     "metadata": {},
     "output_type": "execute_result"
    }
   ],
   "source": [
    "{1,2,3.4,True,(2,3)}"
   ]
  },
  {
   "cell_type": "code",
   "execution_count": 40,
   "id": "6612b3cf",
   "metadata": {},
   "outputs": [
    {
     "ename": "TypeError",
     "evalue": "unhashable type: 'list'",
     "output_type": "error",
     "traceback": [
      "\u001b[1;31m---------------------------------------------------------------------------\u001b[0m",
      "\u001b[1;31mTypeError\u001b[0m                                 Traceback (most recent call last)",
      "\u001b[1;32m~\\AppData\\Local\\Temp/ipykernel_21832/2136547677.py\u001b[0m in \u001b[0;36m<module>\u001b[1;34m\u001b[0m\n\u001b[1;32m----> 1\u001b[1;33m \u001b[1;33m{\u001b[0m\u001b[1;36m1\u001b[0m\u001b[1;33m,\u001b[0m\u001b[1;36m2\u001b[0m\u001b[1;33m,\u001b[0m\u001b[1;36m3.4\u001b[0m\u001b[1;33m,\u001b[0m\u001b[1;32mTrue\u001b[0m\u001b[1;33m,\u001b[0m\u001b[1;33m(\u001b[0m\u001b[1;36m2\u001b[0m\u001b[1;33m,\u001b[0m\u001b[1;36m3\u001b[0m\u001b[1;33m)\u001b[0m\u001b[1;33m,\u001b[0m\u001b[1;33m[\u001b[0m\u001b[1;36m2\u001b[0m\u001b[1;33m,\u001b[0m\u001b[1;36m4\u001b[0m\u001b[1;33m]\u001b[0m\u001b[1;33m}\u001b[0m\u001b[1;33m\u001b[0m\u001b[1;33m\u001b[0m\u001b[0m\n\u001b[0m",
      "\u001b[1;31mTypeError\u001b[0m: unhashable type: 'list'"
     ]
    }
   ],
   "source": [
    "{1,2,3.4,True,(2,3),[2,4]}"
   ]
  },
  {
   "cell_type": "code",
   "execution_count": 42,
   "id": "81d7f764",
   "metadata": {},
   "outputs": [
    {
     "data": {
      "text/plain": [
       "[1, 2, 3]"
      ]
     },
     "execution_count": 42,
     "metadata": {},
     "output_type": "execute_result"
    }
   ],
   "source": [
    "list({1,2,3}) "
   ]
  },
  {
   "cell_type": "code",
   "execution_count": null,
   "id": "720c433f",
   "metadata": {},
   "outputs": [],
   "source": []
  },
  {
   "cell_type": "code",
   "execution_count": 44,
   "id": "92c65edf",
   "metadata": {},
   "outputs": [],
   "source": [
    "a = [\"a\",5,7.4,[1,2],(2,3)]"
   ]
  },
  {
   "cell_type": "code",
   "execution_count": 45,
   "id": "d798bae2",
   "metadata": {},
   "outputs": [
    {
     "data": {
      "text/plain": [
       "['a', 5, 7.4, [1, 2], (2, 3)]"
      ]
     },
     "execution_count": 45,
     "metadata": {},
     "output_type": "execute_result"
    }
   ],
   "source": [
    "a"
   ]
  },
  {
   "cell_type": "code",
   "execution_count": 46,
   "id": "ed70575d",
   "metadata": {},
   "outputs": [],
   "source": [
    "a = {\"a\",5,7.4,(2,3)}"
   ]
  },
  {
   "cell_type": "code",
   "execution_count": 47,
   "id": "9f94478b",
   "metadata": {},
   "outputs": [
    {
     "ename": "TypeError",
     "evalue": "unhashable type: 'list'",
     "output_type": "error",
     "traceback": [
      "\u001b[1;31m---------------------------------------------------------------------------\u001b[0m",
      "\u001b[1;31mTypeError\u001b[0m                                 Traceback (most recent call last)",
      "\u001b[1;32m~\\AppData\\Local\\Temp/ipykernel_21832/2214352142.py\u001b[0m in \u001b[0;36m<module>\u001b[1;34m\u001b[0m\n\u001b[1;32m----> 1\u001b[1;33m \u001b[1;33m{\u001b[0m\u001b[1;34m\"a\"\u001b[0m\u001b[1;33m,\u001b[0m\u001b[1;36m5\u001b[0m\u001b[1;33m,\u001b[0m\u001b[1;36m7.4\u001b[0m\u001b[1;33m,\u001b[0m\u001b[1;33m[\u001b[0m\u001b[1;36m2\u001b[0m\u001b[1;33m,\u001b[0m\u001b[1;36m3\u001b[0m\u001b[1;33m]\u001b[0m\u001b[1;33m}\u001b[0m\u001b[1;33m\u001b[0m\u001b[1;33m\u001b[0m\u001b[0m\n\u001b[0m",
      "\u001b[1;31mTypeError\u001b[0m: unhashable type: 'list'"
     ]
    }
   ],
   "source": [
    "{\"a\",5,7.4,[2,3]}"
   ]
  },
  {
   "cell_type": "code",
   "execution_count": 48,
   "id": "cdeecffb",
   "metadata": {},
   "outputs": [
    {
     "data": {
      "text/plain": [
       "[2, 3]"
      ]
     },
     "execution_count": 48,
     "metadata": {},
     "output_type": "execute_result"
    }
   ],
   "source": [
    "a= [2,3]\n",
    "a"
   ]
  },
  {
   "cell_type": "code",
   "execution_count": 49,
   "id": "7e4cbfe8",
   "metadata": {},
   "outputs": [
    {
     "data": {
      "text/plain": [
       "set"
      ]
     },
     "execution_count": 49,
     "metadata": {},
     "output_type": "execute_result"
    }
   ],
   "source": [
    "ss = set()\n",
    "type(ss)"
   ]
  },
  {
   "cell_type": "code",
   "execution_count": 54,
   "id": "0ff25a43",
   "metadata": {},
   "outputs": [
    {
     "data": {
      "text/plain": [
       "set"
      ]
     },
     "execution_count": 54,
     "metadata": {},
     "output_type": "execute_result"
    }
   ],
   "source": [
    "ss = {\" \"}\n",
    "type(ss)"
   ]
  },
  {
   "cell_type": "code",
   "execution_count": 55,
   "id": "d18f8c19",
   "metadata": {},
   "outputs": [
    {
     "data": {
      "text/plain": [
       "set"
      ]
     },
     "execution_count": 55,
     "metadata": {},
     "output_type": "execute_result"
    }
   ],
   "source": [
    "ss = {5,}\n",
    "type(ss)"
   ]
  },
  {
   "cell_type": "code",
   "execution_count": 56,
   "id": "63623d11",
   "metadata": {},
   "outputs": [
    {
     "data": {
      "text/plain": [
       "set"
      ]
     },
     "execution_count": 56,
     "metadata": {},
     "output_type": "execute_result"
    }
   ],
   "source": [
    "ss = {5}\n",
    "type(ss)"
   ]
  },
  {
   "cell_type": "code",
   "execution_count": 57,
   "id": "64e8225f",
   "metadata": {},
   "outputs": [],
   "source": [
    "a = {}"
   ]
  },
  {
   "cell_type": "code",
   "execution_count": null,
   "id": "532259b8",
   "metadata": {},
   "outputs": [],
   "source": []
  },
  {
   "cell_type": "code",
   "execution_count": 58,
   "id": "48bcae7d",
   "metadata": {},
   "outputs": [
    {
     "data": {
      "text/plain": [
       "dict"
      ]
     },
     "execution_count": 58,
     "metadata": {},
     "output_type": "execute_result"
    }
   ],
   "source": [
    "ss = {}\n",
    "type(ss)"
   ]
  },
  {
   "cell_type": "code",
   "execution_count": 59,
   "id": "105da1fd",
   "metadata": {},
   "outputs": [
    {
     "data": {
      "text/plain": [
       "set"
      ]
     },
     "execution_count": 59,
     "metadata": {},
     "output_type": "execute_result"
    }
   ],
   "source": [
    "s = {1, 2, 3, 4} # Set \n",
    "type(s)"
   ]
  },
  {
   "cell_type": "code",
   "execution_count": 60,
   "id": "ce6a0692",
   "metadata": {},
   "outputs": [
    {
     "data": {
      "text/plain": [
       "list"
      ]
     },
     "execution_count": 60,
     "metadata": {},
     "output_type": "execute_result"
    }
   ],
   "source": [
    "s1 = [1,2,3,4] # List \n",
    "type(s1)"
   ]
  },
  {
   "cell_type": "code",
   "execution_count": 61,
   "id": "8146aa91",
   "metadata": {},
   "outputs": [
    {
     "data": {
      "text/plain": [
       "tuple"
      ]
     },
     "execution_count": 61,
     "metadata": {},
     "output_type": "execute_result"
    }
   ],
   "source": [
    "s2 = (1,2,3,4) # Tuple\n",
    "type(s2)"
   ]
  },
  {
   "cell_type": "code",
   "execution_count": 63,
   "id": "516a999f",
   "metadata": {},
   "outputs": [
    {
     "name": "stdout",
     "output_type": "stream",
     "text": [
      "{0, 1, 2}\n"
     ]
    }
   ],
   "source": [
    "print({1,2,2.0,2,2,0}) #0,1,2,2.0"
   ]
  },
  {
   "cell_type": "code",
   "execution_count": null,
   "id": "39a21fe1",
   "metadata": {},
   "outputs": [],
   "source": [
    "print({1,2,2.0,2,2,0})"
   ]
  },
  {
   "cell_type": "code",
   "execution_count": 64,
   "id": "51ade494",
   "metadata": {},
   "outputs": [
    {
     "data": {
      "text/plain": [
       "True"
      ]
     },
     "execution_count": 64,
     "metadata": {},
     "output_type": "execute_result"
    }
   ],
   "source": [
    "2 == 2.0"
   ]
  },
  {
   "cell_type": "code",
   "execution_count": 65,
   "id": "b9623a49",
   "metadata": {},
   "outputs": [
    {
     "data": {
      "text/plain": [
       "{0, 1, 2, '2.0'}"
      ]
     },
     "execution_count": 65,
     "metadata": {},
     "output_type": "execute_result"
    }
   ],
   "source": [
    "{1,2,\"2.0\",2,2,0}"
   ]
  },
  {
   "cell_type": "code",
   "execution_count": null,
   "id": "0032893f",
   "metadata": {},
   "outputs": [],
   "source": []
  },
  {
   "cell_type": "code",
   "execution_count": null,
   "id": "40908a9b",
   "metadata": {},
   "outputs": [],
   "source": []
  },
  {
   "cell_type": "code",
   "execution_count": 66,
   "id": "72c9647e",
   "metadata": {},
   "outputs": [
    {
     "name": "stdout",
     "output_type": "stream",
     "text": [
      "<class 'set'>\n"
     ]
    }
   ],
   "source": [
    "s = {False, \"Hola mundo\", (1, 2), True, 3.14, None}\n",
    "print(type(s))"
   ]
  },
  {
   "cell_type": "code",
   "execution_count": 67,
   "id": "550e985e",
   "metadata": {},
   "outputs": [
    {
     "ename": "TypeError",
     "evalue": "unhashable type: 'list'",
     "output_type": "error",
     "traceback": [
      "\u001b[1;31m---------------------------------------------------------------------------\u001b[0m",
      "\u001b[1;31mTypeError\u001b[0m                                 Traceback (most recent call last)",
      "\u001b[1;32m~\\AppData\\Local\\Temp/ipykernel_21832/3875075125.py\u001b[0m in \u001b[0;36m<module>\u001b[1;34m\u001b[0m\n\u001b[1;32m----> 1\u001b[1;33m \u001b[0ms\u001b[0m \u001b[1;33m=\u001b[0m \u001b[1;33m{\u001b[0m\u001b[1;33m[\u001b[0m\u001b[1;36m1\u001b[0m\u001b[1;33m,\u001b[0m \u001b[1;36m2\u001b[0m\u001b[1;33m]\u001b[0m\u001b[1;33m}\u001b[0m \u001b[1;31m# TypeError unhashable type: 'list'\u001b[0m\u001b[1;33m\u001b[0m\u001b[1;33m\u001b[0m\u001b[0m\n\u001b[0m",
      "\u001b[1;31mTypeError\u001b[0m: unhashable type: 'list'"
     ]
    }
   ],
   "source": [
    "s = {[1, 2]} # TypeError unhashable type: 'list'"
   ]
  },
  {
   "cell_type": "code",
   "execution_count": 68,
   "id": "56004ea3",
   "metadata": {},
   "outputs": [],
   "source": [
    "list_a = [0,1,1,1,2,2,2,3,3,3,3,3,4,4,4,4,4,5,5,5,5,6,6,6,6,6,6,True,True,True,True,False,False,False,\"Hello\",\"Hello\",\"Hello\"]"
   ]
  },
  {
   "cell_type": "code",
   "execution_count": 69,
   "id": "131e5b1e",
   "metadata": {},
   "outputs": [
    {
     "data": {
      "text/plain": [
       "[0,\n",
       " 1,\n",
       " 1,\n",
       " 1,\n",
       " 2,\n",
       " 2,\n",
       " 2,\n",
       " 3,\n",
       " 3,\n",
       " 3,\n",
       " 3,\n",
       " 3,\n",
       " 4,\n",
       " 4,\n",
       " 4,\n",
       " 4,\n",
       " 4,\n",
       " 5,\n",
       " 5,\n",
       " 5,\n",
       " 5,\n",
       " 6,\n",
       " 6,\n",
       " 6,\n",
       " 6,\n",
       " 6,\n",
       " 6,\n",
       " True,\n",
       " True,\n",
       " True,\n",
       " True,\n",
       " False,\n",
       " False,\n",
       " False,\n",
       " 'Hello',\n",
       " 'Hello',\n",
       " 'Hello']"
      ]
     },
     "execution_count": 69,
     "metadata": {},
     "output_type": "execute_result"
    }
   ],
   "source": [
    "list_a"
   ]
  },
  {
   "cell_type": "code",
   "execution_count": 70,
   "id": "765ec0ad",
   "metadata": {},
   "outputs": [
    {
     "data": {
      "text/plain": [
       "1"
      ]
     },
     "execution_count": 70,
     "metadata": {},
     "output_type": "execute_result"
    }
   ],
   "source": [
    "list_a[3]"
   ]
  },
  {
   "cell_type": "code",
   "execution_count": 71,
   "id": "d51f487e",
   "metadata": {},
   "outputs": [],
   "source": [
    "aaa={0,1,1,1,2,2,2,3,3,3,3,3,4,4,4,4,4,5,5,5,5,6,6,6,6,6,6,True,True,True,True,False,False,False,\"Hello\",\"Hello\",\"Hello\"}"
   ]
  },
  {
   "cell_type": "code",
   "execution_count": 72,
   "id": "3403c2ec",
   "metadata": {},
   "outputs": [
    {
     "data": {
      "text/plain": [
       "{0, 1, 2, 3, 4, 5, 6, 'Hello'}"
      ]
     },
     "execution_count": 72,
     "metadata": {},
     "output_type": "execute_result"
    }
   ],
   "source": [
    "aaa"
   ]
  },
  {
   "cell_type": "code",
   "execution_count": 73,
   "id": "608bcfb2",
   "metadata": {},
   "outputs": [
    {
     "data": {
      "text/plain": [
       "{0, 1, 2, 3, 4, 5, 6, 'Hello'}"
      ]
     },
     "execution_count": 73,
     "metadata": {},
     "output_type": "execute_result"
    }
   ],
   "source": [
    "aaa"
   ]
  },
  {
   "cell_type": "code",
   "execution_count": null,
   "id": "b49086de",
   "metadata": {},
   "outputs": [],
   "source": [
    "aaa[2]"
   ]
  },
  {
   "cell_type": "code",
   "execution_count": null,
   "id": "4f801e5c",
   "metadata": {},
   "outputs": [],
   "source": [
    "aaa"
   ]
  },
  {
   "cell_type": "code",
   "execution_count": 74,
   "id": "65e9a773",
   "metadata": {},
   "outputs": [],
   "source": [
    "set_c = set(list_a)"
   ]
  },
  {
   "cell_type": "code",
   "execution_count": 75,
   "id": "9b29b59e",
   "metadata": {},
   "outputs": [
    {
     "name": "stdout",
     "output_type": "stream",
     "text": [
      "{0, 1, 2, 3, 4, 5, 6, 'Hello'}\n"
     ]
    }
   ],
   "source": [
    "print(set_c)"
   ]
  }
 ],
 "metadata": {
  "kernelspec": {
   "display_name": "Python 3 (ipykernel)",
   "language": "python",
   "name": "python3"
  },
  "language_info": {
   "codemirror_mode": {
    "name": "ipython",
    "version": 3
   },
   "file_extension": ".py",
   "mimetype": "text/x-python",
   "name": "python",
   "nbconvert_exporter": "python",
   "pygments_lexer": "ipython3",
   "version": "3.9.7"
  }
 },
 "nbformat": 4,
 "nbformat_minor": 5
}
